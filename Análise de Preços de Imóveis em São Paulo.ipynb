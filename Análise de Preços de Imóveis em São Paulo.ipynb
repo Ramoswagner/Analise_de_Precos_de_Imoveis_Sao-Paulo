{
 "cells": [
  {
   "cell_type": "markdown",
   "id": "7e4d1f58",
   "metadata": {},
   "source": [
    "# Análise de Preços de Imóveis em São Paulo"
   ]
  },
  {
   "cell_type": "markdown",
   "id": "c78093e3",
   "metadata": {},
   "source": [
    "# 1 Introdução\n",
    "Neste projeto, exploramos um conjunto de dados contendo informações sobre os preços de imóveis na cidade de São Paulo. O objetivo desta análise é desenvolver modelos de regressão capazes de prever os preços dos imóveis com base em várias características.\n",
    "\n",
    "O conjunto de dados inclui uma variedade de recursos, como número de quartos, número de banheiros, tamanho do lote e localização geográfica. A variável alvo que estamos tentando prever é o preço do imóvel.\n",
    "\n",
    "Para alcançar nosso objetivo, seguiremos as etapas típicas de análise de dados, começando com a exploração e limpeza dos dados, seguida pela engenharia de recursos e modelagem. Avaliaremos o desempenho de vários modelos de regressão, incluindo Regressão Linear, Random Forest Regressor, Gradient Boosting Regressor e RANSAC Regressor, da biblioteca [scikit-learn](https://scikit-learn.org/stable/), para determinar qual modelo oferece as melhores previsões.\n",
    "\n",
    "Vamos começar carregando e explorando os dados para entender melhor o problema e os padrões subjacentes aos preços dos imóveis em São Paulo. Em seguida, aplicaremos os modelos de regressão mencionados para prever os preços dos imóveis e avaliaremos o desempenho de cada modelo para determinar qual é o mais adequado para este problema específico. \n",
    "\n",
    "Você pode encontrar o conjunto de dados original no site do Kaggle, neste link: [House Price Data of Sao Paulo on Kaggle](https://www.kaggle.com/datasets/kaggleshashankk/house-price-data-of-sao-paulo)."
   ]
  },
  {
   "cell_type": "markdown",
   "id": "02df22e3",
   "metadata": {},
   "source": [
    "# 2 Coleta de Dados"
   ]
  },
  {
   "cell_type": "markdown",
   "id": "9e4efbc3",
   "metadata": {},
   "source": [
    "### 2.1 Importando bibliotecas"
   ]
  },
  {
   "cell_type": "code",
   "execution_count": 1,
   "id": "e1ff39b8",
   "metadata": {
    "ExecuteTime": {
     "end_time": "2024-03-21T15:00:19.177868Z",
     "start_time": "2024-03-21T14:58:02.418683Z"
    }
   },
   "outputs": [],
   "source": [
    "import pandas as pd\n",
    "import numpy as np\n",
    "import matplotlib.pyplot as plt\n",
    "import seaborn as sns"
   ]
  },
  {
   "cell_type": "markdown",
   "id": "00c902c9",
   "metadata": {},
   "source": [
    "### 2.2 DataFrame"
   ]
  },
  {
   "cell_type": "code",
   "execution_count": 2,
   "id": "58273508",
   "metadata": {
    "ExecuteTime": {
     "end_time": "2024-03-21T15:00:31.066136Z",
     "start_time": "2024-03-21T15:00:19.184547Z"
    }
   },
   "outputs": [],
   "source": [
    "caminho = r\"C:\\Users\\claud\\Desktop\\PÓS GRADUAÇÃO\\dados\\imobiliario\\Sao paulo.xlsx\"\n",
    "\n",
    "df = pd.read_excel(caminho)"
   ]
  },
  {
   "cell_type": "code",
   "execution_count": 3,
   "id": "5aeae887",
   "metadata": {
    "ExecuteTime": {
     "end_time": "2024-03-21T15:00:31.362742Z",
     "start_time": "2024-03-21T15:00:31.066136Z"
    }
   },
   "outputs": [
    {
     "data": {
      "text/html": [
       "<div>\n",
       "<style scoped>\n",
       "    .dataframe tbody tr th:only-of-type {\n",
       "        vertical-align: middle;\n",
       "    }\n",
       "\n",
       "    .dataframe tbody tr th {\n",
       "        vertical-align: top;\n",
       "    }\n",
       "\n",
       "    .dataframe thead th {\n",
       "        text-align: right;\n",
       "    }\n",
       "</style>\n",
       "<table border=\"1\" class=\"dataframe\">\n",
       "  <thead>\n",
       "    <tr style=\"text-align: right;\">\n",
       "      <th></th>\n",
       "      <th>Street</th>\n",
       "      <th>City</th>\n",
       "      <th>propertycard__detailvalue</th>\n",
       "      <th>quartos</th>\n",
       "      <th>banheiros</th>\n",
       "      <th>vagas</th>\n",
       "      <th>price</th>\n",
       "    </tr>\n",
       "  </thead>\n",
       "  <tbody>\n",
       "    <tr>\n",
       "      <th>0</th>\n",
       "      <td>Avenida Itacira, 255</td>\n",
       "      <td>Planalto Paulista, São Paulo</td>\n",
       "      <td>1000</td>\n",
       "      <td>4</td>\n",
       "      <td>8</td>\n",
       "      <td>6</td>\n",
       "      <td>R$ 7.000.000</td>\n",
       "    </tr>\n",
       "    <tr>\n",
       "      <th>1</th>\n",
       "      <td>Rua Aurelia Perez Alvarez, 42</td>\n",
       "      <td>Jardim dos Estados, São Paulo</td>\n",
       "      <td>469-524</td>\n",
       "      <td>3-6</td>\n",
       "      <td>3-6</td>\n",
       "      <td>4</td>\n",
       "      <td>R$ 3.700.000</td>\n",
       "    </tr>\n",
       "    <tr>\n",
       "      <th>2</th>\n",
       "      <td>Rua Alba Valdez</td>\n",
       "      <td>Jardim Reimberg, São Paulo</td>\n",
       "      <td>125</td>\n",
       "      <td>4</td>\n",
       "      <td>3</td>\n",
       "      <td>2</td>\n",
       "      <td>R$ 380.000</td>\n",
       "    </tr>\n",
       "    <tr>\n",
       "      <th>3</th>\n",
       "      <td>Jardim Morumbi, São Paulo</td>\n",
       "      <td>SP</td>\n",
       "      <td>310</td>\n",
       "      <td>3</td>\n",
       "      <td>2</td>\n",
       "      <td>4</td>\n",
       "      <td>R$ 685.000</td>\n",
       "    </tr>\n",
       "    <tr>\n",
       "      <th>4</th>\n",
       "      <td>Rua Tobias Barreto, 195</td>\n",
       "      <td>Mooca, São Paulo</td>\n",
       "      <td>100</td>\n",
       "      <td>3</td>\n",
       "      <td>2</td>\n",
       "      <td>2</td>\n",
       "      <td>R$ 540.000</td>\n",
       "    </tr>\n",
       "    <tr>\n",
       "      <th>...</th>\n",
       "      <td>...</td>\n",
       "      <td>...</td>\n",
       "      <td>...</td>\n",
       "      <td>...</td>\n",
       "      <td>...</td>\n",
       "      <td>...</td>\n",
       "      <td>...</td>\n",
       "    </tr>\n",
       "    <tr>\n",
       "      <th>10028</th>\n",
       "      <td>Rua Tapuçu</td>\n",
       "      <td>Vila Sofia, São Paulo</td>\n",
       "      <td>90</td>\n",
       "      <td>2</td>\n",
       "      <td>2</td>\n",
       "      <td>2</td>\n",
       "      <td>R$ 665.000</td>\n",
       "    </tr>\n",
       "    <tr>\n",
       "      <th>10029</th>\n",
       "      <td>Rua Guararema</td>\n",
       "      <td>Bosque da Saúde, São Paulo</td>\n",
       "      <td>600</td>\n",
       "      <td>8</td>\n",
       "      <td>7</td>\n",
       "      <td>5</td>\n",
       "      <td>R$ 2.300.000</td>\n",
       "    </tr>\n",
       "    <tr>\n",
       "      <th>10030</th>\n",
       "      <td>Rua Estero Belaco</td>\n",
       "      <td>Vila da Saúde, São Paulo</td>\n",
       "      <td>200</td>\n",
       "      <td>3</td>\n",
       "      <td>3</td>\n",
       "      <td>6</td>\n",
       "      <td>R$ 1.050.000</td>\n",
       "    </tr>\n",
       "    <tr>\n",
       "      <th>10031</th>\n",
       "      <td>Rua Manuel Onha, , 514</td>\n",
       "      <td>Vila Oratório, São Paulo</td>\n",
       "      <td>180</td>\n",
       "      <td>3</td>\n",
       "      <td>2</td>\n",
       "      <td>2</td>\n",
       "      <td>R$ 2.200\\n                      /Mês</td>\n",
       "    </tr>\n",
       "    <tr>\n",
       "      <th>10032</th>\n",
       "      <td>Rua Barão de Tramandaí, 0</td>\n",
       "      <td>Vila Alpina, São Paulo</td>\n",
       "      <td>117</td>\n",
       "      <td>3</td>\n",
       "      <td>2</td>\n",
       "      <td>2</td>\n",
       "      <td>R$ 270.000</td>\n",
       "    </tr>\n",
       "  </tbody>\n",
       "</table>\n",
       "<p>10033 rows × 7 columns</p>\n",
       "</div>"
      ],
      "text/plain": [
       "                               Street                             City  \\\n",
       "0               Avenida Itacira, 255     Planalto Paulista, São Paulo    \n",
       "1      Rua Aurelia Perez Alvarez, 42    Jardim dos Estados, São Paulo    \n",
       "2                    Rua Alba Valdez       Jardim Reimberg, São Paulo    \n",
       "3          Jardim Morumbi, São Paulo                                SP   \n",
       "4            Rua Tobias Barreto, 195                 Mooca, São Paulo    \n",
       "...                               ...                              ...   \n",
       "10028                     Rua Tapuçu            Vila Sofia, São Paulo    \n",
       "10029                  Rua Guararema       Bosque da Saúde, São Paulo    \n",
       "10030              Rua Estero Belaco         Vila da Saúde, São Paulo    \n",
       "10031         Rua Manuel Onha, , 514         Vila Oratório, São Paulo    \n",
       "10032      Rua Barão de Tramandaí, 0           Vila Alpina, São Paulo    \n",
       "\n",
       "      propertycard__detailvalue quartos banheiros vagas  \\\n",
       "0                          1000       4         8     6   \n",
       "1                       469-524     3-6       3-6     4   \n",
       "2                           125       4         3     2   \n",
       "3                           310       3         2     4   \n",
       "4                           100       3         2     2   \n",
       "...                         ...     ...       ...   ...   \n",
       "10028                        90       2         2     2   \n",
       "10029                       600       8         7     5   \n",
       "10030                       200       3         3     6   \n",
       "10031                       180       3         2     2   \n",
       "10032                       117       3         2     2   \n",
       "\n",
       "                                      price  \n",
       "0                              R$ 7.000.000  \n",
       "1                              R$ 3.700.000  \n",
       "2                                R$ 380.000  \n",
       "3                                R$ 685.000  \n",
       "4                                R$ 540.000  \n",
       "...                                     ...  \n",
       "10028                            R$ 665.000  \n",
       "10029                          R$ 2.300.000  \n",
       "10030                          R$ 1.050.000  \n",
       "10031  R$ 2.200\\n                      /Mês  \n",
       "10032                            R$ 270.000  \n",
       "\n",
       "[10033 rows x 7 columns]"
      ]
     },
     "execution_count": 3,
     "metadata": {},
     "output_type": "execute_result"
    }
   ],
   "source": [
    "df"
   ]
  },
  {
   "cell_type": "markdown",
   "id": "367e0244",
   "metadata": {},
   "source": [
    "# 3 Pré-processamento de Dados"
   ]
  },
  {
   "cell_type": "markdown",
   "id": "550a2d3c",
   "metadata": {},
   "source": [
    "### 3.1 Explorando o DataFrame"
   ]
  },
  {
   "cell_type": "code",
   "execution_count": 4,
   "id": "87336983",
   "metadata": {
    "ExecuteTime": {
     "end_time": "2024-03-21T15:00:31.567295Z",
     "start_time": "2024-03-21T15:00:31.362742Z"
    }
   },
   "outputs": [
    {
     "name": "stdout",
     "output_type": "stream",
     "text": [
      "<class 'pandas.core.frame.DataFrame'>\n",
      "RangeIndex: 10033 entries, 0 to 10032\n",
      "Data columns (total 7 columns):\n",
      " #   Column                     Non-Null Count  Dtype \n",
      "---  ------                     --------------  ----- \n",
      " 0   Street                     10033 non-null  object\n",
      " 1   City                       10033 non-null  object\n",
      " 2   propertycard__detailvalue  10033 non-null  object\n",
      " 3   quartos                    10033 non-null  object\n",
      " 4   banheiros                  10033 non-null  object\n",
      " 5   vagas                      10033 non-null  object\n",
      " 6   price                      10033 non-null  object\n",
      "dtypes: object(7)\n",
      "memory usage: 548.8+ KB\n"
     ]
    }
   ],
   "source": [
    "df.info()"
   ]
  },
  {
   "cell_type": "code",
   "execution_count": 5,
   "id": "26f2e43d",
   "metadata": {
    "ExecuteTime": {
     "end_time": "2024-03-21T15:00:31.641732Z",
     "start_time": "2024-03-21T15:00:31.567295Z"
    }
   },
   "outputs": [
    {
     "data": {
      "text/html": [
       "<div>\n",
       "<style scoped>\n",
       "    .dataframe tbody tr th:only-of-type {\n",
       "        vertical-align: middle;\n",
       "    }\n",
       "\n",
       "    .dataframe tbody tr th {\n",
       "        vertical-align: top;\n",
       "    }\n",
       "\n",
       "    .dataframe thead th {\n",
       "        text-align: right;\n",
       "    }\n",
       "</style>\n",
       "<table border=\"1\" class=\"dataframe\">\n",
       "  <thead>\n",
       "    <tr style=\"text-align: right;\">\n",
       "      <th></th>\n",
       "      <th>Street</th>\n",
       "      <th>City</th>\n",
       "      <th>propertycard__detailvalue</th>\n",
       "      <th>quartos</th>\n",
       "      <th>banheiros</th>\n",
       "      <th>vagas</th>\n",
       "      <th>price</th>\n",
       "    </tr>\n",
       "  </thead>\n",
       "  <tbody>\n",
       "    <tr>\n",
       "      <th>count</th>\n",
       "      <td>10033</td>\n",
       "      <td>10033</td>\n",
       "      <td>10033</td>\n",
       "      <td>10033</td>\n",
       "      <td>10033</td>\n",
       "      <td>10033</td>\n",
       "      <td>10033</td>\n",
       "    </tr>\n",
       "    <tr>\n",
       "      <th>unique</th>\n",
       "      <td>3554</td>\n",
       "      <td>628</td>\n",
       "      <td>827</td>\n",
       "      <td>17</td>\n",
       "      <td>16</td>\n",
       "      <td>29</td>\n",
       "      <td>1043</td>\n",
       "    </tr>\n",
       "    <tr>\n",
       "      <th>top</th>\n",
       "      <td>Jardim Guedala, São Paulo</td>\n",
       "      <td>SP</td>\n",
       "      <td>300</td>\n",
       "      <td>3</td>\n",
       "      <td>3</td>\n",
       "      <td>2</td>\n",
       "      <td>R$ 2.500.000</td>\n",
       "    </tr>\n",
       "    <tr>\n",
       "      <th>freq</th>\n",
       "      <td>190</td>\n",
       "      <td>3437</td>\n",
       "      <td>299</td>\n",
       "      <td>4224</td>\n",
       "      <td>1955</td>\n",
       "      <td>2392</td>\n",
       "      <td>182</td>\n",
       "    </tr>\n",
       "  </tbody>\n",
       "</table>\n",
       "</div>"
      ],
      "text/plain": [
       "                            Street   City propertycard__detailvalue quartos  \\\n",
       "count                        10033  10033                     10033   10033   \n",
       "unique                        3554    628                       827      17   \n",
       "top     Jardim Guedala, São Paulo      SP                       300       3   \n",
       "freq                           190   3437                       299    4224   \n",
       "\n",
       "       banheiros  vagas         price  \n",
       "count      10033  10033         10033  \n",
       "unique        16     29          1043  \n",
       "top            3      2  R$ 2.500.000  \n",
       "freq        1955   2392           182  "
      ]
     },
     "execution_count": 5,
     "metadata": {},
     "output_type": "execute_result"
    }
   ],
   "source": [
    "df.describe()"
   ]
  },
  {
   "cell_type": "code",
   "execution_count": 6,
   "id": "e5a367f7",
   "metadata": {
    "ExecuteTime": {
     "end_time": "2024-03-21T15:00:31.654686Z",
     "start_time": "2024-03-21T15:00:31.641732Z"
    },
    "scrolled": false
   },
   "outputs": [
    {
     "data": {
      "text/plain": [
       "price\n",
       "R$ 2.500.000     182\n",
       "R$ 3.500.000     174\n",
       "R$ 1.200.000     170\n",
       "R$ 1.600.000     151\n",
       "R$ 1.500.000     150\n",
       "                ... \n",
       "R$ 2.226.000       1\n",
       "R$ 1.675.000       1\n",
       "R$ 10.700.000      1\n",
       "R$ 2.128.000       1\n",
       "R$ 4.043.000       1\n",
       "Name: count, Length: 1043, dtype: int64"
      ]
     },
     "execution_count": 6,
     "metadata": {},
     "output_type": "execute_result"
    }
   ],
   "source": [
    "df.price.value_counts()"
   ]
  },
  {
   "cell_type": "code",
   "execution_count": 7,
   "id": "232d133b",
   "metadata": {
    "ExecuteTime": {
     "end_time": "2024-03-21T15:00:31.667603Z",
     "start_time": "2024-03-21T15:00:31.654686Z"
    },
    "scrolled": false
   },
   "outputs": [
    {
     "data": {
      "text/plain": [
       "vagas\n",
       "2      2392\n",
       "4      2121\n",
       "3      1564\n",
       "6      1070\n",
       "5       881\n",
       "1       803\n",
       "8       435\n",
       "10      282\n",
       "7       238\n",
       "12       67\n",
       "9        57\n",
       "14       25\n",
       "15       25\n",
       "11       14\n",
       "20       13\n",
       "16        9\n",
       "13        6\n",
       "30        6\n",
       "25        5\n",
       "18        5\n",
       "26        3\n",
       "1-2       2\n",
       "24        2\n",
       "40        2\n",
       "50        2\n",
       "38        1\n",
       "42        1\n",
       "34        1\n",
       "23        1\n",
       "Name: count, dtype: int64"
      ]
     },
     "execution_count": 7,
     "metadata": {},
     "output_type": "execute_result"
    }
   ],
   "source": [
    "df.vagas.value_counts()"
   ]
  },
  {
   "cell_type": "code",
   "execution_count": 8,
   "id": "a245e5c1",
   "metadata": {
    "ExecuteTime": {
     "end_time": "2024-03-21T15:00:31.753488Z",
     "start_time": "2024-03-21T15:00:31.667603Z"
    }
   },
   "outputs": [
    {
     "data": {
      "text/plain": [
       "banheiros\n",
       "3      1955\n",
       "4      1838\n",
       "2      1644\n",
       "5      1617\n",
       "6      1039\n",
       "1      1038\n",
       "7       488\n",
       "8       285\n",
       "9        62\n",
       "10       36\n",
       "11       15\n",
       "12        8\n",
       "14        4\n",
       "40        2\n",
       "3-6       1\n",
       "16        1\n",
       "Name: count, dtype: int64"
      ]
     },
     "execution_count": 8,
     "metadata": {},
     "output_type": "execute_result"
    }
   ],
   "source": [
    "df.banheiros.value_counts()"
   ]
  },
  {
   "cell_type": "code",
   "execution_count": 9,
   "id": "86f0e36a",
   "metadata": {
    "ExecuteTime": {
     "end_time": "2024-03-21T15:00:31.898799Z",
     "start_time": "2024-03-21T15:00:31.753488Z"
    }
   },
   "outputs": [
    {
     "data": {
      "text/plain": [
       "quartos\n",
       "3      4224\n",
       "4      3312\n",
       "2      1204\n",
       "5       859\n",
       "6       217\n",
       "1       107\n",
       "7        56\n",
       "8        20\n",
       "9        12\n",
       "10        8\n",
       "11        6\n",
       "12        2\n",
       "16        2\n",
       "2-3       1\n",
       "3-6       1\n",
       "13        1\n",
       "15        1\n",
       "Name: count, dtype: int64"
      ]
     },
     "execution_count": 9,
     "metadata": {},
     "output_type": "execute_result"
    }
   ],
   "source": [
    "df.quartos.value_counts()"
   ]
  },
  {
   "cell_type": "code",
   "execution_count": 10,
   "id": "218eabe5",
   "metadata": {
    "ExecuteTime": {
     "end_time": "2024-03-21T15:00:32.052093Z",
     "start_time": "2024-03-21T15:00:31.898799Z"
    }
   },
   "outputs": [
    {
     "data": {
      "text/plain": [
       "propertycard__detailvalue\n",
       "300    299\n",
       "200    288\n",
       "400    219\n",
       "250    204\n",
       "120    192\n",
       "      ... \n",
       "699      1\n",
       "738      1\n",
       "916      1\n",
       "663      1\n",
       "513      1\n",
       "Name: count, Length: 827, dtype: int64"
      ]
     },
     "execution_count": 10,
     "metadata": {},
     "output_type": "execute_result"
    }
   ],
   "source": [
    "df.propertycard__detailvalue.value_counts()"
   ]
  },
  {
   "cell_type": "markdown",
   "id": "ed14b56f",
   "metadata": {
    "heading_collapsed": true
   },
   "source": [
    "### 3.2 Trantando os dados"
   ]
  },
  {
   "cell_type": "markdown",
   "id": "0e3044ec",
   "metadata": {
    "hidden": true
   },
   "source": [
    "#### 3.2.1 Renomenando as Colunas"
   ]
  },
  {
   "cell_type": "code",
   "execution_count": 11,
   "id": "9efd90b2",
   "metadata": {
    "ExecuteTime": {
     "end_time": "2024-03-21T15:00:32.155267Z",
     "start_time": "2024-03-21T15:00:32.052093Z"
    },
    "hidden": true
   },
   "outputs": [],
   "source": [
    "novos_nomes = {\n",
    "    'Street': 'Rua',\n",
    "    'City': 'Bairro', \n",
    "    'propertycard__detailvalue': 'Área', \n",
    "    'quartos': 'Quartos', \n",
    "    'banheiros': 'Banheiros', \n",
    "    'vagas': 'Vagas', \n",
    "    'price': 'Preço'\n",
    "              }"
   ]
  },
  {
   "cell_type": "code",
   "execution_count": 12,
   "id": "f57ff038",
   "metadata": {
    "ExecuteTime": {
     "end_time": "2024-03-21T15:00:32.209334Z",
     "start_time": "2024-03-21T15:00:32.155267Z"
    },
    "hidden": true
   },
   "outputs": [],
   "source": [
    "df = df.rename(columns=novos_nomes)"
   ]
  },
  {
   "cell_type": "code",
   "execution_count": 13,
   "id": "0c5d81e4",
   "metadata": {
    "ExecuteTime": {
     "end_time": "2024-03-21T15:00:32.289161Z",
     "start_time": "2024-03-21T15:00:32.209334Z"
    },
    "hidden": true
   },
   "outputs": [
    {
     "data": {
      "text/html": [
       "<div>\n",
       "<style scoped>\n",
       "    .dataframe tbody tr th:only-of-type {\n",
       "        vertical-align: middle;\n",
       "    }\n",
       "\n",
       "    .dataframe tbody tr th {\n",
       "        vertical-align: top;\n",
       "    }\n",
       "\n",
       "    .dataframe thead th {\n",
       "        text-align: right;\n",
       "    }\n",
       "</style>\n",
       "<table border=\"1\" class=\"dataframe\">\n",
       "  <thead>\n",
       "    <tr style=\"text-align: right;\">\n",
       "      <th></th>\n",
       "      <th>Rua</th>\n",
       "      <th>Bairro</th>\n",
       "      <th>Área</th>\n",
       "      <th>Quartos</th>\n",
       "      <th>Banheiros</th>\n",
       "      <th>Vagas</th>\n",
       "      <th>Preço</th>\n",
       "    </tr>\n",
       "  </thead>\n",
       "  <tbody>\n",
       "    <tr>\n",
       "      <th>0</th>\n",
       "      <td>Avenida Itacira, 255</td>\n",
       "      <td>Planalto Paulista, São Paulo</td>\n",
       "      <td>1000</td>\n",
       "      <td>4</td>\n",
       "      <td>8</td>\n",
       "      <td>6</td>\n",
       "      <td>R$ 7.000.000</td>\n",
       "    </tr>\n",
       "    <tr>\n",
       "      <th>1</th>\n",
       "      <td>Rua Aurelia Perez Alvarez, 42</td>\n",
       "      <td>Jardim dos Estados, São Paulo</td>\n",
       "      <td>469-524</td>\n",
       "      <td>3-6</td>\n",
       "      <td>3-6</td>\n",
       "      <td>4</td>\n",
       "      <td>R$ 3.700.000</td>\n",
       "    </tr>\n",
       "    <tr>\n",
       "      <th>2</th>\n",
       "      <td>Rua Alba Valdez</td>\n",
       "      <td>Jardim Reimberg, São Paulo</td>\n",
       "      <td>125</td>\n",
       "      <td>4</td>\n",
       "      <td>3</td>\n",
       "      <td>2</td>\n",
       "      <td>R$ 380.000</td>\n",
       "    </tr>\n",
       "    <tr>\n",
       "      <th>3</th>\n",
       "      <td>Jardim Morumbi, São Paulo</td>\n",
       "      <td>SP</td>\n",
       "      <td>310</td>\n",
       "      <td>3</td>\n",
       "      <td>2</td>\n",
       "      <td>4</td>\n",
       "      <td>R$ 685.000</td>\n",
       "    </tr>\n",
       "    <tr>\n",
       "      <th>4</th>\n",
       "      <td>Rua Tobias Barreto, 195</td>\n",
       "      <td>Mooca, São Paulo</td>\n",
       "      <td>100</td>\n",
       "      <td>3</td>\n",
       "      <td>2</td>\n",
       "      <td>2</td>\n",
       "      <td>R$ 540.000</td>\n",
       "    </tr>\n",
       "    <tr>\n",
       "      <th>...</th>\n",
       "      <td>...</td>\n",
       "      <td>...</td>\n",
       "      <td>...</td>\n",
       "      <td>...</td>\n",
       "      <td>...</td>\n",
       "      <td>...</td>\n",
       "      <td>...</td>\n",
       "    </tr>\n",
       "    <tr>\n",
       "      <th>10028</th>\n",
       "      <td>Rua Tapuçu</td>\n",
       "      <td>Vila Sofia, São Paulo</td>\n",
       "      <td>90</td>\n",
       "      <td>2</td>\n",
       "      <td>2</td>\n",
       "      <td>2</td>\n",
       "      <td>R$ 665.000</td>\n",
       "    </tr>\n",
       "    <tr>\n",
       "      <th>10029</th>\n",
       "      <td>Rua Guararema</td>\n",
       "      <td>Bosque da Saúde, São Paulo</td>\n",
       "      <td>600</td>\n",
       "      <td>8</td>\n",
       "      <td>7</td>\n",
       "      <td>5</td>\n",
       "      <td>R$ 2.300.000</td>\n",
       "    </tr>\n",
       "    <tr>\n",
       "      <th>10030</th>\n",
       "      <td>Rua Estero Belaco</td>\n",
       "      <td>Vila da Saúde, São Paulo</td>\n",
       "      <td>200</td>\n",
       "      <td>3</td>\n",
       "      <td>3</td>\n",
       "      <td>6</td>\n",
       "      <td>R$ 1.050.000</td>\n",
       "    </tr>\n",
       "    <tr>\n",
       "      <th>10031</th>\n",
       "      <td>Rua Manuel Onha, , 514</td>\n",
       "      <td>Vila Oratório, São Paulo</td>\n",
       "      <td>180</td>\n",
       "      <td>3</td>\n",
       "      <td>2</td>\n",
       "      <td>2</td>\n",
       "      <td>R$ 2.200\\n                      /Mês</td>\n",
       "    </tr>\n",
       "    <tr>\n",
       "      <th>10032</th>\n",
       "      <td>Rua Barão de Tramandaí, 0</td>\n",
       "      <td>Vila Alpina, São Paulo</td>\n",
       "      <td>117</td>\n",
       "      <td>3</td>\n",
       "      <td>2</td>\n",
       "      <td>2</td>\n",
       "      <td>R$ 270.000</td>\n",
       "    </tr>\n",
       "  </tbody>\n",
       "</table>\n",
       "<p>10033 rows × 7 columns</p>\n",
       "</div>"
      ],
      "text/plain": [
       "                                  Rua                           Bairro  \\\n",
       "0               Avenida Itacira, 255     Planalto Paulista, São Paulo    \n",
       "1      Rua Aurelia Perez Alvarez, 42    Jardim dos Estados, São Paulo    \n",
       "2                    Rua Alba Valdez       Jardim Reimberg, São Paulo    \n",
       "3          Jardim Morumbi, São Paulo                                SP   \n",
       "4            Rua Tobias Barreto, 195                 Mooca, São Paulo    \n",
       "...                               ...                              ...   \n",
       "10028                     Rua Tapuçu            Vila Sofia, São Paulo    \n",
       "10029                  Rua Guararema       Bosque da Saúde, São Paulo    \n",
       "10030              Rua Estero Belaco         Vila da Saúde, São Paulo    \n",
       "10031         Rua Manuel Onha, , 514         Vila Oratório, São Paulo    \n",
       "10032      Rua Barão de Tramandaí, 0           Vila Alpina, São Paulo    \n",
       "\n",
       "          Área Quartos Banheiros Vagas                                 Preço  \n",
       "0         1000       4         8     6                          R$ 7.000.000  \n",
       "1      469-524     3-6       3-6     4                          R$ 3.700.000  \n",
       "2          125       4         3     2                            R$ 380.000  \n",
       "3          310       3         2     4                            R$ 685.000  \n",
       "4          100       3         2     2                            R$ 540.000  \n",
       "...        ...     ...       ...   ...                                   ...  \n",
       "10028       90       2         2     2                            R$ 665.000  \n",
       "10029      600       8         7     5                          R$ 2.300.000  \n",
       "10030      200       3         3     6                          R$ 1.050.000  \n",
       "10031      180       3         2     2  R$ 2.200\\n                      /Mês  \n",
       "10032      117       3         2     2                            R$ 270.000  \n",
       "\n",
       "[10033 rows x 7 columns]"
      ]
     },
     "execution_count": 13,
     "metadata": {},
     "output_type": "execute_result"
    }
   ],
   "source": [
    "df"
   ]
  },
  {
   "cell_type": "markdown",
   "id": "a2478b2e",
   "metadata": {
    "hidden": true
   },
   "source": [
    "#### 3.2.2 Rua"
   ]
  },
  {
   "cell_type": "code",
   "execution_count": 14,
   "id": "91b891d1",
   "metadata": {
    "ExecuteTime": {
     "end_time": "2024-03-21T15:00:32.304412Z",
     "start_time": "2024-03-21T15:00:32.289161Z"
    },
    "hidden": true,
    "scrolled": true
   },
   "outputs": [
    {
     "data": {
      "text/plain": [
       "Rua\n",
       "Jardim Guedala, São Paulo        190\n",
       "Alto de Pinheiros, São Paulo     169\n",
       "Jardim Paulista, São Paulo       138\n",
       "Jardim Europa, São Paulo         128\n",
       "Jardim Leonor, São Paulo         118\n",
       "                                ... \n",
       "Rua Curupaiti                      1\n",
       "Rua Meteoro                        1\n",
       "Travessa Lopes Gonçalves           1\n",
       "Rua Mário Ferreira de Abreu        1\n",
       "Rua Silveira da Mota               1\n",
       "Name: count, Length: 3554, dtype: int64"
      ]
     },
     "execution_count": 14,
     "metadata": {},
     "output_type": "execute_result"
    }
   ],
   "source": [
    "df.Rua.value_counts()"
   ]
  },
  {
   "cell_type": "code",
   "execution_count": 15,
   "id": "b21d3551",
   "metadata": {
    "ExecuteTime": {
     "end_time": "2024-03-21T15:00:32.332670Z",
     "start_time": "2024-03-21T15:00:32.304412Z"
    },
    "hidden": true
   },
   "outputs": [
    {
     "name": "stdout",
     "output_type": "stream",
     "text": [
      "São paulo:  3438  e SP:  3437\n"
     ]
    }
   ],
   "source": [
    "q_ruas = df['Rua'].str.contains('São Paulo').sum()\n",
    "\n",
    "q_bairro = df['Bairro'].str.contains('SP').sum()\n",
    "\n",
    "print('São paulo: ', q_ruas, ' e SP: ', q_bairro )"
   ]
  },
  {
   "cell_type": "code",
   "execution_count": 16,
   "id": "04b91fdf",
   "metadata": {
    "ExecuteTime": {
     "end_time": "2024-03-21T15:00:32.395037Z",
     "start_time": "2024-03-21T15:00:32.332670Z"
    },
    "hidden": true,
    "scrolled": false
   },
   "outputs": [],
   "source": [
    "# Criando coluna numero da rua\n",
    "df['Número'] = df['Rua'].str.extract(r',\\s?(\\d+)')"
   ]
  },
  {
   "cell_type": "code",
   "execution_count": 17,
   "id": "bc90d347",
   "metadata": {
    "ExecuteTime": {
     "end_time": "2024-03-21T15:00:32.471839Z",
     "start_time": "2024-03-21T15:00:32.395037Z"
    },
    "hidden": true
   },
   "outputs": [
    {
     "data": {
      "text/html": [
       "<div>\n",
       "<style scoped>\n",
       "    .dataframe tbody tr th:only-of-type {\n",
       "        vertical-align: middle;\n",
       "    }\n",
       "\n",
       "    .dataframe tbody tr th {\n",
       "        vertical-align: top;\n",
       "    }\n",
       "\n",
       "    .dataframe thead th {\n",
       "        text-align: right;\n",
       "    }\n",
       "</style>\n",
       "<table border=\"1\" class=\"dataframe\">\n",
       "  <thead>\n",
       "    <tr style=\"text-align: right;\">\n",
       "      <th></th>\n",
       "      <th>Rua</th>\n",
       "      <th>Bairro</th>\n",
       "      <th>Área</th>\n",
       "      <th>Quartos</th>\n",
       "      <th>Banheiros</th>\n",
       "      <th>Vagas</th>\n",
       "      <th>Preço</th>\n",
       "      <th>Número</th>\n",
       "    </tr>\n",
       "  </thead>\n",
       "  <tbody>\n",
       "    <tr>\n",
       "      <th>0</th>\n",
       "      <td>Avenida Itacira, 255</td>\n",
       "      <td>Planalto Paulista, São Paulo</td>\n",
       "      <td>1000</td>\n",
       "      <td>4</td>\n",
       "      <td>8</td>\n",
       "      <td>6</td>\n",
       "      <td>R$ 7.000.000</td>\n",
       "      <td>255</td>\n",
       "    </tr>\n",
       "    <tr>\n",
       "      <th>1</th>\n",
       "      <td>Rua Aurelia Perez Alvarez, 42</td>\n",
       "      <td>Jardim dos Estados, São Paulo</td>\n",
       "      <td>469-524</td>\n",
       "      <td>3-6</td>\n",
       "      <td>3-6</td>\n",
       "      <td>4</td>\n",
       "      <td>R$ 3.700.000</td>\n",
       "      <td>42</td>\n",
       "    </tr>\n",
       "    <tr>\n",
       "      <th>2</th>\n",
       "      <td>Rua Alba Valdez</td>\n",
       "      <td>Jardim Reimberg, São Paulo</td>\n",
       "      <td>125</td>\n",
       "      <td>4</td>\n",
       "      <td>3</td>\n",
       "      <td>2</td>\n",
       "      <td>R$ 380.000</td>\n",
       "      <td>NaN</td>\n",
       "    </tr>\n",
       "    <tr>\n",
       "      <th>3</th>\n",
       "      <td>Jardim Morumbi, São Paulo</td>\n",
       "      <td>SP</td>\n",
       "      <td>310</td>\n",
       "      <td>3</td>\n",
       "      <td>2</td>\n",
       "      <td>4</td>\n",
       "      <td>R$ 685.000</td>\n",
       "      <td>NaN</td>\n",
       "    </tr>\n",
       "    <tr>\n",
       "      <th>4</th>\n",
       "      <td>Rua Tobias Barreto, 195</td>\n",
       "      <td>Mooca, São Paulo</td>\n",
       "      <td>100</td>\n",
       "      <td>3</td>\n",
       "      <td>2</td>\n",
       "      <td>2</td>\n",
       "      <td>R$ 540.000</td>\n",
       "      <td>195</td>\n",
       "    </tr>\n",
       "    <tr>\n",
       "      <th>...</th>\n",
       "      <td>...</td>\n",
       "      <td>...</td>\n",
       "      <td>...</td>\n",
       "      <td>...</td>\n",
       "      <td>...</td>\n",
       "      <td>...</td>\n",
       "      <td>...</td>\n",
       "      <td>...</td>\n",
       "    </tr>\n",
       "    <tr>\n",
       "      <th>10028</th>\n",
       "      <td>Rua Tapuçu</td>\n",
       "      <td>Vila Sofia, São Paulo</td>\n",
       "      <td>90</td>\n",
       "      <td>2</td>\n",
       "      <td>2</td>\n",
       "      <td>2</td>\n",
       "      <td>R$ 665.000</td>\n",
       "      <td>NaN</td>\n",
       "    </tr>\n",
       "    <tr>\n",
       "      <th>10029</th>\n",
       "      <td>Rua Guararema</td>\n",
       "      <td>Bosque da Saúde, São Paulo</td>\n",
       "      <td>600</td>\n",
       "      <td>8</td>\n",
       "      <td>7</td>\n",
       "      <td>5</td>\n",
       "      <td>R$ 2.300.000</td>\n",
       "      <td>NaN</td>\n",
       "    </tr>\n",
       "    <tr>\n",
       "      <th>10030</th>\n",
       "      <td>Rua Estero Belaco</td>\n",
       "      <td>Vila da Saúde, São Paulo</td>\n",
       "      <td>200</td>\n",
       "      <td>3</td>\n",
       "      <td>3</td>\n",
       "      <td>6</td>\n",
       "      <td>R$ 1.050.000</td>\n",
       "      <td>NaN</td>\n",
       "    </tr>\n",
       "    <tr>\n",
       "      <th>10031</th>\n",
       "      <td>Rua Manuel Onha, , 514</td>\n",
       "      <td>Vila Oratório, São Paulo</td>\n",
       "      <td>180</td>\n",
       "      <td>3</td>\n",
       "      <td>2</td>\n",
       "      <td>2</td>\n",
       "      <td>R$ 2.200\\n                      /Mês</td>\n",
       "      <td>514</td>\n",
       "    </tr>\n",
       "    <tr>\n",
       "      <th>10032</th>\n",
       "      <td>Rua Barão de Tramandaí, 0</td>\n",
       "      <td>Vila Alpina, São Paulo</td>\n",
       "      <td>117</td>\n",
       "      <td>3</td>\n",
       "      <td>2</td>\n",
       "      <td>2</td>\n",
       "      <td>R$ 270.000</td>\n",
       "      <td>0</td>\n",
       "    </tr>\n",
       "  </tbody>\n",
       "</table>\n",
       "<p>10033 rows × 8 columns</p>\n",
       "</div>"
      ],
      "text/plain": [
       "                                  Rua                           Bairro  \\\n",
       "0               Avenida Itacira, 255     Planalto Paulista, São Paulo    \n",
       "1      Rua Aurelia Perez Alvarez, 42    Jardim dos Estados, São Paulo    \n",
       "2                    Rua Alba Valdez       Jardim Reimberg, São Paulo    \n",
       "3          Jardim Morumbi, São Paulo                                SP   \n",
       "4            Rua Tobias Barreto, 195                 Mooca, São Paulo    \n",
       "...                               ...                              ...   \n",
       "10028                     Rua Tapuçu            Vila Sofia, São Paulo    \n",
       "10029                  Rua Guararema       Bosque da Saúde, São Paulo    \n",
       "10030              Rua Estero Belaco         Vila da Saúde, São Paulo    \n",
       "10031         Rua Manuel Onha, , 514         Vila Oratório, São Paulo    \n",
       "10032      Rua Barão de Tramandaí, 0           Vila Alpina, São Paulo    \n",
       "\n",
       "          Área Quartos Banheiros Vagas                                 Preço  \\\n",
       "0         1000       4         8     6                          R$ 7.000.000   \n",
       "1      469-524     3-6       3-6     4                          R$ 3.700.000   \n",
       "2          125       4         3     2                            R$ 380.000   \n",
       "3          310       3         2     4                            R$ 685.000   \n",
       "4          100       3         2     2                            R$ 540.000   \n",
       "...        ...     ...       ...   ...                                   ...   \n",
       "10028       90       2         2     2                            R$ 665.000   \n",
       "10029      600       8         7     5                          R$ 2.300.000   \n",
       "10030      200       3         3     6                          R$ 1.050.000   \n",
       "10031      180       3         2     2  R$ 2.200\\n                      /Mês   \n",
       "10032      117       3         2     2                            R$ 270.000   \n",
       "\n",
       "      Número  \n",
       "0        255  \n",
       "1         42  \n",
       "2        NaN  \n",
       "3        NaN  \n",
       "4        195  \n",
       "...      ...  \n",
       "10028    NaN  \n",
       "10029    NaN  \n",
       "10030    NaN  \n",
       "10031    514  \n",
       "10032      0  \n",
       "\n",
       "[10033 rows x 8 columns]"
      ]
     },
     "execution_count": 17,
     "metadata": {},
     "output_type": "execute_result"
    }
   ],
   "source": [
    "df"
   ]
  },
  {
   "cell_type": "code",
   "execution_count": 18,
   "id": "f672eb4a",
   "metadata": {
    "ExecuteTime": {
     "end_time": "2024-03-21T15:00:32.594320Z",
     "start_time": "2024-03-21T15:00:32.471839Z"
    },
    "hidden": true,
    "scrolled": false
   },
   "outputs": [
    {
     "data": {
      "text/html": [
       "<div>\n",
       "<style scoped>\n",
       "    .dataframe tbody tr th:only-of-type {\n",
       "        vertical-align: middle;\n",
       "    }\n",
       "\n",
       "    .dataframe tbody tr th {\n",
       "        vertical-align: top;\n",
       "    }\n",
       "\n",
       "    .dataframe thead th {\n",
       "        text-align: right;\n",
       "    }\n",
       "</style>\n",
       "<table border=\"1\" class=\"dataframe\">\n",
       "  <thead>\n",
       "    <tr style=\"text-align: right;\">\n",
       "      <th></th>\n",
       "      <th>Rua</th>\n",
       "      <th>Bairro</th>\n",
       "      <th>Área</th>\n",
       "      <th>Quartos</th>\n",
       "      <th>Banheiros</th>\n",
       "      <th>Vagas</th>\n",
       "      <th>Preço</th>\n",
       "      <th>Número</th>\n",
       "    </tr>\n",
       "  </thead>\n",
       "  <tbody>\n",
       "    <tr>\n",
       "      <th>0</th>\n",
       "      <td>Avenida Itacira, 255</td>\n",
       "      <td>Planalto Paulista, São Paulo</td>\n",
       "      <td>1000</td>\n",
       "      <td>4</td>\n",
       "      <td>8</td>\n",
       "      <td>6</td>\n",
       "      <td>R$ 7.000.000</td>\n",
       "      <td>255</td>\n",
       "    </tr>\n",
       "    <tr>\n",
       "      <th>1</th>\n",
       "      <td>Rua Aurelia Perez Alvarez, 42</td>\n",
       "      <td>Jardim dos Estados, São Paulo</td>\n",
       "      <td>469-524</td>\n",
       "      <td>3-6</td>\n",
       "      <td>3-6</td>\n",
       "      <td>4</td>\n",
       "      <td>R$ 3.700.000</td>\n",
       "      <td>42</td>\n",
       "    </tr>\n",
       "    <tr>\n",
       "      <th>2</th>\n",
       "      <td>Rua Alba Valdez</td>\n",
       "      <td>Jardim Reimberg, São Paulo</td>\n",
       "      <td>125</td>\n",
       "      <td>4</td>\n",
       "      <td>3</td>\n",
       "      <td>2</td>\n",
       "      <td>R$ 380.000</td>\n",
       "      <td>0</td>\n",
       "    </tr>\n",
       "    <tr>\n",
       "      <th>3</th>\n",
       "      <td>Jardim Morumbi, São Paulo</td>\n",
       "      <td>SP</td>\n",
       "      <td>310</td>\n",
       "      <td>3</td>\n",
       "      <td>2</td>\n",
       "      <td>4</td>\n",
       "      <td>R$ 685.000</td>\n",
       "      <td>0</td>\n",
       "    </tr>\n",
       "    <tr>\n",
       "      <th>4</th>\n",
       "      <td>Rua Tobias Barreto, 195</td>\n",
       "      <td>Mooca, São Paulo</td>\n",
       "      <td>100</td>\n",
       "      <td>3</td>\n",
       "      <td>2</td>\n",
       "      <td>2</td>\n",
       "      <td>R$ 540.000</td>\n",
       "      <td>195</td>\n",
       "    </tr>\n",
       "    <tr>\n",
       "      <th>...</th>\n",
       "      <td>...</td>\n",
       "      <td>...</td>\n",
       "      <td>...</td>\n",
       "      <td>...</td>\n",
       "      <td>...</td>\n",
       "      <td>...</td>\n",
       "      <td>...</td>\n",
       "      <td>...</td>\n",
       "    </tr>\n",
       "    <tr>\n",
       "      <th>10028</th>\n",
       "      <td>Rua Tapuçu</td>\n",
       "      <td>Vila Sofia, São Paulo</td>\n",
       "      <td>90</td>\n",
       "      <td>2</td>\n",
       "      <td>2</td>\n",
       "      <td>2</td>\n",
       "      <td>R$ 665.000</td>\n",
       "      <td>0</td>\n",
       "    </tr>\n",
       "    <tr>\n",
       "      <th>10029</th>\n",
       "      <td>Rua Guararema</td>\n",
       "      <td>Bosque da Saúde, São Paulo</td>\n",
       "      <td>600</td>\n",
       "      <td>8</td>\n",
       "      <td>7</td>\n",
       "      <td>5</td>\n",
       "      <td>R$ 2.300.000</td>\n",
       "      <td>0</td>\n",
       "    </tr>\n",
       "    <tr>\n",
       "      <th>10030</th>\n",
       "      <td>Rua Estero Belaco</td>\n",
       "      <td>Vila da Saúde, São Paulo</td>\n",
       "      <td>200</td>\n",
       "      <td>3</td>\n",
       "      <td>3</td>\n",
       "      <td>6</td>\n",
       "      <td>R$ 1.050.000</td>\n",
       "      <td>0</td>\n",
       "    </tr>\n",
       "    <tr>\n",
       "      <th>10031</th>\n",
       "      <td>Rua Manuel Onha, , 514</td>\n",
       "      <td>Vila Oratório, São Paulo</td>\n",
       "      <td>180</td>\n",
       "      <td>3</td>\n",
       "      <td>2</td>\n",
       "      <td>2</td>\n",
       "      <td>R$ 2.200\\n                      /Mês</td>\n",
       "      <td>514</td>\n",
       "    </tr>\n",
       "    <tr>\n",
       "      <th>10032</th>\n",
       "      <td>Rua Barão de Tramandaí, 0</td>\n",
       "      <td>Vila Alpina, São Paulo</td>\n",
       "      <td>117</td>\n",
       "      <td>3</td>\n",
       "      <td>2</td>\n",
       "      <td>2</td>\n",
       "      <td>R$ 270.000</td>\n",
       "      <td>0</td>\n",
       "    </tr>\n",
       "  </tbody>\n",
       "</table>\n",
       "<p>10033 rows × 8 columns</p>\n",
       "</div>"
      ],
      "text/plain": [
       "                                  Rua                           Bairro  \\\n",
       "0               Avenida Itacira, 255     Planalto Paulista, São Paulo    \n",
       "1      Rua Aurelia Perez Alvarez, 42    Jardim dos Estados, São Paulo    \n",
       "2                    Rua Alba Valdez       Jardim Reimberg, São Paulo    \n",
       "3          Jardim Morumbi, São Paulo                                SP   \n",
       "4            Rua Tobias Barreto, 195                 Mooca, São Paulo    \n",
       "...                               ...                              ...   \n",
       "10028                     Rua Tapuçu            Vila Sofia, São Paulo    \n",
       "10029                  Rua Guararema       Bosque da Saúde, São Paulo    \n",
       "10030              Rua Estero Belaco         Vila da Saúde, São Paulo    \n",
       "10031         Rua Manuel Onha, , 514         Vila Oratório, São Paulo    \n",
       "10032      Rua Barão de Tramandaí, 0           Vila Alpina, São Paulo    \n",
       "\n",
       "          Área Quartos Banheiros Vagas                                 Preço  \\\n",
       "0         1000       4         8     6                          R$ 7.000.000   \n",
       "1      469-524     3-6       3-6     4                          R$ 3.700.000   \n",
       "2          125       4         3     2                            R$ 380.000   \n",
       "3          310       3         2     4                            R$ 685.000   \n",
       "4          100       3         2     2                            R$ 540.000   \n",
       "...        ...     ...       ...   ...                                   ...   \n",
       "10028       90       2         2     2                            R$ 665.000   \n",
       "10029      600       8         7     5                          R$ 2.300.000   \n",
       "10030      200       3         3     6                          R$ 1.050.000   \n",
       "10031      180       3         2     2  R$ 2.200\\n                      /Mês   \n",
       "10032      117       3         2     2                            R$ 270.000   \n",
       "\n",
       "      Número  \n",
       "0        255  \n",
       "1         42  \n",
       "2          0  \n",
       "3          0  \n",
       "4        195  \n",
       "...      ...  \n",
       "10028      0  \n",
       "10029      0  \n",
       "10030      0  \n",
       "10031    514  \n",
       "10032      0  \n",
       "\n",
       "[10033 rows x 8 columns]"
      ]
     },
     "execution_count": 18,
     "metadata": {},
     "output_type": "execute_result"
    }
   ],
   "source": [
    "# Transformando os valores NaN por 0\n",
    "df['Número'].fillna(0, inplace=True)\n",
    "df"
   ]
  },
  {
   "cell_type": "code",
   "execution_count": 19,
   "id": "0eee3953",
   "metadata": {
    "ExecuteTime": {
     "end_time": "2024-03-21T15:00:32.920814Z",
     "start_time": "2024-03-21T15:00:32.594320Z"
    },
    "hidden": true,
    "scrolled": true
   },
   "outputs": [
    {
     "data": {
      "text/plain": [
       "Número\n",
       "0           8676\n",
       "0            109\n",
       "50            46\n",
       "37738888      24\n",
       "1             17\n",
       "            ... \n",
       "33             1\n",
       "578            1\n",
       "569            1\n",
       "444            1\n",
       "255            1\n",
       "Name: count, Length: 496, dtype: int64"
      ]
     },
     "execution_count": 19,
     "metadata": {},
     "output_type": "execute_result"
    }
   ],
   "source": [
    "df['Número'].value_counts()"
   ]
  },
  {
   "cell_type": "code",
   "execution_count": 20,
   "id": "c4d2d7a2",
   "metadata": {
    "ExecuteTime": {
     "end_time": "2024-03-21T15:00:33.371939Z",
     "start_time": "2024-03-21T15:00:32.920814Z"
    },
    "hidden": true
   },
   "outputs": [],
   "source": [
    "df['Número'] = df['Número'].astype(float)"
   ]
  },
  {
   "cell_type": "code",
   "execution_count": 21,
   "id": "9c152132",
   "metadata": {
    "ExecuteTime": {
     "end_time": "2024-03-21T15:00:33.493235Z",
     "start_time": "2024-03-21T15:00:33.371939Z"
    },
    "hidden": true
   },
   "outputs": [],
   "source": [
    "df['Número'] = df['Número'].astype(int)"
   ]
  },
  {
   "cell_type": "code",
   "execution_count": 22,
   "id": "e4feab5b",
   "metadata": {
    "ExecuteTime": {
     "end_time": "2024-03-21T15:00:33.840808Z",
     "start_time": "2024-03-21T15:00:33.493235Z"
    },
    "hidden": true,
    "scrolled": false
   },
   "outputs": [
    {
     "data": {
      "text/plain": [
       "Número\n",
       "0           8795\n",
       "50            46\n",
       "37738888      24\n",
       "1             17\n",
       "100           16\n",
       "            ... \n",
       "1381           1\n",
       "1536           1\n",
       "731            1\n",
       "442            1\n",
       "255            1\n",
       "Name: count, Length: 493, dtype: int64"
      ]
     },
     "execution_count": 22,
     "metadata": {},
     "output_type": "execute_result"
    }
   ],
   "source": [
    "df['Número'].value_counts(ascending=False)"
   ]
  },
  {
   "cell_type": "code",
   "execution_count": 23,
   "id": "3c506855",
   "metadata": {
    "ExecuteTime": {
     "end_time": "2024-03-21T15:00:33.859211Z",
     "start_time": "2024-03-21T15:00:33.840808Z"
    },
    "hidden": true
   },
   "outputs": [],
   "source": [
    "# Substituindo valores negativos por NaN\n",
    "df['Número'] = df['Número'].apply(lambda x: np.nan if x < 0 else x)\n",
    "\n",
    "# Substituindo valores muito grandes por NaN\n",
    "valor_max_esperado = 10000  # definir um valor máximo esperado\n",
    "df['Número'] = df['Número'].apply(lambda x: np.nan if x > valor_max_esperado else x)\n",
    "\n",
    "# Transformando os valores NaN por 0:\n",
    "df['Número'].fillna(0, inplace=True)"
   ]
  },
  {
   "cell_type": "code",
   "execution_count": 24,
   "id": "222a6ae1",
   "metadata": {
    "ExecuteTime": {
     "end_time": "2024-03-21T15:00:33.868546Z",
     "start_time": "2024-03-21T15:00:33.859211Z"
    },
    "hidden": true
   },
   "outputs": [],
   "source": [
    "df['Número'] = df['Número'].astype(int)"
   ]
  },
  {
   "cell_type": "markdown",
   "id": "a20ba564",
   "metadata": {
    "hidden": true
   },
   "source": [
    "Foi observado que a coluna \"Bairro\" contém alguns dados apenas com \"SP\" e não conforme a maioria contendo bairro e cidade como, por exemplo, \"Jardim Reimberg, São Paulo\". \n",
    "\n",
    "Diantes da situação, serão transformadas as ocorrências de \"SP\" para \"(Bairro), (Cidade)\"."
   ]
  },
  {
   "cell_type": "code",
   "execution_count": 25,
   "id": "aca74234",
   "metadata": {
    "ExecuteTime": {
     "end_time": "2024-03-21T15:00:34.052983Z",
     "start_time": "2024-03-21T15:00:33.868546Z"
    },
    "hidden": true,
    "scrolled": true
   },
   "outputs": [
    {
     "data": {
      "text/html": [
       "<div>\n",
       "<style scoped>\n",
       "    .dataframe tbody tr th:only-of-type {\n",
       "        vertical-align: middle;\n",
       "    }\n",
       "\n",
       "    .dataframe tbody tr th {\n",
       "        vertical-align: top;\n",
       "    }\n",
       "\n",
       "    .dataframe thead th {\n",
       "        text-align: right;\n",
       "    }\n",
       "</style>\n",
       "<table border=\"1\" class=\"dataframe\">\n",
       "  <thead>\n",
       "    <tr style=\"text-align: right;\">\n",
       "      <th></th>\n",
       "      <th>Rua</th>\n",
       "      <th>Bairro</th>\n",
       "      <th>Área</th>\n",
       "      <th>Quartos</th>\n",
       "      <th>Banheiros</th>\n",
       "      <th>Vagas</th>\n",
       "      <th>Preço</th>\n",
       "      <th>Número</th>\n",
       "    </tr>\n",
       "  </thead>\n",
       "  <tbody>\n",
       "    <tr>\n",
       "      <th>0</th>\n",
       "      <td>Avenida Itacira, 255</td>\n",
       "      <td>Planalto Paulista, São Paulo</td>\n",
       "      <td>1000</td>\n",
       "      <td>4</td>\n",
       "      <td>8</td>\n",
       "      <td>6</td>\n",
       "      <td>R$ 7.000.000</td>\n",
       "      <td>255</td>\n",
       "    </tr>\n",
       "    <tr>\n",
       "      <th>1</th>\n",
       "      <td>Rua Aurelia Perez Alvarez, 42</td>\n",
       "      <td>Jardim dos Estados, São Paulo</td>\n",
       "      <td>469-524</td>\n",
       "      <td>3-6</td>\n",
       "      <td>3-6</td>\n",
       "      <td>4</td>\n",
       "      <td>R$ 3.700.000</td>\n",
       "      <td>42</td>\n",
       "    </tr>\n",
       "    <tr>\n",
       "      <th>2</th>\n",
       "      <td>Rua Alba Valdez</td>\n",
       "      <td>Jardim Reimberg, São Paulo</td>\n",
       "      <td>125</td>\n",
       "      <td>4</td>\n",
       "      <td>3</td>\n",
       "      <td>2</td>\n",
       "      <td>R$ 380.000</td>\n",
       "      <td>0</td>\n",
       "    </tr>\n",
       "    <tr>\n",
       "      <th>3</th>\n",
       "      <td>Jardim Morumbi, São Paulo</td>\n",
       "      <td>Jardim Morumbi, São Paulo</td>\n",
       "      <td>310</td>\n",
       "      <td>3</td>\n",
       "      <td>2</td>\n",
       "      <td>4</td>\n",
       "      <td>R$ 685.000</td>\n",
       "      <td>0</td>\n",
       "    </tr>\n",
       "    <tr>\n",
       "      <th>4</th>\n",
       "      <td>Rua Tobias Barreto, 195</td>\n",
       "      <td>Mooca, São Paulo</td>\n",
       "      <td>100</td>\n",
       "      <td>3</td>\n",
       "      <td>2</td>\n",
       "      <td>2</td>\n",
       "      <td>R$ 540.000</td>\n",
       "      <td>195</td>\n",
       "    </tr>\n",
       "    <tr>\n",
       "      <th>...</th>\n",
       "      <td>...</td>\n",
       "      <td>...</td>\n",
       "      <td>...</td>\n",
       "      <td>...</td>\n",
       "      <td>...</td>\n",
       "      <td>...</td>\n",
       "      <td>...</td>\n",
       "      <td>...</td>\n",
       "    </tr>\n",
       "    <tr>\n",
       "      <th>10028</th>\n",
       "      <td>Rua Tapuçu</td>\n",
       "      <td>Vila Sofia, São Paulo</td>\n",
       "      <td>90</td>\n",
       "      <td>2</td>\n",
       "      <td>2</td>\n",
       "      <td>2</td>\n",
       "      <td>R$ 665.000</td>\n",
       "      <td>0</td>\n",
       "    </tr>\n",
       "    <tr>\n",
       "      <th>10029</th>\n",
       "      <td>Rua Guararema</td>\n",
       "      <td>Bosque da Saúde, São Paulo</td>\n",
       "      <td>600</td>\n",
       "      <td>8</td>\n",
       "      <td>7</td>\n",
       "      <td>5</td>\n",
       "      <td>R$ 2.300.000</td>\n",
       "      <td>0</td>\n",
       "    </tr>\n",
       "    <tr>\n",
       "      <th>10030</th>\n",
       "      <td>Rua Estero Belaco</td>\n",
       "      <td>Vila da Saúde, São Paulo</td>\n",
       "      <td>200</td>\n",
       "      <td>3</td>\n",
       "      <td>3</td>\n",
       "      <td>6</td>\n",
       "      <td>R$ 1.050.000</td>\n",
       "      <td>0</td>\n",
       "    </tr>\n",
       "    <tr>\n",
       "      <th>10031</th>\n",
       "      <td>Rua Manuel Onha, , 514</td>\n",
       "      <td>Vila Oratório, São Paulo</td>\n",
       "      <td>180</td>\n",
       "      <td>3</td>\n",
       "      <td>2</td>\n",
       "      <td>2</td>\n",
       "      <td>R$ 2.200\\n                      /Mês</td>\n",
       "      <td>514</td>\n",
       "    </tr>\n",
       "    <tr>\n",
       "      <th>10032</th>\n",
       "      <td>Rua Barão de Tramandaí, 0</td>\n",
       "      <td>Vila Alpina, São Paulo</td>\n",
       "      <td>117</td>\n",
       "      <td>3</td>\n",
       "      <td>2</td>\n",
       "      <td>2</td>\n",
       "      <td>R$ 270.000</td>\n",
       "      <td>0</td>\n",
       "    </tr>\n",
       "  </tbody>\n",
       "</table>\n",
       "<p>10033 rows × 8 columns</p>\n",
       "</div>"
      ],
      "text/plain": [
       "                                  Rua                           Bairro  \\\n",
       "0               Avenida Itacira, 255     Planalto Paulista, São Paulo    \n",
       "1      Rua Aurelia Perez Alvarez, 42    Jardim dos Estados, São Paulo    \n",
       "2                    Rua Alba Valdez       Jardim Reimberg, São Paulo    \n",
       "3          Jardim Morumbi, São Paulo        Jardim Morumbi, São Paulo    \n",
       "4            Rua Tobias Barreto, 195                 Mooca, São Paulo    \n",
       "...                               ...                              ...   \n",
       "10028                     Rua Tapuçu            Vila Sofia, São Paulo    \n",
       "10029                  Rua Guararema       Bosque da Saúde, São Paulo    \n",
       "10030              Rua Estero Belaco         Vila da Saúde, São Paulo    \n",
       "10031         Rua Manuel Onha, , 514         Vila Oratório, São Paulo    \n",
       "10032      Rua Barão de Tramandaí, 0           Vila Alpina, São Paulo    \n",
       "\n",
       "          Área Quartos Banheiros Vagas                                 Preço  \\\n",
       "0         1000       4         8     6                          R$ 7.000.000   \n",
       "1      469-524     3-6       3-6     4                          R$ 3.700.000   \n",
       "2          125       4         3     2                            R$ 380.000   \n",
       "3          310       3         2     4                            R$ 685.000   \n",
       "4          100       3         2     2                            R$ 540.000   \n",
       "...        ...     ...       ...   ...                                   ...   \n",
       "10028       90       2         2     2                            R$ 665.000   \n",
       "10029      600       8         7     5                          R$ 2.300.000   \n",
       "10030      200       3         3     6                          R$ 1.050.000   \n",
       "10031      180       3         2     2  R$ 2.200\\n                      /Mês   \n",
       "10032      117       3         2     2                            R$ 270.000   \n",
       "\n",
       "       Número  \n",
       "0         255  \n",
       "1          42  \n",
       "2           0  \n",
       "3           0  \n",
       "4         195  \n",
       "...       ...  \n",
       "10028       0  \n",
       "10029       0  \n",
       "10030       0  \n",
       "10031     514  \n",
       "10032       0  \n",
       "\n",
       "[10033 rows x 8 columns]"
      ]
     },
     "execution_count": 25,
     "metadata": {},
     "output_type": "execute_result"
    }
   ],
   "source": [
    "# Verificando se a coluna \"Bairro\" contém \"SP\"\n",
    "mask = df['Bairro'].str.contains('SP', na=False)\n",
    "\n",
    "# Substituindo os valores na coluna \"Bairro\" usando a máscara\n",
    "df.loc[mask, 'Bairro'] = df.loc[mask, 'Rua']\n",
    "\n",
    "# Verificar o DataFrame resultante\n",
    "df"
   ]
  },
  {
   "cell_type": "code",
   "execution_count": 26,
   "id": "1c5af318",
   "metadata": {
    "ExecuteTime": {
     "end_time": "2024-03-21T15:00:34.070333Z",
     "start_time": "2024-03-21T15:00:34.052983Z"
    },
    "hidden": true,
    "scrolled": true
   },
   "outputs": [
    {
     "name": "stdout",
     "output_type": "stream",
     "text": [
      "<class 'pandas.core.frame.DataFrame'>\n",
      "RangeIndex: 10033 entries, 0 to 10032\n",
      "Data columns (total 8 columns):\n",
      " #   Column     Non-Null Count  Dtype \n",
      "---  ------     --------------  ----- \n",
      " 0   Rua        10033 non-null  object\n",
      " 1   Bairro     10033 non-null  object\n",
      " 2   Área       10033 non-null  object\n",
      " 3   Quartos    10033 non-null  object\n",
      " 4   Banheiros  10033 non-null  object\n",
      " 5   Vagas      10033 non-null  object\n",
      " 6   Preço      10033 non-null  object\n",
      " 7   Número     10033 non-null  int32 \n",
      "dtypes: int32(1), object(7)\n",
      "memory usage: 588.0+ KB\n"
     ]
    }
   ],
   "source": [
    "df.info()"
   ]
  },
  {
   "cell_type": "code",
   "execution_count": 27,
   "id": "45b88a53",
   "metadata": {
    "ExecuteTime": {
     "end_time": "2024-03-21T15:00:34.104421Z",
     "start_time": "2024-03-21T15:00:34.070333Z"
    },
    "hidden": true,
    "scrolled": false
   },
   "outputs": [
    {
     "data": {
      "text/html": [
       "<div>\n",
       "<style scoped>\n",
       "    .dataframe tbody tr th:only-of-type {\n",
       "        vertical-align: middle;\n",
       "    }\n",
       "\n",
       "    .dataframe tbody tr th {\n",
       "        vertical-align: top;\n",
       "    }\n",
       "\n",
       "    .dataframe thead th {\n",
       "        text-align: right;\n",
       "    }\n",
       "</style>\n",
       "<table border=\"1\" class=\"dataframe\">\n",
       "  <thead>\n",
       "    <tr style=\"text-align: right;\">\n",
       "      <th></th>\n",
       "      <th>Rua</th>\n",
       "      <th>Bairro</th>\n",
       "      <th>Área</th>\n",
       "      <th>Quartos</th>\n",
       "      <th>Banheiros</th>\n",
       "      <th>Vagas</th>\n",
       "      <th>Preço</th>\n",
       "      <th>Número</th>\n",
       "    </tr>\n",
       "  </thead>\n",
       "  <tbody>\n",
       "    <tr>\n",
       "      <th>0</th>\n",
       "      <td>Avenida Itacira</td>\n",
       "      <td>Planalto Paulista, São Paulo</td>\n",
       "      <td>1000</td>\n",
       "      <td>4</td>\n",
       "      <td>8</td>\n",
       "      <td>6</td>\n",
       "      <td>R$ 7.000.000</td>\n",
       "      <td>255</td>\n",
       "    </tr>\n",
       "    <tr>\n",
       "      <th>1</th>\n",
       "      <td>Rua Aurelia Perez Alvarez</td>\n",
       "      <td>Jardim dos Estados, São Paulo</td>\n",
       "      <td>469-524</td>\n",
       "      <td>3-6</td>\n",
       "      <td>3-6</td>\n",
       "      <td>4</td>\n",
       "      <td>R$ 3.700.000</td>\n",
       "      <td>42</td>\n",
       "    </tr>\n",
       "    <tr>\n",
       "      <th>2</th>\n",
       "      <td>Rua Alba Valdez</td>\n",
       "      <td>Jardim Reimberg, São Paulo</td>\n",
       "      <td>125</td>\n",
       "      <td>4</td>\n",
       "      <td>3</td>\n",
       "      <td>2</td>\n",
       "      <td>R$ 380.000</td>\n",
       "      <td>0</td>\n",
       "    </tr>\n",
       "    <tr>\n",
       "      <th>3</th>\n",
       "      <td>Jardim Morumbi</td>\n",
       "      <td>Jardim Morumbi, São Paulo</td>\n",
       "      <td>310</td>\n",
       "      <td>3</td>\n",
       "      <td>2</td>\n",
       "      <td>4</td>\n",
       "      <td>R$ 685.000</td>\n",
       "      <td>0</td>\n",
       "    </tr>\n",
       "    <tr>\n",
       "      <th>4</th>\n",
       "      <td>Rua Tobias Barreto</td>\n",
       "      <td>Mooca, São Paulo</td>\n",
       "      <td>100</td>\n",
       "      <td>3</td>\n",
       "      <td>2</td>\n",
       "      <td>2</td>\n",
       "      <td>R$ 540.000</td>\n",
       "      <td>195</td>\n",
       "    </tr>\n",
       "    <tr>\n",
       "      <th>...</th>\n",
       "      <td>...</td>\n",
       "      <td>...</td>\n",
       "      <td>...</td>\n",
       "      <td>...</td>\n",
       "      <td>...</td>\n",
       "      <td>...</td>\n",
       "      <td>...</td>\n",
       "      <td>...</td>\n",
       "    </tr>\n",
       "    <tr>\n",
       "      <th>10028</th>\n",
       "      <td>Rua Tapuçu</td>\n",
       "      <td>Vila Sofia, São Paulo</td>\n",
       "      <td>90</td>\n",
       "      <td>2</td>\n",
       "      <td>2</td>\n",
       "      <td>2</td>\n",
       "      <td>R$ 665.000</td>\n",
       "      <td>0</td>\n",
       "    </tr>\n",
       "    <tr>\n",
       "      <th>10029</th>\n",
       "      <td>Rua Guararema</td>\n",
       "      <td>Bosque da Saúde, São Paulo</td>\n",
       "      <td>600</td>\n",
       "      <td>8</td>\n",
       "      <td>7</td>\n",
       "      <td>5</td>\n",
       "      <td>R$ 2.300.000</td>\n",
       "      <td>0</td>\n",
       "    </tr>\n",
       "    <tr>\n",
       "      <th>10030</th>\n",
       "      <td>Rua Estero Belaco</td>\n",
       "      <td>Vila da Saúde, São Paulo</td>\n",
       "      <td>200</td>\n",
       "      <td>3</td>\n",
       "      <td>3</td>\n",
       "      <td>6</td>\n",
       "      <td>R$ 1.050.000</td>\n",
       "      <td>0</td>\n",
       "    </tr>\n",
       "    <tr>\n",
       "      <th>10031</th>\n",
       "      <td>Rua Manuel Onha</td>\n",
       "      <td>Vila Oratório, São Paulo</td>\n",
       "      <td>180</td>\n",
       "      <td>3</td>\n",
       "      <td>2</td>\n",
       "      <td>2</td>\n",
       "      <td>R$ 2.200\\n                      /Mês</td>\n",
       "      <td>514</td>\n",
       "    </tr>\n",
       "    <tr>\n",
       "      <th>10032</th>\n",
       "      <td>Rua Barão de Tramandaí</td>\n",
       "      <td>Vila Alpina, São Paulo</td>\n",
       "      <td>117</td>\n",
       "      <td>3</td>\n",
       "      <td>2</td>\n",
       "      <td>2</td>\n",
       "      <td>R$ 270.000</td>\n",
       "      <td>0</td>\n",
       "    </tr>\n",
       "  </tbody>\n",
       "</table>\n",
       "<p>10033 rows × 8 columns</p>\n",
       "</div>"
      ],
      "text/plain": [
       "                             Rua                           Bairro     Área  \\\n",
       "0                Avenida Itacira    Planalto Paulista, São Paulo      1000   \n",
       "1      Rua Aurelia Perez Alvarez   Jardim dos Estados, São Paulo   469-524   \n",
       "2               Rua Alba Valdez       Jardim Reimberg, São Paulo       125   \n",
       "3                 Jardim Morumbi       Jardim Morumbi, São Paulo       310   \n",
       "4             Rua Tobias Barreto                Mooca, São Paulo       100   \n",
       "...                          ...                              ...      ...   \n",
       "10028                Rua Tapuçu            Vila Sofia, São Paulo        90   \n",
       "10029             Rua Guararema       Bosque da Saúde, São Paulo       600   \n",
       "10030         Rua Estero Belaco         Vila da Saúde, São Paulo       200   \n",
       "10031            Rua Manuel Onha        Vila Oratório, São Paulo       180   \n",
       "10032     Rua Barão de Tramandaí          Vila Alpina, São Paulo       117   \n",
       "\n",
       "      Quartos Banheiros Vagas                                 Preço  Número  \n",
       "0           4         8     6                          R$ 7.000.000     255  \n",
       "1         3-6       3-6     4                          R$ 3.700.000      42  \n",
       "2           4         3     2                            R$ 380.000       0  \n",
       "3           3         2     4                            R$ 685.000       0  \n",
       "4           3         2     2                            R$ 540.000     195  \n",
       "...       ...       ...   ...                                   ...     ...  \n",
       "10028       2         2     2                            R$ 665.000       0  \n",
       "10029       8         7     5                          R$ 2.300.000       0  \n",
       "10030       3         3     6                          R$ 1.050.000       0  \n",
       "10031       3         2     2  R$ 2.200\\n                      /Mês     514  \n",
       "10032       3         2     2                            R$ 270.000       0  \n",
       "\n",
       "[10033 rows x 8 columns]"
      ]
     },
     "execution_count": 27,
     "metadata": {},
     "output_type": "execute_result"
    }
   ],
   "source": [
    "# Mantendo apenas os dados que se referem a rua, eliminando os demais, que estão a esquerda da vírgula\n",
    "df['Rua'] = df['Rua'].str.split(',').str[0]\n",
    "\n",
    "df"
   ]
  },
  {
   "cell_type": "code",
   "execution_count": 28,
   "id": "707418d0",
   "metadata": {
    "ExecuteTime": {
     "end_time": "2024-03-21T15:00:34.128957Z",
     "start_time": "2024-03-21T15:00:34.104421Z"
    },
    "hidden": true,
    "scrolled": true
   },
   "outputs": [
    {
     "data": {
      "text/plain": [
       "Rua\n",
       "Jardim Guedala          190\n",
       "Alto de Pinheiros       169\n",
       "Jardim Paulista         138\n",
       "Jardim Europa           128\n",
       "Jardim Leonor           118\n",
       "                       ... \n",
       "Rua Falchi Gianini        1\n",
       "Rua Erva Cidreira         1\n",
       "Alameda Casa Branca       1\n",
       "Rua Aparaó                1\n",
       "Avenida Itacira           1\n",
       "Name: count, Length: 3425, dtype: int64"
      ]
     },
     "execution_count": 28,
     "metadata": {},
     "output_type": "execute_result"
    }
   ],
   "source": [
    "df.Rua.value_counts()"
   ]
  },
  {
   "cell_type": "code",
   "execution_count": 29,
   "id": "fb171a2c",
   "metadata": {
    "ExecuteTime": {
     "end_time": "2024-03-21T15:00:34.149578Z",
     "start_time": "2024-03-21T15:00:34.128957Z"
    },
    "hidden": true,
    "scrolled": false
   },
   "outputs": [
    {
     "data": {
      "text/html": [
       "<div>\n",
       "<style scoped>\n",
       "    .dataframe tbody tr th:only-of-type {\n",
       "        vertical-align: middle;\n",
       "    }\n",
       "\n",
       "    .dataframe tbody tr th {\n",
       "        vertical-align: top;\n",
       "    }\n",
       "\n",
       "    .dataframe thead th {\n",
       "        text-align: right;\n",
       "    }\n",
       "</style>\n",
       "<table border=\"1\" class=\"dataframe\">\n",
       "  <thead>\n",
       "    <tr style=\"text-align: right;\">\n",
       "      <th></th>\n",
       "      <th>Número</th>\n",
       "    </tr>\n",
       "  </thead>\n",
       "  <tbody>\n",
       "    <tr>\n",
       "      <th>count</th>\n",
       "      <td>10033.000000</td>\n",
       "    </tr>\n",
       "    <tr>\n",
       "      <th>mean</th>\n",
       "      <td>48.563341</td>\n",
       "    </tr>\n",
       "    <tr>\n",
       "      <th>std</th>\n",
       "      <td>268.241958</td>\n",
       "    </tr>\n",
       "    <tr>\n",
       "      <th>min</th>\n",
       "      <td>0.000000</td>\n",
       "    </tr>\n",
       "    <tr>\n",
       "      <th>25%</th>\n",
       "      <td>0.000000</td>\n",
       "    </tr>\n",
       "    <tr>\n",
       "      <th>50%</th>\n",
       "      <td>0.000000</td>\n",
       "    </tr>\n",
       "    <tr>\n",
       "      <th>75%</th>\n",
       "      <td>0.000000</td>\n",
       "    </tr>\n",
       "    <tr>\n",
       "      <th>max</th>\n",
       "      <td>6000.000000</td>\n",
       "    </tr>\n",
       "  </tbody>\n",
       "</table>\n",
       "</div>"
      ],
      "text/plain": [
       "             Número\n",
       "count  10033.000000\n",
       "mean      48.563341\n",
       "std      268.241958\n",
       "min        0.000000\n",
       "25%        0.000000\n",
       "50%        0.000000\n",
       "75%        0.000000\n",
       "max     6000.000000"
      ]
     },
     "execution_count": 29,
     "metadata": {},
     "output_type": "execute_result"
    }
   ],
   "source": [
    "df.describe()"
   ]
  },
  {
   "cell_type": "markdown",
   "id": "af1a45d2",
   "metadata": {
    "hidden": true
   },
   "source": [
    "#### 3.2.3 Bairro"
   ]
  },
  {
   "cell_type": "code",
   "execution_count": 30,
   "id": "29e1f0a5",
   "metadata": {
    "ExecuteTime": {
     "end_time": "2024-03-21T15:00:34.214432Z",
     "start_time": "2024-03-21T15:00:34.149578Z"
    },
    "hidden": true,
    "scrolled": true
   },
   "outputs": [
    {
     "data": {
      "text/html": [
       "<div>\n",
       "<style scoped>\n",
       "    .dataframe tbody tr th:only-of-type {\n",
       "        vertical-align: middle;\n",
       "    }\n",
       "\n",
       "    .dataframe tbody tr th {\n",
       "        vertical-align: top;\n",
       "    }\n",
       "\n",
       "    .dataframe thead th {\n",
       "        text-align: right;\n",
       "    }\n",
       "</style>\n",
       "<table border=\"1\" class=\"dataframe\">\n",
       "  <thead>\n",
       "    <tr style=\"text-align: right;\">\n",
       "      <th></th>\n",
       "      <th>Rua</th>\n",
       "      <th>Bairro</th>\n",
       "      <th>Área</th>\n",
       "      <th>Quartos</th>\n",
       "      <th>Banheiros</th>\n",
       "      <th>Vagas</th>\n",
       "      <th>Preço</th>\n",
       "      <th>Número</th>\n",
       "      <th>Cidade</th>\n",
       "    </tr>\n",
       "  </thead>\n",
       "  <tbody>\n",
       "    <tr>\n",
       "      <th>0</th>\n",
       "      <td>Avenida Itacira</td>\n",
       "      <td>Planalto Paulista, São Paulo</td>\n",
       "      <td>1000</td>\n",
       "      <td>4</td>\n",
       "      <td>8</td>\n",
       "      <td>6</td>\n",
       "      <td>R$ 7.000.000</td>\n",
       "      <td>255</td>\n",
       "      <td>São Paulo</td>\n",
       "    </tr>\n",
       "    <tr>\n",
       "      <th>1</th>\n",
       "      <td>Rua Aurelia Perez Alvarez</td>\n",
       "      <td>Jardim dos Estados, São Paulo</td>\n",
       "      <td>469-524</td>\n",
       "      <td>3-6</td>\n",
       "      <td>3-6</td>\n",
       "      <td>4</td>\n",
       "      <td>R$ 3.700.000</td>\n",
       "      <td>42</td>\n",
       "      <td>São Paulo</td>\n",
       "    </tr>\n",
       "    <tr>\n",
       "      <th>2</th>\n",
       "      <td>Rua Alba Valdez</td>\n",
       "      <td>Jardim Reimberg, São Paulo</td>\n",
       "      <td>125</td>\n",
       "      <td>4</td>\n",
       "      <td>3</td>\n",
       "      <td>2</td>\n",
       "      <td>R$ 380.000</td>\n",
       "      <td>0</td>\n",
       "      <td>São Paulo</td>\n",
       "    </tr>\n",
       "    <tr>\n",
       "      <th>3</th>\n",
       "      <td>Jardim Morumbi</td>\n",
       "      <td>Jardim Morumbi, São Paulo</td>\n",
       "      <td>310</td>\n",
       "      <td>3</td>\n",
       "      <td>2</td>\n",
       "      <td>4</td>\n",
       "      <td>R$ 685.000</td>\n",
       "      <td>0</td>\n",
       "      <td>São Paulo</td>\n",
       "    </tr>\n",
       "    <tr>\n",
       "      <th>4</th>\n",
       "      <td>Rua Tobias Barreto</td>\n",
       "      <td>Mooca, São Paulo</td>\n",
       "      <td>100</td>\n",
       "      <td>3</td>\n",
       "      <td>2</td>\n",
       "      <td>2</td>\n",
       "      <td>R$ 540.000</td>\n",
       "      <td>195</td>\n",
       "      <td>São Paulo</td>\n",
       "    </tr>\n",
       "    <tr>\n",
       "      <th>...</th>\n",
       "      <td>...</td>\n",
       "      <td>...</td>\n",
       "      <td>...</td>\n",
       "      <td>...</td>\n",
       "      <td>...</td>\n",
       "      <td>...</td>\n",
       "      <td>...</td>\n",
       "      <td>...</td>\n",
       "      <td>...</td>\n",
       "    </tr>\n",
       "    <tr>\n",
       "      <th>10028</th>\n",
       "      <td>Rua Tapuçu</td>\n",
       "      <td>Vila Sofia, São Paulo</td>\n",
       "      <td>90</td>\n",
       "      <td>2</td>\n",
       "      <td>2</td>\n",
       "      <td>2</td>\n",
       "      <td>R$ 665.000</td>\n",
       "      <td>0</td>\n",
       "      <td>São Paulo</td>\n",
       "    </tr>\n",
       "    <tr>\n",
       "      <th>10029</th>\n",
       "      <td>Rua Guararema</td>\n",
       "      <td>Bosque da Saúde, São Paulo</td>\n",
       "      <td>600</td>\n",
       "      <td>8</td>\n",
       "      <td>7</td>\n",
       "      <td>5</td>\n",
       "      <td>R$ 2.300.000</td>\n",
       "      <td>0</td>\n",
       "      <td>São Paulo</td>\n",
       "    </tr>\n",
       "    <tr>\n",
       "      <th>10030</th>\n",
       "      <td>Rua Estero Belaco</td>\n",
       "      <td>Vila da Saúde, São Paulo</td>\n",
       "      <td>200</td>\n",
       "      <td>3</td>\n",
       "      <td>3</td>\n",
       "      <td>6</td>\n",
       "      <td>R$ 1.050.000</td>\n",
       "      <td>0</td>\n",
       "      <td>São Paulo</td>\n",
       "    </tr>\n",
       "    <tr>\n",
       "      <th>10031</th>\n",
       "      <td>Rua Manuel Onha</td>\n",
       "      <td>Vila Oratório, São Paulo</td>\n",
       "      <td>180</td>\n",
       "      <td>3</td>\n",
       "      <td>2</td>\n",
       "      <td>2</td>\n",
       "      <td>R$ 2.200\\n                      /Mês</td>\n",
       "      <td>514</td>\n",
       "      <td>São Paulo</td>\n",
       "    </tr>\n",
       "    <tr>\n",
       "      <th>10032</th>\n",
       "      <td>Rua Barão de Tramandaí</td>\n",
       "      <td>Vila Alpina, São Paulo</td>\n",
       "      <td>117</td>\n",
       "      <td>3</td>\n",
       "      <td>2</td>\n",
       "      <td>2</td>\n",
       "      <td>R$ 270.000</td>\n",
       "      <td>0</td>\n",
       "      <td>São Paulo</td>\n",
       "    </tr>\n",
       "  </tbody>\n",
       "</table>\n",
       "<p>10033 rows × 9 columns</p>\n",
       "</div>"
      ],
      "text/plain": [
       "                             Rua                           Bairro     Área  \\\n",
       "0                Avenida Itacira    Planalto Paulista, São Paulo      1000   \n",
       "1      Rua Aurelia Perez Alvarez   Jardim dos Estados, São Paulo   469-524   \n",
       "2               Rua Alba Valdez       Jardim Reimberg, São Paulo       125   \n",
       "3                 Jardim Morumbi       Jardim Morumbi, São Paulo       310   \n",
       "4             Rua Tobias Barreto                Mooca, São Paulo       100   \n",
       "...                          ...                              ...      ...   \n",
       "10028                Rua Tapuçu            Vila Sofia, São Paulo        90   \n",
       "10029             Rua Guararema       Bosque da Saúde, São Paulo       600   \n",
       "10030         Rua Estero Belaco         Vila da Saúde, São Paulo       200   \n",
       "10031            Rua Manuel Onha        Vila Oratório, São Paulo       180   \n",
       "10032     Rua Barão de Tramandaí          Vila Alpina, São Paulo       117   \n",
       "\n",
       "      Quartos Banheiros Vagas                                 Preço  Número  \\\n",
       "0           4         8     6                          R$ 7.000.000     255   \n",
       "1         3-6       3-6     4                          R$ 3.700.000      42   \n",
       "2           4         3     2                            R$ 380.000       0   \n",
       "3           3         2     4                            R$ 685.000       0   \n",
       "4           3         2     2                            R$ 540.000     195   \n",
       "...       ...       ...   ...                                   ...     ...   \n",
       "10028       2         2     2                            R$ 665.000       0   \n",
       "10029       8         7     5                          R$ 2.300.000       0   \n",
       "10030       3         3     6                          R$ 1.050.000       0   \n",
       "10031       3         2     2  R$ 2.200\\n                      /Mês     514   \n",
       "10032       3         2     2                            R$ 270.000       0   \n",
       "\n",
       "          Cidade  \n",
       "0      São Paulo  \n",
       "1      São Paulo  \n",
       "2      São Paulo  \n",
       "3      São Paulo  \n",
       "4      São Paulo  \n",
       "...          ...  \n",
       "10028  São Paulo  \n",
       "10029  São Paulo  \n",
       "10030  São Paulo  \n",
       "10031  São Paulo  \n",
       "10032  São Paulo  \n",
       "\n",
       "[10033 rows x 9 columns]"
      ]
     },
     "execution_count": 30,
     "metadata": {},
     "output_type": "execute_result"
    }
   ],
   "source": [
    "# Criando coluna \"Cidade\", extraindo openas os dados da cidade\n",
    "df['Cidade'] = df['Bairro'].str.split(',').str[-1].str.strip()\n",
    "\n",
    "df"
   ]
  },
  {
   "cell_type": "code",
   "execution_count": 31,
   "id": "15162f83",
   "metadata": {
    "ExecuteTime": {
     "end_time": "2024-03-21T15:00:34.258296Z",
     "start_time": "2024-03-21T15:00:34.219446Z"
    },
    "hidden": true,
    "scrolled": false
   },
   "outputs": [
    {
     "data": {
      "text/plain": [
       "Cidade\n",
       "São Paulo              9983\n",
       "Brasil                   10\n",
       "do                        4\n",
       "74                        3\n",
       "380                       2\n",
       "10                        2\n",
       "Batuá                     1\n",
       "55                        1\n",
       "Açu                       1\n",
       "Noa                       1\n",
       "acu                       1\n",
       "Kehir                     1\n",
       "de                        1\n",
       "Cotia                     1\n",
       "Guainumbi                 1\n",
       "Pindamonhangaba           1\n",
       "Boituva                   1\n",
       "Sorocaba                  1\n",
       "São José dos Campos       1\n",
       "Jacareí                   1\n",
       "A                         1\n",
       "Santana de Parnaíba       1\n",
       "Guaçu                     1\n",
       "Name: count, dtype: int64"
      ]
     },
     "execution_count": 31,
     "metadata": {},
     "output_type": "execute_result"
    }
   ],
   "source": [
    "df.Cidade.value_counts()"
   ]
  },
  {
   "cell_type": "markdown",
   "id": "86dfc8a7",
   "metadata": {
    "hidden": true
   },
   "source": [
    "Observações:\n",
    "- Fora verificado que existem alguns dados de cidade além de \"São Paulo\", porém com pouca relevância por haver poucos dados, o que se torna mais viável eliminar as linhas referentes."
   ]
  },
  {
   "cell_type": "code",
   "execution_count": 32,
   "id": "e7b8ae75",
   "metadata": {
    "ExecuteTime": {
     "end_time": "2024-03-21T15:00:34.275369Z",
     "start_time": "2024-03-21T15:00:34.258296Z"
    },
    "hidden": true
   },
   "outputs": [],
   "source": [
    "# Apagando os demais dados de cidade\n",
    "cidade = ['São Paulo']\n",
    "df = df[df['Cidade'].isin(cidade)]"
   ]
  },
  {
   "cell_type": "code",
   "execution_count": 33,
   "id": "315e1994",
   "metadata": {
    "ExecuteTime": {
     "end_time": "2024-03-21T15:00:34.362885Z",
     "start_time": "2024-03-21T15:00:34.275369Z"
    },
    "hidden": true
   },
   "outputs": [
    {
     "data": {
      "text/plain": [
       "Cidade\n",
       "São Paulo    9983\n",
       "Name: count, dtype: int64"
      ]
     },
     "execution_count": 33,
     "metadata": {},
     "output_type": "execute_result"
    }
   ],
   "source": [
    "# Verificando a mudança\n",
    "df.Cidade.value_counts()"
   ]
  },
  {
   "cell_type": "code",
   "execution_count": 34,
   "id": "2ea71879",
   "metadata": {
    "ExecuteTime": {
     "end_time": "2024-03-21T15:00:34.437567Z",
     "start_time": "2024-03-21T15:00:34.362885Z"
    },
    "hidden": true
   },
   "outputs": [
    {
     "name": "stderr",
     "output_type": "stream",
     "text": [
      "C:\\Users\\claud\\AppData\\Local\\Temp\\ipykernel_13280\\2131417347.py:2: SettingWithCopyWarning: \n",
      "A value is trying to be set on a copy of a slice from a DataFrame.\n",
      "Try using .loc[row_indexer,col_indexer] = value instead\n",
      "\n",
      "See the caveats in the documentation: https://pandas.pydata.org/pandas-docs/stable/user_guide/indexing.html#returning-a-view-versus-a-copy\n",
      "  df['Bairro'] = df['Bairro'].str.split(',').str[0]\n"
     ]
    },
    {
     "data": {
      "text/html": [
       "<div>\n",
       "<style scoped>\n",
       "    .dataframe tbody tr th:only-of-type {\n",
       "        vertical-align: middle;\n",
       "    }\n",
       "\n",
       "    .dataframe tbody tr th {\n",
       "        vertical-align: top;\n",
       "    }\n",
       "\n",
       "    .dataframe thead th {\n",
       "        text-align: right;\n",
       "    }\n",
       "</style>\n",
       "<table border=\"1\" class=\"dataframe\">\n",
       "  <thead>\n",
       "    <tr style=\"text-align: right;\">\n",
       "      <th></th>\n",
       "      <th>Rua</th>\n",
       "      <th>Bairro</th>\n",
       "      <th>Área</th>\n",
       "      <th>Quartos</th>\n",
       "      <th>Banheiros</th>\n",
       "      <th>Vagas</th>\n",
       "      <th>Preço</th>\n",
       "      <th>Número</th>\n",
       "      <th>Cidade</th>\n",
       "    </tr>\n",
       "  </thead>\n",
       "  <tbody>\n",
       "    <tr>\n",
       "      <th>0</th>\n",
       "      <td>Avenida Itacira</td>\n",
       "      <td>Planalto Paulista</td>\n",
       "      <td>1000</td>\n",
       "      <td>4</td>\n",
       "      <td>8</td>\n",
       "      <td>6</td>\n",
       "      <td>R$ 7.000.000</td>\n",
       "      <td>255</td>\n",
       "      <td>São Paulo</td>\n",
       "    </tr>\n",
       "    <tr>\n",
       "      <th>1</th>\n",
       "      <td>Rua Aurelia Perez Alvarez</td>\n",
       "      <td>Jardim dos Estados</td>\n",
       "      <td>469-524</td>\n",
       "      <td>3-6</td>\n",
       "      <td>3-6</td>\n",
       "      <td>4</td>\n",
       "      <td>R$ 3.700.000</td>\n",
       "      <td>42</td>\n",
       "      <td>São Paulo</td>\n",
       "    </tr>\n",
       "    <tr>\n",
       "      <th>2</th>\n",
       "      <td>Rua Alba Valdez</td>\n",
       "      <td>Jardim Reimberg</td>\n",
       "      <td>125</td>\n",
       "      <td>4</td>\n",
       "      <td>3</td>\n",
       "      <td>2</td>\n",
       "      <td>R$ 380.000</td>\n",
       "      <td>0</td>\n",
       "      <td>São Paulo</td>\n",
       "    </tr>\n",
       "    <tr>\n",
       "      <th>3</th>\n",
       "      <td>Jardim Morumbi</td>\n",
       "      <td>Jardim Morumbi</td>\n",
       "      <td>310</td>\n",
       "      <td>3</td>\n",
       "      <td>2</td>\n",
       "      <td>4</td>\n",
       "      <td>R$ 685.000</td>\n",
       "      <td>0</td>\n",
       "      <td>São Paulo</td>\n",
       "    </tr>\n",
       "    <tr>\n",
       "      <th>4</th>\n",
       "      <td>Rua Tobias Barreto</td>\n",
       "      <td>Mooca</td>\n",
       "      <td>100</td>\n",
       "      <td>3</td>\n",
       "      <td>2</td>\n",
       "      <td>2</td>\n",
       "      <td>R$ 540.000</td>\n",
       "      <td>195</td>\n",
       "      <td>São Paulo</td>\n",
       "    </tr>\n",
       "    <tr>\n",
       "      <th>...</th>\n",
       "      <td>...</td>\n",
       "      <td>...</td>\n",
       "      <td>...</td>\n",
       "      <td>...</td>\n",
       "      <td>...</td>\n",
       "      <td>...</td>\n",
       "      <td>...</td>\n",
       "      <td>...</td>\n",
       "      <td>...</td>\n",
       "    </tr>\n",
       "    <tr>\n",
       "      <th>10028</th>\n",
       "      <td>Rua Tapuçu</td>\n",
       "      <td>Vila Sofia</td>\n",
       "      <td>90</td>\n",
       "      <td>2</td>\n",
       "      <td>2</td>\n",
       "      <td>2</td>\n",
       "      <td>R$ 665.000</td>\n",
       "      <td>0</td>\n",
       "      <td>São Paulo</td>\n",
       "    </tr>\n",
       "    <tr>\n",
       "      <th>10029</th>\n",
       "      <td>Rua Guararema</td>\n",
       "      <td>Bosque da Saúde</td>\n",
       "      <td>600</td>\n",
       "      <td>8</td>\n",
       "      <td>7</td>\n",
       "      <td>5</td>\n",
       "      <td>R$ 2.300.000</td>\n",
       "      <td>0</td>\n",
       "      <td>São Paulo</td>\n",
       "    </tr>\n",
       "    <tr>\n",
       "      <th>10030</th>\n",
       "      <td>Rua Estero Belaco</td>\n",
       "      <td>Vila da Saúde</td>\n",
       "      <td>200</td>\n",
       "      <td>3</td>\n",
       "      <td>3</td>\n",
       "      <td>6</td>\n",
       "      <td>R$ 1.050.000</td>\n",
       "      <td>0</td>\n",
       "      <td>São Paulo</td>\n",
       "    </tr>\n",
       "    <tr>\n",
       "      <th>10031</th>\n",
       "      <td>Rua Manuel Onha</td>\n",
       "      <td>Vila Oratório</td>\n",
       "      <td>180</td>\n",
       "      <td>3</td>\n",
       "      <td>2</td>\n",
       "      <td>2</td>\n",
       "      <td>R$ 2.200\\n                      /Mês</td>\n",
       "      <td>514</td>\n",
       "      <td>São Paulo</td>\n",
       "    </tr>\n",
       "    <tr>\n",
       "      <th>10032</th>\n",
       "      <td>Rua Barão de Tramandaí</td>\n",
       "      <td>Vila Alpina</td>\n",
       "      <td>117</td>\n",
       "      <td>3</td>\n",
       "      <td>2</td>\n",
       "      <td>2</td>\n",
       "      <td>R$ 270.000</td>\n",
       "      <td>0</td>\n",
       "      <td>São Paulo</td>\n",
       "    </tr>\n",
       "  </tbody>\n",
       "</table>\n",
       "<p>9983 rows × 9 columns</p>\n",
       "</div>"
      ],
      "text/plain": [
       "                             Rua               Bairro     Área Quartos  \\\n",
       "0                Avenida Itacira    Planalto Paulista     1000       4   \n",
       "1      Rua Aurelia Perez Alvarez   Jardim dos Estados  469-524     3-6   \n",
       "2               Rua Alba Valdez       Jardim Reimberg      125       4   \n",
       "3                 Jardim Morumbi       Jardim Morumbi      310       3   \n",
       "4             Rua Tobias Barreto                Mooca      100       3   \n",
       "...                          ...                  ...      ...     ...   \n",
       "10028                Rua Tapuçu            Vila Sofia       90       2   \n",
       "10029             Rua Guararema       Bosque da Saúde      600       8   \n",
       "10030         Rua Estero Belaco         Vila da Saúde      200       3   \n",
       "10031            Rua Manuel Onha        Vila Oratório      180       3   \n",
       "10032     Rua Barão de Tramandaí          Vila Alpina      117       3   \n",
       "\n",
       "      Banheiros Vagas                                 Preço  Número     Cidade  \n",
       "0             8     6                          R$ 7.000.000     255  São Paulo  \n",
       "1           3-6     4                          R$ 3.700.000      42  São Paulo  \n",
       "2             3     2                            R$ 380.000       0  São Paulo  \n",
       "3             2     4                            R$ 685.000       0  São Paulo  \n",
       "4             2     2                            R$ 540.000     195  São Paulo  \n",
       "...         ...   ...                                   ...     ...        ...  \n",
       "10028         2     2                            R$ 665.000       0  São Paulo  \n",
       "10029         7     5                          R$ 2.300.000       0  São Paulo  \n",
       "10030         3     6                          R$ 1.050.000       0  São Paulo  \n",
       "10031         2     2  R$ 2.200\\n                      /Mês     514  São Paulo  \n",
       "10032         2     2                            R$ 270.000       0  São Paulo  \n",
       "\n",
       "[9983 rows x 9 columns]"
      ]
     },
     "execution_count": 34,
     "metadata": {},
     "output_type": "execute_result"
    }
   ],
   "source": [
    "# Mantendo apenas os nome do bairro e eliminando os demais\n",
    "df['Bairro'] = df['Bairro'].str.split(',').str[0]\n",
    "\n",
    "# Verificando o DataFrame resultante\n",
    "df"
   ]
  },
  {
   "cell_type": "code",
   "execution_count": 35,
   "id": "c2a6c617",
   "metadata": {
    "ExecuteTime": {
     "end_time": "2024-03-21T15:00:34.573656Z",
     "start_time": "2024-03-21T15:00:34.437567Z"
    },
    "hidden": true,
    "scrolled": true
   },
   "outputs": [
    {
     "data": {
      "text/plain": [
       "Bairro\n",
       " Alto de Pinheiros      240\n",
       " Jardim Guedala         213\n",
       "Jardim Guedala          190\n",
       " Brooklin Paulista      172\n",
       "Alto de Pinheiros       169\n",
       "                       ... \n",
       " Campininha               1\n",
       "Jardim Anália Franco      1\n",
       " Sítio Represa            1\n",
       " Sítio do Mandaqui        1\n",
       "Chácara Belenzinho        1\n",
       "Name: count, Length: 999, dtype: int64"
      ]
     },
     "execution_count": 35,
     "metadata": {},
     "output_type": "execute_result"
    }
   ],
   "source": [
    "df.Bairro.value_counts()"
   ]
  },
  {
   "cell_type": "code",
   "execution_count": 36,
   "id": "9c1fed2b",
   "metadata": {
    "ExecuteTime": {
     "end_time": "2024-03-21T15:00:34.689789Z",
     "start_time": "2024-03-21T15:00:34.573656Z"
    },
    "hidden": true
   },
   "outputs": [
    {
     "name": "stderr",
     "output_type": "stream",
     "text": [
      "C:\\Users\\claud\\AppData\\Local\\Temp\\ipykernel_13280\\2497416294.py:2: SettingWithCopyWarning: \n",
      "A value is trying to be set on a copy of a slice from a DataFrame.\n",
      "Try using .loc[row_indexer,col_indexer] = value instead\n",
      "\n",
      "See the caveats in the documentation: https://pandas.pydata.org/pandas-docs/stable/user_guide/indexing.html#returning-a-view-versus-a-copy\n",
      "  df['Bairro'] = df['Bairro'].str.strip()\n"
     ]
    }
   ],
   "source": [
    "# Ajustando a posição dos dados, devido a existência de espaçamentos incorretos\n",
    "df['Bairro'] = df['Bairro'].str.strip()"
   ]
  },
  {
   "cell_type": "code",
   "execution_count": 37,
   "id": "df53bc03",
   "metadata": {
    "ExecuteTime": {
     "end_time": "2024-03-21T15:00:34.749284Z",
     "start_time": "2024-03-21T15:00:34.692804Z"
    },
    "hidden": true,
    "scrolled": true
   },
   "outputs": [
    {
     "data": {
      "text/plain": [
       "Bairro\n",
       "Alto de Pinheiros      409\n",
       "Jardim Guedala         403\n",
       "Jardim Paulista        305\n",
       "Brooklin Paulista      247\n",
       "Jardim Europa          240\n",
       "                      ... \n",
       "Pari                     1\n",
       "Sítio Represa            1\n",
       "Vila Sabrina             1\n",
       "Jardim Reimberg          1\n",
       "Parque Maria Helena      1\n",
       "Name: count, Length: 701, dtype: int64"
      ]
     },
     "execution_count": 37,
     "metadata": {},
     "output_type": "execute_result"
    }
   ],
   "source": [
    "df.Bairro.value_counts()"
   ]
  },
  {
   "cell_type": "markdown",
   "id": "4f589c53",
   "metadata": {
    "hidden": true
   },
   "source": [
    "#### 3.2.4 vagas"
   ]
  },
  {
   "cell_type": "code",
   "execution_count": 38,
   "id": "c062a317",
   "metadata": {
    "ExecuteTime": {
     "end_time": "2024-03-21T15:00:34.761216Z",
     "start_time": "2024-03-21T15:00:34.749284Z"
    },
    "hidden": true,
    "scrolled": true
   },
   "outputs": [
    {
     "data": {
      "text/plain": [
       "Vagas\n",
       "2     2380\n",
       "4     2113\n",
       "3     1564\n",
       "6     1059\n",
       "5      878\n",
       "1      799\n",
       "8      427\n",
       "10     281\n",
       "7      237\n",
       "12      67\n",
       "9       57\n",
       "15      25\n",
       "14      25\n",
       "11      14\n",
       "20      13\n",
       "16       9\n",
       "13       6\n",
       "30       6\n",
       "25       5\n",
       "18       5\n",
       "26       3\n",
       "24       2\n",
       "40       2\n",
       "50       2\n",
       "38       1\n",
       "42       1\n",
       "34       1\n",
       "23       1\n",
       "Name: count, dtype: int64"
      ]
     },
     "execution_count": 38,
     "metadata": {},
     "output_type": "execute_result"
    }
   ],
   "source": [
    "df.Vagas.value_counts()"
   ]
  },
  {
   "cell_type": "code",
   "execution_count": 39,
   "id": "04d86c54",
   "metadata": {
    "ExecuteTime": {
     "end_time": "2024-03-21T15:00:34.777481Z",
     "start_time": "2024-03-21T15:00:34.761216Z"
    },
    "hidden": true
   },
   "outputs": [
    {
     "name": "stderr",
     "output_type": "stream",
     "text": [
      "C:\\Users\\claud\\AppData\\Local\\Temp\\ipykernel_13280\\1946086417.py:2: SettingWithCopyWarning: \n",
      "A value is trying to be set on a copy of a slice from a DataFrame.\n",
      "Try using .loc[row_indexer,col_indexer] = value instead\n",
      "\n",
      "See the caveats in the documentation: https://pandas.pydata.org/pandas-docs/stable/user_guide/indexing.html#returning-a-view-versus-a-copy\n",
      "  df['Vagas'] = df['Vagas'].astype(int)\n"
     ]
    }
   ],
   "source": [
    "# Transformando a coluna vagas em números inteiros\n",
    "df['Vagas'] = df['Vagas'].astype(int)"
   ]
  },
  {
   "cell_type": "code",
   "execution_count": 40,
   "id": "cbc69112",
   "metadata": {
    "ExecuteTime": {
     "end_time": "2024-03-21T15:00:34.869876Z",
     "start_time": "2024-03-21T15:00:34.777481Z"
    },
    "hidden": true
   },
   "outputs": [
    {
     "data": {
      "text/plain": [
       "4.091755985174797"
      ]
     },
     "execution_count": 40,
     "metadata": {},
     "output_type": "execute_result"
    }
   ],
   "source": [
    "df.Vagas.mean()"
   ]
  },
  {
   "cell_type": "code",
   "execution_count": 41,
   "id": "e0b545a1",
   "metadata": {
    "ExecuteTime": {
     "end_time": "2024-03-21T15:00:34.881978Z",
     "start_time": "2024-03-21T15:00:34.869876Z"
    },
    "hidden": true
   },
   "outputs": [
    {
     "data": {
      "text/plain": [
       "4"
      ]
     },
     "execution_count": 41,
     "metadata": {},
     "output_type": "execute_result"
    }
   ],
   "source": [
    "media_vagas = round(df.Vagas.mean())\n",
    "media_vagas"
   ]
  },
  {
   "cell_type": "code",
   "execution_count": 42,
   "id": "271119d3",
   "metadata": {
    "ExecuteTime": {
     "end_time": "2024-03-21T15:00:34.891260Z",
     "start_time": "2024-03-21T15:00:34.881978Z"
    },
    "hidden": true
   },
   "outputs": [],
   "source": [
    "def media_dados(value):\n",
    "    if isinstance(value, str) and '-' in value:\n",
    "        start, end = value.split('-')\n",
    "        return round((int(start) + int(end)) / 2)\n",
    "    else:\n",
    "        return value"
   ]
  },
  {
   "cell_type": "code",
   "execution_count": 43,
   "id": "9feb295b",
   "metadata": {
    "ExecuteTime": {
     "end_time": "2024-03-21T15:00:34.995013Z",
     "start_time": "2024-03-21T15:00:34.891260Z"
    },
    "hidden": true
   },
   "outputs": [
    {
     "name": "stderr",
     "output_type": "stream",
     "text": [
      "C:\\Users\\claud\\AppData\\Local\\Temp\\ipykernel_13280\\3248184925.py:2: SettingWithCopyWarning: \n",
      "A value is trying to be set on a copy of a slice from a DataFrame.\n",
      "Try using .loc[row_indexer,col_indexer] = value instead\n",
      "\n",
      "See the caveats in the documentation: https://pandas.pydata.org/pandas-docs/stable/user_guide/indexing.html#returning-a-view-versus-a-copy\n",
      "  df['Vagas'] = df['Vagas'].apply(media_dados)\n"
     ]
    }
   ],
   "source": [
    "# Transformando os dados para a média da soma\n",
    "df['Vagas'] = df['Vagas'].apply(media_dados) "
   ]
  },
  {
   "cell_type": "code",
   "execution_count": 44,
   "id": "1e052819",
   "metadata": {
    "ExecuteTime": {
     "end_time": "2024-03-21T15:00:35.014803Z",
     "start_time": "2024-03-21T15:00:34.995013Z"
    },
    "hidden": true,
    "scrolled": true
   },
   "outputs": [
    {
     "data": {
      "text/plain": [
       "Vagas\n",
       "2     2380\n",
       "4     2113\n",
       "3     1564\n",
       "6     1059\n",
       "5      878\n",
       "1      799\n",
       "8      427\n",
       "10     281\n",
       "7      237\n",
       "12      67\n",
       "9       57\n",
       "15      25\n",
       "14      25\n",
       "11      14\n",
       "20      13\n",
       "16       9\n",
       "13       6\n",
       "30       6\n",
       "25       5\n",
       "18       5\n",
       "26       3\n",
       "24       2\n",
       "40       2\n",
       "50       2\n",
       "38       1\n",
       "42       1\n",
       "34       1\n",
       "23       1\n",
       "Name: count, dtype: int64"
      ]
     },
     "execution_count": 44,
     "metadata": {},
     "output_type": "execute_result"
    }
   ],
   "source": [
    "df.Vagas.value_counts()"
   ]
  },
  {
   "cell_type": "code",
   "execution_count": 45,
   "id": "30060fef",
   "metadata": {
    "ExecuteTime": {
     "end_time": "2024-03-21T15:00:35.088538Z",
     "start_time": "2024-03-21T15:00:35.014803Z"
    },
    "hidden": true,
    "scrolled": true
   },
   "outputs": [
    {
     "name": "stdout",
     "output_type": "stream",
     "text": [
      "<class 'pandas.core.frame.DataFrame'>\n",
      "Index: 9983 entries, 0 to 10032\n",
      "Data columns (total 9 columns):\n",
      " #   Column     Non-Null Count  Dtype \n",
      "---  ------     --------------  ----- \n",
      " 0   Rua        9983 non-null   object\n",
      " 1   Bairro     9983 non-null   object\n",
      " 2   Área       9983 non-null   object\n",
      " 3   Quartos    9983 non-null   object\n",
      " 4   Banheiros  9983 non-null   object\n",
      " 5   Vagas      9983 non-null   int64 \n",
      " 6   Preço      9983 non-null   object\n",
      " 7   Número     9983 non-null   int32 \n",
      " 8   Cidade     9983 non-null   object\n",
      "dtypes: int32(1), int64(1), object(7)\n",
      "memory usage: 740.9+ KB\n"
     ]
    }
   ],
   "source": [
    "df.info()"
   ]
  },
  {
   "cell_type": "code",
   "execution_count": 46,
   "id": "8841cf17",
   "metadata": {
    "ExecuteTime": {
     "end_time": "2024-03-21T15:00:35.111547Z",
     "start_time": "2024-03-21T15:00:35.088538Z"
    },
    "hidden": true,
    "scrolled": false
   },
   "outputs": [
    {
     "data": {
      "text/plain": [
       "Vagas\n",
       "2     2380\n",
       "4     2113\n",
       "3     1564\n",
       "6     1059\n",
       "5      878\n",
       "1      799\n",
       "8      427\n",
       "10     281\n",
       "7      237\n",
       "12      67\n",
       "9       57\n",
       "15      25\n",
       "14      25\n",
       "11      14\n",
       "20      13\n",
       "16       9\n",
       "13       6\n",
       "30       6\n",
       "25       5\n",
       "18       5\n",
       "26       3\n",
       "24       2\n",
       "40       2\n",
       "50       2\n",
       "38       1\n",
       "42       1\n",
       "34       1\n",
       "23       1\n",
       "Name: count, dtype: int64"
      ]
     },
     "execution_count": 46,
     "metadata": {},
     "output_type": "execute_result"
    }
   ],
   "source": [
    "df.Vagas.value_counts()"
   ]
  },
  {
   "cell_type": "markdown",
   "id": "a933d8a0",
   "metadata": {
    "hidden": true
   },
   "source": [
    "#### 3.2.5 Quartos"
   ]
  },
  {
   "cell_type": "code",
   "execution_count": 47,
   "id": "1f6807f7",
   "metadata": {
    "ExecuteTime": {
     "end_time": "2024-03-21T15:00:35.390809Z",
     "start_time": "2024-03-21T15:00:35.111547Z"
    },
    "hidden": true
   },
   "outputs": [
    {
     "data": {
      "text/plain": [
       "Quartos\n",
       "3      4211\n",
       "4      3290\n",
       "2      1195\n",
       "5       854\n",
       "6       217\n",
       "1       107\n",
       "7        56\n",
       "8        20\n",
       "9        12\n",
       "10        8\n",
       "11        6\n",
       "12        2\n",
       "16        2\n",
       "3-6       1\n",
       "13        1\n",
       "15        1\n",
       "Name: count, dtype: int64"
      ]
     },
     "execution_count": 47,
     "metadata": {},
     "output_type": "execute_result"
    }
   ],
   "source": [
    "df.Quartos.value_counts()"
   ]
  },
  {
   "cell_type": "code",
   "execution_count": 48,
   "id": "de098951",
   "metadata": {
    "ExecuteTime": {
     "end_time": "2024-03-21T15:00:35.403009Z",
     "start_time": "2024-03-21T15:00:35.390809Z"
    },
    "hidden": true,
    "scrolled": true
   },
   "outputs": [
    {
     "name": "stderr",
     "output_type": "stream",
     "text": [
      "C:\\Users\\claud\\AppData\\Local\\Temp\\ipykernel_13280\\2967456988.py:2: SettingWithCopyWarning: \n",
      "A value is trying to be set on a copy of a slice from a DataFrame.\n",
      "Try using .loc[row_indexer,col_indexer] = value instead\n",
      "\n",
      "See the caveats in the documentation: https://pandas.pydata.org/pandas-docs/stable/user_guide/indexing.html#returning-a-view-versus-a-copy\n",
      "  df['Quartos'] = df['Quartos'].apply(media_dados)\n"
     ]
    }
   ],
   "source": [
    "# Transformando os dados para a média da soma\n",
    "df['Quartos'] = df['Quartos'].apply(media_dados)"
   ]
  },
  {
   "cell_type": "code",
   "execution_count": 49,
   "id": "f0598b98",
   "metadata": {
    "ExecuteTime": {
     "end_time": "2024-03-21T15:00:35.415843Z",
     "start_time": "2024-03-21T15:00:35.403009Z"
    },
    "hidden": true
   },
   "outputs": [
    {
     "data": {
      "text/plain": [
       "Quartos\n",
       "3     4211\n",
       "4     3290\n",
       "2     1195\n",
       "5      854\n",
       "6      217\n",
       "1      107\n",
       "7       56\n",
       "8       20\n",
       "9       12\n",
       "10       8\n",
       "11       6\n",
       "12       2\n",
       "16       2\n",
       "4        1\n",
       "13       1\n",
       "15       1\n",
       "Name: count, dtype: int64"
      ]
     },
     "execution_count": 49,
     "metadata": {},
     "output_type": "execute_result"
    }
   ],
   "source": [
    "df.Quartos.value_counts()"
   ]
  },
  {
   "cell_type": "code",
   "execution_count": 50,
   "id": "ac7354ab",
   "metadata": {
    "ExecuteTime": {
     "end_time": "2024-03-21T15:00:36.350447Z",
     "start_time": "2024-03-21T15:00:35.415843Z"
    },
    "hidden": true
   },
   "outputs": [
    {
     "name": "stderr",
     "output_type": "stream",
     "text": [
      "C:\\Users\\claud\\AppData\\Local\\Temp\\ipykernel_13280\\1889084929.py:1: SettingWithCopyWarning: \n",
      "A value is trying to be set on a copy of a slice from a DataFrame.\n",
      "Try using .loc[row_indexer,col_indexer] = value instead\n",
      "\n",
      "See the caveats in the documentation: https://pandas.pydata.org/pandas-docs/stable/user_guide/indexing.html#returning-a-view-versus-a-copy\n",
      "  df['Quartos'] = df['Quartos'].astype(int)\n"
     ]
    }
   ],
   "source": [
    "df['Quartos'] = df['Quartos'].astype(int)"
   ]
  },
  {
   "cell_type": "code",
   "execution_count": 51,
   "id": "8606ac3b",
   "metadata": {
    "ExecuteTime": {
     "end_time": "2024-03-21T15:00:36.372562Z",
     "start_time": "2024-03-21T15:00:36.354772Z"
    },
    "hidden": true,
    "scrolled": false
   },
   "outputs": [
    {
     "data": {
      "text/plain": [
       "Quartos\n",
       "3     4211\n",
       "4     3291\n",
       "2     1195\n",
       "5      854\n",
       "6      217\n",
       "1      107\n",
       "7       56\n",
       "8       20\n",
       "9       12\n",
       "10       8\n",
       "11       6\n",
       "12       2\n",
       "16       2\n",
       "13       1\n",
       "15       1\n",
       "Name: count, dtype: int64"
      ]
     },
     "execution_count": 51,
     "metadata": {},
     "output_type": "execute_result"
    }
   ],
   "source": [
    "df.Quartos.value_counts()"
   ]
  },
  {
   "cell_type": "code",
   "execution_count": 52,
   "id": "ef3df6bd",
   "metadata": {
    "ExecuteTime": {
     "end_time": "2024-03-21T15:00:36.408250Z",
     "start_time": "2024-03-21T15:00:36.379793Z"
    },
    "hidden": true
   },
   "outputs": [
    {
     "name": "stdout",
     "output_type": "stream",
     "text": [
      "<class 'pandas.core.frame.DataFrame'>\n",
      "Index: 9983 entries, 0 to 10032\n",
      "Data columns (total 9 columns):\n",
      " #   Column     Non-Null Count  Dtype \n",
      "---  ------     --------------  ----- \n",
      " 0   Rua        9983 non-null   object\n",
      " 1   Bairro     9983 non-null   object\n",
      " 2   Área       9983 non-null   object\n",
      " 3   Quartos    9983 non-null   int32 \n",
      " 4   Banheiros  9983 non-null   object\n",
      " 5   Vagas      9983 non-null   int64 \n",
      " 6   Preço      9983 non-null   object\n",
      " 7   Número     9983 non-null   int32 \n",
      " 8   Cidade     9983 non-null   object\n",
      "dtypes: int32(2), int64(1), object(6)\n",
      "memory usage: 701.9+ KB\n"
     ]
    }
   ],
   "source": [
    "df.info()"
   ]
  },
  {
   "cell_type": "markdown",
   "id": "e8adb0d6",
   "metadata": {
    "ExecuteTime": {
     "end_time": "2024-03-09T03:53:05.987181Z",
     "start_time": "2024-03-09T03:53:05.981987Z"
    },
    "hidden": true
   },
   "source": [
    "#### 3.2.6 Banheiros"
   ]
  },
  {
   "cell_type": "code",
   "execution_count": 53,
   "id": "0ad2f915",
   "metadata": {
    "ExecuteTime": {
     "end_time": "2024-03-21T15:00:36.552366Z",
     "start_time": "2024-03-21T15:00:36.413144Z"
    },
    "hidden": true
   },
   "outputs": [
    {
     "data": {
      "text/plain": [
       "Banheiros\n",
       "3      1953\n",
       "4      1831\n",
       "2      1629\n",
       "5      1609\n",
       "6      1036\n",
       "1      1035\n",
       "7       482\n",
       "8       279\n",
       "9        62\n",
       "10       36\n",
       "11       15\n",
       "12        8\n",
       "14        4\n",
       "40        2\n",
       "3-6       1\n",
       "16        1\n",
       "Name: count, dtype: int64"
      ]
     },
     "execution_count": 53,
     "metadata": {},
     "output_type": "execute_result"
    }
   ],
   "source": [
    "df.Banheiros.value_counts()"
   ]
  },
  {
   "cell_type": "code",
   "execution_count": 54,
   "id": "90bc2de7",
   "metadata": {
    "ExecuteTime": {
     "end_time": "2024-03-21T15:00:36.667159Z",
     "start_time": "2024-03-21T15:00:36.555376Z"
    },
    "hidden": true
   },
   "outputs": [
    {
     "name": "stderr",
     "output_type": "stream",
     "text": [
      "C:\\Users\\claud\\AppData\\Local\\Temp\\ipykernel_13280\\4198574797.py:1: SettingWithCopyWarning: \n",
      "A value is trying to be set on a copy of a slice from a DataFrame.\n",
      "Try using .loc[row_indexer,col_indexer] = value instead\n",
      "\n",
      "See the caveats in the documentation: https://pandas.pydata.org/pandas-docs/stable/user_guide/indexing.html#returning-a-view-versus-a-copy\n",
      "  df['Banheiros'] = df['Banheiros'].apply(media_dados)\n"
     ]
    }
   ],
   "source": [
    "df['Banheiros'] = df['Banheiros'].apply(media_dados)"
   ]
  },
  {
   "cell_type": "code",
   "execution_count": 55,
   "id": "b7c5ebe9",
   "metadata": {
    "ExecuteTime": {
     "end_time": "2024-03-21T15:00:36.677497Z",
     "start_time": "2024-03-21T15:00:36.667159Z"
    },
    "hidden": true
   },
   "outputs": [
    {
     "name": "stderr",
     "output_type": "stream",
     "text": [
      "C:\\Users\\claud\\AppData\\Local\\Temp\\ipykernel_13280\\1165522447.py:1: SettingWithCopyWarning: \n",
      "A value is trying to be set on a copy of a slice from a DataFrame.\n",
      "Try using .loc[row_indexer,col_indexer] = value instead\n",
      "\n",
      "See the caveats in the documentation: https://pandas.pydata.org/pandas-docs/stable/user_guide/indexing.html#returning-a-view-versus-a-copy\n",
      "  df['Banheiros'] = df['Banheiros'].astype(int)\n"
     ]
    }
   ],
   "source": [
    "df['Banheiros'] = df['Banheiros'].astype(int)"
   ]
  },
  {
   "cell_type": "code",
   "execution_count": 56,
   "id": "4c2fbfc2",
   "metadata": {
    "ExecuteTime": {
     "end_time": "2024-03-21T15:00:36.690489Z",
     "start_time": "2024-03-21T15:00:36.677497Z"
    },
    "hidden": true,
    "scrolled": true
   },
   "outputs": [
    {
     "data": {
      "text/plain": [
       "Banheiros\n",
       "3     1953\n",
       "4     1832\n",
       "2     1629\n",
       "5     1609\n",
       "6     1036\n",
       "1     1035\n",
       "7      482\n",
       "8      279\n",
       "9       62\n",
       "10      36\n",
       "11      15\n",
       "12       8\n",
       "14       4\n",
       "40       2\n",
       "16       1\n",
       "Name: count, dtype: int64"
      ]
     },
     "execution_count": 56,
     "metadata": {},
     "output_type": "execute_result"
    }
   ],
   "source": [
    "df.Banheiros.value_counts()"
   ]
  },
  {
   "cell_type": "code",
   "execution_count": 57,
   "id": "ea9a22ba",
   "metadata": {
    "ExecuteTime": {
     "end_time": "2024-03-21T15:00:36.708966Z",
     "start_time": "2024-03-21T15:00:36.690489Z"
    },
    "hidden": true,
    "scrolled": true
   },
   "outputs": [
    {
     "name": "stdout",
     "output_type": "stream",
     "text": [
      "<class 'pandas.core.frame.DataFrame'>\n",
      "Index: 9983 entries, 0 to 10032\n",
      "Data columns (total 9 columns):\n",
      " #   Column     Non-Null Count  Dtype \n",
      "---  ------     --------------  ----- \n",
      " 0   Rua        9983 non-null   object\n",
      " 1   Bairro     9983 non-null   object\n",
      " 2   Área       9983 non-null   object\n",
      " 3   Quartos    9983 non-null   int32 \n",
      " 4   Banheiros  9983 non-null   int32 \n",
      " 5   Vagas      9983 non-null   int64 \n",
      " 6   Preço      9983 non-null   object\n",
      " 7   Número     9983 non-null   int32 \n",
      " 8   Cidade     9983 non-null   object\n",
      "dtypes: int32(3), int64(1), object(5)\n",
      "memory usage: 662.9+ KB\n"
     ]
    }
   ],
   "source": [
    "df.info()"
   ]
  },
  {
   "cell_type": "markdown",
   "id": "a3860312",
   "metadata": {
    "hidden": true
   },
   "source": [
    "#### 3.2.7 Área"
   ]
  },
  {
   "cell_type": "code",
   "execution_count": 58,
   "id": "d41f9634",
   "metadata": {
    "ExecuteTime": {
     "end_time": "2024-03-21T15:00:36.722339Z",
     "start_time": "2024-03-21T15:00:36.708966Z"
    },
    "hidden": true,
    "scrolled": true
   },
   "outputs": [
    {
     "data": {
      "text/plain": [
       "Área\n",
       "300     296\n",
       "200     288\n",
       "400     219\n",
       "250     203\n",
       "120     191\n",
       "       ... \n",
       "929       1\n",
       "1337      1\n",
       "1062      1\n",
       "1574      1\n",
       "458       1\n",
       "Name: count, Length: 821, dtype: int64"
      ]
     },
     "execution_count": 58,
     "metadata": {},
     "output_type": "execute_result"
    }
   ],
   "source": [
    "df['Área'].value_counts()"
   ]
  },
  {
   "cell_type": "code",
   "execution_count": 59,
   "id": "4adf7027",
   "metadata": {
    "ExecuteTime": {
     "end_time": "2024-03-21T15:00:36.732453Z",
     "start_time": "2024-03-21T15:00:36.722339Z"
    },
    "hidden": true
   },
   "outputs": [],
   "source": [
    "def media_area(value):\n",
    "    if '-' in value:\n",
    "        start, end = value.split('-')\n",
    "        return (int(start) + int(end)) / 2\n",
    "    else:\n",
    "        return int(value)"
   ]
  },
  {
   "cell_type": "code",
   "execution_count": 60,
   "id": "f886a7ec",
   "metadata": {
    "ExecuteTime": {
     "end_time": "2024-03-21T15:00:36.752306Z",
     "start_time": "2024-03-21T15:00:36.732453Z"
    },
    "hidden": true
   },
   "outputs": [
    {
     "name": "stderr",
     "output_type": "stream",
     "text": [
      "C:\\Users\\claud\\AppData\\Local\\Temp\\ipykernel_13280\\597857896.py:1: SettingWithCopyWarning: \n",
      "A value is trying to be set on a copy of a slice from a DataFrame.\n",
      "Try using .loc[row_indexer,col_indexer] = value instead\n",
      "\n",
      "See the caveats in the documentation: https://pandas.pydata.org/pandas-docs/stable/user_guide/indexing.html#returning-a-view-versus-a-copy\n",
      "  df['Área'] = df['Área'].apply(media_area)\n"
     ]
    }
   ],
   "source": [
    "df['Área'] = df['Área'].apply(media_area)"
   ]
  },
  {
   "cell_type": "code",
   "execution_count": 61,
   "id": "f1324c7b",
   "metadata": {
    "ExecuteTime": {
     "end_time": "2024-03-21T15:00:36.775692Z",
     "start_time": "2024-03-21T15:00:36.752306Z"
    },
    "hidden": true,
    "scrolled": true
   },
   "outputs": [
    {
     "data": {
      "text/html": [
       "<div>\n",
       "<style scoped>\n",
       "    .dataframe tbody tr th:only-of-type {\n",
       "        vertical-align: middle;\n",
       "    }\n",
       "\n",
       "    .dataframe tbody tr th {\n",
       "        vertical-align: top;\n",
       "    }\n",
       "\n",
       "    .dataframe thead th {\n",
       "        text-align: right;\n",
       "    }\n",
       "</style>\n",
       "<table border=\"1\" class=\"dataframe\">\n",
       "  <thead>\n",
       "    <tr style=\"text-align: right;\">\n",
       "      <th></th>\n",
       "      <th>Rua</th>\n",
       "      <th>Bairro</th>\n",
       "      <th>Área</th>\n",
       "      <th>Quartos</th>\n",
       "      <th>Banheiros</th>\n",
       "      <th>Vagas</th>\n",
       "      <th>Preço</th>\n",
       "      <th>Número</th>\n",
       "      <th>Cidade</th>\n",
       "    </tr>\n",
       "  </thead>\n",
       "  <tbody>\n",
       "    <tr>\n",
       "      <th>0</th>\n",
       "      <td>Avenida Itacira</td>\n",
       "      <td>Planalto Paulista</td>\n",
       "      <td>1000.0</td>\n",
       "      <td>4</td>\n",
       "      <td>8</td>\n",
       "      <td>6</td>\n",
       "      <td>R$ 7.000.000</td>\n",
       "      <td>255</td>\n",
       "      <td>São Paulo</td>\n",
       "    </tr>\n",
       "    <tr>\n",
       "      <th>1</th>\n",
       "      <td>Rua Aurelia Perez Alvarez</td>\n",
       "      <td>Jardim dos Estados</td>\n",
       "      <td>496.5</td>\n",
       "      <td>4</td>\n",
       "      <td>4</td>\n",
       "      <td>4</td>\n",
       "      <td>R$ 3.700.000</td>\n",
       "      <td>42</td>\n",
       "      <td>São Paulo</td>\n",
       "    </tr>\n",
       "    <tr>\n",
       "      <th>2</th>\n",
       "      <td>Rua Alba Valdez</td>\n",
       "      <td>Jardim Reimberg</td>\n",
       "      <td>125.0</td>\n",
       "      <td>4</td>\n",
       "      <td>3</td>\n",
       "      <td>2</td>\n",
       "      <td>R$ 380.000</td>\n",
       "      <td>0</td>\n",
       "      <td>São Paulo</td>\n",
       "    </tr>\n",
       "    <tr>\n",
       "      <th>3</th>\n",
       "      <td>Jardim Morumbi</td>\n",
       "      <td>Jardim Morumbi</td>\n",
       "      <td>310.0</td>\n",
       "      <td>3</td>\n",
       "      <td>2</td>\n",
       "      <td>4</td>\n",
       "      <td>R$ 685.000</td>\n",
       "      <td>0</td>\n",
       "      <td>São Paulo</td>\n",
       "    </tr>\n",
       "    <tr>\n",
       "      <th>4</th>\n",
       "      <td>Rua Tobias Barreto</td>\n",
       "      <td>Mooca</td>\n",
       "      <td>100.0</td>\n",
       "      <td>3</td>\n",
       "      <td>2</td>\n",
       "      <td>2</td>\n",
       "      <td>R$ 540.000</td>\n",
       "      <td>195</td>\n",
       "      <td>São Paulo</td>\n",
       "    </tr>\n",
       "    <tr>\n",
       "      <th>...</th>\n",
       "      <td>...</td>\n",
       "      <td>...</td>\n",
       "      <td>...</td>\n",
       "      <td>...</td>\n",
       "      <td>...</td>\n",
       "      <td>...</td>\n",
       "      <td>...</td>\n",
       "      <td>...</td>\n",
       "      <td>...</td>\n",
       "    </tr>\n",
       "    <tr>\n",
       "      <th>10028</th>\n",
       "      <td>Rua Tapuçu</td>\n",
       "      <td>Vila Sofia</td>\n",
       "      <td>90.0</td>\n",
       "      <td>2</td>\n",
       "      <td>2</td>\n",
       "      <td>2</td>\n",
       "      <td>R$ 665.000</td>\n",
       "      <td>0</td>\n",
       "      <td>São Paulo</td>\n",
       "    </tr>\n",
       "    <tr>\n",
       "      <th>10029</th>\n",
       "      <td>Rua Guararema</td>\n",
       "      <td>Bosque da Saúde</td>\n",
       "      <td>600.0</td>\n",
       "      <td>8</td>\n",
       "      <td>7</td>\n",
       "      <td>5</td>\n",
       "      <td>R$ 2.300.000</td>\n",
       "      <td>0</td>\n",
       "      <td>São Paulo</td>\n",
       "    </tr>\n",
       "    <tr>\n",
       "      <th>10030</th>\n",
       "      <td>Rua Estero Belaco</td>\n",
       "      <td>Vila da Saúde</td>\n",
       "      <td>200.0</td>\n",
       "      <td>3</td>\n",
       "      <td>3</td>\n",
       "      <td>6</td>\n",
       "      <td>R$ 1.050.000</td>\n",
       "      <td>0</td>\n",
       "      <td>São Paulo</td>\n",
       "    </tr>\n",
       "    <tr>\n",
       "      <th>10031</th>\n",
       "      <td>Rua Manuel Onha</td>\n",
       "      <td>Vila Oratório</td>\n",
       "      <td>180.0</td>\n",
       "      <td>3</td>\n",
       "      <td>2</td>\n",
       "      <td>2</td>\n",
       "      <td>R$ 2.200\\n                      /Mês</td>\n",
       "      <td>514</td>\n",
       "      <td>São Paulo</td>\n",
       "    </tr>\n",
       "    <tr>\n",
       "      <th>10032</th>\n",
       "      <td>Rua Barão de Tramandaí</td>\n",
       "      <td>Vila Alpina</td>\n",
       "      <td>117.0</td>\n",
       "      <td>3</td>\n",
       "      <td>2</td>\n",
       "      <td>2</td>\n",
       "      <td>R$ 270.000</td>\n",
       "      <td>0</td>\n",
       "      <td>São Paulo</td>\n",
       "    </tr>\n",
       "  </tbody>\n",
       "</table>\n",
       "<p>9983 rows × 9 columns</p>\n",
       "</div>"
      ],
      "text/plain": [
       "                             Rua              Bairro    Área  Quartos  \\\n",
       "0                Avenida Itacira   Planalto Paulista  1000.0        4   \n",
       "1      Rua Aurelia Perez Alvarez  Jardim dos Estados   496.5        4   \n",
       "2               Rua Alba Valdez      Jardim Reimberg   125.0        4   \n",
       "3                 Jardim Morumbi      Jardim Morumbi   310.0        3   \n",
       "4             Rua Tobias Barreto               Mooca   100.0        3   \n",
       "...                          ...                 ...     ...      ...   \n",
       "10028                Rua Tapuçu           Vila Sofia    90.0        2   \n",
       "10029             Rua Guararema      Bosque da Saúde   600.0        8   \n",
       "10030         Rua Estero Belaco        Vila da Saúde   200.0        3   \n",
       "10031            Rua Manuel Onha       Vila Oratório   180.0        3   \n",
       "10032     Rua Barão de Tramandaí         Vila Alpina   117.0        3   \n",
       "\n",
       "       Banheiros  Vagas                                 Preço  Número  \\\n",
       "0              8      6                          R$ 7.000.000     255   \n",
       "1              4      4                          R$ 3.700.000      42   \n",
       "2              3      2                            R$ 380.000       0   \n",
       "3              2      4                            R$ 685.000       0   \n",
       "4              2      2                            R$ 540.000     195   \n",
       "...          ...    ...                                   ...     ...   \n",
       "10028          2      2                            R$ 665.000       0   \n",
       "10029          7      5                          R$ 2.300.000       0   \n",
       "10030          3      6                          R$ 1.050.000       0   \n",
       "10031          2      2  R$ 2.200\\n                      /Mês     514   \n",
       "10032          2      2                            R$ 270.000       0   \n",
       "\n",
       "          Cidade  \n",
       "0      São Paulo  \n",
       "1      São Paulo  \n",
       "2      São Paulo  \n",
       "3      São Paulo  \n",
       "4      São Paulo  \n",
       "...          ...  \n",
       "10028  São Paulo  \n",
       "10029  São Paulo  \n",
       "10030  São Paulo  \n",
       "10031  São Paulo  \n",
       "10032  São Paulo  \n",
       "\n",
       "[9983 rows x 9 columns]"
      ]
     },
     "execution_count": 61,
     "metadata": {},
     "output_type": "execute_result"
    }
   ],
   "source": [
    "df"
   ]
  },
  {
   "cell_type": "code",
   "execution_count": 62,
   "id": "68a30128",
   "metadata": {
    "ExecuteTime": {
     "end_time": "2024-03-21T15:00:36.794619Z",
     "start_time": "2024-03-21T15:00:36.775692Z"
    },
    "hidden": true
   },
   "outputs": [
    {
     "name": "stdout",
     "output_type": "stream",
     "text": [
      "<class 'pandas.core.frame.DataFrame'>\n",
      "Index: 9983 entries, 0 to 10032\n",
      "Data columns (total 9 columns):\n",
      " #   Column     Non-Null Count  Dtype  \n",
      "---  ------     --------------  -----  \n",
      " 0   Rua        9983 non-null   object \n",
      " 1   Bairro     9983 non-null   object \n",
      " 2   Área       9983 non-null   float64\n",
      " 3   Quartos    9983 non-null   int32  \n",
      " 4   Banheiros  9983 non-null   int32  \n",
      " 5   Vagas      9983 non-null   int64  \n",
      " 6   Preço      9983 non-null   object \n",
      " 7   Número     9983 non-null   int32  \n",
      " 8   Cidade     9983 non-null   object \n",
      "dtypes: float64(1), int32(3), int64(1), object(4)\n",
      "memory usage: 662.9+ KB\n"
     ]
    }
   ],
   "source": [
    "# df['propertycard__detailvalue'] = df['propertycard__detailvalue'].astype(inte)/\n",
    "df.info()"
   ]
  },
  {
   "cell_type": "markdown",
   "id": "4029fce0",
   "metadata": {
    "hidden": true
   },
   "source": [
    "#### 3.2.8 Preço"
   ]
  },
  {
   "cell_type": "code",
   "execution_count": 63,
   "id": "f4f63201",
   "metadata": {
    "ExecuteTime": {
     "end_time": "2024-03-21T15:00:36.812790Z",
     "start_time": "2024-03-21T15:00:36.794619Z"
    },
    "hidden": true
   },
   "outputs": [
    {
     "data": {
      "text/plain": [
       "846"
      ]
     },
     "execution_count": 63,
     "metadata": {},
     "output_type": "execute_result"
    }
   ],
   "source": [
    "# Contando o número de ocorrências semelhantes a \"Valor\\n /Mês\"\n",
    "count = df['Preço'].str.contains(r'/Mês').sum()\n",
    "count"
   ]
  },
  {
   "cell_type": "code",
   "execution_count": 64,
   "id": "095871db",
   "metadata": {
    "ExecuteTime": {
     "end_time": "2024-03-21T15:00:36.970668Z",
     "start_time": "2024-03-21T15:00:36.812790Z"
    },
    "hidden": true,
    "scrolled": false
   },
   "outputs": [
    {
     "name": "stderr",
     "output_type": "stream",
     "text": [
      "C:\\Users\\claud\\AppData\\Local\\Temp\\ipykernel_13280\\2820580555.py:2: SettingWithCopyWarning: \n",
      "A value is trying to be set on a copy of a slice from a DataFrame.\n",
      "Try using .loc[row_indexer,col_indexer] = value instead\n",
      "\n",
      "See the caveats in the documentation: https://pandas.pydata.org/pandas-docs/stable/user_guide/indexing.html#returning-a-view-versus-a-copy\n",
      "  df['Aluguel'] = df['Preço'].str.contains('/Mês')\n"
     ]
    },
    {
     "data": {
      "text/html": [
       "<div>\n",
       "<style scoped>\n",
       "    .dataframe tbody tr th:only-of-type {\n",
       "        vertical-align: middle;\n",
       "    }\n",
       "\n",
       "    .dataframe tbody tr th {\n",
       "        vertical-align: top;\n",
       "    }\n",
       "\n",
       "    .dataframe thead th {\n",
       "        text-align: right;\n",
       "    }\n",
       "</style>\n",
       "<table border=\"1\" class=\"dataframe\">\n",
       "  <thead>\n",
       "    <tr style=\"text-align: right;\">\n",
       "      <th></th>\n",
       "      <th>Rua</th>\n",
       "      <th>Bairro</th>\n",
       "      <th>Área</th>\n",
       "      <th>Quartos</th>\n",
       "      <th>Banheiros</th>\n",
       "      <th>Vagas</th>\n",
       "      <th>Preço</th>\n",
       "      <th>Número</th>\n",
       "      <th>Cidade</th>\n",
       "      <th>Aluguel</th>\n",
       "    </tr>\n",
       "  </thead>\n",
       "  <tbody>\n",
       "    <tr>\n",
       "      <th>0</th>\n",
       "      <td>Avenida Itacira</td>\n",
       "      <td>Planalto Paulista</td>\n",
       "      <td>1000.0</td>\n",
       "      <td>4</td>\n",
       "      <td>8</td>\n",
       "      <td>6</td>\n",
       "      <td>R$ 7.000.000</td>\n",
       "      <td>255</td>\n",
       "      <td>São Paulo</td>\n",
       "      <td>False</td>\n",
       "    </tr>\n",
       "    <tr>\n",
       "      <th>1</th>\n",
       "      <td>Rua Aurelia Perez Alvarez</td>\n",
       "      <td>Jardim dos Estados</td>\n",
       "      <td>496.5</td>\n",
       "      <td>4</td>\n",
       "      <td>4</td>\n",
       "      <td>4</td>\n",
       "      <td>R$ 3.700.000</td>\n",
       "      <td>42</td>\n",
       "      <td>São Paulo</td>\n",
       "      <td>False</td>\n",
       "    </tr>\n",
       "    <tr>\n",
       "      <th>2</th>\n",
       "      <td>Rua Alba Valdez</td>\n",
       "      <td>Jardim Reimberg</td>\n",
       "      <td>125.0</td>\n",
       "      <td>4</td>\n",
       "      <td>3</td>\n",
       "      <td>2</td>\n",
       "      <td>R$ 380.000</td>\n",
       "      <td>0</td>\n",
       "      <td>São Paulo</td>\n",
       "      <td>False</td>\n",
       "    </tr>\n",
       "    <tr>\n",
       "      <th>3</th>\n",
       "      <td>Jardim Morumbi</td>\n",
       "      <td>Jardim Morumbi</td>\n",
       "      <td>310.0</td>\n",
       "      <td>3</td>\n",
       "      <td>2</td>\n",
       "      <td>4</td>\n",
       "      <td>R$ 685.000</td>\n",
       "      <td>0</td>\n",
       "      <td>São Paulo</td>\n",
       "      <td>False</td>\n",
       "    </tr>\n",
       "    <tr>\n",
       "      <th>4</th>\n",
       "      <td>Rua Tobias Barreto</td>\n",
       "      <td>Mooca</td>\n",
       "      <td>100.0</td>\n",
       "      <td>3</td>\n",
       "      <td>2</td>\n",
       "      <td>2</td>\n",
       "      <td>R$ 540.000</td>\n",
       "      <td>195</td>\n",
       "      <td>São Paulo</td>\n",
       "      <td>False</td>\n",
       "    </tr>\n",
       "    <tr>\n",
       "      <th>...</th>\n",
       "      <td>...</td>\n",
       "      <td>...</td>\n",
       "      <td>...</td>\n",
       "      <td>...</td>\n",
       "      <td>...</td>\n",
       "      <td>...</td>\n",
       "      <td>...</td>\n",
       "      <td>...</td>\n",
       "      <td>...</td>\n",
       "      <td>...</td>\n",
       "    </tr>\n",
       "    <tr>\n",
       "      <th>10028</th>\n",
       "      <td>Rua Tapuçu</td>\n",
       "      <td>Vila Sofia</td>\n",
       "      <td>90.0</td>\n",
       "      <td>2</td>\n",
       "      <td>2</td>\n",
       "      <td>2</td>\n",
       "      <td>R$ 665.000</td>\n",
       "      <td>0</td>\n",
       "      <td>São Paulo</td>\n",
       "      <td>False</td>\n",
       "    </tr>\n",
       "    <tr>\n",
       "      <th>10029</th>\n",
       "      <td>Rua Guararema</td>\n",
       "      <td>Bosque da Saúde</td>\n",
       "      <td>600.0</td>\n",
       "      <td>8</td>\n",
       "      <td>7</td>\n",
       "      <td>5</td>\n",
       "      <td>R$ 2.300.000</td>\n",
       "      <td>0</td>\n",
       "      <td>São Paulo</td>\n",
       "      <td>False</td>\n",
       "    </tr>\n",
       "    <tr>\n",
       "      <th>10030</th>\n",
       "      <td>Rua Estero Belaco</td>\n",
       "      <td>Vila da Saúde</td>\n",
       "      <td>200.0</td>\n",
       "      <td>3</td>\n",
       "      <td>3</td>\n",
       "      <td>6</td>\n",
       "      <td>R$ 1.050.000</td>\n",
       "      <td>0</td>\n",
       "      <td>São Paulo</td>\n",
       "      <td>False</td>\n",
       "    </tr>\n",
       "    <tr>\n",
       "      <th>10031</th>\n",
       "      <td>Rua Manuel Onha</td>\n",
       "      <td>Vila Oratório</td>\n",
       "      <td>180.0</td>\n",
       "      <td>3</td>\n",
       "      <td>2</td>\n",
       "      <td>2</td>\n",
       "      <td>R$ 2.200\\n                      /Mês</td>\n",
       "      <td>514</td>\n",
       "      <td>São Paulo</td>\n",
       "      <td>True</td>\n",
       "    </tr>\n",
       "    <tr>\n",
       "      <th>10032</th>\n",
       "      <td>Rua Barão de Tramandaí</td>\n",
       "      <td>Vila Alpina</td>\n",
       "      <td>117.0</td>\n",
       "      <td>3</td>\n",
       "      <td>2</td>\n",
       "      <td>2</td>\n",
       "      <td>R$ 270.000</td>\n",
       "      <td>0</td>\n",
       "      <td>São Paulo</td>\n",
       "      <td>False</td>\n",
       "    </tr>\n",
       "  </tbody>\n",
       "</table>\n",
       "<p>9983 rows × 10 columns</p>\n",
       "</div>"
      ],
      "text/plain": [
       "                             Rua              Bairro    Área  Quartos  \\\n",
       "0                Avenida Itacira   Planalto Paulista  1000.0        4   \n",
       "1      Rua Aurelia Perez Alvarez  Jardim dos Estados   496.5        4   \n",
       "2               Rua Alba Valdez      Jardim Reimberg   125.0        4   \n",
       "3                 Jardim Morumbi      Jardim Morumbi   310.0        3   \n",
       "4             Rua Tobias Barreto               Mooca   100.0        3   \n",
       "...                          ...                 ...     ...      ...   \n",
       "10028                Rua Tapuçu           Vila Sofia    90.0        2   \n",
       "10029             Rua Guararema      Bosque da Saúde   600.0        8   \n",
       "10030         Rua Estero Belaco        Vila da Saúde   200.0        3   \n",
       "10031            Rua Manuel Onha       Vila Oratório   180.0        3   \n",
       "10032     Rua Barão de Tramandaí         Vila Alpina   117.0        3   \n",
       "\n",
       "       Banheiros  Vagas                                 Preço  Número  \\\n",
       "0              8      6                          R$ 7.000.000     255   \n",
       "1              4      4                          R$ 3.700.000      42   \n",
       "2              3      2                            R$ 380.000       0   \n",
       "3              2      4                            R$ 685.000       0   \n",
       "4              2      2                            R$ 540.000     195   \n",
       "...          ...    ...                                   ...     ...   \n",
       "10028          2      2                            R$ 665.000       0   \n",
       "10029          7      5                          R$ 2.300.000       0   \n",
       "10030          3      6                          R$ 1.050.000       0   \n",
       "10031          2      2  R$ 2.200\\n                      /Mês     514   \n",
       "10032          2      2                            R$ 270.000       0   \n",
       "\n",
       "          Cidade  Aluguel  \n",
       "0      São Paulo    False  \n",
       "1      São Paulo    False  \n",
       "2      São Paulo    False  \n",
       "3      São Paulo    False  \n",
       "4      São Paulo    False  \n",
       "...          ...      ...  \n",
       "10028  São Paulo    False  \n",
       "10029  São Paulo    False  \n",
       "10030  São Paulo    False  \n",
       "10031  São Paulo     True  \n",
       "10032  São Paulo    False  \n",
       "\n",
       "[9983 rows x 10 columns]"
      ]
     },
     "execution_count": 64,
     "metadata": {},
     "output_type": "execute_result"
    }
   ],
   "source": [
    "# Criando coluna para gerar referenciar se o valor é aluguel, ou nao\n",
    "df['Aluguel'] = df['Preço'].str.contains('/Mês')\n",
    "df"
   ]
  },
  {
   "cell_type": "code",
   "execution_count": 65,
   "id": "9c48d47c",
   "metadata": {
    "ExecuteTime": {
     "end_time": "2024-03-21T15:00:37.018204Z",
     "start_time": "2024-03-21T15:00:36.970668Z"
    },
    "hidden": true,
    "scrolled": true
   },
   "outputs": [
    {
     "name": "stderr",
     "output_type": "stream",
     "text": [
      "C:\\Users\\claud\\AppData\\Local\\Temp\\ipykernel_13280\\2971890410.py:2: SettingWithCopyWarning: \n",
      "A value is trying to be set on a copy of a slice from a DataFrame.\n",
      "Try using .loc[row_indexer,col_indexer] = value instead\n",
      "\n",
      "See the caveats in the documentation: https://pandas.pydata.org/pandas-docs/stable/user_guide/indexing.html#returning-a-view-versus-a-copy\n",
      "  df['Preço'] = df['Preço'].replace('[^\\d,.]', '', regex=True).str.replace('.', '').astype(float)\n"
     ]
    }
   ],
   "source": [
    "# Limpando dados que não se referem ao preço (\".\", \"R$\", \"\\n /mês\")\n",
    "df['Preço'] = df['Preço'].replace('[^\\d,.]', '', regex=True).str.replace('.', '').astype(float)"
   ]
  },
  {
   "cell_type": "code",
   "execution_count": 66,
   "id": "d7a6123e",
   "metadata": {
    "ExecuteTime": {
     "end_time": "2024-03-21T15:00:37.037820Z",
     "start_time": "2024-03-21T15:00:37.018204Z"
    },
    "hidden": true
   },
   "outputs": [
    {
     "data": {
      "text/html": [
       "<div>\n",
       "<style scoped>\n",
       "    .dataframe tbody tr th:only-of-type {\n",
       "        vertical-align: middle;\n",
       "    }\n",
       "\n",
       "    .dataframe tbody tr th {\n",
       "        vertical-align: top;\n",
       "    }\n",
       "\n",
       "    .dataframe thead th {\n",
       "        text-align: right;\n",
       "    }\n",
       "</style>\n",
       "<table border=\"1\" class=\"dataframe\">\n",
       "  <thead>\n",
       "    <tr style=\"text-align: right;\">\n",
       "      <th></th>\n",
       "      <th>Rua</th>\n",
       "      <th>Bairro</th>\n",
       "      <th>Área</th>\n",
       "      <th>Quartos</th>\n",
       "      <th>Banheiros</th>\n",
       "      <th>Vagas</th>\n",
       "      <th>Preço</th>\n",
       "      <th>Número</th>\n",
       "      <th>Cidade</th>\n",
       "      <th>Aluguel</th>\n",
       "    </tr>\n",
       "  </thead>\n",
       "  <tbody>\n",
       "    <tr>\n",
       "      <th>0</th>\n",
       "      <td>Avenida Itacira</td>\n",
       "      <td>Planalto Paulista</td>\n",
       "      <td>1000.0</td>\n",
       "      <td>4</td>\n",
       "      <td>8</td>\n",
       "      <td>6</td>\n",
       "      <td>7000000.0</td>\n",
       "      <td>255</td>\n",
       "      <td>São Paulo</td>\n",
       "      <td>False</td>\n",
       "    </tr>\n",
       "    <tr>\n",
       "      <th>1</th>\n",
       "      <td>Rua Aurelia Perez Alvarez</td>\n",
       "      <td>Jardim dos Estados</td>\n",
       "      <td>496.5</td>\n",
       "      <td>4</td>\n",
       "      <td>4</td>\n",
       "      <td>4</td>\n",
       "      <td>3700000.0</td>\n",
       "      <td>42</td>\n",
       "      <td>São Paulo</td>\n",
       "      <td>False</td>\n",
       "    </tr>\n",
       "    <tr>\n",
       "      <th>2</th>\n",
       "      <td>Rua Alba Valdez</td>\n",
       "      <td>Jardim Reimberg</td>\n",
       "      <td>125.0</td>\n",
       "      <td>4</td>\n",
       "      <td>3</td>\n",
       "      <td>2</td>\n",
       "      <td>380000.0</td>\n",
       "      <td>0</td>\n",
       "      <td>São Paulo</td>\n",
       "      <td>False</td>\n",
       "    </tr>\n",
       "    <tr>\n",
       "      <th>3</th>\n",
       "      <td>Jardim Morumbi</td>\n",
       "      <td>Jardim Morumbi</td>\n",
       "      <td>310.0</td>\n",
       "      <td>3</td>\n",
       "      <td>2</td>\n",
       "      <td>4</td>\n",
       "      <td>685000.0</td>\n",
       "      <td>0</td>\n",
       "      <td>São Paulo</td>\n",
       "      <td>False</td>\n",
       "    </tr>\n",
       "    <tr>\n",
       "      <th>4</th>\n",
       "      <td>Rua Tobias Barreto</td>\n",
       "      <td>Mooca</td>\n",
       "      <td>100.0</td>\n",
       "      <td>3</td>\n",
       "      <td>2</td>\n",
       "      <td>2</td>\n",
       "      <td>540000.0</td>\n",
       "      <td>195</td>\n",
       "      <td>São Paulo</td>\n",
       "      <td>False</td>\n",
       "    </tr>\n",
       "    <tr>\n",
       "      <th>5</th>\n",
       "      <td>Rua Graham Bell</td>\n",
       "      <td>Santo Amaro</td>\n",
       "      <td>440.0</td>\n",
       "      <td>4</td>\n",
       "      <td>4</td>\n",
       "      <td>6</td>\n",
       "      <td>1980000.0</td>\n",
       "      <td>0</td>\n",
       "      <td>São Paulo</td>\n",
       "      <td>False</td>\n",
       "    </tr>\n",
       "    <tr>\n",
       "      <th>6</th>\n",
       "      <td>Rua Francisco Paulo</td>\n",
       "      <td>Cidade Mãe do Céu</td>\n",
       "      <td>145.0</td>\n",
       "      <td>4</td>\n",
       "      <td>4</td>\n",
       "      <td>2</td>\n",
       "      <td>850000.0</td>\n",
       "      <td>31</td>\n",
       "      <td>São Paulo</td>\n",
       "      <td>False</td>\n",
       "    </tr>\n",
       "    <tr>\n",
       "      <th>7</th>\n",
       "      <td>Rua Guilherme Valente</td>\n",
       "      <td>Jardim Vergueiro</td>\n",
       "      <td>150.0</td>\n",
       "      <td>2</td>\n",
       "      <td>2</td>\n",
       "      <td>2</td>\n",
       "      <td>450000.0</td>\n",
       "      <td>150</td>\n",
       "      <td>São Paulo</td>\n",
       "      <td>False</td>\n",
       "    </tr>\n",
       "    <tr>\n",
       "      <th>8</th>\n",
       "      <td>Rua Sagrada Família</td>\n",
       "      <td>Jardim Benfica</td>\n",
       "      <td>48.0</td>\n",
       "      <td>2</td>\n",
       "      <td>1</td>\n",
       "      <td>1</td>\n",
       "      <td>199900.0</td>\n",
       "      <td>8</td>\n",
       "      <td>São Paulo</td>\n",
       "      <td>False</td>\n",
       "    </tr>\n",
       "    <tr>\n",
       "      <th>9</th>\n",
       "      <td>Rua Tapaji</td>\n",
       "      <td>Vila Alpina</td>\n",
       "      <td>114.0</td>\n",
       "      <td>3</td>\n",
       "      <td>3</td>\n",
       "      <td>2</td>\n",
       "      <td>585000.0</td>\n",
       "      <td>0</td>\n",
       "      <td>São Paulo</td>\n",
       "      <td>False</td>\n",
       "    </tr>\n",
       "  </tbody>\n",
       "</table>\n",
       "</div>"
      ],
      "text/plain": [
       "                         Rua              Bairro    Área  Quartos  Banheiros  \\\n",
       "0            Avenida Itacira   Planalto Paulista  1000.0        4          8   \n",
       "1  Rua Aurelia Perez Alvarez  Jardim dos Estados   496.5        4          4   \n",
       "2           Rua Alba Valdez      Jardim Reimberg   125.0        4          3   \n",
       "3             Jardim Morumbi      Jardim Morumbi   310.0        3          2   \n",
       "4         Rua Tobias Barreto               Mooca   100.0        3          2   \n",
       "5           Rua Graham Bell          Santo Amaro   440.0        4          4   \n",
       "6        Rua Francisco Paulo   Cidade Mãe do Céu   145.0        4          4   \n",
       "7      Rua Guilherme Valente    Jardim Vergueiro   150.0        2          2   \n",
       "8        Rua Sagrada Família      Jardim Benfica    48.0        2          1   \n",
       "9                Rua Tapaji          Vila Alpina   114.0        3          3   \n",
       "\n",
       "   Vagas      Preço  Número     Cidade  Aluguel  \n",
       "0      6  7000000.0     255  São Paulo    False  \n",
       "1      4  3700000.0      42  São Paulo    False  \n",
       "2      2   380000.0       0  São Paulo    False  \n",
       "3      4   685000.0       0  São Paulo    False  \n",
       "4      2   540000.0     195  São Paulo    False  \n",
       "5      6  1980000.0       0  São Paulo    False  \n",
       "6      2   850000.0      31  São Paulo    False  \n",
       "7      2   450000.0     150  São Paulo    False  \n",
       "8      1   199900.0       8  São Paulo    False  \n",
       "9      2   585000.0       0  São Paulo    False  "
      ]
     },
     "execution_count": 66,
     "metadata": {},
     "output_type": "execute_result"
    }
   ],
   "source": [
    "df.head(10)"
   ]
  },
  {
   "cell_type": "code",
   "execution_count": 67,
   "id": "c94b0751",
   "metadata": {
    "ExecuteTime": {
     "end_time": "2024-03-21T15:00:37.179854Z",
     "start_time": "2024-03-21T15:00:37.037820Z"
    },
    "hidden": true,
    "scrolled": true
   },
   "outputs": [
    {
     "name": "stdout",
     "output_type": "stream",
     "text": [
      "<class 'pandas.core.frame.DataFrame'>\n",
      "Index: 9983 entries, 0 to 10032\n",
      "Data columns (total 10 columns):\n",
      " #   Column     Non-Null Count  Dtype  \n",
      "---  ------     --------------  -----  \n",
      " 0   Rua        9983 non-null   object \n",
      " 1   Bairro     9983 non-null   object \n",
      " 2   Área       9983 non-null   float64\n",
      " 3   Quartos    9983 non-null   int32  \n",
      " 4   Banheiros  9983 non-null   int32  \n",
      " 5   Vagas      9983 non-null   int64  \n",
      " 6   Preço      9983 non-null   float64\n",
      " 7   Número     9983 non-null   int32  \n",
      " 8   Cidade     9983 non-null   object \n",
      " 9   Aluguel    9983 non-null   bool   \n",
      "dtypes: bool(1), float64(2), int32(3), int64(1), object(3)\n",
      "memory usage: 672.7+ KB\n"
     ]
    }
   ],
   "source": [
    "df.info()"
   ]
  },
  {
   "cell_type": "markdown",
   "id": "79dcffee",
   "metadata": {
    "hidden": true
   },
   "source": [
    "#### 3.2.9 Nova ordem das colunas"
   ]
  },
  {
   "cell_type": "code",
   "execution_count": 68,
   "id": "337f5cdc",
   "metadata": {
    "ExecuteTime": {
     "end_time": "2024-03-21T15:00:37.191395Z",
     "start_time": "2024-03-21T15:00:37.179854Z"
    },
    "hidden": true
   },
   "outputs": [],
   "source": [
    "# Definindo a nova ordem\n",
    "nova_ordem = ['Rua', 'Número', 'Bairro', 'Cidade', 'Área', 'Quartos', 'Banheiros', 'Vagas', 'Preço', 'Aluguel']\n",
    "\n",
    "# Aplicando a nova ordem\n",
    "df = df[nova_ordem]"
   ]
  },
  {
   "cell_type": "code",
   "execution_count": 69,
   "id": "96a6f45a",
   "metadata": {
    "ExecuteTime": {
     "end_time": "2024-03-21T15:00:37.361678Z",
     "start_time": "2024-03-21T15:00:37.191395Z"
    },
    "hidden": true,
    "scrolled": false
   },
   "outputs": [
    {
     "data": {
      "text/html": [
       "<div>\n",
       "<style scoped>\n",
       "    .dataframe tbody tr th:only-of-type {\n",
       "        vertical-align: middle;\n",
       "    }\n",
       "\n",
       "    .dataframe tbody tr th {\n",
       "        vertical-align: top;\n",
       "    }\n",
       "\n",
       "    .dataframe thead th {\n",
       "        text-align: right;\n",
       "    }\n",
       "</style>\n",
       "<table border=\"1\" class=\"dataframe\">\n",
       "  <thead>\n",
       "    <tr style=\"text-align: right;\">\n",
       "      <th></th>\n",
       "      <th>Rua</th>\n",
       "      <th>Número</th>\n",
       "      <th>Bairro</th>\n",
       "      <th>Cidade</th>\n",
       "      <th>Área</th>\n",
       "      <th>Quartos</th>\n",
       "      <th>Banheiros</th>\n",
       "      <th>Vagas</th>\n",
       "      <th>Preço</th>\n",
       "      <th>Aluguel</th>\n",
       "    </tr>\n",
       "  </thead>\n",
       "  <tbody>\n",
       "    <tr>\n",
       "      <th>0</th>\n",
       "      <td>Avenida Itacira</td>\n",
       "      <td>255</td>\n",
       "      <td>Planalto Paulista</td>\n",
       "      <td>São Paulo</td>\n",
       "      <td>1000.0</td>\n",
       "      <td>4</td>\n",
       "      <td>8</td>\n",
       "      <td>6</td>\n",
       "      <td>7000000.0</td>\n",
       "      <td>False</td>\n",
       "    </tr>\n",
       "    <tr>\n",
       "      <th>1</th>\n",
       "      <td>Rua Aurelia Perez Alvarez</td>\n",
       "      <td>42</td>\n",
       "      <td>Jardim dos Estados</td>\n",
       "      <td>São Paulo</td>\n",
       "      <td>496.5</td>\n",
       "      <td>4</td>\n",
       "      <td>4</td>\n",
       "      <td>4</td>\n",
       "      <td>3700000.0</td>\n",
       "      <td>False</td>\n",
       "    </tr>\n",
       "    <tr>\n",
       "      <th>2</th>\n",
       "      <td>Rua Alba Valdez</td>\n",
       "      <td>0</td>\n",
       "      <td>Jardim Reimberg</td>\n",
       "      <td>São Paulo</td>\n",
       "      <td>125.0</td>\n",
       "      <td>4</td>\n",
       "      <td>3</td>\n",
       "      <td>2</td>\n",
       "      <td>380000.0</td>\n",
       "      <td>False</td>\n",
       "    </tr>\n",
       "    <tr>\n",
       "      <th>3</th>\n",
       "      <td>Jardim Morumbi</td>\n",
       "      <td>0</td>\n",
       "      <td>Jardim Morumbi</td>\n",
       "      <td>São Paulo</td>\n",
       "      <td>310.0</td>\n",
       "      <td>3</td>\n",
       "      <td>2</td>\n",
       "      <td>4</td>\n",
       "      <td>685000.0</td>\n",
       "      <td>False</td>\n",
       "    </tr>\n",
       "    <tr>\n",
       "      <th>4</th>\n",
       "      <td>Rua Tobias Barreto</td>\n",
       "      <td>195</td>\n",
       "      <td>Mooca</td>\n",
       "      <td>São Paulo</td>\n",
       "      <td>100.0</td>\n",
       "      <td>3</td>\n",
       "      <td>2</td>\n",
       "      <td>2</td>\n",
       "      <td>540000.0</td>\n",
       "      <td>False</td>\n",
       "    </tr>\n",
       "  </tbody>\n",
       "</table>\n",
       "</div>"
      ],
      "text/plain": [
       "                         Rua  Número              Bairro     Cidade    Área  \\\n",
       "0            Avenida Itacira     255   Planalto Paulista  São Paulo  1000.0   \n",
       "1  Rua Aurelia Perez Alvarez      42  Jardim dos Estados  São Paulo   496.5   \n",
       "2           Rua Alba Valdez        0     Jardim Reimberg  São Paulo   125.0   \n",
       "3             Jardim Morumbi       0      Jardim Morumbi  São Paulo   310.0   \n",
       "4         Rua Tobias Barreto     195               Mooca  São Paulo   100.0   \n",
       "\n",
       "   Quartos  Banheiros  Vagas      Preço  Aluguel  \n",
       "0        4          8      6  7000000.0    False  \n",
       "1        4          4      4  3700000.0    False  \n",
       "2        4          3      2   380000.0    False  \n",
       "3        3          2      4   685000.0    False  \n",
       "4        3          2      2   540000.0    False  "
      ]
     },
     "execution_count": 69,
     "metadata": {},
     "output_type": "execute_result"
    }
   ],
   "source": [
    "df.head(5)"
   ]
  },
  {
   "cell_type": "markdown",
   "id": "e280fca9",
   "metadata": {
    "ExecuteTime": {
     "end_time": "2024-03-12T18:47:35.040867Z",
     "start_time": "2024-03-12T18:47:35.035526Z"
    }
   },
   "source": [
    "### 3.3 Tratando os Outliers "
   ]
  },
  {
   "cell_type": "markdown",
   "id": "6e0a3d35",
   "metadata": {},
   "source": [
    "#### 3.3.1 Rua"
   ]
  },
  {
   "cell_type": "code",
   "execution_count": 70,
   "id": "8de9cc67",
   "metadata": {
    "ExecuteTime": {
     "end_time": "2024-03-21T15:00:37.486934Z",
     "start_time": "2024-03-21T15:00:37.361678Z"
    }
   },
   "outputs": [
    {
     "data": {
      "text/plain": [
       "Rua\n",
       "Jardim Guedala                    190\n",
       "Alto de Pinheiros                 169\n",
       "Jardim Paulista                   138\n",
       "Jardim Europa                     128\n",
       "Jardim Leonor                     118\n",
       "                                 ... \n",
       "Rua Santo Egídio                    1\n",
       "Rua Rino Levi                       1\n",
       "Rua Payaguas                        1\n",
       "Rua Parapuã                         1\n",
       "Rua Agnaldo Manuel dos Santos       1\n",
       "Name: count, Length: 3402, dtype: int64"
      ]
     },
     "execution_count": 70,
     "metadata": {},
     "output_type": "execute_result"
    }
   ],
   "source": [
    "df.Rua.value_counts()"
   ]
  },
  {
   "cell_type": "code",
   "execution_count": 71,
   "id": "6a054c07",
   "metadata": {
    "ExecuteTime": {
     "end_time": "2024-03-21T15:00:37.698509Z",
     "start_time": "2024-03-21T15:00:37.486934Z"
    },
    "scrolled": true
   },
   "outputs": [
    {
     "data": {
      "text/plain": [
       "Bairro\n",
       "Vila Fachini                    9\n",
       "Vila Alpina                     9\n",
       "Jardim São Paulo(Zona Norte)    9\n",
       "Socorro                         9\n",
       "Jardim Itapeva                  9\n",
       "                               ..\n",
       "Pari                            1\n",
       "Sítio Represa                   1\n",
       "Vila Sabrina                    1\n",
       "Jardim Reimberg                 1\n",
       "Parque Maria Helena             1\n",
       "Name: count, Length: 538, dtype: int64"
      ]
     },
     "execution_count": 71,
     "metadata": {},
     "output_type": "execute_result"
    }
   ],
   "source": [
    "# Calculando a contagem de ocorrências de cada bairro\n",
    "contagem_bairro = df['Bairro'].value_counts()\n",
    "\n",
    "# Filtrando os bairros com contagem menor que 10\n",
    "contagem_bairro_menor_10 = contagem_bairro[contagem_bairro < 10]\n",
    "\n",
    "# Exibindo os bairros com contagem menor que 10\n",
    "contagem_bairro_menor_10"
   ]
  },
  {
   "cell_type": "code",
   "execution_count": 72,
   "id": "d8dc15b2",
   "metadata": {
    "ExecuteTime": {
     "end_time": "2024-03-21T15:00:37.845997Z",
     "start_time": "2024-03-21T15:00:37.698509Z"
    }
   },
   "outputs": [],
   "source": [
    "# Contando o número de ocorrências em cada categoria\n",
    "contagem_categorias = df['Bairro'].value_counts()\n",
    "\n",
    "# Definindo o limite mínimo de frequência (por exemplo, 10)\n",
    "limite_minimo = 5\n",
    "\n",
    "# Identificando as categorias com poucas ocorrências\n",
    "categorias_poucas_ocorrencias = contagem_categorias[contagem_categorias < limite_minimo].index\n",
    "\n",
    "# Filtrando os dados originais para remover essas categorias\n",
    "df = df[~df['Bairro'].isin(categorias_poucas_ocorrencias)]"
   ]
  },
  {
   "cell_type": "code",
   "execution_count": 73,
   "id": "61abbbd9",
   "metadata": {
    "ExecuteTime": {
     "end_time": "2024-03-21T15:00:37.861393Z",
     "start_time": "2024-03-21T15:00:37.845997Z"
    }
   },
   "outputs": [
    {
     "data": {
      "text/plain": [
       "Rua\n",
       "Jardim Guedala                         190\n",
       "Alto de Pinheiros                      169\n",
       "Jardim Paulista                        138\n",
       "Jardim Europa                          128\n",
       "Jardim Leonor                          118\n",
       "                                      ... \n",
       "Rua Francisco Cioffi                     1\n",
       "Rua das Tuias                            1\n",
       "Rua Aldo Samarão Guimarães Filho         1\n",
       "Rua Doutor Nelson Cayres de Britto       1\n",
       "Avenida Itacira                          1\n",
       "Name: count, Length: 2826, dtype: int64"
      ]
     },
     "execution_count": 73,
     "metadata": {},
     "output_type": "execute_result"
    }
   ],
   "source": [
    "df.Rua.value_counts()"
   ]
  },
  {
   "cell_type": "code",
   "execution_count": 74,
   "id": "5ce482b0",
   "metadata": {
    "ExecuteTime": {
     "end_time": "2024-03-21T15:00:37.930163Z",
     "start_time": "2024-03-21T15:00:37.861393Z"
    },
    "scrolled": true
   },
   "outputs": [
    {
     "data": {
      "text/html": [
       "<div>\n",
       "<style scoped>\n",
       "    .dataframe tbody tr th:only-of-type {\n",
       "        vertical-align: middle;\n",
       "    }\n",
       "\n",
       "    .dataframe tbody tr th {\n",
       "        vertical-align: top;\n",
       "    }\n",
       "\n",
       "    .dataframe thead th {\n",
       "        text-align: right;\n",
       "    }\n",
       "</style>\n",
       "<table border=\"1\" class=\"dataframe\">\n",
       "  <thead>\n",
       "    <tr style=\"text-align: right;\">\n",
       "      <th></th>\n",
       "      <th>Rua</th>\n",
       "      <th>Número</th>\n",
       "      <th>Bairro</th>\n",
       "      <th>Cidade</th>\n",
       "      <th>Área</th>\n",
       "      <th>Quartos</th>\n",
       "      <th>Banheiros</th>\n",
       "      <th>Vagas</th>\n",
       "      <th>Preço</th>\n",
       "      <th>Aluguel</th>\n",
       "    </tr>\n",
       "  </thead>\n",
       "  <tbody>\n",
       "    <tr>\n",
       "      <th>0</th>\n",
       "      <td>Avenida Itacira</td>\n",
       "      <td>255</td>\n",
       "      <td>Planalto Paulista</td>\n",
       "      <td>São Paulo</td>\n",
       "      <td>1000.0</td>\n",
       "      <td>4</td>\n",
       "      <td>8</td>\n",
       "      <td>6</td>\n",
       "      <td>7000000.0</td>\n",
       "      <td>False</td>\n",
       "    </tr>\n",
       "    <tr>\n",
       "      <th>1</th>\n",
       "      <td>Rua Aurelia Perez Alvarez</td>\n",
       "      <td>42</td>\n",
       "      <td>Jardim dos Estados</td>\n",
       "      <td>São Paulo</td>\n",
       "      <td>496.5</td>\n",
       "      <td>4</td>\n",
       "      <td>4</td>\n",
       "      <td>4</td>\n",
       "      <td>3700000.0</td>\n",
       "      <td>False</td>\n",
       "    </tr>\n",
       "    <tr>\n",
       "      <th>3</th>\n",
       "      <td>Jardim Morumbi</td>\n",
       "      <td>0</td>\n",
       "      <td>Jardim Morumbi</td>\n",
       "      <td>São Paulo</td>\n",
       "      <td>310.0</td>\n",
       "      <td>3</td>\n",
       "      <td>2</td>\n",
       "      <td>4</td>\n",
       "      <td>685000.0</td>\n",
       "      <td>False</td>\n",
       "    </tr>\n",
       "    <tr>\n",
       "      <th>4</th>\n",
       "      <td>Rua Tobias Barreto</td>\n",
       "      <td>195</td>\n",
       "      <td>Mooca</td>\n",
       "      <td>São Paulo</td>\n",
       "      <td>100.0</td>\n",
       "      <td>3</td>\n",
       "      <td>2</td>\n",
       "      <td>2</td>\n",
       "      <td>540000.0</td>\n",
       "      <td>False</td>\n",
       "    </tr>\n",
       "    <tr>\n",
       "      <th>5</th>\n",
       "      <td>Rua Graham Bell</td>\n",
       "      <td>0</td>\n",
       "      <td>Santo Amaro</td>\n",
       "      <td>São Paulo</td>\n",
       "      <td>440.0</td>\n",
       "      <td>4</td>\n",
       "      <td>4</td>\n",
       "      <td>6</td>\n",
       "      <td>1980000.0</td>\n",
       "      <td>False</td>\n",
       "    </tr>\n",
       "  </tbody>\n",
       "</table>\n",
       "</div>"
      ],
      "text/plain": [
       "                         Rua  Número              Bairro     Cidade    Área  \\\n",
       "0            Avenida Itacira     255   Planalto Paulista  São Paulo  1000.0   \n",
       "1  Rua Aurelia Perez Alvarez      42  Jardim dos Estados  São Paulo   496.5   \n",
       "3             Jardim Morumbi       0      Jardim Morumbi  São Paulo   310.0   \n",
       "4         Rua Tobias Barreto     195               Mooca  São Paulo   100.0   \n",
       "5           Rua Graham Bell        0         Santo Amaro  São Paulo   440.0   \n",
       "\n",
       "   Quartos  Banheiros  Vagas      Preço  Aluguel  \n",
       "0        4          8      6  7000000.0    False  \n",
       "1        4          4      4  3700000.0    False  \n",
       "3        3          2      4   685000.0    False  \n",
       "4        3          2      2   540000.0    False  \n",
       "5        4          4      6  1980000.0    False  "
      ]
     },
     "execution_count": 74,
     "metadata": {},
     "output_type": "execute_result"
    }
   ],
   "source": [
    "df.head(5)"
   ]
  },
  {
   "cell_type": "markdown",
   "id": "3101447b",
   "metadata": {},
   "source": [
    "#### 3.3.2 Área"
   ]
  },
  {
   "cell_type": "code",
   "execution_count": 75,
   "id": "285f42c3",
   "metadata": {
    "ExecuteTime": {
     "end_time": "2024-03-21T15:00:41.222371Z",
     "start_time": "2024-03-21T15:00:37.930163Z"
    }
   },
   "outputs": [
    {
     "data": {
      "image/png": "[encoded data removed]",
      "text/plain": [
       "<Figure size 1700x600 with 1 Axes>"
      ]
     },
     "metadata": {},
     "output_type": "display_data"
    }
   ],
   "source": [
    "# Plotando o gráfico boxplot\n",
    "plt.figure(figsize=(17, 6))\n",
    "sns.boxplot(data=df.Área)\n",
    "plt.title('Gráfico de Caixa das Variáveis Normalizadas')\n",
    "plt.show()"
   ]
  },
  {
   "cell_type": "code",
   "execution_count": 76,
   "id": "87caa873",
   "metadata": {
    "ExecuteTime": {
     "end_time": "2024-03-21T15:00:41.235288Z",
     "start_time": "2024-03-21T15:00:41.222371Z"
    }
   },
   "outputs": [
    {
     "name": "stdout",
     "output_type": "stream",
     "text": [
      "Q1: 180.0 , Q3: 480.0\n",
      "Limite Inferior: -270.0 , Limite Superior: 930.0\n"
     ]
    }
   ],
   "source": [
    "# Calculando Q1 e Q3\n",
    "Q1 = df['Área'].quantile(0.25)\n",
    "Q3 = df['Área'].quantile(0.75)\n",
    "print('Q1:', Q1, ', Q3:', Q3)\n",
    "\n",
    "# Calculando o IQR\n",
    "IQR = Q3 - Q1\n",
    "\n",
    "# Calculando os limites do outlier\n",
    "Limite_Inferior_area = Q1 - 1.5 * IQR\n",
    "Limite_Superior_area = Q3 + 1.5 * IQR\n",
    "\n",
    "print('Limite Inferior:', Limite_Inferior_area, ', Limite Superior:', Limite_Superior_area )"
   ]
  },
  {
   "cell_type": "code",
   "execution_count": 77,
   "id": "8a1ff134",
   "metadata": {
    "ExecuteTime": {
     "end_time": "2024-03-21T15:00:41.261410Z",
     "start_time": "2024-03-21T15:00:41.235288Z"
    }
   },
   "outputs": [
    {
     "data": {
      "text/html": [
       "<div>\n",
       "<style scoped>\n",
       "    .dataframe tbody tr th:only-of-type {\n",
       "        vertical-align: middle;\n",
       "    }\n",
       "\n",
       "    .dataframe tbody tr th {\n",
       "        vertical-align: top;\n",
       "    }\n",
       "\n",
       "    .dataframe thead th {\n",
       "        text-align: right;\n",
       "    }\n",
       "</style>\n",
       "<table border=\"1\" class=\"dataframe\">\n",
       "  <thead>\n",
       "    <tr style=\"text-align: right;\">\n",
       "      <th></th>\n",
       "      <th>Rua</th>\n",
       "      <th>Número</th>\n",
       "      <th>Bairro</th>\n",
       "      <th>Cidade</th>\n",
       "      <th>Área</th>\n",
       "      <th>Quartos</th>\n",
       "      <th>Banheiros</th>\n",
       "      <th>Vagas</th>\n",
       "      <th>Preço</th>\n",
       "      <th>Aluguel</th>\n",
       "    </tr>\n",
       "  </thead>\n",
       "  <tbody>\n",
       "    <tr>\n",
       "      <th>0</th>\n",
       "      <td>Avenida Itacira</td>\n",
       "      <td>255</td>\n",
       "      <td>Planalto Paulista</td>\n",
       "      <td>São Paulo</td>\n",
       "      <td>1000.0</td>\n",
       "      <td>4</td>\n",
       "      <td>8</td>\n",
       "      <td>6</td>\n",
       "      <td>7000000.0</td>\n",
       "      <td>False</td>\n",
       "    </tr>\n",
       "    <tr>\n",
       "      <th>32</th>\n",
       "      <td>Rua dos Plátanos</td>\n",
       "      <td>0</td>\n",
       "      <td>Cidade Jardim</td>\n",
       "      <td>São Paulo</td>\n",
       "      <td>1195.0</td>\n",
       "      <td>4</td>\n",
       "      <td>4</td>\n",
       "      <td>6</td>\n",
       "      <td>8700000.0</td>\n",
       "      <td>False</td>\n",
       "    </tr>\n",
       "    <tr>\n",
       "      <th>115</th>\n",
       "      <td>Jardim Paulista</td>\n",
       "      <td>0</td>\n",
       "      <td>Jardim Paulista</td>\n",
       "      <td>São Paulo</td>\n",
       "      <td>1060.0</td>\n",
       "      <td>5</td>\n",
       "      <td>5</td>\n",
       "      <td>4</td>\n",
       "      <td>30000000.0</td>\n",
       "      <td>False</td>\n",
       "    </tr>\n",
       "    <tr>\n",
       "      <th>117</th>\n",
       "      <td>Rua Prudentópolis</td>\n",
       "      <td>97</td>\n",
       "      <td>Boaçava</td>\n",
       "      <td>São Paulo</td>\n",
       "      <td>1192.0</td>\n",
       "      <td>4</td>\n",
       "      <td>3</td>\n",
       "      <td>6</td>\n",
       "      <td>6200000.0</td>\n",
       "      <td>False</td>\n",
       "    </tr>\n",
       "    <tr>\n",
       "      <th>173</th>\n",
       "      <td>Rua Doutor Antônio Gontijo de Carvalho</td>\n",
       "      <td>0</td>\n",
       "      <td>Jardim Cordeiro</td>\n",
       "      <td>São Paulo</td>\n",
       "      <td>1200.0</td>\n",
       "      <td>6</td>\n",
       "      <td>7</td>\n",
       "      <td>8</td>\n",
       "      <td>6360000.0</td>\n",
       "      <td>False</td>\n",
       "    </tr>\n",
       "    <tr>\n",
       "      <th>...</th>\n",
       "      <td>...</td>\n",
       "      <td>...</td>\n",
       "      <td>...</td>\n",
       "      <td>...</td>\n",
       "      <td>...</td>\n",
       "      <td>...</td>\n",
       "      <td>...</td>\n",
       "      <td>...</td>\n",
       "      <td>...</td>\n",
       "      <td>...</td>\n",
       "    </tr>\n",
       "    <tr>\n",
       "      <th>9948</th>\n",
       "      <td>Jardim Leonor</td>\n",
       "      <td>0</td>\n",
       "      <td>Jardim Leonor</td>\n",
       "      <td>São Paulo</td>\n",
       "      <td>1345.0</td>\n",
       "      <td>5</td>\n",
       "      <td>9</td>\n",
       "      <td>7</td>\n",
       "      <td>9500000.0</td>\n",
       "      <td>False</td>\n",
       "    </tr>\n",
       "    <tr>\n",
       "      <th>9974</th>\n",
       "      <td>Rua Albertina de Oliveira Godinho</td>\n",
       "      <td>0</td>\n",
       "      <td>Jardim Guedala</td>\n",
       "      <td>São Paulo</td>\n",
       "      <td>1300.0</td>\n",
       "      <td>5</td>\n",
       "      <td>7</td>\n",
       "      <td>6</td>\n",
       "      <td>5900000.0</td>\n",
       "      <td>False</td>\n",
       "    </tr>\n",
       "    <tr>\n",
       "      <th>9984</th>\n",
       "      <td>Jardim Leonor</td>\n",
       "      <td>0</td>\n",
       "      <td>Jardim Leonor</td>\n",
       "      <td>São Paulo</td>\n",
       "      <td>1345.0</td>\n",
       "      <td>5</td>\n",
       "      <td>9</td>\n",
       "      <td>7</td>\n",
       "      <td>9500000.0</td>\n",
       "      <td>False</td>\n",
       "    </tr>\n",
       "    <tr>\n",
       "      <th>10010</th>\n",
       "      <td>Rua Albertina de Oliveira Godinho</td>\n",
       "      <td>0</td>\n",
       "      <td>Jardim Guedala</td>\n",
       "      <td>São Paulo</td>\n",
       "      <td>1300.0</td>\n",
       "      <td>5</td>\n",
       "      <td>7</td>\n",
       "      <td>6</td>\n",
       "      <td>5900000.0</td>\n",
       "      <td>False</td>\n",
       "    </tr>\n",
       "    <tr>\n",
       "      <th>10020</th>\n",
       "      <td>Jardim Leonor</td>\n",
       "      <td>0</td>\n",
       "      <td>Jardim Leonor</td>\n",
       "      <td>São Paulo</td>\n",
       "      <td>1345.0</td>\n",
       "      <td>5</td>\n",
       "      <td>9</td>\n",
       "      <td>7</td>\n",
       "      <td>9500000.0</td>\n",
       "      <td>False</td>\n",
       "    </tr>\n",
       "  </tbody>\n",
       "</table>\n",
       "<p>362 rows × 10 columns</p>\n",
       "</div>"
      ],
      "text/plain": [
       "                                           Rua  Número             Bairro  \\\n",
       "0                              Avenida Itacira     255  Planalto Paulista   \n",
       "32                           Rua dos Plátanos        0      Cidade Jardim   \n",
       "115                            Jardim Paulista       0    Jardim Paulista   \n",
       "117                          Rua Prudentópolis      97            Boaçava   \n",
       "173    Rua Doutor Antônio Gontijo de Carvalho        0    Jardim Cordeiro   \n",
       "...                                        ...     ...                ...   \n",
       "9948                             Jardim Leonor       0      Jardim Leonor   \n",
       "9974        Rua Albertina de Oliveira Godinho        0     Jardim Guedala   \n",
       "9984                             Jardim Leonor       0      Jardim Leonor   \n",
       "10010       Rua Albertina de Oliveira Godinho        0     Jardim Guedala   \n",
       "10020                            Jardim Leonor       0      Jardim Leonor   \n",
       "\n",
       "          Cidade    Área  Quartos  Banheiros  Vagas       Preço  Aluguel  \n",
       "0      São Paulo  1000.0        4          8      6   7000000.0    False  \n",
       "32     São Paulo  1195.0        4          4      6   8700000.0    False  \n",
       "115    São Paulo  1060.0        5          5      4  30000000.0    False  \n",
       "117    São Paulo  1192.0        4          3      6   6200000.0    False  \n",
       "173    São Paulo  1200.0        6          7      8   6360000.0    False  \n",
       "...          ...     ...      ...        ...    ...         ...      ...  \n",
       "9948   São Paulo  1345.0        5          9      7   9500000.0    False  \n",
       "9974   São Paulo  1300.0        5          7      6   5900000.0    False  \n",
       "9984   São Paulo  1345.0        5          9      7   9500000.0    False  \n",
       "10010  São Paulo  1300.0        5          7      6   5900000.0    False  \n",
       "10020  São Paulo  1345.0        5          9      7   9500000.0    False  \n",
       "\n",
       "[362 rows x 10 columns]"
      ]
     },
     "execution_count": 77,
     "metadata": {},
     "output_type": "execute_result"
    }
   ],
   "source": [
    "valores_acima_area = df.loc[df['Área'] > Limite_Superior_area]\n",
    "valores_acima_area"
   ]
  },
  {
   "cell_type": "code",
   "execution_count": 78,
   "id": "178a1e17",
   "metadata": {
    "ExecuteTime": {
     "end_time": "2024-03-21T15:00:41.273352Z",
     "start_time": "2024-03-21T15:00:41.261410Z"
    }
   },
   "outputs": [],
   "source": [
    "# Calculando os quartis\n",
    "q1 = df['Área'].quantile(0.25)\n",
    "q3 = df['Área'].quantile(0.75)\n",
    "\n",
    "# Substituindo os valores que estão fora dos limites pelos quartis\n",
    "df.loc[df['Área'] < Limite_Inferior_area, 'Área'] = q1\n",
    "df.loc[df['Área'] > Limite_Superior_area, 'Área'] = q3"
   ]
  },
  {
   "cell_type": "code",
   "execution_count": 79,
   "id": "78c76449",
   "metadata": {
    "ExecuteTime": {
     "end_time": "2024-03-21T15:00:41.480068Z",
     "start_time": "2024-03-21T15:00:41.273352Z"
    },
    "scrolled": true
   },
   "outputs": [
    {
     "data": {
      "image/png": "[encoded data removed]",
      "text/plain": [
       "<Figure size 1700x600 with 1 Axes>"
      ]
     },
     "metadata": {},
     "output_type": "display_data"
    }
   ],
   "source": [
    "# Plotando gráficos de caixa das variáveis normalizadas\n",
    "plt.figure(figsize=(17, 6))\n",
    "sns.boxplot(data=df.Área)\n",
    "plt.title('Gráfico de Caixa das Variáveis Normalizadas')\n",
    "plt.show()"
   ]
  },
  {
   "cell_type": "markdown",
   "id": "704d8f33",
   "metadata": {},
   "source": [
    "#### 3.3.3 Quartos"
   ]
  },
  {
   "cell_type": "code",
   "execution_count": 80,
   "id": "dbbe43fa",
   "metadata": {
    "ExecuteTime": {
     "end_time": "2024-03-21T15:00:41.717150Z",
     "start_time": "2024-03-21T15:00:41.480068Z"
    },
    "scrolled": false
   },
   "outputs": [
    {
     "data": {
      "image/png": "[encoded data removed]",
      "text/plain": [
       "<Figure size 1700x600 with 1 Axes>"
      ]
     },
     "metadata": {},
     "output_type": "display_data"
    }
   ],
   "source": [
    "# Plotando gráficos de caixa das variáveis normalizadas\n",
    "plt.figure(figsize=(17, 6))\n",
    "sns.boxplot(data=df.Quartos)\n",
    "plt.title('Gráfico de Caixa das Variáveis Normalizadas')\n",
    "plt.show()"
   ]
  },
  {
   "cell_type": "code",
   "execution_count": 81,
   "id": "52615618",
   "metadata": {
    "ExecuteTime": {
     "end_time": "2024-03-21T15:00:41.752337Z",
     "start_time": "2024-03-21T15:00:41.717150Z"
    },
    "scrolled": true
   },
   "outputs": [
    {
     "data": {
      "text/html": [
       "<div>\n",
       "<style scoped>\n",
       "    .dataframe tbody tr th:only-of-type {\n",
       "        vertical-align: middle;\n",
       "    }\n",
       "\n",
       "    .dataframe tbody tr th {\n",
       "        vertical-align: top;\n",
       "    }\n",
       "\n",
       "    .dataframe thead th {\n",
       "        text-align: right;\n",
       "    }\n",
       "</style>\n",
       "<table border=\"1\" class=\"dataframe\">\n",
       "  <thead>\n",
       "    <tr style=\"text-align: right;\">\n",
       "      <th></th>\n",
       "      <th>Número</th>\n",
       "      <th>Área</th>\n",
       "      <th>Quartos</th>\n",
       "      <th>Banheiros</th>\n",
       "      <th>Vagas</th>\n",
       "      <th>Preço</th>\n",
       "    </tr>\n",
       "  </thead>\n",
       "  <tbody>\n",
       "    <tr>\n",
       "      <th>count</th>\n",
       "      <td>9151.000000</td>\n",
       "      <td>9151.000000</td>\n",
       "      <td>9151.000000</td>\n",
       "      <td>9151.000000</td>\n",
       "      <td>9151.000000</td>\n",
       "      <td>9.151000e+03</td>\n",
       "    </tr>\n",
       "    <tr>\n",
       "      <th>mean</th>\n",
       "      <td>41.370342</td>\n",
       "      <td>344.001475</td>\n",
       "      <td>3.524751</td>\n",
       "      <td>3.982734</td>\n",
       "      <td>4.186318</td>\n",
       "      <td>2.965833e+06</td>\n",
       "    </tr>\n",
       "    <tr>\n",
       "      <th>std</th>\n",
       "      <td>213.613216</td>\n",
       "      <td>195.580483</td>\n",
       "      <td>1.052094</td>\n",
       "      <td>1.996699</td>\n",
       "      <td>2.850507</td>\n",
       "      <td>3.968173e+06</td>\n",
       "    </tr>\n",
       "    <tr>\n",
       "      <th>min</th>\n",
       "      <td>0.000000</td>\n",
       "      <td>20.000000</td>\n",
       "      <td>1.000000</td>\n",
       "      <td>1.000000</td>\n",
       "      <td>1.000000</td>\n",
       "      <td>1.650000e+03</td>\n",
       "    </tr>\n",
       "    <tr>\n",
       "      <th>25%</th>\n",
       "      <td>0.000000</td>\n",
       "      <td>180.000000</td>\n",
       "      <td>3.000000</td>\n",
       "      <td>3.000000</td>\n",
       "      <td>2.000000</td>\n",
       "      <td>8.400000e+05</td>\n",
       "    </tr>\n",
       "    <tr>\n",
       "      <th>50%</th>\n",
       "      <td>0.000000</td>\n",
       "      <td>300.000000</td>\n",
       "      <td>3.000000</td>\n",
       "      <td>4.000000</td>\n",
       "      <td>4.000000</td>\n",
       "      <td>1.800000e+06</td>\n",
       "    </tr>\n",
       "    <tr>\n",
       "      <th>75%</th>\n",
       "      <td>0.000000</td>\n",
       "      <td>480.000000</td>\n",
       "      <td>4.000000</td>\n",
       "      <td>5.000000</td>\n",
       "      <td>5.000000</td>\n",
       "      <td>3.500000e+06</td>\n",
       "    </tr>\n",
       "    <tr>\n",
       "      <th>max</th>\n",
       "      <td>5871.000000</td>\n",
       "      <td>930.000000</td>\n",
       "      <td>16.000000</td>\n",
       "      <td>40.000000</td>\n",
       "      <td>50.000000</td>\n",
       "      <td>6.500000e+07</td>\n",
       "    </tr>\n",
       "  </tbody>\n",
       "</table>\n",
       "</div>"
      ],
      "text/plain": [
       "            Número         Área      Quartos    Banheiros        Vagas  \\\n",
       "count  9151.000000  9151.000000  9151.000000  9151.000000  9151.000000   \n",
       "mean     41.370342   344.001475     3.524751     3.982734     4.186318   \n",
       "std     213.613216   195.580483     1.052094     1.996699     2.850507   \n",
       "min       0.000000    20.000000     1.000000     1.000000     1.000000   \n",
       "25%       0.000000   180.000000     3.000000     3.000000     2.000000   \n",
       "50%       0.000000   300.000000     3.000000     4.000000     4.000000   \n",
       "75%       0.000000   480.000000     4.000000     5.000000     5.000000   \n",
       "max    5871.000000   930.000000    16.000000    40.000000    50.000000   \n",
       "\n",
       "              Preço  \n",
       "count  9.151000e+03  \n",
       "mean   2.965833e+06  \n",
       "std    3.968173e+06  \n",
       "min    1.650000e+03  \n",
       "25%    8.400000e+05  \n",
       "50%    1.800000e+06  \n",
       "75%    3.500000e+06  \n",
       "max    6.500000e+07  "
      ]
     },
     "execution_count": 81,
     "metadata": {},
     "output_type": "execute_result"
    }
   ],
   "source": [
    "df.describe()"
   ]
  },
  {
   "cell_type": "code",
   "execution_count": 82,
   "id": "c359bf30",
   "metadata": {
    "ExecuteTime": {
     "end_time": "2024-03-21T15:00:41.788440Z",
     "start_time": "2024-03-21T15:00:41.767975Z"
    }
   },
   "outputs": [
    {
     "name": "stdout",
     "output_type": "stream",
     "text": [
      "Q1: 3.0 , Q3: 4.0\n",
      "Limite Inferior: 1.5 , Limite Superior: 5.5\n"
     ]
    }
   ],
   "source": [
    "# Calculando Q1 e Q3\n",
    "Q1 = df['Quartos'].quantile(0.25)\n",
    "Q3 = df['Quartos'].quantile(0.75)\n",
    "print('Q1:', Q1, ', Q3:', Q3)\n",
    "\n",
    "# Calculando o IQR\n",
    "IQR = Q3 - Q1\n",
    "\n",
    "# Calculando os limites do outlier\n",
    "Limite_Inferior = Q1 - 1.5 * IQR\n",
    "Limite_Superior = Q3 + 1.5 * IQR\n",
    "\n",
    "print('Limite Inferior:', Limite_Inferior, ', Limite Superior:', Limite_Superior )"
   ]
  },
  {
   "cell_type": "code",
   "execution_count": 83,
   "id": "bc074d9b",
   "metadata": {
    "ExecuteTime": {
     "end_time": "2024-03-21T15:00:41.814210Z",
     "start_time": "2024-03-21T15:00:41.788440Z"
    },
    "scrolled": true
   },
   "outputs": [
    {
     "data": {
      "text/html": [
       "<div>\n",
       "<style scoped>\n",
       "    .dataframe tbody tr th:only-of-type {\n",
       "        vertical-align: middle;\n",
       "    }\n",
       "\n",
       "    .dataframe tbody tr th {\n",
       "        vertical-align: top;\n",
       "    }\n",
       "\n",
       "    .dataframe thead th {\n",
       "        text-align: right;\n",
       "    }\n",
       "</style>\n",
       "<table border=\"1\" class=\"dataframe\">\n",
       "  <thead>\n",
       "    <tr style=\"text-align: right;\">\n",
       "      <th></th>\n",
       "      <th>Rua</th>\n",
       "      <th>Número</th>\n",
       "      <th>Bairro</th>\n",
       "      <th>Cidade</th>\n",
       "      <th>Área</th>\n",
       "      <th>Quartos</th>\n",
       "      <th>Banheiros</th>\n",
       "      <th>Vagas</th>\n",
       "      <th>Preço</th>\n",
       "      <th>Aluguel</th>\n",
       "    </tr>\n",
       "  </thead>\n",
       "  <tbody>\n",
       "    <tr>\n",
       "      <th>19</th>\n",
       "      <td>Rua Graham Bell</td>\n",
       "      <td>332</td>\n",
       "      <td>Santo Amaro</td>\n",
       "      <td>São Paulo</td>\n",
       "      <td>772.0</td>\n",
       "      <td>7</td>\n",
       "      <td>7</td>\n",
       "      <td>6</td>\n",
       "      <td>2700000.0</td>\n",
       "      <td>False</td>\n",
       "    </tr>\n",
       "    <tr>\n",
       "      <th>120</th>\n",
       "      <td>Rua Araripe</td>\n",
       "      <td>145</td>\n",
       "      <td>Vila Califórnia</td>\n",
       "      <td>São Paulo</td>\n",
       "      <td>300.0</td>\n",
       "      <td>6</td>\n",
       "      <td>3</td>\n",
       "      <td>2</td>\n",
       "      <td>430000.0</td>\n",
       "      <td>False</td>\n",
       "    </tr>\n",
       "    <tr>\n",
       "      <th>173</th>\n",
       "      <td>Rua Doutor Antônio Gontijo de Carvalho</td>\n",
       "      <td>0</td>\n",
       "      <td>Jardim Cordeiro</td>\n",
       "      <td>São Paulo</td>\n",
       "      <td>480.0</td>\n",
       "      <td>6</td>\n",
       "      <td>7</td>\n",
       "      <td>8</td>\n",
       "      <td>6360000.0</td>\n",
       "      <td>False</td>\n",
       "    </tr>\n",
       "    <tr>\n",
       "      <th>192</th>\n",
       "      <td>Rua Quirino Pucca</td>\n",
       "      <td>0</td>\n",
       "      <td>Vila Romana</td>\n",
       "      <td>São Paulo</td>\n",
       "      <td>65.0</td>\n",
       "      <td>1</td>\n",
       "      <td>1</td>\n",
       "      <td>2</td>\n",
       "      <td>480000.0</td>\n",
       "      <td>False</td>\n",
       "    </tr>\n",
       "    <tr>\n",
       "      <th>203</th>\n",
       "      <td>Rua Constantino de Sousa</td>\n",
       "      <td>0</td>\n",
       "      <td>Campo Belo</td>\n",
       "      <td>São Paulo</td>\n",
       "      <td>266.0</td>\n",
       "      <td>6</td>\n",
       "      <td>6</td>\n",
       "      <td>6</td>\n",
       "      <td>1750000.0</td>\n",
       "      <td>False</td>\n",
       "    </tr>\n",
       "    <tr>\n",
       "      <th>...</th>\n",
       "      <td>...</td>\n",
       "      <td>...</td>\n",
       "      <td>...</td>\n",
       "      <td>...</td>\n",
       "      <td>...</td>\n",
       "      <td>...</td>\n",
       "      <td>...</td>\n",
       "      <td>...</td>\n",
       "      <td>...</td>\n",
       "      <td>...</td>\n",
       "    </tr>\n",
       "    <tr>\n",
       "      <th>9957</th>\n",
       "      <td>Rua Guararema</td>\n",
       "      <td>0</td>\n",
       "      <td>Bosque da Saúde</td>\n",
       "      <td>São Paulo</td>\n",
       "      <td>600.0</td>\n",
       "      <td>8</td>\n",
       "      <td>7</td>\n",
       "      <td>5</td>\n",
       "      <td>2300000.0</td>\n",
       "      <td>False</td>\n",
       "    </tr>\n",
       "    <tr>\n",
       "      <th>9987</th>\n",
       "      <td>Rua Eduardo Lobo</td>\n",
       "      <td>0</td>\n",
       "      <td>Parque Imperial</td>\n",
       "      <td>São Paulo</td>\n",
       "      <td>120.0</td>\n",
       "      <td>6</td>\n",
       "      <td>3</td>\n",
       "      <td>3</td>\n",
       "      <td>951000.0</td>\n",
       "      <td>False</td>\n",
       "    </tr>\n",
       "    <tr>\n",
       "      <th>9993</th>\n",
       "      <td>Rua Guararema</td>\n",
       "      <td>0</td>\n",
       "      <td>Bosque da Saúde</td>\n",
       "      <td>São Paulo</td>\n",
       "      <td>600.0</td>\n",
       "      <td>8</td>\n",
       "      <td>7</td>\n",
       "      <td>5</td>\n",
       "      <td>2300000.0</td>\n",
       "      <td>False</td>\n",
       "    </tr>\n",
       "    <tr>\n",
       "      <th>10023</th>\n",
       "      <td>Rua Eduardo Lobo</td>\n",
       "      <td>0</td>\n",
       "      <td>Parque Imperial</td>\n",
       "      <td>São Paulo</td>\n",
       "      <td>120.0</td>\n",
       "      <td>6</td>\n",
       "      <td>3</td>\n",
       "      <td>3</td>\n",
       "      <td>951000.0</td>\n",
       "      <td>False</td>\n",
       "    </tr>\n",
       "    <tr>\n",
       "      <th>10029</th>\n",
       "      <td>Rua Guararema</td>\n",
       "      <td>0</td>\n",
       "      <td>Bosque da Saúde</td>\n",
       "      <td>São Paulo</td>\n",
       "      <td>600.0</td>\n",
       "      <td>8</td>\n",
       "      <td>7</td>\n",
       "      <td>5</td>\n",
       "      <td>2300000.0</td>\n",
       "      <td>False</td>\n",
       "    </tr>\n",
       "  </tbody>\n",
       "</table>\n",
       "<p>389 rows × 10 columns</p>\n",
       "</div>"
      ],
      "text/plain": [
       "                                           Rua  Número           Bairro  \\\n",
       "19                             Rua Graham Bell     332      Santo Amaro   \n",
       "120                                Rua Araripe     145  Vila Califórnia   \n",
       "173    Rua Doutor Antônio Gontijo de Carvalho        0  Jardim Cordeiro   \n",
       "192                         Rua Quirino Pucca        0      Vila Romana   \n",
       "203                  Rua Constantino de Sousa        0       Campo Belo   \n",
       "...                                        ...     ...              ...   \n",
       "9957                            Rua Guararema        0  Bosque da Saúde   \n",
       "9987                         Rua Eduardo Lobo        0  Parque Imperial   \n",
       "9993                            Rua Guararema        0  Bosque da Saúde   \n",
       "10023                        Rua Eduardo Lobo        0  Parque Imperial   \n",
       "10029                           Rua Guararema        0  Bosque da Saúde   \n",
       "\n",
       "          Cidade   Área  Quartos  Banheiros  Vagas      Preço  Aluguel  \n",
       "19     São Paulo  772.0        7          7      6  2700000.0    False  \n",
       "120    São Paulo  300.0        6          3      2   430000.0    False  \n",
       "173    São Paulo  480.0        6          7      8  6360000.0    False  \n",
       "192    São Paulo   65.0        1          1      2   480000.0    False  \n",
       "203    São Paulo  266.0        6          6      6  1750000.0    False  \n",
       "...          ...    ...      ...        ...    ...        ...      ...  \n",
       "9957   São Paulo  600.0        8          7      5  2300000.0    False  \n",
       "9987   São Paulo  120.0        6          3      3   951000.0    False  \n",
       "9993   São Paulo  600.0        8          7      5  2300000.0    False  \n",
       "10023  São Paulo  120.0        6          3      3   951000.0    False  \n",
       "10029  São Paulo  600.0        8          7      5  2300000.0    False  \n",
       "\n",
       "[389 rows x 10 columns]"
      ]
     },
     "execution_count": 83,
     "metadata": {},
     "output_type": "execute_result"
    }
   ],
   "source": [
    "df_outliers_quarto = df.loc[(df['Quartos'] < Limite_Inferior) | (df['Quartos'] > Limite_Superior)]\n",
    "df_outliers_quarto"
   ]
  },
  {
   "cell_type": "code",
   "execution_count": 84,
   "id": "16de968a",
   "metadata": {
    "ExecuteTime": {
     "end_time": "2024-03-21T15:00:41.823956Z",
     "start_time": "2024-03-21T15:00:41.814210Z"
    }
   },
   "outputs": [],
   "source": [
    "# Calculando a média dos quartos\n",
    "media_quartos = round(df['Quartos'].mean())\n",
    "\n",
    "# Substituindo os valores dos quartos que estão fora dos limites pela média dos quartos\n",
    "df.loc[df['Quartos'] < Limite_Inferior, 'Quartos'] = media_quartos\n",
    "df.loc[df['Quartos'] > Limite_Superior, 'Quartos'] = media_quartos"
   ]
  },
  {
   "cell_type": "code",
   "execution_count": 85,
   "id": "af8b6435",
   "metadata": {
    "ExecuteTime": {
     "end_time": "2024-03-21T15:00:42.044383Z",
     "start_time": "2024-03-21T15:00:41.823956Z"
    }
   },
   "outputs": [
    {
     "data": {
      "image/png": "[encoded data removed]",
      "text/plain": [
       "<Figure size 1700x600 with 1 Axes>"
      ]
     },
     "metadata": {},
     "output_type": "display_data"
    }
   ],
   "source": [
    "# Plotando gráficos de caixa das variáveis normalizadas\n",
    "plt.figure(figsize=(17, 6))\n",
    "sns.boxplot(data=df.Quartos)\n",
    "plt.title('Gráfico de Caixa das Variáveis Normalizadas')\n",
    "plt.show()"
   ]
  },
  {
   "cell_type": "code",
   "execution_count": 86,
   "id": "27aba7dc",
   "metadata": {
    "ExecuteTime": {
     "end_time": "2024-03-21T15:00:42.056796Z",
     "start_time": "2024-03-21T15:00:42.044383Z"
    }
   },
   "outputs": [
    {
     "data": {
      "text/plain": [
       "Quartos\n",
       "3    3779\n",
       "4    3570\n",
       "2     968\n",
       "5     834\n",
       "Name: count, dtype: int64"
      ]
     },
     "execution_count": 86,
     "metadata": {},
     "output_type": "execute_result"
    }
   ],
   "source": [
    "df.Quartos.value_counts()"
   ]
  },
  {
   "cell_type": "markdown",
   "id": "b469cc84",
   "metadata": {},
   "source": [
    "#### 3.3.4 Banheiros"
   ]
  },
  {
   "cell_type": "code",
   "execution_count": 87,
   "id": "750db5df",
   "metadata": {
    "ExecuteTime": {
     "end_time": "2024-03-21T15:00:42.288549Z",
     "start_time": "2024-03-21T15:00:42.056796Z"
    }
   },
   "outputs": [
    {
     "data": {
      "image/png": "[encoded data removed]",
      "text/plain": [
       "<Figure size 1700x600 with 1 Axes>"
      ]
     },
     "metadata": {},
     "output_type": "display_data"
    }
   ],
   "source": [
    "# Plotando gráficos de caixa das variáveis normalizadas\n",
    "plt.figure(figsize=(17, 6))\n",
    "sns.boxplot(data=df.Banheiros)\n",
    "plt.title('Gráfico de Caixa das Variáveis Normalizadas')\n",
    "plt.show()"
   ]
  },
  {
   "cell_type": "code",
   "execution_count": 88,
   "id": "b3790d27",
   "metadata": {
    "ExecuteTime": {
     "end_time": "2024-03-21T15:00:42.300491Z",
     "start_time": "2024-03-21T15:00:42.288549Z"
    }
   },
   "outputs": [
    {
     "name": "stdout",
     "output_type": "stream",
     "text": [
      "Q1: 3.0 , Q3: 5.0\n",
      "Limite Inferior: 0.0 , Limite Superior: 8.0\n"
     ]
    }
   ],
   "source": [
    "# Calculando Q1 e Q3\n",
    "Q1 = df['Banheiros'].quantile(0.25)\n",
    "Q3 = df['Banheiros'].quantile(0.75)\n",
    "print('Q1:', Q1, ', Q3:', Q3)\n",
    "\n",
    "# Calculando o IQR\n",
    "IQR = Q3 - Q1\n",
    "\n",
    "# Calculando os limites do outlier\n",
    "Limite_Inferior_banheiro = Q1 - 1.5 * IQR\n",
    "Limite_Superior_banheiro = Q3 + 1.5 * IQR\n",
    "\n",
    "print('Limite Inferior:', Limite_Inferior_banheiro, ', Limite Superior:', Limite_Superior_banheiro )"
   ]
  },
  {
   "cell_type": "code",
   "execution_count": 89,
   "id": "4abfc646",
   "metadata": {
    "ExecuteTime": {
     "end_time": "2024-03-21T15:00:42.332429Z",
     "start_time": "2024-03-21T15:00:42.300491Z"
    },
    "scrolled": true
   },
   "outputs": [
    {
     "data": {
      "text/html": [
       "<div>\n",
       "<style scoped>\n",
       "    .dataframe tbody tr th:only-of-type {\n",
       "        vertical-align: middle;\n",
       "    }\n",
       "\n",
       "    .dataframe tbody tr th {\n",
       "        vertical-align: top;\n",
       "    }\n",
       "\n",
       "    .dataframe thead th {\n",
       "        text-align: right;\n",
       "    }\n",
       "</style>\n",
       "<table border=\"1\" class=\"dataframe\">\n",
       "  <thead>\n",
       "    <tr style=\"text-align: right;\">\n",
       "      <th></th>\n",
       "      <th>Rua</th>\n",
       "      <th>Número</th>\n",
       "      <th>Bairro</th>\n",
       "      <th>Cidade</th>\n",
       "      <th>Área</th>\n",
       "      <th>Quartos</th>\n",
       "      <th>Banheiros</th>\n",
       "      <th>Vagas</th>\n",
       "      <th>Preço</th>\n",
       "      <th>Aluguel</th>\n",
       "    </tr>\n",
       "  </thead>\n",
       "  <tbody>\n",
       "    <tr>\n",
       "      <th>41</th>\n",
       "      <td>Rua Gregório Paes de Almeida</td>\n",
       "      <td>0</td>\n",
       "      <td>Vila Madalena</td>\n",
       "      <td>São Paulo</td>\n",
       "      <td>401.0</td>\n",
       "      <td>5</td>\n",
       "      <td>9</td>\n",
       "      <td>4</td>\n",
       "      <td>3890000.0</td>\n",
       "      <td>False</td>\n",
       "    </tr>\n",
       "    <tr>\n",
       "      <th>623</th>\n",
       "      <td>Rua General Pereira da Cunha</td>\n",
       "      <td>0</td>\n",
       "      <td>Retiro Morumbi</td>\n",
       "      <td>São Paulo</td>\n",
       "      <td>760.0</td>\n",
       "      <td>5</td>\n",
       "      <td>10</td>\n",
       "      <td>6</td>\n",
       "      <td>12000000.0</td>\n",
       "      <td>False</td>\n",
       "    </tr>\n",
       "    <tr>\n",
       "      <th>639</th>\n",
       "      <td>Rua General Pereira da Cunha</td>\n",
       "      <td>0</td>\n",
       "      <td>Retiro Morumbi</td>\n",
       "      <td>São Paulo</td>\n",
       "      <td>760.0</td>\n",
       "      <td>5</td>\n",
       "      <td>10</td>\n",
       "      <td>6</td>\n",
       "      <td>12000000.0</td>\n",
       "      <td>False</td>\n",
       "    </tr>\n",
       "    <tr>\n",
       "      <th>685</th>\n",
       "      <td>Jardim Leonor</td>\n",
       "      <td>0</td>\n",
       "      <td>Jardim Leonor</td>\n",
       "      <td>São Paulo</td>\n",
       "      <td>684.0</td>\n",
       "      <td>5</td>\n",
       "      <td>9</td>\n",
       "      <td>8</td>\n",
       "      <td>4200000.0</td>\n",
       "      <td>False</td>\n",
       "    </tr>\n",
       "    <tr>\n",
       "      <th>938</th>\n",
       "      <td>Vila Madalena</td>\n",
       "      <td>0</td>\n",
       "      <td>Vila Madalena</td>\n",
       "      <td>São Paulo</td>\n",
       "      <td>507.0</td>\n",
       "      <td>5</td>\n",
       "      <td>9</td>\n",
       "      <td>4</td>\n",
       "      <td>3600000.0</td>\n",
       "      <td>False</td>\n",
       "    </tr>\n",
       "    <tr>\n",
       "      <th>...</th>\n",
       "      <td>...</td>\n",
       "      <td>...</td>\n",
       "      <td>...</td>\n",
       "      <td>...</td>\n",
       "      <td>...</td>\n",
       "      <td>...</td>\n",
       "      <td>...</td>\n",
       "      <td>...</td>\n",
       "      <td>...</td>\n",
       "      <td>...</td>\n",
       "    </tr>\n",
       "    <tr>\n",
       "      <th>9948</th>\n",
       "      <td>Jardim Leonor</td>\n",
       "      <td>0</td>\n",
       "      <td>Jardim Leonor</td>\n",
       "      <td>São Paulo</td>\n",
       "      <td>480.0</td>\n",
       "      <td>5</td>\n",
       "      <td>9</td>\n",
       "      <td>7</td>\n",
       "      <td>9500000.0</td>\n",
       "      <td>False</td>\n",
       "    </tr>\n",
       "    <tr>\n",
       "      <th>9964</th>\n",
       "      <td>Rua Doutor Mário Ottobrini Costa</td>\n",
       "      <td>0</td>\n",
       "      <td>Cidade Dutra</td>\n",
       "      <td>São Paulo</td>\n",
       "      <td>400.0</td>\n",
       "      <td>5</td>\n",
       "      <td>9</td>\n",
       "      <td>4</td>\n",
       "      <td>1800000.0</td>\n",
       "      <td>False</td>\n",
       "    </tr>\n",
       "    <tr>\n",
       "      <th>9984</th>\n",
       "      <td>Jardim Leonor</td>\n",
       "      <td>0</td>\n",
       "      <td>Jardim Leonor</td>\n",
       "      <td>São Paulo</td>\n",
       "      <td>480.0</td>\n",
       "      <td>5</td>\n",
       "      <td>9</td>\n",
       "      <td>7</td>\n",
       "      <td>9500000.0</td>\n",
       "      <td>False</td>\n",
       "    </tr>\n",
       "    <tr>\n",
       "      <th>10000</th>\n",
       "      <td>Rua Doutor Mário Ottobrini Costa</td>\n",
       "      <td>0</td>\n",
       "      <td>Cidade Dutra</td>\n",
       "      <td>São Paulo</td>\n",
       "      <td>400.0</td>\n",
       "      <td>5</td>\n",
       "      <td>9</td>\n",
       "      <td>4</td>\n",
       "      <td>1800000.0</td>\n",
       "      <td>False</td>\n",
       "    </tr>\n",
       "    <tr>\n",
       "      <th>10020</th>\n",
       "      <td>Jardim Leonor</td>\n",
       "      <td>0</td>\n",
       "      <td>Jardim Leonor</td>\n",
       "      <td>São Paulo</td>\n",
       "      <td>480.0</td>\n",
       "      <td>5</td>\n",
       "      <td>9</td>\n",
       "      <td>7</td>\n",
       "      <td>9500000.0</td>\n",
       "      <td>False</td>\n",
       "    </tr>\n",
       "  </tbody>\n",
       "</table>\n",
       "<p>128 rows × 10 columns</p>\n",
       "</div>"
      ],
      "text/plain": [
       "                                     Rua  Número          Bairro     Cidade  \\\n",
       "41         Rua Gregório Paes de Almeida        0   Vila Madalena  São Paulo   \n",
       "623        Rua General Pereira da Cunha        0  Retiro Morumbi  São Paulo   \n",
       "639        Rua General Pereira da Cunha        0  Retiro Morumbi  São Paulo   \n",
       "685                        Jardim Leonor       0   Jardim Leonor  São Paulo   \n",
       "938                        Vila Madalena       0   Vila Madalena  São Paulo   \n",
       "...                                  ...     ...             ...        ...   \n",
       "9948                       Jardim Leonor       0   Jardim Leonor  São Paulo   \n",
       "9964   Rua Doutor Mário Ottobrini Costa        0    Cidade Dutra  São Paulo   \n",
       "9984                       Jardim Leonor       0   Jardim Leonor  São Paulo   \n",
       "10000  Rua Doutor Mário Ottobrini Costa        0    Cidade Dutra  São Paulo   \n",
       "10020                      Jardim Leonor       0   Jardim Leonor  São Paulo   \n",
       "\n",
       "        Área  Quartos  Banheiros  Vagas       Preço  Aluguel  \n",
       "41     401.0        5          9      4   3890000.0    False  \n",
       "623    760.0        5         10      6  12000000.0    False  \n",
       "639    760.0        5         10      6  12000000.0    False  \n",
       "685    684.0        5          9      8   4200000.0    False  \n",
       "938    507.0        5          9      4   3600000.0    False  \n",
       "...      ...      ...        ...    ...         ...      ...  \n",
       "9948   480.0        5          9      7   9500000.0    False  \n",
       "9964   400.0        5          9      4   1800000.0    False  \n",
       "9984   480.0        5          9      7   9500000.0    False  \n",
       "10000  400.0        5          9      4   1800000.0    False  \n",
       "10020  480.0        5          9      7   9500000.0    False  \n",
       "\n",
       "[128 rows x 10 columns]"
      ]
     },
     "execution_count": 89,
     "metadata": {},
     "output_type": "execute_result"
    }
   ],
   "source": [
    "df_outliers_quarto = df.loc[(df['Banheiros'] < Limite_Inferior_banheiro) | (df['Banheiros'] > Limite_Superior_banheiro)]\n",
    "df_outliers_quarto"
   ]
  },
  {
   "cell_type": "code",
   "execution_count": 90,
   "id": "4502e764",
   "metadata": {
    "ExecuteTime": {
     "end_time": "2024-03-21T15:00:42.375637Z",
     "start_time": "2024-03-21T15:00:42.332429Z"
    }
   },
   "outputs": [],
   "source": [
    "# Calculando a média dos banheiros\n",
    "media_banheiros = round(df['Banheiros'].mean())\n",
    "\n",
    "# Substituindo os valores dos banheiros que estão fora dos limites pela média dos banheiros\n",
    "df.loc[df['Banheiros'] < Limite_Inferior_banheiro, 'Banheiros'] = media_banheiros\n",
    "df.loc[df['Banheiros'] > Limite_Superior_banheiro, 'Banheiros'] = media_banheiros"
   ]
  },
  {
   "cell_type": "code",
   "execution_count": 91,
   "id": "2fca871e",
   "metadata": {
    "ExecuteTime": {
     "end_time": "2024-03-21T15:00:42.720019Z",
     "start_time": "2024-03-21T15:00:42.375637Z"
    }
   },
   "outputs": [
    {
     "data": {
      "image/png": "[encoded data removed]",
      "text/plain": [
       "<Figure size 1700x600 with 1 Axes>"
      ]
     },
     "metadata": {},
     "output_type": "display_data"
    }
   ],
   "source": [
    "# Plotando gráfico de caixa das variáveis normalizadas\n",
    "plt.figure(figsize=(17, 6))\n",
    "sns.boxplot(data=df.Banheiros)\n",
    "plt.title('Gráfico de Caixa das Variáveis Normalizadas')\n",
    "plt.show()"
   ]
  },
  {
   "cell_type": "markdown",
   "id": "3cc97e23",
   "metadata": {},
   "source": [
    "#### 3.3.5 Vagas"
   ]
  },
  {
   "cell_type": "code",
   "execution_count": 92,
   "id": "b6e6fbc8",
   "metadata": {
    "ExecuteTime": {
     "end_time": "2024-03-21T15:00:42.935490Z",
     "start_time": "2024-03-21T15:00:42.720019Z"
    },
    "scrolled": true
   },
   "outputs": [
    {
     "data": {
      "image/png": "[encoded data removed]",
      "text/plain": [
       "<Figure size 1700x600 with 1 Axes>"
      ]
     },
     "metadata": {},
     "output_type": "display_data"
    }
   ],
   "source": [
    "# Plotando gráfico de caixa das variáveis normalizadas\n",
    "plt.figure(figsize=(17, 6))\n",
    "sns.boxplot(data=df.Vagas)\n",
    "plt.title('Gráfico de Caixa das Variáveis Normalizadas')\n",
    "plt.show()"
   ]
  },
  {
   "cell_type": "code",
   "execution_count": 93,
   "id": "5ab4f3e5",
   "metadata": {
    "ExecuteTime": {
     "end_time": "2024-03-21T15:00:42.947432Z",
     "start_time": "2024-03-21T15:00:42.935490Z"
    }
   },
   "outputs": [
    {
     "name": "stdout",
     "output_type": "stream",
     "text": [
      "Q1: 2.0 , Q3: 5.0\n",
      "Limite Inferior: -2.5 , Limite Superior: 9.5\n"
     ]
    }
   ],
   "source": [
    "# Calculando Q1 e Q3\n",
    "Q1 = df['Vagas'].quantile(0.25)\n",
    "Q3 = df['Vagas'].quantile(0.75)\n",
    "print('Q1:', Q1, ', Q3:', Q3)\n",
    "\n",
    "# Calculando o IQR\n",
    "IQR = Q3 - Q1\n",
    "\n",
    "# Calculando os limites do outlier\n",
    "Limite_Inferior_vagas = Q1 - 1.5 * IQR\n",
    "Limite_Superior_vagas = Q3 + 1.5 * IQR\n",
    "\n",
    "print('Limite Inferior:', Limite_Inferior_vagas, ', Limite Superior:', Limite_Superior_vagas )"
   ]
  },
  {
   "cell_type": "code",
   "execution_count": 94,
   "id": "b08c9dce",
   "metadata": {
    "ExecuteTime": {
     "end_time": "2024-03-21T15:00:42.992552Z",
     "start_time": "2024-03-21T15:00:42.947432Z"
    },
    "scrolled": true
   },
   "outputs": [
    {
     "data": {
      "text/html": [
       "<div>\n",
       "<style scoped>\n",
       "    .dataframe tbody tr th:only-of-type {\n",
       "        vertical-align: middle;\n",
       "    }\n",
       "\n",
       "    .dataframe tbody tr th {\n",
       "        vertical-align: top;\n",
       "    }\n",
       "\n",
       "    .dataframe thead th {\n",
       "        text-align: right;\n",
       "    }\n",
       "</style>\n",
       "<table border=\"1\" class=\"dataframe\">\n",
       "  <thead>\n",
       "    <tr style=\"text-align: right;\">\n",
       "      <th></th>\n",
       "      <th>Rua</th>\n",
       "      <th>Número</th>\n",
       "      <th>Bairro</th>\n",
       "      <th>Cidade</th>\n",
       "      <th>Área</th>\n",
       "      <th>Quartos</th>\n",
       "      <th>Banheiros</th>\n",
       "      <th>Vagas</th>\n",
       "      <th>Preço</th>\n",
       "      <th>Aluguel</th>\n",
       "    </tr>\n",
       "  </thead>\n",
       "  <tbody>\n",
       "    <tr>\n",
       "      <th>109</th>\n",
       "      <td>Rua Inglaterra</td>\n",
       "      <td>0</td>\n",
       "      <td>Jardim Europa</td>\n",
       "      <td>São Paulo</td>\n",
       "      <td>756.0</td>\n",
       "      <td>5</td>\n",
       "      <td>4</td>\n",
       "      <td>10</td>\n",
       "      <td>37000000.0</td>\n",
       "      <td>False</td>\n",
       "    </tr>\n",
       "    <tr>\n",
       "      <th>158</th>\n",
       "      <td>Rua Fonseca da Costa</td>\n",
       "      <td>0</td>\n",
       "      <td>Bosque da Saúde</td>\n",
       "      <td>São Paulo</td>\n",
       "      <td>650.0</td>\n",
       "      <td>4</td>\n",
       "      <td>6</td>\n",
       "      <td>12</td>\n",
       "      <td>11000.0</td>\n",
       "      <td>True</td>\n",
       "    </tr>\n",
       "    <tr>\n",
       "      <th>237</th>\n",
       "      <td>Rua Doutor Fausto de Almeida Prado Penteado</td>\n",
       "      <td>0</td>\n",
       "      <td>Jardim Sílvia (Zona Oeste)</td>\n",
       "      <td>São Paulo</td>\n",
       "      <td>480.0</td>\n",
       "      <td>4</td>\n",
       "      <td>5</td>\n",
       "      <td>10</td>\n",
       "      <td>4500000.0</td>\n",
       "      <td>False</td>\n",
       "    </tr>\n",
       "    <tr>\n",
       "      <th>266</th>\n",
       "      <td>Rua Fonseca da Costa</td>\n",
       "      <td>0</td>\n",
       "      <td>Bosque da Saúde</td>\n",
       "      <td>São Paulo</td>\n",
       "      <td>650.0</td>\n",
       "      <td>4</td>\n",
       "      <td>7</td>\n",
       "      <td>12</td>\n",
       "      <td>11000.0</td>\n",
       "      <td>True</td>\n",
       "    </tr>\n",
       "    <tr>\n",
       "      <th>293</th>\n",
       "      <td>Rua Kansas</td>\n",
       "      <td>0</td>\n",
       "      <td>Brooklin Paulista</td>\n",
       "      <td>São Paulo</td>\n",
       "      <td>200.0</td>\n",
       "      <td>3</td>\n",
       "      <td>1</td>\n",
       "      <td>10</td>\n",
       "      <td>2240000.0</td>\n",
       "      <td>False</td>\n",
       "    </tr>\n",
       "    <tr>\n",
       "      <th>...</th>\n",
       "      <td>...</td>\n",
       "      <td>...</td>\n",
       "      <td>...</td>\n",
       "      <td>...</td>\n",
       "      <td>...</td>\n",
       "      <td>...</td>\n",
       "      <td>...</td>\n",
       "      <td>...</td>\n",
       "      <td>...</td>\n",
       "      <td>...</td>\n",
       "    </tr>\n",
       "    <tr>\n",
       "      <th>9833</th>\n",
       "      <td>Parque Edu Chaves</td>\n",
       "      <td>0</td>\n",
       "      <td>Parque Edu Chaves</td>\n",
       "      <td>São Paulo</td>\n",
       "      <td>347.0</td>\n",
       "      <td>3</td>\n",
       "      <td>2</td>\n",
       "      <td>10</td>\n",
       "      <td>899900.0</td>\n",
       "      <td>False</td>\n",
       "    </tr>\n",
       "    <tr>\n",
       "      <th>9837</th>\n",
       "      <td>Rua Fonseca da Costa</td>\n",
       "      <td>0</td>\n",
       "      <td>Bosque da Saúde</td>\n",
       "      <td>São Paulo</td>\n",
       "      <td>650.0</td>\n",
       "      <td>5</td>\n",
       "      <td>2</td>\n",
       "      <td>12</td>\n",
       "      <td>11000.0</td>\n",
       "      <td>True</td>\n",
       "    </tr>\n",
       "    <tr>\n",
       "      <th>9875</th>\n",
       "      <td>Rua Doutor Sarmento</td>\n",
       "      <td>22</td>\n",
       "      <td>Jardim Luzitânia</td>\n",
       "      <td>São Paulo</td>\n",
       "      <td>480.0</td>\n",
       "      <td>5</td>\n",
       "      <td>7</td>\n",
       "      <td>10</td>\n",
       "      <td>20000000.0</td>\n",
       "      <td>False</td>\n",
       "    </tr>\n",
       "    <tr>\n",
       "      <th>9893</th>\n",
       "      <td>Rua Guaonés</td>\n",
       "      <td>1</td>\n",
       "      <td>Jardim Guedala</td>\n",
       "      <td>São Paulo</td>\n",
       "      <td>480.0</td>\n",
       "      <td>4</td>\n",
       "      <td>8</td>\n",
       "      <td>10</td>\n",
       "      <td>4750000.0</td>\n",
       "      <td>False</td>\n",
       "    </tr>\n",
       "    <tr>\n",
       "      <th>9896</th>\n",
       "      <td>Rua Todos os Santos</td>\n",
       "      <td>0</td>\n",
       "      <td>Jardim Everest</td>\n",
       "      <td>São Paulo</td>\n",
       "      <td>750.0</td>\n",
       "      <td>4</td>\n",
       "      <td>5</td>\n",
       "      <td>11</td>\n",
       "      <td>5500000.0</td>\n",
       "      <td>False</td>\n",
       "    </tr>\n",
       "  </tbody>\n",
       "</table>\n",
       "<p>456 rows × 10 columns</p>\n",
       "</div>"
      ],
      "text/plain": [
       "                                               Rua  Número  \\\n",
       "109                                Rua Inglaterra        0   \n",
       "158                          Rua Fonseca da Costa        0   \n",
       "237   Rua Doutor Fausto de Almeida Prado Penteado        0   \n",
       "266                          Rua Fonseca da Costa        0   \n",
       "293                                    Rua Kansas        0   \n",
       "...                                            ...     ...   \n",
       "9833                             Parque Edu Chaves       0   \n",
       "9837                         Rua Fonseca da Costa        0   \n",
       "9875                           Rua Doutor Sarmento      22   \n",
       "9893                                   Rua Guaonés       1   \n",
       "9896                          Rua Todos os Santos        0   \n",
       "\n",
       "                          Bairro     Cidade   Área  Quartos  Banheiros  Vagas  \\\n",
       "109                Jardim Europa  São Paulo  756.0        5          4     10   \n",
       "158              Bosque da Saúde  São Paulo  650.0        4          6     12   \n",
       "237   Jardim Sílvia (Zona Oeste)  São Paulo  480.0        4          5     10   \n",
       "266              Bosque da Saúde  São Paulo  650.0        4          7     12   \n",
       "293            Brooklin Paulista  São Paulo  200.0        3          1     10   \n",
       "...                          ...        ...    ...      ...        ...    ...   \n",
       "9833           Parque Edu Chaves  São Paulo  347.0        3          2     10   \n",
       "9837             Bosque da Saúde  São Paulo  650.0        5          2     12   \n",
       "9875            Jardim Luzitânia  São Paulo  480.0        5          7     10   \n",
       "9893              Jardim Guedala  São Paulo  480.0        4          8     10   \n",
       "9896              Jardim Everest  São Paulo  750.0        4          5     11   \n",
       "\n",
       "           Preço  Aluguel  \n",
       "109   37000000.0    False  \n",
       "158      11000.0     True  \n",
       "237    4500000.0    False  \n",
       "266      11000.0     True  \n",
       "293    2240000.0    False  \n",
       "...          ...      ...  \n",
       "9833    899900.0    False  \n",
       "9837     11000.0     True  \n",
       "9875  20000000.0    False  \n",
       "9893   4750000.0    False  \n",
       "9896   5500000.0    False  \n",
       "\n",
       "[456 rows x 10 columns]"
      ]
     },
     "execution_count": 94,
     "metadata": {},
     "output_type": "execute_result"
    }
   ],
   "source": [
    "df_outliers_vagas = df.loc[(df['Vagas'] < Limite_Inferior_vagas) | (df['Vagas'] > Limite_Superior_vagas)]\n",
    "df_outliers_vagas"
   ]
  },
  {
   "cell_type": "code",
   "execution_count": 95,
   "id": "4e692907",
   "metadata": {
    "ExecuteTime": {
     "end_time": "2024-03-21T15:00:43.057308Z",
     "start_time": "2024-03-21T15:00:42.992552Z"
    }
   },
   "outputs": [],
   "source": [
    "# Calculando a média dos banheiros\n",
    "media_vagas = round(df['Vagas'].mean())\n",
    "\n",
    "# Substituindo os valores dos banheiros que estão fora dos limites pela média dos banheiros\n",
    "df.loc[df['Vagas'] < Limite_Inferior_vagas, 'Vagas'] = media_vagas\n",
    "df.loc[df['Vagas'] > Limite_Superior_vagas, 'Vagas'] = media_vagas"
   ]
  },
  {
   "cell_type": "code",
   "execution_count": 96,
   "id": "db661dd0",
   "metadata": {
    "ExecuteTime": {
     "end_time": "2024-03-21T15:00:43.318346Z",
     "start_time": "2024-03-21T15:00:43.057308Z"
    }
   },
   "outputs": [
    {
     "data": {
      "image/png": "[encoded data removed]",
      "text/plain": [
       "<Figure size 1700x600 with 1 Axes>"
      ]
     },
     "metadata": {},
     "output_type": "display_data"
    }
   ],
   "source": [
    "# Plotando gráfico de caixa das variáveis normalizadas\n",
    "plt.figure(figsize=(17, 6))\n",
    "sns.boxplot(data=df.Vagas)\n",
    "plt.title('Gráfico de Caixa das Variáveis Normalizadas')\n",
    "plt.show()"
   ]
  },
  {
   "cell_type": "code",
   "execution_count": 97,
   "id": "41f3326b",
   "metadata": {
    "ExecuteTime": {
     "end_time": "2024-03-21T15:00:43.329019Z",
     "start_time": "2024-03-21T15:00:43.318346Z"
    },
    "scrolled": true
   },
   "outputs": [
    {
     "data": {
      "text/plain": [
       "Vagas\n",
       "4    2470\n",
       "2    2052\n",
       "3    1427\n",
       "6    1007\n",
       "5     817\n",
       "1     678\n",
       "8     411\n",
       "7     232\n",
       "9      57\n",
       "Name: count, dtype: int64"
      ]
     },
     "execution_count": 97,
     "metadata": {},
     "output_type": "execute_result"
    }
   ],
   "source": [
    "df.Vagas.value_counts()"
   ]
  },
  {
   "cell_type": "markdown",
   "id": "82616530",
   "metadata": {},
   "source": [
    "#### 3.3.6 Preço"
   ]
  },
  {
   "cell_type": "markdown",
   "id": "9e9f28c5",
   "metadata": {},
   "source": [
    "##### 3.3.6.1 Separando em dados de compra e de aluguel"
   ]
  },
  {
   "cell_type": "code",
   "execution_count": 98,
   "id": "87e82205",
   "metadata": {
    "ExecuteTime": {
     "end_time": "2024-03-21T15:00:43.399229Z",
     "start_time": "2024-03-21T15:00:43.329019Z"
    },
    "scrolled": false
   },
   "outputs": [
    {
     "data": {
      "text/html": [
       "<div>\n",
       "<style scoped>\n",
       "    .dataframe tbody tr th:only-of-type {\n",
       "        vertical-align: middle;\n",
       "    }\n",
       "\n",
       "    .dataframe tbody tr th {\n",
       "        vertical-align: top;\n",
       "    }\n",
       "\n",
       "    .dataframe thead th {\n",
       "        text-align: right;\n",
       "    }\n",
       "</style>\n",
       "<table border=\"1\" class=\"dataframe\">\n",
       "  <thead>\n",
       "    <tr style=\"text-align: right;\">\n",
       "      <th></th>\n",
       "      <th>Rua</th>\n",
       "      <th>Número</th>\n",
       "      <th>Bairro</th>\n",
       "      <th>Cidade</th>\n",
       "      <th>Área</th>\n",
       "      <th>Quartos</th>\n",
       "      <th>Banheiros</th>\n",
       "      <th>Vagas</th>\n",
       "      <th>Preço</th>\n",
       "      <th>Aluguel</th>\n",
       "    </tr>\n",
       "  </thead>\n",
       "  <tbody>\n",
       "    <tr>\n",
       "      <th>0</th>\n",
       "      <td>Avenida Itacira</td>\n",
       "      <td>255</td>\n",
       "      <td>Planalto Paulista</td>\n",
       "      <td>São Paulo</td>\n",
       "      <td>480.0</td>\n",
       "      <td>4</td>\n",
       "      <td>8</td>\n",
       "      <td>6</td>\n",
       "      <td>7000000.0</td>\n",
       "      <td>False</td>\n",
       "    </tr>\n",
       "    <tr>\n",
       "      <th>1</th>\n",
       "      <td>Rua Aurelia Perez Alvarez</td>\n",
       "      <td>42</td>\n",
       "      <td>Jardim dos Estados</td>\n",
       "      <td>São Paulo</td>\n",
       "      <td>496.5</td>\n",
       "      <td>4</td>\n",
       "      <td>4</td>\n",
       "      <td>4</td>\n",
       "      <td>3700000.0</td>\n",
       "      <td>False</td>\n",
       "    </tr>\n",
       "    <tr>\n",
       "      <th>2</th>\n",
       "      <td>Jardim Morumbi</td>\n",
       "      <td>0</td>\n",
       "      <td>Jardim Morumbi</td>\n",
       "      <td>São Paulo</td>\n",
       "      <td>310.0</td>\n",
       "      <td>3</td>\n",
       "      <td>2</td>\n",
       "      <td>4</td>\n",
       "      <td>685000.0</td>\n",
       "      <td>False</td>\n",
       "    </tr>\n",
       "    <tr>\n",
       "      <th>3</th>\n",
       "      <td>Rua Tobias Barreto</td>\n",
       "      <td>195</td>\n",
       "      <td>Mooca</td>\n",
       "      <td>São Paulo</td>\n",
       "      <td>100.0</td>\n",
       "      <td>3</td>\n",
       "      <td>2</td>\n",
       "      <td>2</td>\n",
       "      <td>540000.0</td>\n",
       "      <td>False</td>\n",
       "    </tr>\n",
       "    <tr>\n",
       "      <th>4</th>\n",
       "      <td>Rua Graham Bell</td>\n",
       "      <td>0</td>\n",
       "      <td>Santo Amaro</td>\n",
       "      <td>São Paulo</td>\n",
       "      <td>440.0</td>\n",
       "      <td>4</td>\n",
       "      <td>4</td>\n",
       "      <td>6</td>\n",
       "      <td>1980000.0</td>\n",
       "      <td>False</td>\n",
       "    </tr>\n",
       "    <tr>\n",
       "      <th>...</th>\n",
       "      <td>...</td>\n",
       "      <td>...</td>\n",
       "      <td>...</td>\n",
       "      <td>...</td>\n",
       "      <td>...</td>\n",
       "      <td>...</td>\n",
       "      <td>...</td>\n",
       "      <td>...</td>\n",
       "      <td>...</td>\n",
       "      <td>...</td>\n",
       "    </tr>\n",
       "    <tr>\n",
       "      <th>9146</th>\n",
       "      <td>Avenida Odila</td>\n",
       "      <td>0</td>\n",
       "      <td>Planalto Paulista</td>\n",
       "      <td>São Paulo</td>\n",
       "      <td>262.0</td>\n",
       "      <td>3</td>\n",
       "      <td>6</td>\n",
       "      <td>4</td>\n",
       "      <td>1500000.0</td>\n",
       "      <td>False</td>\n",
       "    </tr>\n",
       "    <tr>\n",
       "      <th>9147</th>\n",
       "      <td>Rua Guararema</td>\n",
       "      <td>0</td>\n",
       "      <td>Bosque da Saúde</td>\n",
       "      <td>São Paulo</td>\n",
       "      <td>600.0</td>\n",
       "      <td>4</td>\n",
       "      <td>7</td>\n",
       "      <td>5</td>\n",
       "      <td>2300000.0</td>\n",
       "      <td>False</td>\n",
       "    </tr>\n",
       "    <tr>\n",
       "      <th>9148</th>\n",
       "      <td>Rua Estero Belaco</td>\n",
       "      <td>0</td>\n",
       "      <td>Vila da Saúde</td>\n",
       "      <td>São Paulo</td>\n",
       "      <td>200.0</td>\n",
       "      <td>3</td>\n",
       "      <td>3</td>\n",
       "      <td>6</td>\n",
       "      <td>1050000.0</td>\n",
       "      <td>False</td>\n",
       "    </tr>\n",
       "    <tr>\n",
       "      <th>9149</th>\n",
       "      <td>Rua Manuel Onha</td>\n",
       "      <td>514</td>\n",
       "      <td>Vila Oratório</td>\n",
       "      <td>São Paulo</td>\n",
       "      <td>180.0</td>\n",
       "      <td>3</td>\n",
       "      <td>2</td>\n",
       "      <td>2</td>\n",
       "      <td>2200.0</td>\n",
       "      <td>True</td>\n",
       "    </tr>\n",
       "    <tr>\n",
       "      <th>9150</th>\n",
       "      <td>Rua Barão de Tramandaí</td>\n",
       "      <td>0</td>\n",
       "      <td>Vila Alpina</td>\n",
       "      <td>São Paulo</td>\n",
       "      <td>117.0</td>\n",
       "      <td>3</td>\n",
       "      <td>2</td>\n",
       "      <td>2</td>\n",
       "      <td>270000.0</td>\n",
       "      <td>False</td>\n",
       "    </tr>\n",
       "  </tbody>\n",
       "</table>\n",
       "<p>9151 rows × 10 columns</p>\n",
       "</div>"
      ],
      "text/plain": [
       "                            Rua  Número              Bairro     Cidade   Área  \\\n",
       "0               Avenida Itacira     255   Planalto Paulista  São Paulo  480.0   \n",
       "1     Rua Aurelia Perez Alvarez      42  Jardim dos Estados  São Paulo  496.5   \n",
       "2                Jardim Morumbi       0      Jardim Morumbi  São Paulo  310.0   \n",
       "3            Rua Tobias Barreto     195               Mooca  São Paulo  100.0   \n",
       "4              Rua Graham Bell        0         Santo Amaro  São Paulo  440.0   \n",
       "...                         ...     ...                 ...        ...    ...   \n",
       "9146             Avenida Odila        0   Planalto Paulista  São Paulo  262.0   \n",
       "9147             Rua Guararema        0     Bosque da Saúde  São Paulo  600.0   \n",
       "9148         Rua Estero Belaco        0       Vila da Saúde  São Paulo  200.0   \n",
       "9149            Rua Manuel Onha     514       Vila Oratório  São Paulo  180.0   \n",
       "9150     Rua Barão de Tramandaí       0         Vila Alpina  São Paulo  117.0   \n",
       "\n",
       "      Quartos  Banheiros  Vagas      Preço  Aluguel  \n",
       "0           4          8      6  7000000.0    False  \n",
       "1           4          4      4  3700000.0    False  \n",
       "2           3          2      4   685000.0    False  \n",
       "3           3          2      2   540000.0    False  \n",
       "4           4          4      6  1980000.0    False  \n",
       "...       ...        ...    ...        ...      ...  \n",
       "9146        3          6      4  1500000.0    False  \n",
       "9147        4          7      5  2300000.0    False  \n",
       "9148        3          3      6  1050000.0    False  \n",
       "9149        3          2      2     2200.0     True  \n",
       "9150        3          2      2   270000.0    False  \n",
       "\n",
       "[9151 rows x 10 columns]"
      ]
     },
     "execution_count": 98,
     "metadata": {},
     "output_type": "execute_result"
    }
   ],
   "source": [
    "df = df.reset_index(drop=True)\n",
    "df"
   ]
  },
  {
   "cell_type": "code",
   "execution_count": 99,
   "id": "57d6161f",
   "metadata": {
    "ExecuteTime": {
     "end_time": "2024-03-21T15:00:43.413566Z",
     "start_time": "2024-03-21T15:00:43.399229Z"
    }
   },
   "outputs": [],
   "source": [
    "# Dividino em df de compra e aluguel\n",
    "df_compra = df.drop(df[df['Aluguel'] == True].index)\n",
    "\n",
    "df_aluguel = df.drop(df[df['Aluguel'] == False].index)"
   ]
  },
  {
   "cell_type": "markdown",
   "id": "a6db5bc0",
   "metadata": {},
   "source": [
    "##### 3.3.6.2 Compra"
   ]
  },
  {
   "cell_type": "code",
   "execution_count": 100,
   "id": "f1a8daf9",
   "metadata": {
    "ExecuteTime": {
     "end_time": "2024-03-21T15:00:43.545079Z",
     "start_time": "2024-03-21T15:00:43.413566Z"
    },
    "scrolled": false
   },
   "outputs": [
    {
     "data": {
      "text/html": [
       "<div>\n",
       "<style scoped>\n",
       "    .dataframe tbody tr th:only-of-type {\n",
       "        vertical-align: middle;\n",
       "    }\n",
       "\n",
       "    .dataframe tbody tr th {\n",
       "        vertical-align: top;\n",
       "    }\n",
       "\n",
       "    .dataframe thead th {\n",
       "        text-align: right;\n",
       "    }\n",
       "</style>\n",
       "<table border=\"1\" class=\"dataframe\">\n",
       "  <thead>\n",
       "    <tr style=\"text-align: right;\">\n",
       "      <th></th>\n",
       "      <th>Rua</th>\n",
       "      <th>Número</th>\n",
       "      <th>Bairro</th>\n",
       "      <th>Cidade</th>\n",
       "      <th>Área</th>\n",
       "      <th>Quartos</th>\n",
       "      <th>Banheiros</th>\n",
       "      <th>Vagas</th>\n",
       "      <th>Preço</th>\n",
       "      <th>Aluguel</th>\n",
       "    </tr>\n",
       "  </thead>\n",
       "  <tbody>\n",
       "    <tr>\n",
       "      <th>0</th>\n",
       "      <td>Avenida Itacira</td>\n",
       "      <td>255</td>\n",
       "      <td>Planalto Paulista</td>\n",
       "      <td>São Paulo</td>\n",
       "      <td>480.0</td>\n",
       "      <td>4</td>\n",
       "      <td>8</td>\n",
       "      <td>6</td>\n",
       "      <td>7000000.0</td>\n",
       "      <td>False</td>\n",
       "    </tr>\n",
       "    <tr>\n",
       "      <th>1</th>\n",
       "      <td>Rua Aurelia Perez Alvarez</td>\n",
       "      <td>42</td>\n",
       "      <td>Jardim dos Estados</td>\n",
       "      <td>São Paulo</td>\n",
       "      <td>496.5</td>\n",
       "      <td>4</td>\n",
       "      <td>4</td>\n",
       "      <td>4</td>\n",
       "      <td>3700000.0</td>\n",
       "      <td>False</td>\n",
       "    </tr>\n",
       "    <tr>\n",
       "      <th>2</th>\n",
       "      <td>Jardim Morumbi</td>\n",
       "      <td>0</td>\n",
       "      <td>Jardim Morumbi</td>\n",
       "      <td>São Paulo</td>\n",
       "      <td>310.0</td>\n",
       "      <td>3</td>\n",
       "      <td>2</td>\n",
       "      <td>4</td>\n",
       "      <td>685000.0</td>\n",
       "      <td>False</td>\n",
       "    </tr>\n",
       "    <tr>\n",
       "      <th>3</th>\n",
       "      <td>Rua Tobias Barreto</td>\n",
       "      <td>195</td>\n",
       "      <td>Mooca</td>\n",
       "      <td>São Paulo</td>\n",
       "      <td>100.0</td>\n",
       "      <td>3</td>\n",
       "      <td>2</td>\n",
       "      <td>2</td>\n",
       "      <td>540000.0</td>\n",
       "      <td>False</td>\n",
       "    </tr>\n",
       "    <tr>\n",
       "      <th>4</th>\n",
       "      <td>Rua Graham Bell</td>\n",
       "      <td>0</td>\n",
       "      <td>Santo Amaro</td>\n",
       "      <td>São Paulo</td>\n",
       "      <td>440.0</td>\n",
       "      <td>4</td>\n",
       "      <td>4</td>\n",
       "      <td>6</td>\n",
       "      <td>1980000.0</td>\n",
       "      <td>False</td>\n",
       "    </tr>\n",
       "    <tr>\n",
       "      <th>...</th>\n",
       "      <td>...</td>\n",
       "      <td>...</td>\n",
       "      <td>...</td>\n",
       "      <td>...</td>\n",
       "      <td>...</td>\n",
       "      <td>...</td>\n",
       "      <td>...</td>\n",
       "      <td>...</td>\n",
       "      <td>...</td>\n",
       "      <td>...</td>\n",
       "    </tr>\n",
       "    <tr>\n",
       "      <th>8312</th>\n",
       "      <td>Rua Pedro Teixeira</td>\n",
       "      <td>0</td>\n",
       "      <td>Vila Olímpia</td>\n",
       "      <td>São Paulo</td>\n",
       "      <td>152.0</td>\n",
       "      <td>3</td>\n",
       "      <td>2</td>\n",
       "      <td>2</td>\n",
       "      <td>960000.0</td>\n",
       "      <td>False</td>\n",
       "    </tr>\n",
       "    <tr>\n",
       "      <th>8313</th>\n",
       "      <td>Avenida Odila</td>\n",
       "      <td>0</td>\n",
       "      <td>Planalto Paulista</td>\n",
       "      <td>São Paulo</td>\n",
       "      <td>262.0</td>\n",
       "      <td>3</td>\n",
       "      <td>6</td>\n",
       "      <td>4</td>\n",
       "      <td>1500000.0</td>\n",
       "      <td>False</td>\n",
       "    </tr>\n",
       "    <tr>\n",
       "      <th>8314</th>\n",
       "      <td>Rua Guararema</td>\n",
       "      <td>0</td>\n",
       "      <td>Bosque da Saúde</td>\n",
       "      <td>São Paulo</td>\n",
       "      <td>600.0</td>\n",
       "      <td>4</td>\n",
       "      <td>7</td>\n",
       "      <td>5</td>\n",
       "      <td>2300000.0</td>\n",
       "      <td>False</td>\n",
       "    </tr>\n",
       "    <tr>\n",
       "      <th>8315</th>\n",
       "      <td>Rua Estero Belaco</td>\n",
       "      <td>0</td>\n",
       "      <td>Vila da Saúde</td>\n",
       "      <td>São Paulo</td>\n",
       "      <td>200.0</td>\n",
       "      <td>3</td>\n",
       "      <td>3</td>\n",
       "      <td>6</td>\n",
       "      <td>1050000.0</td>\n",
       "      <td>False</td>\n",
       "    </tr>\n",
       "    <tr>\n",
       "      <th>8316</th>\n",
       "      <td>Rua Barão de Tramandaí</td>\n",
       "      <td>0</td>\n",
       "      <td>Vila Alpina</td>\n",
       "      <td>São Paulo</td>\n",
       "      <td>117.0</td>\n",
       "      <td>3</td>\n",
       "      <td>2</td>\n",
       "      <td>2</td>\n",
       "      <td>270000.0</td>\n",
       "      <td>False</td>\n",
       "    </tr>\n",
       "  </tbody>\n",
       "</table>\n",
       "<p>8317 rows × 10 columns</p>\n",
       "</div>"
      ],
      "text/plain": [
       "                            Rua  Número              Bairro     Cidade   Área  \\\n",
       "0               Avenida Itacira     255   Planalto Paulista  São Paulo  480.0   \n",
       "1     Rua Aurelia Perez Alvarez      42  Jardim dos Estados  São Paulo  496.5   \n",
       "2                Jardim Morumbi       0      Jardim Morumbi  São Paulo  310.0   \n",
       "3            Rua Tobias Barreto     195               Mooca  São Paulo  100.0   \n",
       "4              Rua Graham Bell        0         Santo Amaro  São Paulo  440.0   \n",
       "...                         ...     ...                 ...        ...    ...   \n",
       "8312        Rua Pedro Teixeira        0        Vila Olímpia  São Paulo  152.0   \n",
       "8313             Avenida Odila        0   Planalto Paulista  São Paulo  262.0   \n",
       "8314             Rua Guararema        0     Bosque da Saúde  São Paulo  600.0   \n",
       "8315         Rua Estero Belaco        0       Vila da Saúde  São Paulo  200.0   \n",
       "8316     Rua Barão de Tramandaí       0         Vila Alpina  São Paulo  117.0   \n",
       "\n",
       "      Quartos  Banheiros  Vagas      Preço  Aluguel  \n",
       "0           4          8      6  7000000.0    False  \n",
       "1           4          4      4  3700000.0    False  \n",
       "2           3          2      4   685000.0    False  \n",
       "3           3          2      2   540000.0    False  \n",
       "4           4          4      6  1980000.0    False  \n",
       "...       ...        ...    ...        ...      ...  \n",
       "8312        3          2      2   960000.0    False  \n",
       "8313        3          6      4  1500000.0    False  \n",
       "8314        4          7      5  2300000.0    False  \n",
       "8315        3          3      6  1050000.0    False  \n",
       "8316        3          2      2   270000.0    False  \n",
       "\n",
       "[8317 rows x 10 columns]"
      ]
     },
     "execution_count": 100,
     "metadata": {},
     "output_type": "execute_result"
    }
   ],
   "source": [
    "df_compra.reset_index(drop=True, inplace=True)\n",
    "df_compra"
   ]
  },
  {
   "cell_type": "code",
   "execution_count": 101,
   "id": "dcc536fd",
   "metadata": {
    "ExecuteTime": {
     "end_time": "2024-03-21T15:00:43.721624Z",
     "start_time": "2024-03-21T15:00:43.545079Z"
    },
    "scrolled": true
   },
   "outputs": [
    {
     "data": {
      "text/plain": [
       "Preço\n",
       "2500000.0     181\n",
       "3500000.0     172\n",
       "1200000.0     160\n",
       "1600000.0     141\n",
       "1500000.0     137\n",
       "             ... \n",
       "5490000.0       1\n",
       "10300000.0      1\n",
       "7600000.0       1\n",
       "8599000.0       1\n",
       "4043000.0       1\n",
       "Name: count, Length: 865, dtype: int64"
      ]
     },
     "execution_count": 101,
     "metadata": {},
     "output_type": "execute_result"
    }
   ],
   "source": [
    "df_compra.Preço.value_counts()"
   ]
  },
  {
   "cell_type": "code",
   "execution_count": 102,
   "id": "af8135ef",
   "metadata": {
    "ExecuteTime": {
     "end_time": "2024-03-21T15:00:43.973306Z",
     "start_time": "2024-03-21T15:00:43.721624Z"
    },
    "scrolled": true
   },
   "outputs": [
    {
     "data": {
      "image/png": "[encoded data removed]",
      "text/plain": [
       "<Figure size 1700x600 with 1 Axes>"
      ]
     },
     "metadata": {},
     "output_type": "display_data"
    }
   ],
   "source": [
    "# Plotando gráficos de caixa das variáveis normalizadas\n",
    "plt.figure(figsize=(17, 6))\n",
    "sns.boxplot(data=df_compra.Preço)\n",
    "plt.title('Gráfico de Caixa das Variáveis Normalizadas')\n",
    "plt.show()"
   ]
  },
  {
   "cell_type": "code",
   "execution_count": 103,
   "id": "75b29c27",
   "metadata": {
    "ExecuteTime": {
     "end_time": "2024-03-21T15:00:43.985199Z",
     "start_time": "2024-03-21T15:00:43.973306Z"
    }
   },
   "outputs": [
    {
     "name": "stdout",
     "output_type": "stream",
     "text": [
      "Q1: 1000000.0 , Q3: 3800000.0\n",
      "Limite Inferior: -3200000.0 , Limite Superior: 8000000.0\n"
     ]
    }
   ],
   "source": [
    "# Calculando Q1 e Q3\n",
    "Q1 = df_compra['Preço'].quantile(0.25)\n",
    "Q3 = df_compra['Preço'].quantile(0.75)\n",
    "print('Q1:', Q1, ', Q3:', Q3)\n",
    "\n",
    "# Calculando o IQR\n",
    "IQR = Q3 - Q1\n",
    "\n",
    "# Calculando os limites do outlier\n",
    "Limite_Inferior_preco_compra = Q1 - 1.5 * IQR\n",
    "Limite_Superior_preco_compra = Q3 + 1.5 * IQR\n",
    "\n",
    "print('Limite Inferior:', Limite_Inferior_preco_compra, ', Limite Superior:', Limite_Superior_preco_compra )"
   ]
  },
  {
   "cell_type": "code",
   "execution_count": 104,
   "id": "1596e5e7",
   "metadata": {
    "ExecuteTime": {
     "end_time": "2024-03-21T15:00:44.012465Z",
     "start_time": "2024-03-21T15:00:43.985199Z"
    },
    "scrolled": false
   },
   "outputs": [
    {
     "data": {
      "text/html": [
       "<div>\n",
       "<style scoped>\n",
       "    .dataframe tbody tr th:only-of-type {\n",
       "        vertical-align: middle;\n",
       "    }\n",
       "\n",
       "    .dataframe tbody tr th {\n",
       "        vertical-align: top;\n",
       "    }\n",
       "\n",
       "    .dataframe thead th {\n",
       "        text-align: right;\n",
       "    }\n",
       "</style>\n",
       "<table border=\"1\" class=\"dataframe\">\n",
       "  <thead>\n",
       "    <tr style=\"text-align: right;\">\n",
       "      <th></th>\n",
       "      <th>Rua</th>\n",
       "      <th>Número</th>\n",
       "      <th>Bairro</th>\n",
       "      <th>Cidade</th>\n",
       "      <th>Área</th>\n",
       "      <th>Quartos</th>\n",
       "      <th>Banheiros</th>\n",
       "      <th>Vagas</th>\n",
       "      <th>Preço</th>\n",
       "      <th>Aluguel</th>\n",
       "    </tr>\n",
       "  </thead>\n",
       "  <tbody>\n",
       "    <tr>\n",
       "      <th>8</th>\n",
       "      <td>Jardim Luzitânia</td>\n",
       "      <td>0</td>\n",
       "      <td>Jardim Luzitânia</td>\n",
       "      <td>São Paulo</td>\n",
       "      <td>436.0</td>\n",
       "      <td>4</td>\n",
       "      <td>3</td>\n",
       "      <td>3</td>\n",
       "      <td>15000.0</td>\n",
       "      <td>False</td>\n",
       "    </tr>\n",
       "    <tr>\n",
       "      <th>39</th>\n",
       "      <td>Rua Inglaterra</td>\n",
       "      <td>0</td>\n",
       "      <td>Jardim Europa</td>\n",
       "      <td>São Paulo</td>\n",
       "      <td>200.0</td>\n",
       "      <td>3</td>\n",
       "      <td>3</td>\n",
       "      <td>2</td>\n",
       "      <td>13000.0</td>\n",
       "      <td>False</td>\n",
       "    </tr>\n",
       "    <tr>\n",
       "      <th>113</th>\n",
       "      <td>Rua Prisciliana Duarte</td>\n",
       "      <td>250</td>\n",
       "      <td>Jardim da Saúde</td>\n",
       "      <td>São Paulo</td>\n",
       "      <td>257.0</td>\n",
       "      <td>3</td>\n",
       "      <td>4</td>\n",
       "      <td>4</td>\n",
       "      <td>1600000.0</td>\n",
       "      <td>False</td>\n",
       "    </tr>\n",
       "    <tr>\n",
       "      <th>117</th>\n",
       "      <td>Rua Princesa Leopoldina</td>\n",
       "      <td>0</td>\n",
       "      <td>Alto da Lapa</td>\n",
       "      <td>São Paulo</td>\n",
       "      <td>100.0</td>\n",
       "      <td>2</td>\n",
       "      <td>2</td>\n",
       "      <td>1</td>\n",
       "      <td>940000.0</td>\n",
       "      <td>False</td>\n",
       "    </tr>\n",
       "    <tr>\n",
       "      <th>132</th>\n",
       "      <td>Rua Serenata</td>\n",
       "      <td>0</td>\n",
       "      <td>Vila Prudente</td>\n",
       "      <td>São Paulo</td>\n",
       "      <td>140.0</td>\n",
       "      <td>3</td>\n",
       "      <td>3</td>\n",
       "      <td>2</td>\n",
       "      <td>490000.0</td>\n",
       "      <td>False</td>\n",
       "    </tr>\n",
       "    <tr>\n",
       "      <th>...</th>\n",
       "      <td>...</td>\n",
       "      <td>...</td>\n",
       "      <td>...</td>\n",
       "      <td>...</td>\n",
       "      <td>...</td>\n",
       "      <td>...</td>\n",
       "      <td>...</td>\n",
       "      <td>...</td>\n",
       "      <td>...</td>\n",
       "      <td>...</td>\n",
       "    </tr>\n",
       "    <tr>\n",
       "      <th>8203</th>\n",
       "      <td>Vila Carrão</td>\n",
       "      <td>0</td>\n",
       "      <td>Vila Carrão</td>\n",
       "      <td>São Paulo</td>\n",
       "      <td>85.0</td>\n",
       "      <td>4</td>\n",
       "      <td>2</td>\n",
       "      <td>2</td>\n",
       "      <td>720000.0</td>\n",
       "      <td>False</td>\n",
       "    </tr>\n",
       "    <tr>\n",
       "      <th>8264</th>\n",
       "      <td>Rua Manuel de Andrade</td>\n",
       "      <td>0</td>\n",
       "      <td>Vila Nova Mazzei</td>\n",
       "      <td>São Paulo</td>\n",
       "      <td>213.0</td>\n",
       "      <td>3</td>\n",
       "      <td>2</td>\n",
       "      <td>2</td>\n",
       "      <td>650000.0</td>\n",
       "      <td>False</td>\n",
       "    </tr>\n",
       "    <tr>\n",
       "      <th>8279</th>\n",
       "      <td>Rua Tapes</td>\n",
       "      <td>0</td>\n",
       "      <td>Jardim Aeroporto</td>\n",
       "      <td>São Paulo</td>\n",
       "      <td>152.0</td>\n",
       "      <td>5</td>\n",
       "      <td>7</td>\n",
       "      <td>4</td>\n",
       "      <td>840000.0</td>\n",
       "      <td>False</td>\n",
       "    </tr>\n",
       "    <tr>\n",
       "      <th>8303</th>\n",
       "      <td>Rua Bragança</td>\n",
       "      <td>0</td>\n",
       "      <td>Pacaembu</td>\n",
       "      <td>São Paulo</td>\n",
       "      <td>280.0</td>\n",
       "      <td>3</td>\n",
       "      <td>4</td>\n",
       "      <td>5</td>\n",
       "      <td>2450000.0</td>\n",
       "      <td>False</td>\n",
       "    </tr>\n",
       "    <tr>\n",
       "      <th>8314</th>\n",
       "      <td>Rua Guararema</td>\n",
       "      <td>0</td>\n",
       "      <td>Bosque da Saúde</td>\n",
       "      <td>São Paulo</td>\n",
       "      <td>600.0</td>\n",
       "      <td>4</td>\n",
       "      <td>7</td>\n",
       "      <td>5</td>\n",
       "      <td>2300000.0</td>\n",
       "      <td>False</td>\n",
       "    </tr>\n",
       "  </tbody>\n",
       "</table>\n",
       "<p>788 rows × 10 columns</p>\n",
       "</div>"
      ],
      "text/plain": [
       "                           Rua  Número            Bairro     Cidade   Área  \\\n",
       "8             Jardim Luzitânia       0  Jardim Luzitânia  São Paulo  436.0   \n",
       "39             Rua Inglaterra        0     Jardim Europa  São Paulo  200.0   \n",
       "113     Rua Prisciliana Duarte     250   Jardim da Saúde  São Paulo  257.0   \n",
       "117   Rua Princesa Leopoldina        0      Alto da Lapa  São Paulo  100.0   \n",
       "132              Rua Serenata        0     Vila Prudente  São Paulo  140.0   \n",
       "...                        ...     ...               ...        ...    ...   \n",
       "8203               Vila Carrão       0       Vila Carrão  São Paulo   85.0   \n",
       "8264    Rua Manuel de Andrade        0  Vila Nova Mazzei  São Paulo  213.0   \n",
       "8279                Rua Tapes        0  Jardim Aeroporto  São Paulo  152.0   \n",
       "8303             Rua Bragança        0          Pacaembu  São Paulo  280.0   \n",
       "8314            Rua Guararema        0   Bosque da Saúde  São Paulo  600.0   \n",
       "\n",
       "      Quartos  Banheiros  Vagas      Preço  Aluguel  \n",
       "8           4          3      3    15000.0    False  \n",
       "39          3          3      2    13000.0    False  \n",
       "113         3          4      4  1600000.0    False  \n",
       "117         2          2      1   940000.0    False  \n",
       "132         3          3      2   490000.0    False  \n",
       "...       ...        ...    ...        ...      ...  \n",
       "8203        4          2      2   720000.0    False  \n",
       "8264        3          2      2   650000.0    False  \n",
       "8279        5          7      4   840000.0    False  \n",
       "8303        3          4      5  2450000.0    False  \n",
       "8314        4          7      5  2300000.0    False  \n",
       "\n",
       "[788 rows x 10 columns]"
      ]
     },
     "execution_count": 104,
     "metadata": {},
     "output_type": "execute_result"
    }
   ],
   "source": [
    "df_outliers_preco_abaixo_compra = df_compra.loc[df['Preço'] < 100000]\n",
    "df_outliers_preco_abaixo_compra"
   ]
  },
  {
   "cell_type": "code",
   "execution_count": 105,
   "id": "c814caee",
   "metadata": {
    "ExecuteTime": {
     "end_time": "2024-03-21T15:00:44.040929Z",
     "start_time": "2024-03-21T15:00:44.012465Z"
    }
   },
   "outputs": [],
   "source": [
    "# Removendo linhas que contêm outliers\n",
    "df_compra = df_compra.drop(df_outliers_preco_abaixo_compra.index)"
   ]
  },
  {
   "cell_type": "code",
   "execution_count": 106,
   "id": "97485334",
   "metadata": {
    "ExecuteTime": {
     "end_time": "2024-03-21T15:00:44.056438Z",
     "start_time": "2024-03-21T15:00:44.040929Z"
    }
   },
   "outputs": [
    {
     "data": {
      "text/html": [
       "<div>\n",
       "<style scoped>\n",
       "    .dataframe tbody tr th:only-of-type {\n",
       "        vertical-align: middle;\n",
       "    }\n",
       "\n",
       "    .dataframe tbody tr th {\n",
       "        vertical-align: top;\n",
       "    }\n",
       "\n",
       "    .dataframe thead th {\n",
       "        text-align: right;\n",
       "    }\n",
       "</style>\n",
       "<table border=\"1\" class=\"dataframe\">\n",
       "  <thead>\n",
       "    <tr style=\"text-align: right;\">\n",
       "      <th></th>\n",
       "      <th>Rua</th>\n",
       "      <th>Número</th>\n",
       "      <th>Bairro</th>\n",
       "      <th>Cidade</th>\n",
       "      <th>Área</th>\n",
       "      <th>Quartos</th>\n",
       "      <th>Banheiros</th>\n",
       "      <th>Vagas</th>\n",
       "      <th>Preço</th>\n",
       "      <th>Aluguel</th>\n",
       "    </tr>\n",
       "  </thead>\n",
       "  <tbody>\n",
       "  </tbody>\n",
       "</table>\n",
       "</div>"
      ],
      "text/plain": [
       "Empty DataFrame\n",
       "Columns: [Rua, Número, Bairro, Cidade, Área, Quartos, Banheiros, Vagas, Preço, Aluguel]\n",
       "Index: []"
      ]
     },
     "execution_count": 106,
     "metadata": {},
     "output_type": "execute_result"
    }
   ],
   "source": [
    "verificando = df_compra.loc[df['Preço'] < 100000]\n",
    "verificando"
   ]
  },
  {
   "cell_type": "code",
   "execution_count": 107,
   "id": "baab0926",
   "metadata": {
    "ExecuteTime": {
     "end_time": "2024-03-21T15:00:44.353881Z",
     "start_time": "2024-03-21T15:00:44.056438Z"
    },
    "scrolled": false
   },
   "outputs": [
    {
     "data": {
      "image/png": "[encoded data removed]",
      "text/plain": [
       "<Figure size 1700x600 with 1 Axes>"
      ]
     },
     "metadata": {},
     "output_type": "display_data"
    }
   ],
   "source": [
    "# Plotando gráficos de caixa das variáveis normalizadas\n",
    "plt.figure(figsize=(17, 6))\n",
    "sns.boxplot(data=df_compra.Preço)\n",
    "plt.title('Gráfico de Caixa das Variáveis Normalizadas')\n",
    "plt.show()"
   ]
  },
  {
   "cell_type": "code",
   "execution_count": 108,
   "id": "894b3342",
   "metadata": {
    "ExecuteTime": {
     "end_time": "2024-03-21T15:00:44.366832Z",
     "start_time": "2024-03-21T15:00:44.353881Z"
    }
   },
   "outputs": [
    {
     "name": "stdout",
     "output_type": "stream",
     "text": [
      "Q1: 995000.0 , Q3: 3750000.0\n",
      "Limite Inferior: -3137500.0 , Limite Superior: 7882500.0\n"
     ]
    }
   ],
   "source": [
    "# Calculando Q1 e Q3\n",
    "Q1 = df_compra['Preço'].quantile(0.25)\n",
    "Q3 = df_compra['Preço'].quantile(0.75)\n",
    "print('Q1:', Q1, ', Q3:', Q3)\n",
    "\n",
    "# Calculando o IQR\n",
    "IQR = Q3 - Q1\n",
    "\n",
    "# Calculando os limites do outlier\n",
    "Limite_Inferior_preco_compra = Q1 - 1.5 * IQR\n",
    "Limite_Superior_preco_compra = Q3 + 1.5 * IQR\n",
    "\n",
    "print('Limite Inferior:', Limite_Inferior_preco_compra, ', Limite Superior:', Limite_Superior_preco_compra )"
   ]
  },
  {
   "cell_type": "code",
   "execution_count": 109,
   "id": "897eec80",
   "metadata": {
    "ExecuteTime": {
     "end_time": "2024-03-21T15:00:44.422102Z",
     "start_time": "2024-03-21T15:00:44.366832Z"
    },
    "scrolled": true
   },
   "outputs": [
    {
     "data": {
      "text/html": [
       "<div>\n",
       "<style scoped>\n",
       "    .dataframe tbody tr th:only-of-type {\n",
       "        vertical-align: middle;\n",
       "    }\n",
       "\n",
       "    .dataframe tbody tr th {\n",
       "        vertical-align: top;\n",
       "    }\n",
       "\n",
       "    .dataframe thead th {\n",
       "        text-align: right;\n",
       "    }\n",
       "</style>\n",
       "<table border=\"1\" class=\"dataframe\">\n",
       "  <thead>\n",
       "    <tr style=\"text-align: right;\">\n",
       "      <th></th>\n",
       "      <th>Rua</th>\n",
       "      <th>Número</th>\n",
       "      <th>Bairro</th>\n",
       "      <th>Cidade</th>\n",
       "      <th>Área</th>\n",
       "      <th>Quartos</th>\n",
       "      <th>Banheiros</th>\n",
       "      <th>Vagas</th>\n",
       "      <th>Preço</th>\n",
       "      <th>Aluguel</th>\n",
       "    </tr>\n",
       "  </thead>\n",
       "  <tbody>\n",
       "    <tr>\n",
       "      <th>22</th>\n",
       "      <td>Rua dos Plátanos</td>\n",
       "      <td>0</td>\n",
       "      <td>Cidade Jardim</td>\n",
       "      <td>São Paulo</td>\n",
       "      <td>480.0</td>\n",
       "      <td>4</td>\n",
       "      <td>4</td>\n",
       "      <td>6</td>\n",
       "      <td>8700000.0</td>\n",
       "      <td>False</td>\n",
       "    </tr>\n",
       "    <tr>\n",
       "      <th>44</th>\n",
       "      <td>Rua Bolívia</td>\n",
       "      <td>0</td>\n",
       "      <td>Jardim América</td>\n",
       "      <td>São Paulo</td>\n",
       "      <td>663.0</td>\n",
       "      <td>4</td>\n",
       "      <td>7</td>\n",
       "      <td>6</td>\n",
       "      <td>14500000.0</td>\n",
       "      <td>False</td>\n",
       "    </tr>\n",
       "    <tr>\n",
       "      <th>45</th>\n",
       "      <td>Rua General Fonseca Teles</td>\n",
       "      <td>0</td>\n",
       "      <td>Jardim Paulista</td>\n",
       "      <td>São Paulo</td>\n",
       "      <td>420.0</td>\n",
       "      <td>4</td>\n",
       "      <td>6</td>\n",
       "      <td>3</td>\n",
       "      <td>8700000.0</td>\n",
       "      <td>False</td>\n",
       "    </tr>\n",
       "    <tr>\n",
       "      <th>73</th>\n",
       "      <td>Rua Inglaterra</td>\n",
       "      <td>0</td>\n",
       "      <td>Jardim Europa</td>\n",
       "      <td>São Paulo</td>\n",
       "      <td>756.0</td>\n",
       "      <td>5</td>\n",
       "      <td>4</td>\n",
       "      <td>4</td>\n",
       "      <td>37000000.0</td>\n",
       "      <td>False</td>\n",
       "    </tr>\n",
       "    <tr>\n",
       "      <th>77</th>\n",
       "      <td>Jardim Paulista</td>\n",
       "      <td>0</td>\n",
       "      <td>Jardim Paulista</td>\n",
       "      <td>São Paulo</td>\n",
       "      <td>480.0</td>\n",
       "      <td>5</td>\n",
       "      <td>5</td>\n",
       "      <td>4</td>\n",
       "      <td>30000000.0</td>\n",
       "      <td>False</td>\n",
       "    </tr>\n",
       "    <tr>\n",
       "      <th>...</th>\n",
       "      <td>...</td>\n",
       "      <td>...</td>\n",
       "      <td>...</td>\n",
       "      <td>...</td>\n",
       "      <td>...</td>\n",
       "      <td>...</td>\n",
       "      <td>...</td>\n",
       "      <td>...</td>\n",
       "      <td>...</td>\n",
       "      <td>...</td>\n",
       "    </tr>\n",
       "    <tr>\n",
       "      <th>8249</th>\n",
       "      <td>Jardim Leonor</td>\n",
       "      <td>0</td>\n",
       "      <td>Jardim Leonor</td>\n",
       "      <td>São Paulo</td>\n",
       "      <td>480.0</td>\n",
       "      <td>5</td>\n",
       "      <td>4</td>\n",
       "      <td>7</td>\n",
       "      <td>9500000.0</td>\n",
       "      <td>False</td>\n",
       "    </tr>\n",
       "    <tr>\n",
       "      <th>8268</th>\n",
       "      <td>Rua Alvorada do Sul</td>\n",
       "      <td>0</td>\n",
       "      <td>Jardim Guedala</td>\n",
       "      <td>São Paulo</td>\n",
       "      <td>600.0</td>\n",
       "      <td>5</td>\n",
       "      <td>7</td>\n",
       "      <td>5</td>\n",
       "      <td>8000000.0</td>\n",
       "      <td>False</td>\n",
       "    </tr>\n",
       "    <tr>\n",
       "      <th>8278</th>\n",
       "      <td>Jardim Leonor</td>\n",
       "      <td>0</td>\n",
       "      <td>Jardim Leonor</td>\n",
       "      <td>São Paulo</td>\n",
       "      <td>480.0</td>\n",
       "      <td>5</td>\n",
       "      <td>4</td>\n",
       "      <td>7</td>\n",
       "      <td>9500000.0</td>\n",
       "      <td>False</td>\n",
       "    </tr>\n",
       "    <tr>\n",
       "      <th>8297</th>\n",
       "      <td>Rua Alvorada do Sul</td>\n",
       "      <td>0</td>\n",
       "      <td>Jardim Guedala</td>\n",
       "      <td>São Paulo</td>\n",
       "      <td>600.0</td>\n",
       "      <td>5</td>\n",
       "      <td>7</td>\n",
       "      <td>5</td>\n",
       "      <td>8000000.0</td>\n",
       "      <td>False</td>\n",
       "    </tr>\n",
       "    <tr>\n",
       "      <th>8307</th>\n",
       "      <td>Jardim Leonor</td>\n",
       "      <td>0</td>\n",
       "      <td>Jardim Leonor</td>\n",
       "      <td>São Paulo</td>\n",
       "      <td>480.0</td>\n",
       "      <td>5</td>\n",
       "      <td>4</td>\n",
       "      <td>7</td>\n",
       "      <td>9500000.0</td>\n",
       "      <td>False</td>\n",
       "    </tr>\n",
       "  </tbody>\n",
       "</table>\n",
       "<p>625 rows × 10 columns</p>\n",
       "</div>"
      ],
      "text/plain": [
       "                             Rua  Número           Bairro     Cidade   Área  \\\n",
       "22             Rua dos Plátanos        0    Cidade Jardim  São Paulo  480.0   \n",
       "44                  Rua Bolívia        0   Jardim América  São Paulo  663.0   \n",
       "45    Rua General Fonseca Teles        0  Jardim Paulista  São Paulo  420.0   \n",
       "73               Rua Inglaterra        0    Jardim Europa  São Paulo  756.0   \n",
       "77               Jardim Paulista       0  Jardim Paulista  São Paulo  480.0   \n",
       "...                          ...     ...              ...        ...    ...   \n",
       "8249               Jardim Leonor       0    Jardim Leonor  São Paulo  480.0   \n",
       "8268        Rua Alvorada do Sul        0   Jardim Guedala  São Paulo  600.0   \n",
       "8278               Jardim Leonor       0    Jardim Leonor  São Paulo  480.0   \n",
       "8297        Rua Alvorada do Sul        0   Jardim Guedala  São Paulo  600.0   \n",
       "8307               Jardim Leonor       0    Jardim Leonor  São Paulo  480.0   \n",
       "\n",
       "      Quartos  Banheiros  Vagas       Preço  Aluguel  \n",
       "22          4          4      6   8700000.0    False  \n",
       "44          4          7      6  14500000.0    False  \n",
       "45          4          6      3   8700000.0    False  \n",
       "73          5          4      4  37000000.0    False  \n",
       "77          5          5      4  30000000.0    False  \n",
       "...       ...        ...    ...         ...      ...  \n",
       "8249        5          4      7   9500000.0    False  \n",
       "8268        5          7      5   8000000.0    False  \n",
       "8278        5          4      7   9500000.0    False  \n",
       "8297        5          7      5   8000000.0    False  \n",
       "8307        5          4      7   9500000.0    False  \n",
       "\n",
       "[625 rows x 10 columns]"
      ]
     },
     "execution_count": 109,
     "metadata": {},
     "output_type": "execute_result"
    }
   ],
   "source": [
    "valores_acima = df_compra.loc[df_compra['Preço'] > Limite_Superior_preco_compra]\n",
    "valores_acima"
   ]
  },
  {
   "cell_type": "code",
   "execution_count": 110,
   "id": "f3f27143",
   "metadata": {
    "ExecuteTime": {
     "end_time": "2024-03-21T15:00:44.432080Z",
     "start_time": "2024-03-21T15:00:44.422102Z"
    }
   },
   "outputs": [],
   "source": [
    "df_compra = df_compra.drop(valores_acima.index)"
   ]
  },
  {
   "cell_type": "code",
   "execution_count": 111,
   "id": "eeeb5c15",
   "metadata": {
    "ExecuteTime": {
     "end_time": "2024-03-21T15:00:44.467003Z",
     "start_time": "2024-03-21T15:00:44.432080Z"
    }
   },
   "outputs": [],
   "source": [
    "# Calculando os quartis\n",
    "q1 = df_compra['Preço'].quantile(0.25)\n",
    "q3 = df_compra['Preço'].quantile(0.75)\n",
    "\n",
    "# Substituindo os valores que estão fora dos limites pelos quartis\n",
    "df_compra.loc[df_compra['Preço'] < Limite_Inferior_preco_compra, 'Preço'] = q1\n",
    "df_compra.loc[df_compra['Preço'] > Limite_Superior_preco_compra, 'Preço'] = q3"
   ]
  },
  {
   "cell_type": "code",
   "execution_count": 112,
   "id": "33bc07b7",
   "metadata": {
    "ExecuteTime": {
     "end_time": "2024-03-21T15:00:44.741818Z",
     "start_time": "2024-03-21T15:00:44.467003Z"
    },
    "scrolled": true
   },
   "outputs": [
    {
     "data": {
      "image/png": "[encoded data removed]",
      "text/plain": [
       "<Figure size 1700x600 with 1 Axes>"
      ]
     },
     "metadata": {},
     "output_type": "display_data"
    }
   ],
   "source": [
    "# Plotando gráficos de caixa das variáveis normalizadas\n",
    "plt.figure(figsize=(17, 6))\n",
    "sns.boxplot(data=df_compra.Preço)\n",
    "plt.title('Gráfico de Caixa das Variáveis Normalizadas')\n",
    "plt.show()"
   ]
  },
  {
   "cell_type": "code",
   "execution_count": 113,
   "id": "279f14fb",
   "metadata": {
    "ExecuteTime": {
     "end_time": "2024-03-21T15:00:44.753119Z",
     "start_time": "2024-03-21T15:00:44.741818Z"
    }
   },
   "outputs": [
    {
     "name": "stdout",
     "output_type": "stream",
     "text": [
      "Q1: 950000.0 , Q3: 3196250.0\n",
      "Limite Inferior: -2419375.0 , Limite Superior: 6565625.0\n"
     ]
    }
   ],
   "source": [
    "# Calculando Q1 e Q3\n",
    "Q1 = df_compra['Preço'].quantile(0.25)\n",
    "Q3 = df_compra['Preço'].quantile(0.75)\n",
    "print('Q1:', Q1, ', Q3:', Q3)\n",
    "\n",
    "# Calculando o IQR\n",
    "IQR = Q3 - Q1\n",
    "\n",
    "# Calculando os limites do outlier\n",
    "Limite_Inferior_preco_compra = Q1 - 1.5 * IQR\n",
    "Limite_Superior_preco_compra = Q3 + 1.5 * IQR\n",
    "\n",
    "print('Limite Inferior:', Limite_Inferior_preco_compra, ', Limite Superior:', Limite_Superior_preco_compra )"
   ]
  },
  {
   "cell_type": "code",
   "execution_count": 114,
   "id": "191adb46",
   "metadata": {
    "ExecuteTime": {
     "end_time": "2024-03-21T15:00:44.873112Z",
     "start_time": "2024-03-21T15:00:44.753119Z"
    },
    "scrolled": false
   },
   "outputs": [
    {
     "data": {
      "text/html": [
       "<div>\n",
       "<style scoped>\n",
       "    .dataframe tbody tr th:only-of-type {\n",
       "        vertical-align: middle;\n",
       "    }\n",
       "\n",
       "    .dataframe tbody tr th {\n",
       "        vertical-align: top;\n",
       "    }\n",
       "\n",
       "    .dataframe thead th {\n",
       "        text-align: right;\n",
       "    }\n",
       "</style>\n",
       "<table border=\"1\" class=\"dataframe\">\n",
       "  <thead>\n",
       "    <tr style=\"text-align: right;\">\n",
       "      <th></th>\n",
       "      <th>Rua</th>\n",
       "      <th>Número</th>\n",
       "      <th>Bairro</th>\n",
       "      <th>Cidade</th>\n",
       "      <th>Área</th>\n",
       "      <th>Quartos</th>\n",
       "      <th>Banheiros</th>\n",
       "      <th>Vagas</th>\n",
       "      <th>Preço</th>\n",
       "      <th>Aluguel</th>\n",
       "    </tr>\n",
       "  </thead>\n",
       "  <tbody>\n",
       "    <tr>\n",
       "      <th>0</th>\n",
       "      <td>Avenida Itacira</td>\n",
       "      <td>255</td>\n",
       "      <td>Planalto Paulista</td>\n",
       "      <td>São Paulo</td>\n",
       "      <td>480.0</td>\n",
       "      <td>4</td>\n",
       "      <td>8</td>\n",
       "      <td>6</td>\n",
       "      <td>7000000.0</td>\n",
       "      <td>False</td>\n",
       "    </tr>\n",
       "    <tr>\n",
       "      <th>212</th>\n",
       "      <td>Avenida George Saville Dodd</td>\n",
       "      <td>0</td>\n",
       "      <td>Jardim Guedala</td>\n",
       "      <td>São Paulo</td>\n",
       "      <td>770.0</td>\n",
       "      <td>4</td>\n",
       "      <td>1</td>\n",
       "      <td>6</td>\n",
       "      <td>7000000.0</td>\n",
       "      <td>False</td>\n",
       "    </tr>\n",
       "    <tr>\n",
       "      <th>222</th>\n",
       "      <td>Jardim Guedala</td>\n",
       "      <td>0</td>\n",
       "      <td>Jardim Guedala</td>\n",
       "      <td>São Paulo</td>\n",
       "      <td>750.0</td>\n",
       "      <td>4</td>\n",
       "      <td>7</td>\n",
       "      <td>4</td>\n",
       "      <td>6900000.0</td>\n",
       "      <td>False</td>\n",
       "    </tr>\n",
       "    <tr>\n",
       "      <th>225</th>\n",
       "      <td>Jardim Guedala</td>\n",
       "      <td>0</td>\n",
       "      <td>Jardim Guedala</td>\n",
       "      <td>São Paulo</td>\n",
       "      <td>750.0</td>\n",
       "      <td>4</td>\n",
       "      <td>7</td>\n",
       "      <td>4</td>\n",
       "      <td>6900000.0</td>\n",
       "      <td>False</td>\n",
       "    </tr>\n",
       "    <tr>\n",
       "      <th>359</th>\n",
       "      <td>Rua Constantino de Sousa</td>\n",
       "      <td>0</td>\n",
       "      <td>Campo Belo</td>\n",
       "      <td>São Paulo</td>\n",
       "      <td>480.0</td>\n",
       "      <td>4</td>\n",
       "      <td>7</td>\n",
       "      <td>5</td>\n",
       "      <td>7200000.0</td>\n",
       "      <td>False</td>\n",
       "    </tr>\n",
       "    <tr>\n",
       "      <th>...</th>\n",
       "      <td>...</td>\n",
       "      <td>...</td>\n",
       "      <td>...</td>\n",
       "      <td>...</td>\n",
       "      <td>...</td>\n",
       "      <td>...</td>\n",
       "      <td>...</td>\n",
       "      <td>...</td>\n",
       "      <td>...</td>\n",
       "      <td>...</td>\n",
       "    </tr>\n",
       "    <tr>\n",
       "      <th>7805</th>\n",
       "      <td>Morumbi</td>\n",
       "      <td>0</td>\n",
       "      <td>Morumbi</td>\n",
       "      <td>São Paulo</td>\n",
       "      <td>480.0</td>\n",
       "      <td>5</td>\n",
       "      <td>6</td>\n",
       "      <td>4</td>\n",
       "      <td>7000000.0</td>\n",
       "      <td>False</td>\n",
       "    </tr>\n",
       "    <tr>\n",
       "      <th>7840</th>\n",
       "      <td>Rua Aristeu Seixas</td>\n",
       "      <td>0</td>\n",
       "      <td>Morumbi</td>\n",
       "      <td>São Paulo</td>\n",
       "      <td>670.0</td>\n",
       "      <td>5</td>\n",
       "      <td>2</td>\n",
       "      <td>4</td>\n",
       "      <td>7500000.0</td>\n",
       "      <td>False</td>\n",
       "    </tr>\n",
       "    <tr>\n",
       "      <th>8033</th>\n",
       "      <td>Rua Caraúna</td>\n",
       "      <td>0</td>\n",
       "      <td>Vila Madalena</td>\n",
       "      <td>São Paulo</td>\n",
       "      <td>632.0</td>\n",
       "      <td>4</td>\n",
       "      <td>5</td>\n",
       "      <td>5</td>\n",
       "      <td>7000000.0</td>\n",
       "      <td>False</td>\n",
       "    </tr>\n",
       "    <tr>\n",
       "      <th>8138</th>\n",
       "      <td>Rua Iratinga</td>\n",
       "      <td>0</td>\n",
       "      <td>Paraisópolis</td>\n",
       "      <td>São Paulo</td>\n",
       "      <td>480.0</td>\n",
       "      <td>4</td>\n",
       "      <td>6</td>\n",
       "      <td>4</td>\n",
       "      <td>7000000.0</td>\n",
       "      <td>False</td>\n",
       "    </tr>\n",
       "    <tr>\n",
       "      <th>8189</th>\n",
       "      <td>Avenida George Saville Dodd</td>\n",
       "      <td>0</td>\n",
       "      <td>Jardim Guedala</td>\n",
       "      <td>São Paulo</td>\n",
       "      <td>480.0</td>\n",
       "      <td>5</td>\n",
       "      <td>4</td>\n",
       "      <td>6</td>\n",
       "      <td>7000000.0</td>\n",
       "      <td>False</td>\n",
       "    </tr>\n",
       "  </tbody>\n",
       "</table>\n",
       "<p>141 rows × 10 columns</p>\n",
       "</div>"
      ],
      "text/plain": [
       "                               Rua  Número             Bairro     Cidade  \\\n",
       "0                  Avenida Itacira     255  Planalto Paulista  São Paulo   \n",
       "212   Avenida George Saville Dodd        0     Jardim Guedala  São Paulo   \n",
       "222                 Jardim Guedala       0     Jardim Guedala  São Paulo   \n",
       "225                 Jardim Guedala       0     Jardim Guedala  São Paulo   \n",
       "359      Rua Constantino de Sousa        0         Campo Belo  São Paulo   \n",
       "...                            ...     ...                ...        ...   \n",
       "7805                       Morumbi       0            Morumbi  São Paulo   \n",
       "7840           Rua Aristeu Seixas        0            Morumbi  São Paulo   \n",
       "8033                  Rua Caraúna        0      Vila Madalena  São Paulo   \n",
       "8138                 Rua Iratinga        0       Paraisópolis  São Paulo   \n",
       "8189  Avenida George Saville Dodd        0     Jardim Guedala  São Paulo   \n",
       "\n",
       "       Área  Quartos  Banheiros  Vagas      Preço  Aluguel  \n",
       "0     480.0        4          8      6  7000000.0    False  \n",
       "212   770.0        4          1      6  7000000.0    False  \n",
       "222   750.0        4          7      4  6900000.0    False  \n",
       "225   750.0        4          7      4  6900000.0    False  \n",
       "359   480.0        4          7      5  7200000.0    False  \n",
       "...     ...      ...        ...    ...        ...      ...  \n",
       "7805  480.0        5          6      4  7000000.0    False  \n",
       "7840  670.0        5          2      4  7500000.0    False  \n",
       "8033  632.0        4          5      5  7000000.0    False  \n",
       "8138  480.0        4          6      4  7000000.0    False  \n",
       "8189  480.0        5          4      6  7000000.0    False  \n",
       "\n",
       "[141 rows x 10 columns]"
      ]
     },
     "execution_count": 114,
     "metadata": {},
     "output_type": "execute_result"
    }
   ],
   "source": [
    "valores_acima = df_compra.loc[df_compra['Preço'] > Limite_Superior_preco_compra]\n",
    "valores_acima"
   ]
  },
  {
   "cell_type": "code",
   "execution_count": 115,
   "id": "34546a6d",
   "metadata": {
    "ExecuteTime": {
     "end_time": "2024-03-21T15:00:44.895676Z",
     "start_time": "2024-03-21T15:00:44.873112Z"
    }
   },
   "outputs": [],
   "source": [
    "# Calculando os quartis\n",
    "q1 = df_compra['Preço'].quantile(0.25)\n",
    "q3 = df_compra['Preço'].quantile(0.75)\n",
    "\n",
    "# Substituindo os valores que estão fora dos limites pelos quartis\n",
    "df_compra.loc[df_compra['Preço'] < Limite_Inferior_preco_compra, 'Preço'] = q1\n",
    "df_compra.loc[df_compra['Preço'] > Limite_Superior_preco_compra, 'Preço'] = q3"
   ]
  },
  {
   "cell_type": "code",
   "execution_count": 116,
   "id": "ac413375",
   "metadata": {
    "ExecuteTime": {
     "end_time": "2024-03-21T15:00:45.227644Z",
     "start_time": "2024-03-21T15:00:44.895676Z"
    },
    "scrolled": false
   },
   "outputs": [
    {
     "data": {
      "image/png": "[encoded data removed]",
      "text/plain": [
       "<Figure size 1700x600 with 1 Axes>"
      ]
     },
     "metadata": {},
     "output_type": "display_data"
    }
   ],
   "source": [
    "# Plotando gráfico de caixa das variáveis normalizadas\n",
    "plt.figure(figsize=(17, 6))\n",
    "sns.boxplot(data=df_compra.Preço)\n",
    "plt.title('Gráfico de Caixa das Variáveis Normalizadas')\n",
    "plt.show()"
   ]
  },
  {
   "cell_type": "markdown",
   "id": "67396632",
   "metadata": {},
   "source": [
    "##### 3.3.6.3 Aluguel"
   ]
  },
  {
   "cell_type": "code",
   "execution_count": 117,
   "id": "36d54448",
   "metadata": {
    "ExecuteTime": {
     "end_time": "2024-03-21T15:00:45.252165Z",
     "start_time": "2024-03-21T15:00:45.227644Z"
    },
    "scrolled": true
   },
   "outputs": [
    {
     "data": {
      "text/html": [
       "<div>\n",
       "<style scoped>\n",
       "    .dataframe tbody tr th:only-of-type {\n",
       "        vertical-align: middle;\n",
       "    }\n",
       "\n",
       "    .dataframe tbody tr th {\n",
       "        vertical-align: top;\n",
       "    }\n",
       "\n",
       "    .dataframe thead th {\n",
       "        text-align: right;\n",
       "    }\n",
       "</style>\n",
       "<table border=\"1\" class=\"dataframe\">\n",
       "  <thead>\n",
       "    <tr style=\"text-align: right;\">\n",
       "      <th></th>\n",
       "      <th>Rua</th>\n",
       "      <th>Número</th>\n",
       "      <th>Bairro</th>\n",
       "      <th>Cidade</th>\n",
       "      <th>Área</th>\n",
       "      <th>Quartos</th>\n",
       "      <th>Banheiros</th>\n",
       "      <th>Vagas</th>\n",
       "      <th>Preço</th>\n",
       "      <th>Aluguel</th>\n",
       "    </tr>\n",
       "  </thead>\n",
       "  <tbody>\n",
       "    <tr>\n",
       "      <th>0</th>\n",
       "      <td>Rua Fonseca da Costa</td>\n",
       "      <td>0</td>\n",
       "      <td>Bosque da Saúde</td>\n",
       "      <td>São Paulo</td>\n",
       "      <td>650.0</td>\n",
       "      <td>4</td>\n",
       "      <td>6</td>\n",
       "      <td>4</td>\n",
       "      <td>11000.0</td>\n",
       "      <td>True</td>\n",
       "    </tr>\n",
       "    <tr>\n",
       "      <th>1</th>\n",
       "      <td>Jardim Paulistano</td>\n",
       "      <td>0</td>\n",
       "      <td>Jardim Paulistano</td>\n",
       "      <td>São Paulo</td>\n",
       "      <td>230.0</td>\n",
       "      <td>2</td>\n",
       "      <td>3</td>\n",
       "      <td>2</td>\n",
       "      <td>12000.0</td>\n",
       "      <td>True</td>\n",
       "    </tr>\n",
       "    <tr>\n",
       "      <th>2</th>\n",
       "      <td>Rua Maestro Elias Lobo</td>\n",
       "      <td>0</td>\n",
       "      <td>Jardim Paulista</td>\n",
       "      <td>São Paulo</td>\n",
       "      <td>542.0</td>\n",
       "      <td>5</td>\n",
       "      <td>8</td>\n",
       "      <td>4</td>\n",
       "      <td>25000.0</td>\n",
       "      <td>True</td>\n",
       "    </tr>\n",
       "    <tr>\n",
       "      <th>3</th>\n",
       "      <td>Rua Guararapes</td>\n",
       "      <td>0</td>\n",
       "      <td>Lapa</td>\n",
       "      <td>São Paulo</td>\n",
       "      <td>515.0</td>\n",
       "      <td>3</td>\n",
       "      <td>5</td>\n",
       "      <td>8</td>\n",
       "      <td>30000.0</td>\n",
       "      <td>True</td>\n",
       "    </tr>\n",
       "    <tr>\n",
       "      <th>4</th>\n",
       "      <td>Rua Alvarenga</td>\n",
       "      <td>0</td>\n",
       "      <td>Butantã</td>\n",
       "      <td>São Paulo</td>\n",
       "      <td>400.0</td>\n",
       "      <td>4</td>\n",
       "      <td>3</td>\n",
       "      <td>4</td>\n",
       "      <td>10000.0</td>\n",
       "      <td>True</td>\n",
       "    </tr>\n",
       "    <tr>\n",
       "      <th>...</th>\n",
       "      <td>...</td>\n",
       "      <td>...</td>\n",
       "      <td>...</td>\n",
       "      <td>...</td>\n",
       "      <td>...</td>\n",
       "      <td>...</td>\n",
       "      <td>...</td>\n",
       "      <td>...</td>\n",
       "      <td>...</td>\n",
       "      <td>...</td>\n",
       "    </tr>\n",
       "    <tr>\n",
       "      <th>829</th>\n",
       "      <td>Rua Manuel Onha</td>\n",
       "      <td>514</td>\n",
       "      <td>Vila Oratório</td>\n",
       "      <td>São Paulo</td>\n",
       "      <td>180.0</td>\n",
       "      <td>3</td>\n",
       "      <td>2</td>\n",
       "      <td>2</td>\n",
       "      <td>2200.0</td>\n",
       "      <td>True</td>\n",
       "    </tr>\n",
       "    <tr>\n",
       "      <th>830</th>\n",
       "      <td>Rua Professor Henrique Neves Lefevre</td>\n",
       "      <td>617</td>\n",
       "      <td>Jardim Petrópolis</td>\n",
       "      <td>São Paulo</td>\n",
       "      <td>200.0</td>\n",
       "      <td>3</td>\n",
       "      <td>2</td>\n",
       "      <td>1</td>\n",
       "      <td>6000.0</td>\n",
       "      <td>True</td>\n",
       "    </tr>\n",
       "    <tr>\n",
       "      <th>831</th>\n",
       "      <td>Rua Manuel Onha</td>\n",
       "      <td>514</td>\n",
       "      <td>Vila Oratório</td>\n",
       "      <td>São Paulo</td>\n",
       "      <td>180.0</td>\n",
       "      <td>3</td>\n",
       "      <td>2</td>\n",
       "      <td>2</td>\n",
       "      <td>2200.0</td>\n",
       "      <td>True</td>\n",
       "    </tr>\n",
       "    <tr>\n",
       "      <th>832</th>\n",
       "      <td>Rua Professor Henrique Neves Lefevre</td>\n",
       "      <td>617</td>\n",
       "      <td>Jardim Petrópolis</td>\n",
       "      <td>São Paulo</td>\n",
       "      <td>200.0</td>\n",
       "      <td>3</td>\n",
       "      <td>2</td>\n",
       "      <td>1</td>\n",
       "      <td>6000.0</td>\n",
       "      <td>True</td>\n",
       "    </tr>\n",
       "    <tr>\n",
       "      <th>833</th>\n",
       "      <td>Rua Manuel Onha</td>\n",
       "      <td>514</td>\n",
       "      <td>Vila Oratório</td>\n",
       "      <td>São Paulo</td>\n",
       "      <td>180.0</td>\n",
       "      <td>3</td>\n",
       "      <td>2</td>\n",
       "      <td>2</td>\n",
       "      <td>2200.0</td>\n",
       "      <td>True</td>\n",
       "    </tr>\n",
       "  </tbody>\n",
       "</table>\n",
       "<p>834 rows × 10 columns</p>\n",
       "</div>"
      ],
      "text/plain": [
       "                                      Rua  Número             Bairro  \\\n",
       "0                   Rua Fonseca da Costa        0    Bosque da Saúde   \n",
       "1                       Jardim Paulistano       0  Jardim Paulistano   \n",
       "2                 Rua Maestro Elias Lobo        0    Jardim Paulista   \n",
       "3                         Rua Guararapes        0               Lapa   \n",
       "4                          Rua Alvarenga        0            Butantã   \n",
       "..                                    ...     ...                ...   \n",
       "829                       Rua Manuel Onha     514      Vila Oratório   \n",
       "830  Rua Professor Henrique Neves Lefevre     617  Jardim Petrópolis   \n",
       "831                       Rua Manuel Onha     514      Vila Oratório   \n",
       "832  Rua Professor Henrique Neves Lefevre     617  Jardim Petrópolis   \n",
       "833                       Rua Manuel Onha     514      Vila Oratório   \n",
       "\n",
       "        Cidade   Área  Quartos  Banheiros  Vagas    Preço  Aluguel  \n",
       "0    São Paulo  650.0        4          6      4  11000.0     True  \n",
       "1    São Paulo  230.0        2          3      2  12000.0     True  \n",
       "2    São Paulo  542.0        5          8      4  25000.0     True  \n",
       "3    São Paulo  515.0        3          5      8  30000.0     True  \n",
       "4    São Paulo  400.0        4          3      4  10000.0     True  \n",
       "..         ...    ...      ...        ...    ...      ...      ...  \n",
       "829  São Paulo  180.0        3          2      2   2200.0     True  \n",
       "830  São Paulo  200.0        3          2      1   6000.0     True  \n",
       "831  São Paulo  180.0        3          2      2   2200.0     True  \n",
       "832  São Paulo  200.0        3          2      1   6000.0     True  \n",
       "833  São Paulo  180.0        3          2      2   2200.0     True  \n",
       "\n",
       "[834 rows x 10 columns]"
      ]
     },
     "execution_count": 117,
     "metadata": {},
     "output_type": "execute_result"
    }
   ],
   "source": [
    "df_aluguel.reset_index(drop=True, inplace=True)\n",
    "df_aluguel"
   ]
  },
  {
   "cell_type": "code",
   "execution_count": 118,
   "id": "d86ba5c9",
   "metadata": {
    "ExecuteTime": {
     "end_time": "2024-03-21T15:00:45.281759Z",
     "start_time": "2024-03-21T15:00:45.252165Z"
    },
    "scrolled": false
   },
   "outputs": [
    {
     "data": {
      "text/plain": [
       "Preço\n",
       "15000.0    72\n",
       "20000.0    65\n",
       "10000.0    59\n",
       "12000.0    51\n",
       "25000.0    49\n",
       "           ..\n",
       "37000.0     1\n",
       "22500.0     1\n",
       "5420.0      1\n",
       "1650.0      1\n",
       "27000.0     1\n",
       "Name: count, Length: 97, dtype: int64"
      ]
     },
     "execution_count": 118,
     "metadata": {},
     "output_type": "execute_result"
    }
   ],
   "source": [
    "df_aluguel.Preço.value_counts()"
   ]
  },
  {
   "cell_type": "code",
   "execution_count": 119,
   "id": "59a08d50",
   "metadata": {
    "ExecuteTime": {
     "end_time": "2024-03-21T15:00:45.601489Z",
     "start_time": "2024-03-21T15:00:45.281759Z"
    },
    "scrolled": true
   },
   "outputs": [
    {
     "data": {
      "image/png": "[encoded data removed]",
      "text/plain": [
       "<Figure size 1700x600 with 1 Axes>"
      ]
     },
     "metadata": {},
     "output_type": "display_data"
    }
   ],
   "source": [
    "# Plotando gráficos de caixa das variáveis normalizadas\n",
    "plt.figure(figsize=(17, 6))\n",
    "sns.boxplot(data=df_aluguel.Preço)\n",
    "plt.title('Gráfico de Caixa das Variáveis Normalizadas')\n",
    "plt.show()"
   ]
  },
  {
   "cell_type": "code",
   "execution_count": 120,
   "id": "4f014158",
   "metadata": {
    "ExecuteTime": {
     "end_time": "2024-03-21T15:00:45.614785Z",
     "start_time": "2024-03-21T15:00:45.601489Z"
    }
   },
   "outputs": [
    {
     "name": "stdout",
     "output_type": "stream",
     "text": [
      "Q1: 10000.0 , Q3: 26750.0\n",
      "Limite Inferior: -15125.0 , Limite Superior: 51875.0\n"
     ]
    }
   ],
   "source": [
    "# Calculando Q1 e Q3\n",
    "Q1 = df_aluguel['Preço'].quantile(0.25)\n",
    "Q3 = df_aluguel['Preço'].quantile(0.75)\n",
    "print('Q1:', Q1, ', Q3:', Q3)\n",
    "\n",
    "# Calculando o IQR\n",
    "IQR = Q3 - Q1\n",
    "\n",
    "# Calculando os limites do outlier\n",
    "Limite_Inferior_preco_aluguel = Q1 - 1.5 * IQR\n",
    "Limite_Superior_preco_aluguel = Q3 + 1.5 * IQR\n",
    "\n",
    "print('Limite Inferior:', Limite_Inferior_preco_aluguel, ', Limite Superior:', Limite_Superior_preco_aluguel )"
   ]
  },
  {
   "cell_type": "code",
   "execution_count": 121,
   "id": "0f4f66a9",
   "metadata": {
    "ExecuteTime": {
     "end_time": "2024-03-21T15:00:45.690837Z",
     "start_time": "2024-03-21T15:00:45.614785Z"
    }
   },
   "outputs": [
    {
     "data": {
      "text/html": [
       "<div>\n",
       "<style scoped>\n",
       "    .dataframe tbody tr th:only-of-type {\n",
       "        vertical-align: middle;\n",
       "    }\n",
       "\n",
       "    .dataframe tbody tr th {\n",
       "        vertical-align: top;\n",
       "    }\n",
       "\n",
       "    .dataframe thead th {\n",
       "        text-align: right;\n",
       "    }\n",
       "</style>\n",
       "<table border=\"1\" class=\"dataframe\">\n",
       "  <thead>\n",
       "    <tr style=\"text-align: right;\">\n",
       "      <th></th>\n",
       "      <th>Rua</th>\n",
       "      <th>Número</th>\n",
       "      <th>Bairro</th>\n",
       "      <th>Cidade</th>\n",
       "      <th>Área</th>\n",
       "      <th>Quartos</th>\n",
       "      <th>Banheiros</th>\n",
       "      <th>Vagas</th>\n",
       "      <th>Preço</th>\n",
       "      <th>Aluguel</th>\n",
       "    </tr>\n",
       "  </thead>\n",
       "  <tbody>\n",
       "    <tr>\n",
       "      <th>7</th>\n",
       "      <td>Morumbi</td>\n",
       "      <td>0</td>\n",
       "      <td>Morumbi</td>\n",
       "      <td>São Paulo</td>\n",
       "      <td>480.0</td>\n",
       "      <td>3</td>\n",
       "      <td>5</td>\n",
       "      <td>6</td>\n",
       "      <td>80000.0</td>\n",
       "      <td>True</td>\n",
       "    </tr>\n",
       "    <tr>\n",
       "      <th>83</th>\n",
       "      <td>Rua Marcondésia</td>\n",
       "      <td>0</td>\n",
       "      <td>Chácara Monte Alegre</td>\n",
       "      <td>São Paulo</td>\n",
       "      <td>800.0</td>\n",
       "      <td>4</td>\n",
       "      <td>6</td>\n",
       "      <td>5</td>\n",
       "      <td>65000.0</td>\n",
       "      <td>True</td>\n",
       "    </tr>\n",
       "    <tr>\n",
       "      <th>85</th>\n",
       "      <td>Rua Professor Luiz Oliani</td>\n",
       "      <td>0</td>\n",
       "      <td>Morumbi</td>\n",
       "      <td>São Paulo</td>\n",
       "      <td>480.0</td>\n",
       "      <td>4</td>\n",
       "      <td>4</td>\n",
       "      <td>4</td>\n",
       "      <td>60000.0</td>\n",
       "      <td>True</td>\n",
       "    </tr>\n",
       "    <tr>\n",
       "      <th>90</th>\n",
       "      <td>Jardim América</td>\n",
       "      <td>0</td>\n",
       "      <td>Jardim América</td>\n",
       "      <td>São Paulo</td>\n",
       "      <td>850.0</td>\n",
       "      <td>5</td>\n",
       "      <td>5</td>\n",
       "      <td>6</td>\n",
       "      <td>70000.0</td>\n",
       "      <td>True</td>\n",
       "    </tr>\n",
       "    <tr>\n",
       "      <th>92</th>\n",
       "      <td>Rua Argentina</td>\n",
       "      <td>0</td>\n",
       "      <td>Jardim América</td>\n",
       "      <td>São Paulo</td>\n",
       "      <td>880.0</td>\n",
       "      <td>3</td>\n",
       "      <td>5</td>\n",
       "      <td>4</td>\n",
       "      <td>65000.0</td>\n",
       "      <td>True</td>\n",
       "    </tr>\n",
       "    <tr>\n",
       "      <th>103</th>\n",
       "      <td>Rua Trinta e Um de Março</td>\n",
       "      <td>0</td>\n",
       "      <td>Fazenda Morumbi</td>\n",
       "      <td>São Paulo</td>\n",
       "      <td>480.0</td>\n",
       "      <td>4</td>\n",
       "      <td>5</td>\n",
       "      <td>7</td>\n",
       "      <td>60000.0</td>\n",
       "      <td>True</td>\n",
       "    </tr>\n",
       "    <tr>\n",
       "      <th>116</th>\n",
       "      <td>Rua Teixeira de Freitas</td>\n",
       "      <td>0</td>\n",
       "      <td>Santo Amaro</td>\n",
       "      <td>São Paulo</td>\n",
       "      <td>800.0</td>\n",
       "      <td>4</td>\n",
       "      <td>4</td>\n",
       "      <td>8</td>\n",
       "      <td>55000.0</td>\n",
       "      <td>True</td>\n",
       "    </tr>\n",
       "    <tr>\n",
       "      <th>167</th>\n",
       "      <td>Rua Argentina</td>\n",
       "      <td>0</td>\n",
       "      <td>Jardim América</td>\n",
       "      <td>São Paulo</td>\n",
       "      <td>880.0</td>\n",
       "      <td>4</td>\n",
       "      <td>8</td>\n",
       "      <td>8</td>\n",
       "      <td>65000.0</td>\n",
       "      <td>True</td>\n",
       "    </tr>\n",
       "    <tr>\n",
       "      <th>171</th>\n",
       "      <td>Rua Argentina</td>\n",
       "      <td>0</td>\n",
       "      <td>Jardim América</td>\n",
       "      <td>São Paulo</td>\n",
       "      <td>860.0</td>\n",
       "      <td>3</td>\n",
       "      <td>6</td>\n",
       "      <td>4</td>\n",
       "      <td>65000.0</td>\n",
       "      <td>True</td>\n",
       "    </tr>\n",
       "    <tr>\n",
       "      <th>174</th>\n",
       "      <td>Rua Argentina</td>\n",
       "      <td>0</td>\n",
       "      <td>Jardim América</td>\n",
       "      <td>São Paulo</td>\n",
       "      <td>880.0</td>\n",
       "      <td>4</td>\n",
       "      <td>8</td>\n",
       "      <td>8</td>\n",
       "      <td>65000.0</td>\n",
       "      <td>True</td>\n",
       "    </tr>\n",
       "    <tr>\n",
       "      <th>179</th>\n",
       "      <td>Rua Argentina</td>\n",
       "      <td>0</td>\n",
       "      <td>Jardim América</td>\n",
       "      <td>São Paulo</td>\n",
       "      <td>860.0</td>\n",
       "      <td>3</td>\n",
       "      <td>6</td>\n",
       "      <td>4</td>\n",
       "      <td>65000.0</td>\n",
       "      <td>True</td>\n",
       "    </tr>\n",
       "    <tr>\n",
       "      <th>188</th>\n",
       "      <td>Jardim Europa</td>\n",
       "      <td>0</td>\n",
       "      <td>Jardim Europa</td>\n",
       "      <td>São Paulo</td>\n",
       "      <td>480.0</td>\n",
       "      <td>4</td>\n",
       "      <td>4</td>\n",
       "      <td>6</td>\n",
       "      <td>64000.0</td>\n",
       "      <td>True</td>\n",
       "    </tr>\n",
       "    <tr>\n",
       "      <th>195</th>\n",
       "      <td>Jardim Leonor</td>\n",
       "      <td>0</td>\n",
       "      <td>Jardim Leonor</td>\n",
       "      <td>São Paulo</td>\n",
       "      <td>480.0</td>\n",
       "      <td>5</td>\n",
       "      <td>4</td>\n",
       "      <td>5</td>\n",
       "      <td>55000.0</td>\n",
       "      <td>True</td>\n",
       "    </tr>\n",
       "    <tr>\n",
       "      <th>196</th>\n",
       "      <td>Jardim Leonor</td>\n",
       "      <td>0</td>\n",
       "      <td>Jardim Leonor</td>\n",
       "      <td>São Paulo</td>\n",
       "      <td>480.0</td>\n",
       "      <td>5</td>\n",
       "      <td>4</td>\n",
       "      <td>5</td>\n",
       "      <td>55000.0</td>\n",
       "      <td>True</td>\n",
       "    </tr>\n",
       "    <tr>\n",
       "      <th>207</th>\n",
       "      <td>Jardim Leonor</td>\n",
       "      <td>0</td>\n",
       "      <td>Jardim Leonor</td>\n",
       "      <td>São Paulo</td>\n",
       "      <td>480.0</td>\n",
       "      <td>5</td>\n",
       "      <td>4</td>\n",
       "      <td>5</td>\n",
       "      <td>55000.0</td>\n",
       "      <td>True</td>\n",
       "    </tr>\n",
       "    <tr>\n",
       "      <th>232</th>\n",
       "      <td>Jardim América</td>\n",
       "      <td>0</td>\n",
       "      <td>Jardim América</td>\n",
       "      <td>São Paulo</td>\n",
       "      <td>480.0</td>\n",
       "      <td>5</td>\n",
       "      <td>5</td>\n",
       "      <td>4</td>\n",
       "      <td>100000.0</td>\n",
       "      <td>True</td>\n",
       "    </tr>\n",
       "    <tr>\n",
       "      <th>235</th>\n",
       "      <td>Vila Tramontano</td>\n",
       "      <td>0</td>\n",
       "      <td>Vila Tramontano</td>\n",
       "      <td>São Paulo</td>\n",
       "      <td>480.0</td>\n",
       "      <td>4</td>\n",
       "      <td>4</td>\n",
       "      <td>4</td>\n",
       "      <td>100000.0</td>\n",
       "      <td>True</td>\n",
       "    </tr>\n",
       "    <tr>\n",
       "      <th>270</th>\n",
       "      <td>Cidade Jardim</td>\n",
       "      <td>0</td>\n",
       "      <td>Cidade Jardim</td>\n",
       "      <td>São Paulo</td>\n",
       "      <td>480.0</td>\n",
       "      <td>5</td>\n",
       "      <td>5</td>\n",
       "      <td>4</td>\n",
       "      <td>90000.0</td>\n",
       "      <td>True</td>\n",
       "    </tr>\n",
       "    <tr>\n",
       "      <th>271</th>\n",
       "      <td>Cidade Jardim</td>\n",
       "      <td>0</td>\n",
       "      <td>Cidade Jardim</td>\n",
       "      <td>São Paulo</td>\n",
       "      <td>480.0</td>\n",
       "      <td>5</td>\n",
       "      <td>5</td>\n",
       "      <td>4</td>\n",
       "      <td>90000.0</td>\n",
       "      <td>True</td>\n",
       "    </tr>\n",
       "    <tr>\n",
       "      <th>278</th>\n",
       "      <td>Rua Costa Rica</td>\n",
       "      <td>0</td>\n",
       "      <td>Jardim América</td>\n",
       "      <td>São Paulo</td>\n",
       "      <td>480.0</td>\n",
       "      <td>5</td>\n",
       "      <td>7</td>\n",
       "      <td>4</td>\n",
       "      <td>100000.0</td>\n",
       "      <td>True</td>\n",
       "    </tr>\n",
       "    <tr>\n",
       "      <th>281</th>\n",
       "      <td>Morumbi</td>\n",
       "      <td>0</td>\n",
       "      <td>Morumbi</td>\n",
       "      <td>São Paulo</td>\n",
       "      <td>480.0</td>\n",
       "      <td>3</td>\n",
       "      <td>8</td>\n",
       "      <td>4</td>\n",
       "      <td>120000.0</td>\n",
       "      <td>True</td>\n",
       "    </tr>\n",
       "    <tr>\n",
       "      <th>284</th>\n",
       "      <td>Pinheiros</td>\n",
       "      <td>0</td>\n",
       "      <td>Pinheiros</td>\n",
       "      <td>São Paulo</td>\n",
       "      <td>480.0</td>\n",
       "      <td>4</td>\n",
       "      <td>4</td>\n",
       "      <td>8</td>\n",
       "      <td>85000.0</td>\n",
       "      <td>True</td>\n",
       "    </tr>\n",
       "    <tr>\n",
       "      <th>287</th>\n",
       "      <td>Jardim América</td>\n",
       "      <td>0</td>\n",
       "      <td>Jardim América</td>\n",
       "      <td>São Paulo</td>\n",
       "      <td>860.0</td>\n",
       "      <td>3</td>\n",
       "      <td>4</td>\n",
       "      <td>4</td>\n",
       "      <td>60000.0</td>\n",
       "      <td>True</td>\n",
       "    </tr>\n",
       "    <tr>\n",
       "      <th>304</th>\n",
       "      <td>Rua Costa Rica</td>\n",
       "      <td>0</td>\n",
       "      <td>Jardim América</td>\n",
       "      <td>São Paulo</td>\n",
       "      <td>480.0</td>\n",
       "      <td>5</td>\n",
       "      <td>7</td>\n",
       "      <td>4</td>\n",
       "      <td>100000.0</td>\n",
       "      <td>True</td>\n",
       "    </tr>\n",
       "    <tr>\n",
       "      <th>307</th>\n",
       "      <td>Pinheiros</td>\n",
       "      <td>0</td>\n",
       "      <td>Pinheiros</td>\n",
       "      <td>São Paulo</td>\n",
       "      <td>480.0</td>\n",
       "      <td>4</td>\n",
       "      <td>4</td>\n",
       "      <td>8</td>\n",
       "      <td>85000.0</td>\n",
       "      <td>True</td>\n",
       "    </tr>\n",
       "    <tr>\n",
       "      <th>310</th>\n",
       "      <td>Jardim América</td>\n",
       "      <td>0</td>\n",
       "      <td>Jardim América</td>\n",
       "      <td>São Paulo</td>\n",
       "      <td>860.0</td>\n",
       "      <td>3</td>\n",
       "      <td>4</td>\n",
       "      <td>4</td>\n",
       "      <td>60000.0</td>\n",
       "      <td>True</td>\n",
       "    </tr>\n",
       "    <tr>\n",
       "      <th>332</th>\n",
       "      <td>Avenida Brasil</td>\n",
       "      <td>0</td>\n",
       "      <td>Jardim América</td>\n",
       "      <td>São Paulo</td>\n",
       "      <td>480.0</td>\n",
       "      <td>4</td>\n",
       "      <td>5</td>\n",
       "      <td>4</td>\n",
       "      <td>70000.0</td>\n",
       "      <td>True</td>\n",
       "    </tr>\n",
       "    <tr>\n",
       "      <th>338</th>\n",
       "      <td>Avenida Brasil</td>\n",
       "      <td>0</td>\n",
       "      <td>Jardim América</td>\n",
       "      <td>São Paulo</td>\n",
       "      <td>480.0</td>\n",
       "      <td>4</td>\n",
       "      <td>5</td>\n",
       "      <td>4</td>\n",
       "      <td>70000.0</td>\n",
       "      <td>True</td>\n",
       "    </tr>\n",
       "    <tr>\n",
       "      <th>380</th>\n",
       "      <td>Jardim Europa</td>\n",
       "      <td>0</td>\n",
       "      <td>Jardim Europa</td>\n",
       "      <td>São Paulo</td>\n",
       "      <td>620.0</td>\n",
       "      <td>4</td>\n",
       "      <td>7</td>\n",
       "      <td>7</td>\n",
       "      <td>60000.0</td>\n",
       "      <td>True</td>\n",
       "    </tr>\n",
       "    <tr>\n",
       "      <th>399</th>\n",
       "      <td>Alto de Pinheiros</td>\n",
       "      <td>0</td>\n",
       "      <td>Alto de Pinheiros</td>\n",
       "      <td>São Paulo</td>\n",
       "      <td>556.0</td>\n",
       "      <td>4</td>\n",
       "      <td>3</td>\n",
       "      <td>4</td>\n",
       "      <td>75000.0</td>\n",
       "      <td>True</td>\n",
       "    </tr>\n",
       "    <tr>\n",
       "      <th>491</th>\n",
       "      <td>Jardim América</td>\n",
       "      <td>0</td>\n",
       "      <td>Jardim América</td>\n",
       "      <td>São Paulo</td>\n",
       "      <td>890.0</td>\n",
       "      <td>3</td>\n",
       "      <td>4</td>\n",
       "      <td>8</td>\n",
       "      <td>65000.0</td>\n",
       "      <td>True</td>\n",
       "    </tr>\n",
       "    <tr>\n",
       "      <th>497</th>\n",
       "      <td>Jardim América</td>\n",
       "      <td>0</td>\n",
       "      <td>Jardim América</td>\n",
       "      <td>São Paulo</td>\n",
       "      <td>890.0</td>\n",
       "      <td>3</td>\n",
       "      <td>4</td>\n",
       "      <td>8</td>\n",
       "      <td>65000.0</td>\n",
       "      <td>True</td>\n",
       "    </tr>\n",
       "    <tr>\n",
       "      <th>545</th>\n",
       "      <td>Jardim América</td>\n",
       "      <td>0</td>\n",
       "      <td>Jardim América</td>\n",
       "      <td>São Paulo</td>\n",
       "      <td>890.0</td>\n",
       "      <td>3</td>\n",
       "      <td>4</td>\n",
       "      <td>8</td>\n",
       "      <td>65000.0</td>\n",
       "      <td>True</td>\n",
       "    </tr>\n",
       "    <tr>\n",
       "      <th>613</th>\n",
       "      <td>Jardim América</td>\n",
       "      <td>0</td>\n",
       "      <td>Jardim América</td>\n",
       "      <td>São Paulo</td>\n",
       "      <td>850.0</td>\n",
       "      <td>3</td>\n",
       "      <td>3</td>\n",
       "      <td>4</td>\n",
       "      <td>65000.0</td>\n",
       "      <td>True</td>\n",
       "    </tr>\n",
       "    <tr>\n",
       "      <th>681</th>\n",
       "      <td>Jardim América</td>\n",
       "      <td>0</td>\n",
       "      <td>Jardim América</td>\n",
       "      <td>São Paulo</td>\n",
       "      <td>601.0</td>\n",
       "      <td>3</td>\n",
       "      <td>5</td>\n",
       "      <td>4</td>\n",
       "      <td>80000.0</td>\n",
       "      <td>True</td>\n",
       "    </tr>\n",
       "    <tr>\n",
       "      <th>691</th>\n",
       "      <td>Retiro Morumbi</td>\n",
       "      <td>0</td>\n",
       "      <td>Retiro Morumbi</td>\n",
       "      <td>São Paulo</td>\n",
       "      <td>480.0</td>\n",
       "      <td>5</td>\n",
       "      <td>4</td>\n",
       "      <td>4</td>\n",
       "      <td>90000.0</td>\n",
       "      <td>True</td>\n",
       "    </tr>\n",
       "    <tr>\n",
       "      <th>699</th>\n",
       "      <td>Jardim América</td>\n",
       "      <td>0</td>\n",
       "      <td>Jardim América</td>\n",
       "      <td>São Paulo</td>\n",
       "      <td>880.0</td>\n",
       "      <td>4</td>\n",
       "      <td>3</td>\n",
       "      <td>4</td>\n",
       "      <td>65000.0</td>\n",
       "      <td>True</td>\n",
       "    </tr>\n",
       "    <tr>\n",
       "      <th>706</th>\n",
       "      <td>Retiro Morumbi</td>\n",
       "      <td>0</td>\n",
       "      <td>Retiro Morumbi</td>\n",
       "      <td>São Paulo</td>\n",
       "      <td>480.0</td>\n",
       "      <td>5</td>\n",
       "      <td>4</td>\n",
       "      <td>4</td>\n",
       "      <td>90000.0</td>\n",
       "      <td>True</td>\n",
       "    </tr>\n",
       "    <tr>\n",
       "      <th>719</th>\n",
       "      <td>Rua Duque de Caxias</td>\n",
       "      <td>298</td>\n",
       "      <td>Santo Amaro</td>\n",
       "      <td>São Paulo</td>\n",
       "      <td>480.0</td>\n",
       "      <td>4</td>\n",
       "      <td>2</td>\n",
       "      <td>4</td>\n",
       "      <td>80000.0</td>\n",
       "      <td>True</td>\n",
       "    </tr>\n",
       "    <tr>\n",
       "      <th>727</th>\n",
       "      <td>Jardim América</td>\n",
       "      <td>0</td>\n",
       "      <td>Jardim América</td>\n",
       "      <td>São Paulo</td>\n",
       "      <td>601.0</td>\n",
       "      <td>3</td>\n",
       "      <td>5</td>\n",
       "      <td>4</td>\n",
       "      <td>80000.0</td>\n",
       "      <td>True</td>\n",
       "    </tr>\n",
       "    <tr>\n",
       "      <th>752</th>\n",
       "      <td>Retiro Morumbi</td>\n",
       "      <td>0</td>\n",
       "      <td>Retiro Morumbi</td>\n",
       "      <td>São Paulo</td>\n",
       "      <td>480.0</td>\n",
       "      <td>5</td>\n",
       "      <td>4</td>\n",
       "      <td>4</td>\n",
       "      <td>90000.0</td>\n",
       "      <td>True</td>\n",
       "    </tr>\n",
       "    <tr>\n",
       "      <th>761</th>\n",
       "      <td>Jardim América</td>\n",
       "      <td>0</td>\n",
       "      <td>Jardim América</td>\n",
       "      <td>São Paulo</td>\n",
       "      <td>850.0</td>\n",
       "      <td>3</td>\n",
       "      <td>5</td>\n",
       "      <td>4</td>\n",
       "      <td>68000.0</td>\n",
       "      <td>True</td>\n",
       "    </tr>\n",
       "    <tr>\n",
       "      <th>798</th>\n",
       "      <td>Jardim América</td>\n",
       "      <td>0</td>\n",
       "      <td>Jardim América</td>\n",
       "      <td>São Paulo</td>\n",
       "      <td>480.0</td>\n",
       "      <td>5</td>\n",
       "      <td>8</td>\n",
       "      <td>4</td>\n",
       "      <td>100000.0</td>\n",
       "      <td>True</td>\n",
       "    </tr>\n",
       "  </tbody>\n",
       "</table>\n",
       "</div>"
      ],
      "text/plain": [
       "                            Rua  Número                Bairro     Cidade  \\\n",
       "7                       Morumbi       0               Morumbi  São Paulo   \n",
       "83             Rua Marcondésia        0  Chácara Monte Alegre  São Paulo   \n",
       "85   Rua Professor Luiz Oliani        0               Morumbi  São Paulo   \n",
       "90               Jardim América       0        Jardim América  São Paulo   \n",
       "92               Rua Argentina        0        Jardim América  São Paulo   \n",
       "103   Rua Trinta e Um de Março        0       Fazenda Morumbi  São Paulo   \n",
       "116    Rua Teixeira de Freitas        0           Santo Amaro  São Paulo   \n",
       "167              Rua Argentina        0        Jardim América  São Paulo   \n",
       "171              Rua Argentina        0        Jardim América  São Paulo   \n",
       "174              Rua Argentina        0        Jardim América  São Paulo   \n",
       "179              Rua Argentina        0        Jardim América  São Paulo   \n",
       "188               Jardim Europa       0         Jardim Europa  São Paulo   \n",
       "195               Jardim Leonor       0         Jardim Leonor  São Paulo   \n",
       "196               Jardim Leonor       0         Jardim Leonor  São Paulo   \n",
       "207               Jardim Leonor       0         Jardim Leonor  São Paulo   \n",
       "232              Jardim América       0        Jardim América  São Paulo   \n",
       "235             Vila Tramontano       0       Vila Tramontano  São Paulo   \n",
       "270               Cidade Jardim       0         Cidade Jardim  São Paulo   \n",
       "271               Cidade Jardim       0         Cidade Jardim  São Paulo   \n",
       "278             Rua Costa Rica        0        Jardim América  São Paulo   \n",
       "281                     Morumbi       0               Morumbi  São Paulo   \n",
       "284                   Pinheiros       0             Pinheiros  São Paulo   \n",
       "287              Jardim América       0        Jardim América  São Paulo   \n",
       "304             Rua Costa Rica        0        Jardim América  São Paulo   \n",
       "307                   Pinheiros       0             Pinheiros  São Paulo   \n",
       "310              Jardim América       0        Jardim América  São Paulo   \n",
       "332             Avenida Brasil        0        Jardim América  São Paulo   \n",
       "338             Avenida Brasil        0        Jardim América  São Paulo   \n",
       "380               Jardim Europa       0         Jardim Europa  São Paulo   \n",
       "399           Alto de Pinheiros       0     Alto de Pinheiros  São Paulo   \n",
       "491              Jardim América       0        Jardim América  São Paulo   \n",
       "497              Jardim América       0        Jardim América  São Paulo   \n",
       "545              Jardim América       0        Jardim América  São Paulo   \n",
       "613              Jardim América       0        Jardim América  São Paulo   \n",
       "681              Jardim América       0        Jardim América  São Paulo   \n",
       "691              Retiro Morumbi       0        Retiro Morumbi  São Paulo   \n",
       "699              Jardim América       0        Jardim América  São Paulo   \n",
       "706              Retiro Morumbi       0        Retiro Morumbi  São Paulo   \n",
       "719         Rua Duque de Caxias     298           Santo Amaro  São Paulo   \n",
       "727              Jardim América       0        Jardim América  São Paulo   \n",
       "752              Retiro Morumbi       0        Retiro Morumbi  São Paulo   \n",
       "761              Jardim América       0        Jardim América  São Paulo   \n",
       "798              Jardim América       0        Jardim América  São Paulo   \n",
       "\n",
       "      Área  Quartos  Banheiros  Vagas     Preço  Aluguel  \n",
       "7    480.0        3          5      6   80000.0     True  \n",
       "83   800.0        4          6      5   65000.0     True  \n",
       "85   480.0        4          4      4   60000.0     True  \n",
       "90   850.0        5          5      6   70000.0     True  \n",
       "92   880.0        3          5      4   65000.0     True  \n",
       "103  480.0        4          5      7   60000.0     True  \n",
       "116  800.0        4          4      8   55000.0     True  \n",
       "167  880.0        4          8      8   65000.0     True  \n",
       "171  860.0        3          6      4   65000.0     True  \n",
       "174  880.0        4          8      8   65000.0     True  \n",
       "179  860.0        3          6      4   65000.0     True  \n",
       "188  480.0        4          4      6   64000.0     True  \n",
       "195  480.0        5          4      5   55000.0     True  \n",
       "196  480.0        5          4      5   55000.0     True  \n",
       "207  480.0        5          4      5   55000.0     True  \n",
       "232  480.0        5          5      4  100000.0     True  \n",
       "235  480.0        4          4      4  100000.0     True  \n",
       "270  480.0        5          5      4   90000.0     True  \n",
       "271  480.0        5          5      4   90000.0     True  \n",
       "278  480.0        5          7      4  100000.0     True  \n",
       "281  480.0        3          8      4  120000.0     True  \n",
       "284  480.0        4          4      8   85000.0     True  \n",
       "287  860.0        3          4      4   60000.0     True  \n",
       "304  480.0        5          7      4  100000.0     True  \n",
       "307  480.0        4          4      8   85000.0     True  \n",
       "310  860.0        3          4      4   60000.0     True  \n",
       "332  480.0        4          5      4   70000.0     True  \n",
       "338  480.0        4          5      4   70000.0     True  \n",
       "380  620.0        4          7      7   60000.0     True  \n",
       "399  556.0        4          3      4   75000.0     True  \n",
       "491  890.0        3          4      8   65000.0     True  \n",
       "497  890.0        3          4      8   65000.0     True  \n",
       "545  890.0        3          4      8   65000.0     True  \n",
       "613  850.0        3          3      4   65000.0     True  \n",
       "681  601.0        3          5      4   80000.0     True  \n",
       "691  480.0        5          4      4   90000.0     True  \n",
       "699  880.0        4          3      4   65000.0     True  \n",
       "706  480.0        5          4      4   90000.0     True  \n",
       "719  480.0        4          2      4   80000.0     True  \n",
       "727  601.0        3          5      4   80000.0     True  \n",
       "752  480.0        5          4      4   90000.0     True  \n",
       "761  850.0        3          5      4   68000.0     True  \n",
       "798  480.0        5          8      4  100000.0     True  "
      ]
     },
     "execution_count": 121,
     "metadata": {},
     "output_type": "execute_result"
    }
   ],
   "source": [
    "valores_acima_aluguel = df_aluguel.loc[df_aluguel['Preço'] > Limite_Superior_preco_aluguel]\n",
    "valores_acima_aluguel"
   ]
  },
  {
   "cell_type": "code",
   "execution_count": 122,
   "id": "ca6ab879",
   "metadata": {
    "ExecuteTime": {
     "end_time": "2024-03-21T15:00:45.721977Z",
     "start_time": "2024-03-21T15:00:45.690837Z"
    }
   },
   "outputs": [],
   "source": [
    "# Calculando os quartis\n",
    "q1 = df_aluguel['Preço'].quantile(0.25)\n",
    "q3 = df_aluguel['Preço'].quantile(0.75)\n",
    "\n",
    "# Substituindo os valores que estão fora dos limites pelos quartis\n",
    "df_aluguel.loc[df_aluguel['Preço'] < Limite_Inferior_preco_aluguel, 'Preço'] = q1\n",
    "df_aluguel.loc[df_aluguel['Preço'] > Limite_Superior_preco_aluguel, 'Preço'] = q3"
   ]
  },
  {
   "cell_type": "code",
   "execution_count": 123,
   "id": "3e80dca9",
   "metadata": {
    "ExecuteTime": {
     "end_time": "2024-03-21T15:00:46.008695Z",
     "start_time": "2024-03-21T15:00:45.721977Z"
    }
   },
   "outputs": [
    {
     "data": {
      "image/png": "[encoded data removed]",
      "text/plain": [
       "<Figure size 1700x600 with 1 Axes>"
      ]
     },
     "metadata": {},
     "output_type": "display_data"
    }
   ],
   "source": [
    "# Plotando gráfico de caixa das variáveis normalizadas\n",
    "plt.figure(figsize=(17, 6))\n",
    "sns.boxplot(data=df_aluguel.Preço)\n",
    "plt.title('Gráfico de Caixa das Variáveis Normalizadas')\n",
    "plt.show()"
   ]
  },
  {
   "cell_type": "markdown",
   "id": "d453ba0c",
   "metadata": {},
   "source": [
    "# 4 Exploração de Dados"
   ]
  },
  {
   "cell_type": "code",
   "execution_count": 124,
   "id": "55aedca1",
   "metadata": {
    "ExecuteTime": {
     "end_time": "2024-03-21T15:00:46.042261Z",
     "start_time": "2024-03-21T15:00:46.008695Z"
    }
   },
   "outputs": [
    {
     "data": {
      "text/html": [
       "<div>\n",
       "<style scoped>\n",
       "    .dataframe tbody tr th:only-of-type {\n",
       "        vertical-align: middle;\n",
       "    }\n",
       "\n",
       "    .dataframe tbody tr th {\n",
       "        vertical-align: top;\n",
       "    }\n",
       "\n",
       "    .dataframe thead th {\n",
       "        text-align: right;\n",
       "    }\n",
       "</style>\n",
       "<table border=\"1\" class=\"dataframe\">\n",
       "  <thead>\n",
       "    <tr style=\"text-align: right;\">\n",
       "      <th></th>\n",
       "      <th>Número</th>\n",
       "      <th>Área</th>\n",
       "      <th>Quartos</th>\n",
       "      <th>Banheiros</th>\n",
       "      <th>Vagas</th>\n",
       "      <th>Preço</th>\n",
       "    </tr>\n",
       "  </thead>\n",
       "  <tbody>\n",
       "    <tr>\n",
       "      <th>count</th>\n",
       "      <td>9151.000000</td>\n",
       "      <td>9151.000000</td>\n",
       "      <td>9151.000000</td>\n",
       "      <td>9151.000000</td>\n",
       "      <td>9151.000000</td>\n",
       "      <td>9.151000e+03</td>\n",
       "    </tr>\n",
       "    <tr>\n",
       "      <th>mean</th>\n",
       "      <td>41.370342</td>\n",
       "      <td>344.001475</td>\n",
       "      <td>3.466616</td>\n",
       "      <td>3.893236</td>\n",
       "      <td>3.769533</td>\n",
       "      <td>2.965833e+06</td>\n",
       "    </tr>\n",
       "    <tr>\n",
       "      <th>std</th>\n",
       "      <td>213.613216</td>\n",
       "      <td>195.580483</td>\n",
       "      <td>0.801743</td>\n",
       "      <td>1.784839</td>\n",
       "      <td>1.816288</td>\n",
       "      <td>3.968173e+06</td>\n",
       "    </tr>\n",
       "    <tr>\n",
       "      <th>min</th>\n",
       "      <td>0.000000</td>\n",
       "      <td>20.000000</td>\n",
       "      <td>2.000000</td>\n",
       "      <td>1.000000</td>\n",
       "      <td>1.000000</td>\n",
       "      <td>1.650000e+03</td>\n",
       "    </tr>\n",
       "    <tr>\n",
       "      <th>25%</th>\n",
       "      <td>0.000000</td>\n",
       "      <td>180.000000</td>\n",
       "      <td>3.000000</td>\n",
       "      <td>3.000000</td>\n",
       "      <td>2.000000</td>\n",
       "      <td>8.400000e+05</td>\n",
       "    </tr>\n",
       "    <tr>\n",
       "      <th>50%</th>\n",
       "      <td>0.000000</td>\n",
       "      <td>300.000000</td>\n",
       "      <td>3.000000</td>\n",
       "      <td>4.000000</td>\n",
       "      <td>4.000000</td>\n",
       "      <td>1.800000e+06</td>\n",
       "    </tr>\n",
       "    <tr>\n",
       "      <th>75%</th>\n",
       "      <td>0.000000</td>\n",
       "      <td>480.000000</td>\n",
       "      <td>4.000000</td>\n",
       "      <td>5.000000</td>\n",
       "      <td>5.000000</td>\n",
       "      <td>3.500000e+06</td>\n",
       "    </tr>\n",
       "    <tr>\n",
       "      <th>max</th>\n",
       "      <td>5871.000000</td>\n",
       "      <td>930.000000</td>\n",
       "      <td>5.000000</td>\n",
       "      <td>8.000000</td>\n",
       "      <td>9.000000</td>\n",
       "      <td>6.500000e+07</td>\n",
       "    </tr>\n",
       "  </tbody>\n",
       "</table>\n",
       "</div>"
      ],
      "text/plain": [
       "            Número         Área      Quartos    Banheiros        Vagas  \\\n",
       "count  9151.000000  9151.000000  9151.000000  9151.000000  9151.000000   \n",
       "mean     41.370342   344.001475     3.466616     3.893236     3.769533   \n",
       "std     213.613216   195.580483     0.801743     1.784839     1.816288   \n",
       "min       0.000000    20.000000     2.000000     1.000000     1.000000   \n",
       "25%       0.000000   180.000000     3.000000     3.000000     2.000000   \n",
       "50%       0.000000   300.000000     3.000000     4.000000     4.000000   \n",
       "75%       0.000000   480.000000     4.000000     5.000000     5.000000   \n",
       "max    5871.000000   930.000000     5.000000     8.000000     9.000000   \n",
       "\n",
       "              Preço  \n",
       "count  9.151000e+03  \n",
       "mean   2.965833e+06  \n",
       "std    3.968173e+06  \n",
       "min    1.650000e+03  \n",
       "25%    8.400000e+05  \n",
       "50%    1.800000e+06  \n",
       "75%    3.500000e+06  \n",
       "max    6.500000e+07  "
      ]
     },
     "execution_count": 124,
     "metadata": {},
     "output_type": "execute_result"
    }
   ],
   "source": [
    "df.describe()"
   ]
  },
  {
   "cell_type": "markdown",
   "id": "cde285b8",
   "metadata": {},
   "source": [
    "# 5 Engenharia de Recursos (Feature Engineering)"
   ]
  },
  {
   "cell_type": "markdown",
   "id": "30d1d942",
   "metadata": {},
   "source": [
    "## 5.1 Importando a biblioteca"
   ]
  },
  {
   "cell_type": "code",
   "execution_count": 125,
   "id": "d845b482",
   "metadata": {
    "ExecuteTime": {
     "end_time": "2024-03-21T15:01:05.378310Z",
     "start_time": "2024-03-21T15:00:46.042261Z"
    }
   },
   "outputs": [],
   "source": [
    "from sklearn.model_selection import train_test_split"
   ]
  },
  {
   "cell_type": "markdown",
   "id": "87fc649d",
   "metadata": {},
   "source": [
    "## 5.2 Compra"
   ]
  },
  {
   "cell_type": "markdown",
   "id": "cfc73dce",
   "metadata": {},
   "source": [
    "### 5.2.1 Preparando as variáveis"
   ]
  },
  {
   "cell_type": "code",
   "execution_count": 126,
   "id": "b810b6b8",
   "metadata": {
    "ExecuteTime": {
     "end_time": "2024-03-21T15:01:05.607964Z",
     "start_time": "2024-03-21T15:01:05.378310Z"
    },
    "scrolled": true
   },
   "outputs": [],
   "source": [
    "df_bool = pd.get_dummies(df_compra[['Bairro', 'Rua']], drop_first=True)\n",
    "\n",
    "# Adicionando as novas colunas ao DataFrame original\n",
    "df_bool = pd.concat([df_compra, df_bool], axis=1)\n",
    "\n",
    "# Removendo a coluna original dos bairros, se desejar\n",
    "df_bool.drop('Bairro', axis=1, inplace=True)"
   ]
  },
  {
   "cell_type": "code",
   "execution_count": 127,
   "id": "f5c775ed",
   "metadata": {
    "ExecuteTime": {
     "end_time": "2024-03-21T15:01:05.755927Z",
     "start_time": "2024-03-21T15:01:05.620091Z"
    }
   },
   "outputs": [],
   "source": [
    "df_bool = df_bool.dropna()"
   ]
  },
  {
   "cell_type": "code",
   "execution_count": 128,
   "id": "16571e8a",
   "metadata": {
    "ExecuteTime": {
     "end_time": "2024-03-21T15:01:05.841647Z",
     "start_time": "2024-03-21T15:01:05.763350Z"
    }
   },
   "outputs": [
    {
     "data": {
      "text/html": [
       "<div>\n",
       "<style scoped>\n",
       "    .dataframe tbody tr th:only-of-type {\n",
       "        vertical-align: middle;\n",
       "    }\n",
       "\n",
       "    .dataframe tbody tr th {\n",
       "        vertical-align: top;\n",
       "    }\n",
       "\n",
       "    .dataframe thead th {\n",
       "        text-align: right;\n",
       "    }\n",
       "</style>\n",
       "<table border=\"1\" class=\"dataframe\">\n",
       "  <thead>\n",
       "    <tr style=\"text-align: right;\">\n",
       "      <th></th>\n",
       "      <th>Rua</th>\n",
       "      <th>Número</th>\n",
       "      <th>Cidade</th>\n",
       "      <th>Área</th>\n",
       "      <th>Quartos</th>\n",
       "      <th>Banheiros</th>\n",
       "      <th>Vagas</th>\n",
       "      <th>Preço</th>\n",
       "      <th>Aluguel</th>\n",
       "      <th>Bairro_Alto da Boa Vista</th>\n",
       "      <th>...</th>\n",
       "      <th>Rua_Vila Talarico</th>\n",
       "      <th>Rua_Vila Tiradentes</th>\n",
       "      <th>Rua_Vila Tramontano</th>\n",
       "      <th>Rua_Vila Vera</th>\n",
       "      <th>Rua_Vila da Saúde</th>\n",
       "      <th>Rua_Vila das Mercês</th>\n",
       "      <th>Rua_Vila do Encontro</th>\n",
       "      <th>Rua_Água Branca</th>\n",
       "      <th>Rua_Água Fria</th>\n",
       "      <th>Rua_Água Rasa</th>\n",
       "    </tr>\n",
       "  </thead>\n",
       "  <tbody>\n",
       "    <tr>\n",
       "      <th>0</th>\n",
       "      <td>Avenida Itacira</td>\n",
       "      <td>255</td>\n",
       "      <td>São Paulo</td>\n",
       "      <td>480.0</td>\n",
       "      <td>4</td>\n",
       "      <td>8</td>\n",
       "      <td>6</td>\n",
       "      <td>3196250.0</td>\n",
       "      <td>False</td>\n",
       "      <td>False</td>\n",
       "      <td>...</td>\n",
       "      <td>False</td>\n",
       "      <td>False</td>\n",
       "      <td>False</td>\n",
       "      <td>False</td>\n",
       "      <td>False</td>\n",
       "      <td>False</td>\n",
       "      <td>False</td>\n",
       "      <td>False</td>\n",
       "      <td>False</td>\n",
       "      <td>False</td>\n",
       "    </tr>\n",
       "    <tr>\n",
       "      <th>1</th>\n",
       "      <td>Rua Aurelia Perez Alvarez</td>\n",
       "      <td>42</td>\n",
       "      <td>São Paulo</td>\n",
       "      <td>496.5</td>\n",
       "      <td>4</td>\n",
       "      <td>4</td>\n",
       "      <td>4</td>\n",
       "      <td>3700000.0</td>\n",
       "      <td>False</td>\n",
       "      <td>False</td>\n",
       "      <td>...</td>\n",
       "      <td>False</td>\n",
       "      <td>False</td>\n",
       "      <td>False</td>\n",
       "      <td>False</td>\n",
       "      <td>False</td>\n",
       "      <td>False</td>\n",
       "      <td>False</td>\n",
       "      <td>False</td>\n",
       "      <td>False</td>\n",
       "      <td>False</td>\n",
       "    </tr>\n",
       "    <tr>\n",
       "      <th>2</th>\n",
       "      <td>Jardim Morumbi</td>\n",
       "      <td>0</td>\n",
       "      <td>São Paulo</td>\n",
       "      <td>310.0</td>\n",
       "      <td>3</td>\n",
       "      <td>2</td>\n",
       "      <td>4</td>\n",
       "      <td>685000.0</td>\n",
       "      <td>False</td>\n",
       "      <td>False</td>\n",
       "      <td>...</td>\n",
       "      <td>False</td>\n",
       "      <td>False</td>\n",
       "      <td>False</td>\n",
       "      <td>False</td>\n",
       "      <td>False</td>\n",
       "      <td>False</td>\n",
       "      <td>False</td>\n",
       "      <td>False</td>\n",
       "      <td>False</td>\n",
       "      <td>False</td>\n",
       "    </tr>\n",
       "    <tr>\n",
       "      <th>3</th>\n",
       "      <td>Rua Tobias Barreto</td>\n",
       "      <td>195</td>\n",
       "      <td>São Paulo</td>\n",
       "      <td>100.0</td>\n",
       "      <td>3</td>\n",
       "      <td>2</td>\n",
       "      <td>2</td>\n",
       "      <td>540000.0</td>\n",
       "      <td>False</td>\n",
       "      <td>False</td>\n",
       "      <td>...</td>\n",
       "      <td>False</td>\n",
       "      <td>False</td>\n",
       "      <td>False</td>\n",
       "      <td>False</td>\n",
       "      <td>False</td>\n",
       "      <td>False</td>\n",
       "      <td>False</td>\n",
       "      <td>False</td>\n",
       "      <td>False</td>\n",
       "      <td>False</td>\n",
       "    </tr>\n",
       "    <tr>\n",
       "      <th>4</th>\n",
       "      <td>Rua Graham Bell</td>\n",
       "      <td>0</td>\n",
       "      <td>São Paulo</td>\n",
       "      <td>440.0</td>\n",
       "      <td>4</td>\n",
       "      <td>4</td>\n",
       "      <td>6</td>\n",
       "      <td>1980000.0</td>\n",
       "      <td>False</td>\n",
       "      <td>False</td>\n",
       "      <td>...</td>\n",
       "      <td>False</td>\n",
       "      <td>False</td>\n",
       "      <td>False</td>\n",
       "      <td>False</td>\n",
       "      <td>False</td>\n",
       "      <td>False</td>\n",
       "      <td>False</td>\n",
       "      <td>False</td>\n",
       "      <td>False</td>\n",
       "      <td>False</td>\n",
       "    </tr>\n",
       "  </tbody>\n",
       "</table>\n",
       "<p>5 rows × 2794 columns</p>\n",
       "</div>"
      ],
      "text/plain": [
       "                         Rua  Número     Cidade   Área  Quartos  Banheiros  \\\n",
       "0            Avenida Itacira     255  São Paulo  480.0        4          8   \n",
       "1  Rua Aurelia Perez Alvarez      42  São Paulo  496.5        4          4   \n",
       "2             Jardim Morumbi       0  São Paulo  310.0        3          2   \n",
       "3         Rua Tobias Barreto     195  São Paulo  100.0        3          2   \n",
       "4           Rua Graham Bell        0  São Paulo  440.0        4          4   \n",
       "\n",
       "   Vagas      Preço  Aluguel  Bairro_Alto da Boa Vista  ...  \\\n",
       "0      6  3196250.0    False                     False  ...   \n",
       "1      4  3700000.0    False                     False  ...   \n",
       "2      4   685000.0    False                     False  ...   \n",
       "3      2   540000.0    False                     False  ...   \n",
       "4      6  1980000.0    False                     False  ...   \n",
       "\n",
       "   Rua_Vila Talarico  Rua_Vila Tiradentes  Rua_Vila Tramontano  Rua_Vila Vera  \\\n",
       "0              False                False                False          False   \n",
       "1              False                False                False          False   \n",
       "2              False                False                False          False   \n",
       "3              False                False                False          False   \n",
       "4              False                False                False          False   \n",
       "\n",
       "   Rua_Vila da Saúde  Rua_Vila das Mercês  Rua_Vila do Encontro  \\\n",
       "0              False                False                 False   \n",
       "1              False                False                 False   \n",
       "2              False                False                 False   \n",
       "3              False                False                 False   \n",
       "4              False                False                 False   \n",
       "\n",
       "   Rua_Água Branca  Rua_Água Fria  Rua_Água Rasa  \n",
       "0            False          False          False  \n",
       "1            False          False          False  \n",
       "2            False          False          False  \n",
       "3            False          False          False  \n",
       "4            False          False          False  \n",
       "\n",
       "[5 rows x 2794 columns]"
      ]
     },
     "execution_count": 128,
     "metadata": {},
     "output_type": "execute_result"
    }
   ],
   "source": [
    "df_bool.head(5)"
   ]
  },
  {
   "cell_type": "markdown",
   "id": "15c2e42d",
   "metadata": {},
   "source": [
    "### 5.2.2 Separando treino e teste"
   ]
  },
  {
   "cell_type": "code",
   "execution_count": 129,
   "id": "d2757346",
   "metadata": {
    "ExecuteTime": {
     "end_time": "2024-03-21T15:01:06.046303Z",
     "start_time": "2024-03-21T15:01:05.845664Z"
    }
   },
   "outputs": [],
   "source": [
    "X = df_bool.drop(columns=['Rua', 'Número', 'Cidade', 'Preço', 'Aluguel'])\n",
    "y = df_bool['Preço']\n",
    "\n",
    "X_train, X_test, y_train, y_test = train_test_split(X, y, test_size=0.2, random_state=42)"
   ]
  },
  {
   "cell_type": "code",
   "execution_count": 130,
   "id": "83551cd0",
   "metadata": {
    "ExecuteTime": {
     "end_time": "2024-03-21T15:01:06.123708Z",
     "start_time": "2024-03-21T15:01:06.047683Z"
    }
   },
   "outputs": [
    {
     "data": {
      "text/html": [
       "<div>\n",
       "<style scoped>\n",
       "    .dataframe tbody tr th:only-of-type {\n",
       "        vertical-align: middle;\n",
       "    }\n",
       "\n",
       "    .dataframe tbody tr th {\n",
       "        vertical-align: top;\n",
       "    }\n",
       "\n",
       "    .dataframe thead th {\n",
       "        text-align: right;\n",
       "    }\n",
       "</style>\n",
       "<table border=\"1\" class=\"dataframe\">\n",
       "  <thead>\n",
       "    <tr style=\"text-align: right;\">\n",
       "      <th></th>\n",
       "      <th>Área</th>\n",
       "      <th>Quartos</th>\n",
       "      <th>Banheiros</th>\n",
       "      <th>Vagas</th>\n",
       "      <th>Bairro_Alto da Boa Vista</th>\n",
       "      <th>Bairro_Alto da Lapa</th>\n",
       "      <th>Bairro_Alto da Mooca</th>\n",
       "      <th>Bairro_Alto de Pinheiros</th>\n",
       "      <th>Bairro_Barra Funda</th>\n",
       "      <th>Bairro_Barro Branco (Zona Norte)</th>\n",
       "      <th>...</th>\n",
       "      <th>Rua_Vila Talarico</th>\n",
       "      <th>Rua_Vila Tiradentes</th>\n",
       "      <th>Rua_Vila Tramontano</th>\n",
       "      <th>Rua_Vila Vera</th>\n",
       "      <th>Rua_Vila da Saúde</th>\n",
       "      <th>Rua_Vila das Mercês</th>\n",
       "      <th>Rua_Vila do Encontro</th>\n",
       "      <th>Rua_Água Branca</th>\n",
       "      <th>Rua_Água Fria</th>\n",
       "      <th>Rua_Água Rasa</th>\n",
       "    </tr>\n",
       "  </thead>\n",
       "  <tbody>\n",
       "    <tr>\n",
       "      <th>6368</th>\n",
       "      <td>156.0</td>\n",
       "      <td>3</td>\n",
       "      <td>3</td>\n",
       "      <td>2</td>\n",
       "      <td>False</td>\n",
       "      <td>False</td>\n",
       "      <td>False</td>\n",
       "      <td>False</td>\n",
       "      <td>False</td>\n",
       "      <td>False</td>\n",
       "      <td>...</td>\n",
       "      <td>False</td>\n",
       "      <td>False</td>\n",
       "      <td>False</td>\n",
       "      <td>False</td>\n",
       "      <td>False</td>\n",
       "      <td>False</td>\n",
       "      <td>False</td>\n",
       "      <td>False</td>\n",
       "      <td>False</td>\n",
       "      <td>False</td>\n",
       "    </tr>\n",
       "    <tr>\n",
       "      <th>2661</th>\n",
       "      <td>120.0</td>\n",
       "      <td>3</td>\n",
       "      <td>2</td>\n",
       "      <td>2</td>\n",
       "      <td>False</td>\n",
       "      <td>False</td>\n",
       "      <td>False</td>\n",
       "      <td>False</td>\n",
       "      <td>False</td>\n",
       "      <td>False</td>\n",
       "      <td>...</td>\n",
       "      <td>False</td>\n",
       "      <td>False</td>\n",
       "      <td>False</td>\n",
       "      <td>False</td>\n",
       "      <td>False</td>\n",
       "      <td>False</td>\n",
       "      <td>False</td>\n",
       "      <td>False</td>\n",
       "      <td>False</td>\n",
       "      <td>False</td>\n",
       "    </tr>\n",
       "    <tr>\n",
       "      <th>1191</th>\n",
       "      <td>510.0</td>\n",
       "      <td>4</td>\n",
       "      <td>3</td>\n",
       "      <td>5</td>\n",
       "      <td>False</td>\n",
       "      <td>False</td>\n",
       "      <td>False</td>\n",
       "      <td>True</td>\n",
       "      <td>False</td>\n",
       "      <td>False</td>\n",
       "      <td>...</td>\n",
       "      <td>False</td>\n",
       "      <td>False</td>\n",
       "      <td>False</td>\n",
       "      <td>False</td>\n",
       "      <td>False</td>\n",
       "      <td>False</td>\n",
       "      <td>False</td>\n",
       "      <td>False</td>\n",
       "      <td>False</td>\n",
       "      <td>False</td>\n",
       "    </tr>\n",
       "    <tr>\n",
       "      <th>5547</th>\n",
       "      <td>500.0</td>\n",
       "      <td>4</td>\n",
       "      <td>7</td>\n",
       "      <td>4</td>\n",
       "      <td>False</td>\n",
       "      <td>False</td>\n",
       "      <td>False</td>\n",
       "      <td>False</td>\n",
       "      <td>False</td>\n",
       "      <td>False</td>\n",
       "      <td>...</td>\n",
       "      <td>False</td>\n",
       "      <td>False</td>\n",
       "      <td>False</td>\n",
       "      <td>False</td>\n",
       "      <td>False</td>\n",
       "      <td>False</td>\n",
       "      <td>False</td>\n",
       "      <td>False</td>\n",
       "      <td>False</td>\n",
       "      <td>False</td>\n",
       "    </tr>\n",
       "    <tr>\n",
       "      <th>2380</th>\n",
       "      <td>213.0</td>\n",
       "      <td>4</td>\n",
       "      <td>6</td>\n",
       "      <td>3</td>\n",
       "      <td>False</td>\n",
       "      <td>False</td>\n",
       "      <td>False</td>\n",
       "      <td>False</td>\n",
       "      <td>False</td>\n",
       "      <td>False</td>\n",
       "      <td>...</td>\n",
       "      <td>False</td>\n",
       "      <td>False</td>\n",
       "      <td>False</td>\n",
       "      <td>False</td>\n",
       "      <td>False</td>\n",
       "      <td>False</td>\n",
       "      <td>False</td>\n",
       "      <td>False</td>\n",
       "      <td>False</td>\n",
       "      <td>False</td>\n",
       "    </tr>\n",
       "    <tr>\n",
       "      <th>...</th>\n",
       "      <td>...</td>\n",
       "      <td>...</td>\n",
       "      <td>...</td>\n",
       "      <td>...</td>\n",
       "      <td>...</td>\n",
       "      <td>...</td>\n",
       "      <td>...</td>\n",
       "      <td>...</td>\n",
       "      <td>...</td>\n",
       "      <td>...</td>\n",
       "      <td>...</td>\n",
       "      <td>...</td>\n",
       "      <td>...</td>\n",
       "      <td>...</td>\n",
       "      <td>...</td>\n",
       "      <td>...</td>\n",
       "      <td>...</td>\n",
       "      <td>...</td>\n",
       "      <td>...</td>\n",
       "      <td>...</td>\n",
       "      <td>...</td>\n",
       "    </tr>\n",
       "    <tr>\n",
       "      <th>4685</th>\n",
       "      <td>90.0</td>\n",
       "      <td>4</td>\n",
       "      <td>3</td>\n",
       "      <td>3</td>\n",
       "      <td>False</td>\n",
       "      <td>False</td>\n",
       "      <td>False</td>\n",
       "      <td>False</td>\n",
       "      <td>False</td>\n",
       "      <td>False</td>\n",
       "      <td>...</td>\n",
       "      <td>False</td>\n",
       "      <td>False</td>\n",
       "      <td>False</td>\n",
       "      <td>False</td>\n",
       "      <td>False</td>\n",
       "      <td>False</td>\n",
       "      <td>False</td>\n",
       "      <td>False</td>\n",
       "      <td>False</td>\n",
       "      <td>False</td>\n",
       "    </tr>\n",
       "    <tr>\n",
       "      <th>6352</th>\n",
       "      <td>350.0</td>\n",
       "      <td>3</td>\n",
       "      <td>4</td>\n",
       "      <td>5</td>\n",
       "      <td>False</td>\n",
       "      <td>False</td>\n",
       "      <td>False</td>\n",
       "      <td>False</td>\n",
       "      <td>False</td>\n",
       "      <td>False</td>\n",
       "      <td>...</td>\n",
       "      <td>False</td>\n",
       "      <td>False</td>\n",
       "      <td>False</td>\n",
       "      <td>False</td>\n",
       "      <td>False</td>\n",
       "      <td>False</td>\n",
       "      <td>False</td>\n",
       "      <td>False</td>\n",
       "      <td>False</td>\n",
       "      <td>False</td>\n",
       "    </tr>\n",
       "    <tr>\n",
       "      <th>6395</th>\n",
       "      <td>309.0</td>\n",
       "      <td>2</td>\n",
       "      <td>3</td>\n",
       "      <td>2</td>\n",
       "      <td>False</td>\n",
       "      <td>False</td>\n",
       "      <td>False</td>\n",
       "      <td>False</td>\n",
       "      <td>False</td>\n",
       "      <td>False</td>\n",
       "      <td>...</td>\n",
       "      <td>False</td>\n",
       "      <td>False</td>\n",
       "      <td>False</td>\n",
       "      <td>False</td>\n",
       "      <td>False</td>\n",
       "      <td>False</td>\n",
       "      <td>False</td>\n",
       "      <td>False</td>\n",
       "      <td>False</td>\n",
       "      <td>False</td>\n",
       "    </tr>\n",
       "    <tr>\n",
       "      <th>6585</th>\n",
       "      <td>209.0</td>\n",
       "      <td>3</td>\n",
       "      <td>4</td>\n",
       "      <td>3</td>\n",
       "      <td>False</td>\n",
       "      <td>False</td>\n",
       "      <td>False</td>\n",
       "      <td>False</td>\n",
       "      <td>False</td>\n",
       "      <td>False</td>\n",
       "      <td>...</td>\n",
       "      <td>False</td>\n",
       "      <td>False</td>\n",
       "      <td>False</td>\n",
       "      <td>False</td>\n",
       "      <td>False</td>\n",
       "      <td>False</td>\n",
       "      <td>False</td>\n",
       "      <td>False</td>\n",
       "      <td>False</td>\n",
       "      <td>False</td>\n",
       "    </tr>\n",
       "    <tr>\n",
       "      <th>1060</th>\n",
       "      <td>700.0</td>\n",
       "      <td>5</td>\n",
       "      <td>7</td>\n",
       "      <td>6</td>\n",
       "      <td>False</td>\n",
       "      <td>False</td>\n",
       "      <td>False</td>\n",
       "      <td>False</td>\n",
       "      <td>False</td>\n",
       "      <td>False</td>\n",
       "      <td>...</td>\n",
       "      <td>False</td>\n",
       "      <td>False</td>\n",
       "      <td>False</td>\n",
       "      <td>False</td>\n",
       "      <td>False</td>\n",
       "      <td>False</td>\n",
       "      <td>False</td>\n",
       "      <td>False</td>\n",
       "      <td>False</td>\n",
       "      <td>False</td>\n",
       "    </tr>\n",
       "  </tbody>\n",
       "</table>\n",
       "<p>5523 rows × 2789 columns</p>\n",
       "</div>"
      ],
      "text/plain": [
       "       Área  Quartos  Banheiros  Vagas  Bairro_Alto da Boa Vista  \\\n",
       "6368  156.0        3          3      2                     False   \n",
       "2661  120.0        3          2      2                     False   \n",
       "1191  510.0        4          3      5                     False   \n",
       "5547  500.0        4          7      4                     False   \n",
       "2380  213.0        4          6      3                     False   \n",
       "...     ...      ...        ...    ...                       ...   \n",
       "4685   90.0        4          3      3                     False   \n",
       "6352  350.0        3          4      5                     False   \n",
       "6395  309.0        2          3      2                     False   \n",
       "6585  209.0        3          4      3                     False   \n",
       "1060  700.0        5          7      6                     False   \n",
       "\n",
       "      Bairro_Alto da Lapa  Bairro_Alto da Mooca  Bairro_Alto de Pinheiros  \\\n",
       "6368                False                 False                     False   \n",
       "2661                False                 False                     False   \n",
       "1191                False                 False                      True   \n",
       "5547                False                 False                     False   \n",
       "2380                False                 False                     False   \n",
       "...                   ...                   ...                       ...   \n",
       "4685                False                 False                     False   \n",
       "6352                False                 False                     False   \n",
       "6395                False                 False                     False   \n",
       "6585                False                 False                     False   \n",
       "1060                False                 False                     False   \n",
       "\n",
       "      Bairro_Barra Funda  Bairro_Barro Branco (Zona Norte)  ...  \\\n",
       "6368               False                             False  ...   \n",
       "2661               False                             False  ...   \n",
       "1191               False                             False  ...   \n",
       "5547               False                             False  ...   \n",
       "2380               False                             False  ...   \n",
       "...                  ...                               ...  ...   \n",
       "4685               False                             False  ...   \n",
       "6352               False                             False  ...   \n",
       "6395               False                             False  ...   \n",
       "6585               False                             False  ...   \n",
       "1060               False                             False  ...   \n",
       "\n",
       "      Rua_Vila Talarico  Rua_Vila Tiradentes  Rua_Vila Tramontano  \\\n",
       "6368              False                False                False   \n",
       "2661              False                False                False   \n",
       "1191              False                False                False   \n",
       "5547              False                False                False   \n",
       "2380              False                False                False   \n",
       "...                 ...                  ...                  ...   \n",
       "4685              False                False                False   \n",
       "6352              False                False                False   \n",
       "6395              False                False                False   \n",
       "6585              False                False                False   \n",
       "1060              False                False                False   \n",
       "\n",
       "      Rua_Vila Vera  Rua_Vila da Saúde  Rua_Vila das Mercês  \\\n",
       "6368          False              False                False   \n",
       "2661          False              False                False   \n",
       "1191          False              False                False   \n",
       "5547          False              False                False   \n",
       "2380          False              False                False   \n",
       "...             ...                ...                  ...   \n",
       "4685          False              False                False   \n",
       "6352          False              False                False   \n",
       "6395          False              False                False   \n",
       "6585          False              False                False   \n",
       "1060          False              False                False   \n",
       "\n",
       "      Rua_Vila do Encontro  Rua_Água Branca  Rua_Água Fria  Rua_Água Rasa  \n",
       "6368                 False            False          False          False  \n",
       "2661                 False            False          False          False  \n",
       "1191                 False            False          False          False  \n",
       "5547                 False            False          False          False  \n",
       "2380                 False            False          False          False  \n",
       "...                    ...              ...            ...            ...  \n",
       "4685                 False            False          False          False  \n",
       "6352                 False            False          False          False  \n",
       "6395                 False            False          False          False  \n",
       "6585                 False            False          False          False  \n",
       "1060                 False            False          False          False  \n",
       "\n",
       "[5523 rows x 2789 columns]"
      ]
     },
     "execution_count": 130,
     "metadata": {},
     "output_type": "execute_result"
    }
   ],
   "source": [
    "X_train"
   ]
  },
  {
   "cell_type": "code",
   "execution_count": 131,
   "id": "0fa13829",
   "metadata": {
    "ExecuteTime": {
     "end_time": "2024-03-21T15:01:06.162674Z",
     "start_time": "2024-03-21T15:01:06.128724Z"
    }
   },
   "outputs": [
    {
     "data": {
      "text/html": [
       "<div>\n",
       "<style scoped>\n",
       "    .dataframe tbody tr th:only-of-type {\n",
       "        vertical-align: middle;\n",
       "    }\n",
       "\n",
       "    .dataframe tbody tr th {\n",
       "        vertical-align: top;\n",
       "    }\n",
       "\n",
       "    .dataframe thead th {\n",
       "        text-align: right;\n",
       "    }\n",
       "</style>\n",
       "<table border=\"1\" class=\"dataframe\">\n",
       "  <thead>\n",
       "    <tr style=\"text-align: right;\">\n",
       "      <th></th>\n",
       "      <th>Área</th>\n",
       "      <th>Quartos</th>\n",
       "      <th>Banheiros</th>\n",
       "      <th>Vagas</th>\n",
       "      <th>Bairro_Alto da Boa Vista</th>\n",
       "      <th>Bairro_Alto da Lapa</th>\n",
       "      <th>Bairro_Alto da Mooca</th>\n",
       "      <th>Bairro_Alto de Pinheiros</th>\n",
       "      <th>Bairro_Barra Funda</th>\n",
       "      <th>Bairro_Barro Branco (Zona Norte)</th>\n",
       "      <th>...</th>\n",
       "      <th>Rua_Vila Talarico</th>\n",
       "      <th>Rua_Vila Tiradentes</th>\n",
       "      <th>Rua_Vila Tramontano</th>\n",
       "      <th>Rua_Vila Vera</th>\n",
       "      <th>Rua_Vila da Saúde</th>\n",
       "      <th>Rua_Vila das Mercês</th>\n",
       "      <th>Rua_Vila do Encontro</th>\n",
       "      <th>Rua_Água Branca</th>\n",
       "      <th>Rua_Água Fria</th>\n",
       "      <th>Rua_Água Rasa</th>\n",
       "    </tr>\n",
       "  </thead>\n",
       "  <tbody>\n",
       "    <tr>\n",
       "      <th>733</th>\n",
       "      <td>497.0</td>\n",
       "      <td>3</td>\n",
       "      <td>5</td>\n",
       "      <td>4</td>\n",
       "      <td>False</td>\n",
       "      <td>False</td>\n",
       "      <td>False</td>\n",
       "      <td>False</td>\n",
       "      <td>False</td>\n",
       "      <td>False</td>\n",
       "      <td>...</td>\n",
       "      <td>False</td>\n",
       "      <td>False</td>\n",
       "      <td>False</td>\n",
       "      <td>False</td>\n",
       "      <td>False</td>\n",
       "      <td>False</td>\n",
       "      <td>False</td>\n",
       "      <td>False</td>\n",
       "      <td>False</td>\n",
       "      <td>False</td>\n",
       "    </tr>\n",
       "    <tr>\n",
       "      <th>2770</th>\n",
       "      <td>450.0</td>\n",
       "      <td>4</td>\n",
       "      <td>7</td>\n",
       "      <td>4</td>\n",
       "      <td>False</td>\n",
       "      <td>False</td>\n",
       "      <td>False</td>\n",
       "      <td>True</td>\n",
       "      <td>False</td>\n",
       "      <td>False</td>\n",
       "      <td>...</td>\n",
       "      <td>False</td>\n",
       "      <td>False</td>\n",
       "      <td>False</td>\n",
       "      <td>False</td>\n",
       "      <td>False</td>\n",
       "      <td>False</td>\n",
       "      <td>False</td>\n",
       "      <td>False</td>\n",
       "      <td>False</td>\n",
       "      <td>False</td>\n",
       "    </tr>\n",
       "    <tr>\n",
       "      <th>7890</th>\n",
       "      <td>80.0</td>\n",
       "      <td>2</td>\n",
       "      <td>2</td>\n",
       "      <td>1</td>\n",
       "      <td>False</td>\n",
       "      <td>False</td>\n",
       "      <td>False</td>\n",
       "      <td>False</td>\n",
       "      <td>False</td>\n",
       "      <td>False</td>\n",
       "      <td>...</td>\n",
       "      <td>False</td>\n",
       "      <td>False</td>\n",
       "      <td>False</td>\n",
       "      <td>False</td>\n",
       "      <td>False</td>\n",
       "      <td>False</td>\n",
       "      <td>False</td>\n",
       "      <td>False</td>\n",
       "      <td>False</td>\n",
       "      <td>False</td>\n",
       "    </tr>\n",
       "    <tr>\n",
       "      <th>2793</th>\n",
       "      <td>350.0</td>\n",
       "      <td>3</td>\n",
       "      <td>4</td>\n",
       "      <td>5</td>\n",
       "      <td>False</td>\n",
       "      <td>False</td>\n",
       "      <td>False</td>\n",
       "      <td>False</td>\n",
       "      <td>False</td>\n",
       "      <td>False</td>\n",
       "      <td>...</td>\n",
       "      <td>False</td>\n",
       "      <td>False</td>\n",
       "      <td>False</td>\n",
       "      <td>False</td>\n",
       "      <td>False</td>\n",
       "      <td>False</td>\n",
       "      <td>False</td>\n",
       "      <td>False</td>\n",
       "      <td>False</td>\n",
       "      <td>False</td>\n",
       "    </tr>\n",
       "    <tr>\n",
       "      <th>2812</th>\n",
       "      <td>283.0</td>\n",
       "      <td>4</td>\n",
       "      <td>3</td>\n",
       "      <td>1</td>\n",
       "      <td>False</td>\n",
       "      <td>False</td>\n",
       "      <td>False</td>\n",
       "      <td>False</td>\n",
       "      <td>False</td>\n",
       "      <td>False</td>\n",
       "      <td>...</td>\n",
       "      <td>False</td>\n",
       "      <td>False</td>\n",
       "      <td>False</td>\n",
       "      <td>False</td>\n",
       "      <td>False</td>\n",
       "      <td>False</td>\n",
       "      <td>False</td>\n",
       "      <td>False</td>\n",
       "      <td>False</td>\n",
       "      <td>False</td>\n",
       "    </tr>\n",
       "    <tr>\n",
       "      <th>...</th>\n",
       "      <td>...</td>\n",
       "      <td>...</td>\n",
       "      <td>...</td>\n",
       "      <td>...</td>\n",
       "      <td>...</td>\n",
       "      <td>...</td>\n",
       "      <td>...</td>\n",
       "      <td>...</td>\n",
       "      <td>...</td>\n",
       "      <td>...</td>\n",
       "      <td>...</td>\n",
       "      <td>...</td>\n",
       "      <td>...</td>\n",
       "      <td>...</td>\n",
       "      <td>...</td>\n",
       "      <td>...</td>\n",
       "      <td>...</td>\n",
       "      <td>...</td>\n",
       "      <td>...</td>\n",
       "      <td>...</td>\n",
       "      <td>...</td>\n",
       "    </tr>\n",
       "    <tr>\n",
       "      <th>263</th>\n",
       "      <td>430.0</td>\n",
       "      <td>5</td>\n",
       "      <td>6</td>\n",
       "      <td>4</td>\n",
       "      <td>False</td>\n",
       "      <td>False</td>\n",
       "      <td>False</td>\n",
       "      <td>False</td>\n",
       "      <td>False</td>\n",
       "      <td>False</td>\n",
       "      <td>...</td>\n",
       "      <td>False</td>\n",
       "      <td>False</td>\n",
       "      <td>False</td>\n",
       "      <td>False</td>\n",
       "      <td>False</td>\n",
       "      <td>False</td>\n",
       "      <td>False</td>\n",
       "      <td>False</td>\n",
       "      <td>False</td>\n",
       "      <td>False</td>\n",
       "    </tr>\n",
       "    <tr>\n",
       "      <th>3241</th>\n",
       "      <td>210.0</td>\n",
       "      <td>3</td>\n",
       "      <td>2</td>\n",
       "      <td>4</td>\n",
       "      <td>False</td>\n",
       "      <td>False</td>\n",
       "      <td>False</td>\n",
       "      <td>False</td>\n",
       "      <td>False</td>\n",
       "      <td>False</td>\n",
       "      <td>...</td>\n",
       "      <td>False</td>\n",
       "      <td>False</td>\n",
       "      <td>False</td>\n",
       "      <td>False</td>\n",
       "      <td>False</td>\n",
       "      <td>False</td>\n",
       "      <td>False</td>\n",
       "      <td>False</td>\n",
       "      <td>False</td>\n",
       "      <td>False</td>\n",
       "    </tr>\n",
       "    <tr>\n",
       "      <th>8169</th>\n",
       "      <td>370.0</td>\n",
       "      <td>4</td>\n",
       "      <td>1</td>\n",
       "      <td>4</td>\n",
       "      <td>False</td>\n",
       "      <td>False</td>\n",
       "      <td>False</td>\n",
       "      <td>False</td>\n",
       "      <td>False</td>\n",
       "      <td>False</td>\n",
       "      <td>...</td>\n",
       "      <td>False</td>\n",
       "      <td>False</td>\n",
       "      <td>False</td>\n",
       "      <td>False</td>\n",
       "      <td>False</td>\n",
       "      <td>False</td>\n",
       "      <td>False</td>\n",
       "      <td>False</td>\n",
       "      <td>False</td>\n",
       "      <td>False</td>\n",
       "    </tr>\n",
       "    <tr>\n",
       "      <th>4010</th>\n",
       "      <td>300.0</td>\n",
       "      <td>3</td>\n",
       "      <td>6</td>\n",
       "      <td>4</td>\n",
       "      <td>False</td>\n",
       "      <td>False</td>\n",
       "      <td>False</td>\n",
       "      <td>True</td>\n",
       "      <td>False</td>\n",
       "      <td>False</td>\n",
       "      <td>...</td>\n",
       "      <td>False</td>\n",
       "      <td>False</td>\n",
       "      <td>False</td>\n",
       "      <td>False</td>\n",
       "      <td>False</td>\n",
       "      <td>False</td>\n",
       "      <td>False</td>\n",
       "      <td>False</td>\n",
       "      <td>False</td>\n",
       "      <td>False</td>\n",
       "    </tr>\n",
       "    <tr>\n",
       "      <th>7982</th>\n",
       "      <td>149.0</td>\n",
       "      <td>3</td>\n",
       "      <td>6</td>\n",
       "      <td>2</td>\n",
       "      <td>False</td>\n",
       "      <td>False</td>\n",
       "      <td>False</td>\n",
       "      <td>False</td>\n",
       "      <td>False</td>\n",
       "      <td>False</td>\n",
       "      <td>...</td>\n",
       "      <td>False</td>\n",
       "      <td>False</td>\n",
       "      <td>False</td>\n",
       "      <td>False</td>\n",
       "      <td>False</td>\n",
       "      <td>False</td>\n",
       "      <td>False</td>\n",
       "      <td>False</td>\n",
       "      <td>False</td>\n",
       "      <td>False</td>\n",
       "    </tr>\n",
       "  </tbody>\n",
       "</table>\n",
       "<p>1381 rows × 2789 columns</p>\n",
       "</div>"
      ],
      "text/plain": [
       "       Área  Quartos  Banheiros  Vagas  Bairro_Alto da Boa Vista  \\\n",
       "733   497.0        3          5      4                     False   \n",
       "2770  450.0        4          7      4                     False   \n",
       "7890   80.0        2          2      1                     False   \n",
       "2793  350.0        3          4      5                     False   \n",
       "2812  283.0        4          3      1                     False   \n",
       "...     ...      ...        ...    ...                       ...   \n",
       "263   430.0        5          6      4                     False   \n",
       "3241  210.0        3          2      4                     False   \n",
       "8169  370.0        4          1      4                     False   \n",
       "4010  300.0        3          6      4                     False   \n",
       "7982  149.0        3          6      2                     False   \n",
       "\n",
       "      Bairro_Alto da Lapa  Bairro_Alto da Mooca  Bairro_Alto de Pinheiros  \\\n",
       "733                 False                 False                     False   \n",
       "2770                False                 False                      True   \n",
       "7890                False                 False                     False   \n",
       "2793                False                 False                     False   \n",
       "2812                False                 False                     False   \n",
       "...                   ...                   ...                       ...   \n",
       "263                 False                 False                     False   \n",
       "3241                False                 False                     False   \n",
       "8169                False                 False                     False   \n",
       "4010                False                 False                      True   \n",
       "7982                False                 False                     False   \n",
       "\n",
       "      Bairro_Barra Funda  Bairro_Barro Branco (Zona Norte)  ...  \\\n",
       "733                False                             False  ...   \n",
       "2770               False                             False  ...   \n",
       "7890               False                             False  ...   \n",
       "2793               False                             False  ...   \n",
       "2812               False                             False  ...   \n",
       "...                  ...                               ...  ...   \n",
       "263                False                             False  ...   \n",
       "3241               False                             False  ...   \n",
       "8169               False                             False  ...   \n",
       "4010               False                             False  ...   \n",
       "7982               False                             False  ...   \n",
       "\n",
       "      Rua_Vila Talarico  Rua_Vila Tiradentes  Rua_Vila Tramontano  \\\n",
       "733               False                False                False   \n",
       "2770              False                False                False   \n",
       "7890              False                False                False   \n",
       "2793              False                False                False   \n",
       "2812              False                False                False   \n",
       "...                 ...                  ...                  ...   \n",
       "263               False                False                False   \n",
       "3241              False                False                False   \n",
       "8169              False                False                False   \n",
       "4010              False                False                False   \n",
       "7982              False                False                False   \n",
       "\n",
       "      Rua_Vila Vera  Rua_Vila da Saúde  Rua_Vila das Mercês  \\\n",
       "733           False              False                False   \n",
       "2770          False              False                False   \n",
       "7890          False              False                False   \n",
       "2793          False              False                False   \n",
       "2812          False              False                False   \n",
       "...             ...                ...                  ...   \n",
       "263           False              False                False   \n",
       "3241          False              False                False   \n",
       "8169          False              False                False   \n",
       "4010          False              False                False   \n",
       "7982          False              False                False   \n",
       "\n",
       "      Rua_Vila do Encontro  Rua_Água Branca  Rua_Água Fria  Rua_Água Rasa  \n",
       "733                  False            False          False          False  \n",
       "2770                 False            False          False          False  \n",
       "7890                 False            False          False          False  \n",
       "2793                 False            False          False          False  \n",
       "2812                 False            False          False          False  \n",
       "...                    ...              ...            ...            ...  \n",
       "263                  False            False          False          False  \n",
       "3241                 False            False          False          False  \n",
       "8169                 False            False          False          False  \n",
       "4010                 False            False          False          False  \n",
       "7982                 False            False          False          False  \n",
       "\n",
       "[1381 rows x 2789 columns]"
      ]
     },
     "execution_count": 131,
     "metadata": {},
     "output_type": "execute_result"
    }
   ],
   "source": [
    "X_test"
   ]
  },
  {
   "cell_type": "code",
   "execution_count": 132,
   "id": "e771e252",
   "metadata": {
    "ExecuteTime": {
     "end_time": "2024-03-21T15:01:06.204534Z",
     "start_time": "2024-03-21T15:01:06.166588Z"
    }
   },
   "outputs": [
    {
     "data": {
      "text/plain": [
       "6368    2184000.0\n",
       "2661     850000.0\n",
       "1191    2800000.0\n",
       "5547    5400000.0\n",
       "2380    2600000.0\n",
       "          ...    \n",
       "4685     600000.0\n",
       "6352    3900000.0\n",
       "6395    2800000.0\n",
       "6585    1600000.0\n",
       "1060    5500000.0\n",
       "Name: Preço, Length: 5523, dtype: float64"
      ]
     },
     "execution_count": 132,
     "metadata": {},
     "output_type": "execute_result"
    }
   ],
   "source": [
    "y_train"
   ]
  },
  {
   "cell_type": "code",
   "execution_count": 133,
   "id": "ede9b9aa",
   "metadata": {
    "ExecuteTime": {
     "end_time": "2024-03-21T15:01:06.227911Z",
     "start_time": "2024-03-21T15:01:06.208549Z"
    },
    "scrolled": true
   },
   "outputs": [
    {
     "data": {
      "text/plain": [
       "733     3000000.0\n",
       "2770    5500000.0\n",
       "7890     260000.0\n",
       "2793    2000000.0\n",
       "2812    1250000.0\n",
       "          ...    \n",
       "263     3150000.0\n",
       "3241    5250000.0\n",
       "8169    2000000.0\n",
       "4010    3500000.0\n",
       "7982    3300000.0\n",
       "Name: Preço, Length: 1381, dtype: float64"
      ]
     },
     "execution_count": 133,
     "metadata": {},
     "output_type": "execute_result"
    }
   ],
   "source": [
    "y_test"
   ]
  },
  {
   "cell_type": "markdown",
   "id": "98d661fb",
   "metadata": {},
   "source": [
    "## 5.3 Aluguel"
   ]
  },
  {
   "cell_type": "markdown",
   "id": "cd126348",
   "metadata": {},
   "source": [
    "### 5.3.1 Preparando as variáveis"
   ]
  },
  {
   "cell_type": "code",
   "execution_count": 134,
   "id": "044e58ff",
   "metadata": {
    "ExecuteTime": {
     "end_time": "2024-03-21T15:01:06.276056Z",
     "start_time": "2024-03-21T15:01:06.232107Z"
    },
    "scrolled": true
   },
   "outputs": [
    {
     "data": {
      "text/html": [
       "<div>\n",
       "<style scoped>\n",
       "    .dataframe tbody tr th:only-of-type {\n",
       "        vertical-align: middle;\n",
       "    }\n",
       "\n",
       "    .dataframe tbody tr th {\n",
       "        vertical-align: top;\n",
       "    }\n",
       "\n",
       "    .dataframe thead th {\n",
       "        text-align: right;\n",
       "    }\n",
       "</style>\n",
       "<table border=\"1\" class=\"dataframe\">\n",
       "  <thead>\n",
       "    <tr style=\"text-align: right;\">\n",
       "      <th></th>\n",
       "      <th>Rua</th>\n",
       "      <th>Número</th>\n",
       "      <th>Bairro</th>\n",
       "      <th>Cidade</th>\n",
       "      <th>Área</th>\n",
       "      <th>Quartos</th>\n",
       "      <th>Banheiros</th>\n",
       "      <th>Vagas</th>\n",
       "      <th>Preço</th>\n",
       "    </tr>\n",
       "  </thead>\n",
       "  <tbody>\n",
       "    <tr>\n",
       "      <th>0</th>\n",
       "      <td>Rua Fonseca da Costa</td>\n",
       "      <td>0</td>\n",
       "      <td>Bosque da Saúde</td>\n",
       "      <td>São Paulo</td>\n",
       "      <td>650.0</td>\n",
       "      <td>4</td>\n",
       "      <td>6</td>\n",
       "      <td>4</td>\n",
       "      <td>11000.0</td>\n",
       "    </tr>\n",
       "    <tr>\n",
       "      <th>1</th>\n",
       "      <td>Jardim Paulistano</td>\n",
       "      <td>0</td>\n",
       "      <td>Jardim Paulistano</td>\n",
       "      <td>São Paulo</td>\n",
       "      <td>230.0</td>\n",
       "      <td>2</td>\n",
       "      <td>3</td>\n",
       "      <td>2</td>\n",
       "      <td>12000.0</td>\n",
       "    </tr>\n",
       "    <tr>\n",
       "      <th>2</th>\n",
       "      <td>Rua Maestro Elias Lobo</td>\n",
       "      <td>0</td>\n",
       "      <td>Jardim Paulista</td>\n",
       "      <td>São Paulo</td>\n",
       "      <td>542.0</td>\n",
       "      <td>5</td>\n",
       "      <td>8</td>\n",
       "      <td>4</td>\n",
       "      <td>25000.0</td>\n",
       "    </tr>\n",
       "    <tr>\n",
       "      <th>3</th>\n",
       "      <td>Rua Guararapes</td>\n",
       "      <td>0</td>\n",
       "      <td>Lapa</td>\n",
       "      <td>São Paulo</td>\n",
       "      <td>515.0</td>\n",
       "      <td>3</td>\n",
       "      <td>5</td>\n",
       "      <td>8</td>\n",
       "      <td>30000.0</td>\n",
       "    </tr>\n",
       "    <tr>\n",
       "      <th>4</th>\n",
       "      <td>Rua Alvarenga</td>\n",
       "      <td>0</td>\n",
       "      <td>Butantã</td>\n",
       "      <td>São Paulo</td>\n",
       "      <td>400.0</td>\n",
       "      <td>4</td>\n",
       "      <td>3</td>\n",
       "      <td>4</td>\n",
       "      <td>10000.0</td>\n",
       "    </tr>\n",
       "  </tbody>\n",
       "</table>\n",
       "</div>"
      ],
      "text/plain": [
       "                       Rua  Número             Bairro     Cidade   Área  \\\n",
       "0    Rua Fonseca da Costa        0    Bosque da Saúde  São Paulo  650.0   \n",
       "1        Jardim Paulistano       0  Jardim Paulistano  São Paulo  230.0   \n",
       "2  Rua Maestro Elias Lobo        0    Jardim Paulista  São Paulo  542.0   \n",
       "3          Rua Guararapes        0               Lapa  São Paulo  515.0   \n",
       "4           Rua Alvarenga        0            Butantã  São Paulo  400.0   \n",
       "\n",
       "   Quartos  Banheiros  Vagas    Preço  \n",
       "0        4          6      4  11000.0  \n",
       "1        2          3      2  12000.0  \n",
       "2        5          8      4  25000.0  \n",
       "3        3          5      8  30000.0  \n",
       "4        4          3      4  10000.0  "
      ]
     },
     "execution_count": 134,
     "metadata": {},
     "output_type": "execute_result"
    }
   ],
   "source": [
    "df_aluguel = df_aluguel.drop(columns=['Aluguel'])\n",
    "df_aluguel.head(5)"
   ]
  },
  {
   "cell_type": "code",
   "execution_count": 135,
   "id": "a03371f3",
   "metadata": {
    "ExecuteTime": {
     "end_time": "2024-03-21T15:01:06.319147Z",
     "start_time": "2024-03-21T15:01:06.281070Z"
    }
   },
   "outputs": [],
   "source": [
    "df_bool_aluguel = pd.get_dummies(df_aluguel[['Bairro', 'Rua']], drop_first=True)\n",
    "\n",
    "# Adicionando as novas colunas ao DataFrame original\n",
    "df_bool_aluguel = pd.concat([df_aluguel, df_bool_aluguel], axis=1)\n",
    "\n",
    "# Removendo a coluna original dos bairros, se desejar\n",
    "df_bool_aluguel.drop(columns=['Bairro', 'Rua', 'Cidade', 'Número'], axis=1, inplace=True)"
   ]
  },
  {
   "cell_type": "code",
   "execution_count": 136,
   "id": "e8d130f5",
   "metadata": {
    "ExecuteTime": {
     "end_time": "2024-03-21T15:01:06.356242Z",
     "start_time": "2024-03-21T15:01:06.323160Z"
    }
   },
   "outputs": [],
   "source": [
    "# Agora 'df_encoded' contém as colunas codificadas one-hot para os bairros\n",
    "df_bool_aluguel = df_bool_aluguel.dropna()"
   ]
  },
  {
   "cell_type": "code",
   "execution_count": 137,
   "id": "ea87ea89",
   "metadata": {
    "ExecuteTime": {
     "end_time": "2024-03-21T15:01:06.395955Z",
     "start_time": "2024-03-21T15:01:06.360254Z"
    }
   },
   "outputs": [
    {
     "data": {
      "text/html": [
       "<div>\n",
       "<style scoped>\n",
       "    .dataframe tbody tr th:only-of-type {\n",
       "        vertical-align: middle;\n",
       "    }\n",
       "\n",
       "    .dataframe tbody tr th {\n",
       "        vertical-align: top;\n",
       "    }\n",
       "\n",
       "    .dataframe thead th {\n",
       "        text-align: right;\n",
       "    }\n",
       "</style>\n",
       "<table border=\"1\" class=\"dataframe\">\n",
       "  <thead>\n",
       "    <tr style=\"text-align: right;\">\n",
       "      <th></th>\n",
       "      <th>Área</th>\n",
       "      <th>Quartos</th>\n",
       "      <th>Banheiros</th>\n",
       "      <th>Vagas</th>\n",
       "      <th>Preço</th>\n",
       "      <th>Bairro_Alto da Lapa</th>\n",
       "      <th>Bairro_Alto de Pinheiros</th>\n",
       "      <th>Bairro_Barro Branco (Zona Norte)</th>\n",
       "      <th>Bairro_Bela Aliança</th>\n",
       "      <th>Bairro_Belenzinho</th>\n",
       "      <th>...</th>\n",
       "      <th>Rua_Vila Madalena</th>\n",
       "      <th>Rua_Vila Mariana</th>\n",
       "      <th>Rua_Vila Morumbi</th>\n",
       "      <th>Rua_Vila Nova Caledônia</th>\n",
       "      <th>Rua_Vila Nova Conceição</th>\n",
       "      <th>Rua_Vila Olímpia</th>\n",
       "      <th>Rua_Vila Progredior</th>\n",
       "      <th>Rua_Vila Sônia</th>\n",
       "      <th>Rua_Vila Tramontano</th>\n",
       "      <th>Rua_Água Branca</th>\n",
       "    </tr>\n",
       "  </thead>\n",
       "  <tbody>\n",
       "    <tr>\n",
       "      <th>0</th>\n",
       "      <td>650.0</td>\n",
       "      <td>4</td>\n",
       "      <td>6</td>\n",
       "      <td>4</td>\n",
       "      <td>11000.0</td>\n",
       "      <td>False</td>\n",
       "      <td>False</td>\n",
       "      <td>False</td>\n",
       "      <td>False</td>\n",
       "      <td>False</td>\n",
       "      <td>...</td>\n",
       "      <td>False</td>\n",
       "      <td>False</td>\n",
       "      <td>False</td>\n",
       "      <td>False</td>\n",
       "      <td>False</td>\n",
       "      <td>False</td>\n",
       "      <td>False</td>\n",
       "      <td>False</td>\n",
       "      <td>False</td>\n",
       "      <td>False</td>\n",
       "    </tr>\n",
       "    <tr>\n",
       "      <th>1</th>\n",
       "      <td>230.0</td>\n",
       "      <td>2</td>\n",
       "      <td>3</td>\n",
       "      <td>2</td>\n",
       "      <td>12000.0</td>\n",
       "      <td>False</td>\n",
       "      <td>False</td>\n",
       "      <td>False</td>\n",
       "      <td>False</td>\n",
       "      <td>False</td>\n",
       "      <td>...</td>\n",
       "      <td>False</td>\n",
       "      <td>False</td>\n",
       "      <td>False</td>\n",
       "      <td>False</td>\n",
       "      <td>False</td>\n",
       "      <td>False</td>\n",
       "      <td>False</td>\n",
       "      <td>False</td>\n",
       "      <td>False</td>\n",
       "      <td>False</td>\n",
       "    </tr>\n",
       "    <tr>\n",
       "      <th>2</th>\n",
       "      <td>542.0</td>\n",
       "      <td>5</td>\n",
       "      <td>8</td>\n",
       "      <td>4</td>\n",
       "      <td>25000.0</td>\n",
       "      <td>False</td>\n",
       "      <td>False</td>\n",
       "      <td>False</td>\n",
       "      <td>False</td>\n",
       "      <td>False</td>\n",
       "      <td>...</td>\n",
       "      <td>False</td>\n",
       "      <td>False</td>\n",
       "      <td>False</td>\n",
       "      <td>False</td>\n",
       "      <td>False</td>\n",
       "      <td>False</td>\n",
       "      <td>False</td>\n",
       "      <td>False</td>\n",
       "      <td>False</td>\n",
       "      <td>False</td>\n",
       "    </tr>\n",
       "    <tr>\n",
       "      <th>3</th>\n",
       "      <td>515.0</td>\n",
       "      <td>3</td>\n",
       "      <td>5</td>\n",
       "      <td>8</td>\n",
       "      <td>30000.0</td>\n",
       "      <td>False</td>\n",
       "      <td>False</td>\n",
       "      <td>False</td>\n",
       "      <td>False</td>\n",
       "      <td>False</td>\n",
       "      <td>...</td>\n",
       "      <td>False</td>\n",
       "      <td>False</td>\n",
       "      <td>False</td>\n",
       "      <td>False</td>\n",
       "      <td>False</td>\n",
       "      <td>False</td>\n",
       "      <td>False</td>\n",
       "      <td>False</td>\n",
       "      <td>False</td>\n",
       "      <td>False</td>\n",
       "    </tr>\n",
       "    <tr>\n",
       "      <th>4</th>\n",
       "      <td>400.0</td>\n",
       "      <td>4</td>\n",
       "      <td>3</td>\n",
       "      <td>4</td>\n",
       "      <td>10000.0</td>\n",
       "      <td>False</td>\n",
       "      <td>False</td>\n",
       "      <td>False</td>\n",
       "      <td>False</td>\n",
       "      <td>False</td>\n",
       "      <td>...</td>\n",
       "      <td>False</td>\n",
       "      <td>False</td>\n",
       "      <td>False</td>\n",
       "      <td>False</td>\n",
       "      <td>False</td>\n",
       "      <td>False</td>\n",
       "      <td>False</td>\n",
       "      <td>False</td>\n",
       "      <td>False</td>\n",
       "      <td>False</td>\n",
       "    </tr>\n",
       "  </tbody>\n",
       "</table>\n",
       "<p>5 rows × 449 columns</p>\n",
       "</div>"
      ],
      "text/plain": [
       "    Área  Quartos  Banheiros  Vagas    Preço  Bairro_Alto da Lapa  \\\n",
       "0  650.0        4          6      4  11000.0                False   \n",
       "1  230.0        2          3      2  12000.0                False   \n",
       "2  542.0        5          8      4  25000.0                False   \n",
       "3  515.0        3          5      8  30000.0                False   \n",
       "4  400.0        4          3      4  10000.0                False   \n",
       "\n",
       "   Bairro_Alto de Pinheiros  Bairro_Barro Branco (Zona Norte)  \\\n",
       "0                     False                             False   \n",
       "1                     False                             False   \n",
       "2                     False                             False   \n",
       "3                     False                             False   \n",
       "4                     False                             False   \n",
       "\n",
       "   Bairro_Bela Aliança  Bairro_Belenzinho  ...  Rua_Vila Madalena  \\\n",
       "0                False              False  ...              False   \n",
       "1                False              False  ...              False   \n",
       "2                False              False  ...              False   \n",
       "3                False              False  ...              False   \n",
       "4                False              False  ...              False   \n",
       "\n",
       "   Rua_Vila Mariana  Rua_Vila Morumbi  Rua_Vila Nova Caledônia  \\\n",
       "0             False             False                    False   \n",
       "1             False             False                    False   \n",
       "2             False             False                    False   \n",
       "3             False             False                    False   \n",
       "4             False             False                    False   \n",
       "\n",
       "   Rua_Vila Nova Conceição  Rua_Vila Olímpia  Rua_Vila Progredior  \\\n",
       "0                    False             False                False   \n",
       "1                    False             False                False   \n",
       "2                    False             False                False   \n",
       "3                    False             False                False   \n",
       "4                    False             False                False   \n",
       "\n",
       "   Rua_Vila Sônia  Rua_Vila Tramontano  Rua_Água Branca  \n",
       "0           False                False            False  \n",
       "1           False                False            False  \n",
       "2           False                False            False  \n",
       "3           False                False            False  \n",
       "4           False                False            False  \n",
       "\n",
       "[5 rows x 449 columns]"
      ]
     },
     "execution_count": 137,
     "metadata": {},
     "output_type": "execute_result"
    }
   ],
   "source": [
    "df_bool_aluguel.head(5)"
   ]
  },
  {
   "cell_type": "markdown",
   "id": "89f4a58c",
   "metadata": {},
   "source": [
    "### 5.3.2 Separando treino e teste"
   ]
  },
  {
   "cell_type": "code",
   "execution_count": 138,
   "id": "32d15bc4",
   "metadata": {
    "ExecuteTime": {
     "end_time": "2024-03-21T15:01:06.436812Z",
     "start_time": "2024-03-21T15:01:06.405857Z"
    }
   },
   "outputs": [],
   "source": [
    "# Separando treino e teste:\n",
    "Xa = df_bool_aluguel.drop(columns=['Preço'])\n",
    "ya = df_bool_aluguel['Preço']\n",
    "\n",
    "X_train_aluguel, X_test_aluguel, y_train_aluguel, y_test_aluguel = train_test_split(Xa, ya, test_size=0.2, random_state=42)"
   ]
  },
  {
   "cell_type": "code",
   "execution_count": 139,
   "id": "443d95b4",
   "metadata": {
    "ExecuteTime": {
     "end_time": "2024-03-21T15:01:06.557204Z",
     "start_time": "2024-03-21T15:01:06.440826Z"
    }
   },
   "outputs": [
    {
     "data": {
      "text/html": [
       "<div>\n",
       "<style scoped>\n",
       "    .dataframe tbody tr th:only-of-type {\n",
       "        vertical-align: middle;\n",
       "    }\n",
       "\n",
       "    .dataframe tbody tr th {\n",
       "        vertical-align: top;\n",
       "    }\n",
       "\n",
       "    .dataframe thead th {\n",
       "        text-align: right;\n",
       "    }\n",
       "</style>\n",
       "<table border=\"1\" class=\"dataframe\">\n",
       "  <thead>\n",
       "    <tr style=\"text-align: right;\">\n",
       "      <th></th>\n",
       "      <th>Área</th>\n",
       "      <th>Quartos</th>\n",
       "      <th>Banheiros</th>\n",
       "      <th>Vagas</th>\n",
       "      <th>Bairro_Alto da Lapa</th>\n",
       "      <th>Bairro_Alto de Pinheiros</th>\n",
       "      <th>Bairro_Barro Branco (Zona Norte)</th>\n",
       "      <th>Bairro_Bela Aliança</th>\n",
       "      <th>Bairro_Belenzinho</th>\n",
       "      <th>Bairro_Boaçava</th>\n",
       "      <th>...</th>\n",
       "      <th>Rua_Vila Madalena</th>\n",
       "      <th>Rua_Vila Mariana</th>\n",
       "      <th>Rua_Vila Morumbi</th>\n",
       "      <th>Rua_Vila Nova Caledônia</th>\n",
       "      <th>Rua_Vila Nova Conceição</th>\n",
       "      <th>Rua_Vila Olímpia</th>\n",
       "      <th>Rua_Vila Progredior</th>\n",
       "      <th>Rua_Vila Sônia</th>\n",
       "      <th>Rua_Vila Tramontano</th>\n",
       "      <th>Rua_Água Branca</th>\n",
       "    </tr>\n",
       "  </thead>\n",
       "  <tbody>\n",
       "    <tr>\n",
       "      <th>478</th>\n",
       "      <td>800.0</td>\n",
       "      <td>4</td>\n",
       "      <td>6</td>\n",
       "      <td>9</td>\n",
       "      <td>False</td>\n",
       "      <td>False</td>\n",
       "      <td>False</td>\n",
       "      <td>False</td>\n",
       "      <td>False</td>\n",
       "      <td>False</td>\n",
       "      <td>...</td>\n",
       "      <td>False</td>\n",
       "      <td>False</td>\n",
       "      <td>False</td>\n",
       "      <td>False</td>\n",
       "      <td>False</td>\n",
       "      <td>False</td>\n",
       "      <td>False</td>\n",
       "      <td>False</td>\n",
       "      <td>False</td>\n",
       "      <td>False</td>\n",
       "    </tr>\n",
       "    <tr>\n",
       "      <th>346</th>\n",
       "      <td>554.0</td>\n",
       "      <td>4</td>\n",
       "      <td>4</td>\n",
       "      <td>4</td>\n",
       "      <td>False</td>\n",
       "      <td>False</td>\n",
       "      <td>False</td>\n",
       "      <td>False</td>\n",
       "      <td>False</td>\n",
       "      <td>False</td>\n",
       "      <td>...</td>\n",
       "      <td>False</td>\n",
       "      <td>False</td>\n",
       "      <td>False</td>\n",
       "      <td>False</td>\n",
       "      <td>False</td>\n",
       "      <td>False</td>\n",
       "      <td>False</td>\n",
       "      <td>False</td>\n",
       "      <td>False</td>\n",
       "      <td>False</td>\n",
       "    </tr>\n",
       "    <tr>\n",
       "      <th>462</th>\n",
       "      <td>742.0</td>\n",
       "      <td>5</td>\n",
       "      <td>7</td>\n",
       "      <td>6</td>\n",
       "      <td>False</td>\n",
       "      <td>False</td>\n",
       "      <td>False</td>\n",
       "      <td>False</td>\n",
       "      <td>False</td>\n",
       "      <td>False</td>\n",
       "      <td>...</td>\n",
       "      <td>False</td>\n",
       "      <td>False</td>\n",
       "      <td>False</td>\n",
       "      <td>False</td>\n",
       "      <td>False</td>\n",
       "      <td>False</td>\n",
       "      <td>False</td>\n",
       "      <td>False</td>\n",
       "      <td>False</td>\n",
       "      <td>False</td>\n",
       "    </tr>\n",
       "    <tr>\n",
       "      <th>689</th>\n",
       "      <td>558.0</td>\n",
       "      <td>4</td>\n",
       "      <td>8</td>\n",
       "      <td>6</td>\n",
       "      <td>False</td>\n",
       "      <td>False</td>\n",
       "      <td>False</td>\n",
       "      <td>False</td>\n",
       "      <td>False</td>\n",
       "      <td>False</td>\n",
       "      <td>...</td>\n",
       "      <td>False</td>\n",
       "      <td>False</td>\n",
       "      <td>False</td>\n",
       "      <td>False</td>\n",
       "      <td>False</td>\n",
       "      <td>False</td>\n",
       "      <td>False</td>\n",
       "      <td>False</td>\n",
       "      <td>False</td>\n",
       "      <td>False</td>\n",
       "    </tr>\n",
       "    <tr>\n",
       "      <th>302</th>\n",
       "      <td>450.0</td>\n",
       "      <td>4</td>\n",
       "      <td>4</td>\n",
       "      <td>6</td>\n",
       "      <td>False</td>\n",
       "      <td>False</td>\n",
       "      <td>False</td>\n",
       "      <td>False</td>\n",
       "      <td>False</td>\n",
       "      <td>False</td>\n",
       "      <td>...</td>\n",
       "      <td>False</td>\n",
       "      <td>False</td>\n",
       "      <td>False</td>\n",
       "      <td>False</td>\n",
       "      <td>False</td>\n",
       "      <td>False</td>\n",
       "      <td>False</td>\n",
       "      <td>False</td>\n",
       "      <td>False</td>\n",
       "      <td>False</td>\n",
       "    </tr>\n",
       "    <tr>\n",
       "      <th>...</th>\n",
       "      <td>...</td>\n",
       "      <td>...</td>\n",
       "      <td>...</td>\n",
       "      <td>...</td>\n",
       "      <td>...</td>\n",
       "      <td>...</td>\n",
       "      <td>...</td>\n",
       "      <td>...</td>\n",
       "      <td>...</td>\n",
       "      <td>...</td>\n",
       "      <td>...</td>\n",
       "      <td>...</td>\n",
       "      <td>...</td>\n",
       "      <td>...</td>\n",
       "      <td>...</td>\n",
       "      <td>...</td>\n",
       "      <td>...</td>\n",
       "      <td>...</td>\n",
       "      <td>...</td>\n",
       "      <td>...</td>\n",
       "      <td>...</td>\n",
       "    </tr>\n",
       "    <tr>\n",
       "      <th>71</th>\n",
       "      <td>60.0</td>\n",
       "      <td>4</td>\n",
       "      <td>1</td>\n",
       "      <td>1</td>\n",
       "      <td>False</td>\n",
       "      <td>False</td>\n",
       "      <td>False</td>\n",
       "      <td>False</td>\n",
       "      <td>False</td>\n",
       "      <td>False</td>\n",
       "      <td>...</td>\n",
       "      <td>False</td>\n",
       "      <td>False</td>\n",
       "      <td>False</td>\n",
       "      <td>False</td>\n",
       "      <td>False</td>\n",
       "      <td>False</td>\n",
       "      <td>False</td>\n",
       "      <td>False</td>\n",
       "      <td>False</td>\n",
       "      <td>False</td>\n",
       "    </tr>\n",
       "    <tr>\n",
       "      <th>106</th>\n",
       "      <td>300.0</td>\n",
       "      <td>4</td>\n",
       "      <td>4</td>\n",
       "      <td>3</td>\n",
       "      <td>False</td>\n",
       "      <td>False</td>\n",
       "      <td>False</td>\n",
       "      <td>False</td>\n",
       "      <td>False</td>\n",
       "      <td>False</td>\n",
       "      <td>...</td>\n",
       "      <td>False</td>\n",
       "      <td>False</td>\n",
       "      <td>False</td>\n",
       "      <td>False</td>\n",
       "      <td>False</td>\n",
       "      <td>False</td>\n",
       "      <td>False</td>\n",
       "      <td>False</td>\n",
       "      <td>False</td>\n",
       "      <td>False</td>\n",
       "    </tr>\n",
       "    <tr>\n",
       "      <th>270</th>\n",
       "      <td>480.0</td>\n",
       "      <td>5</td>\n",
       "      <td>5</td>\n",
       "      <td>4</td>\n",
       "      <td>False</td>\n",
       "      <td>False</td>\n",
       "      <td>False</td>\n",
       "      <td>False</td>\n",
       "      <td>False</td>\n",
       "      <td>False</td>\n",
       "      <td>...</td>\n",
       "      <td>False</td>\n",
       "      <td>False</td>\n",
       "      <td>False</td>\n",
       "      <td>False</td>\n",
       "      <td>False</td>\n",
       "      <td>False</td>\n",
       "      <td>False</td>\n",
       "      <td>False</td>\n",
       "      <td>False</td>\n",
       "      <td>False</td>\n",
       "    </tr>\n",
       "    <tr>\n",
       "      <th>435</th>\n",
       "      <td>480.0</td>\n",
       "      <td>4</td>\n",
       "      <td>7</td>\n",
       "      <td>4</td>\n",
       "      <td>False</td>\n",
       "      <td>False</td>\n",
       "      <td>False</td>\n",
       "      <td>False</td>\n",
       "      <td>False</td>\n",
       "      <td>False</td>\n",
       "      <td>...</td>\n",
       "      <td>False</td>\n",
       "      <td>False</td>\n",
       "      <td>False</td>\n",
       "      <td>False</td>\n",
       "      <td>False</td>\n",
       "      <td>False</td>\n",
       "      <td>False</td>\n",
       "      <td>False</td>\n",
       "      <td>False</td>\n",
       "      <td>False</td>\n",
       "    </tr>\n",
       "    <tr>\n",
       "      <th>102</th>\n",
       "      <td>530.0</td>\n",
       "      <td>3</td>\n",
       "      <td>4</td>\n",
       "      <td>6</td>\n",
       "      <td>False</td>\n",
       "      <td>False</td>\n",
       "      <td>False</td>\n",
       "      <td>False</td>\n",
       "      <td>False</td>\n",
       "      <td>False</td>\n",
       "      <td>...</td>\n",
       "      <td>False</td>\n",
       "      <td>False</td>\n",
       "      <td>False</td>\n",
       "      <td>False</td>\n",
       "      <td>False</td>\n",
       "      <td>False</td>\n",
       "      <td>False</td>\n",
       "      <td>False</td>\n",
       "      <td>False</td>\n",
       "      <td>False</td>\n",
       "    </tr>\n",
       "  </tbody>\n",
       "</table>\n",
       "<p>667 rows × 448 columns</p>\n",
       "</div>"
      ],
      "text/plain": [
       "      Área  Quartos  Banheiros  Vagas  Bairro_Alto da Lapa  \\\n",
       "478  800.0        4          6      9                False   \n",
       "346  554.0        4          4      4                False   \n",
       "462  742.0        5          7      6                False   \n",
       "689  558.0        4          8      6                False   \n",
       "302  450.0        4          4      6                False   \n",
       "..     ...      ...        ...    ...                  ...   \n",
       "71    60.0        4          1      1                False   \n",
       "106  300.0        4          4      3                False   \n",
       "270  480.0        5          5      4                False   \n",
       "435  480.0        4          7      4                False   \n",
       "102  530.0        3          4      6                False   \n",
       "\n",
       "     Bairro_Alto de Pinheiros  Bairro_Barro Branco (Zona Norte)  \\\n",
       "478                     False                             False   \n",
       "346                     False                             False   \n",
       "462                     False                             False   \n",
       "689                     False                             False   \n",
       "302                     False                             False   \n",
       "..                        ...                               ...   \n",
       "71                      False                             False   \n",
       "106                     False                             False   \n",
       "270                     False                             False   \n",
       "435                     False                             False   \n",
       "102                     False                             False   \n",
       "\n",
       "     Bairro_Bela Aliança  Bairro_Belenzinho  Bairro_Boaçava  ...  \\\n",
       "478                False              False           False  ...   \n",
       "346                False              False           False  ...   \n",
       "462                False              False           False  ...   \n",
       "689                False              False           False  ...   \n",
       "302                False              False           False  ...   \n",
       "..                   ...                ...             ...  ...   \n",
       "71                 False              False           False  ...   \n",
       "106                False              False           False  ...   \n",
       "270                False              False           False  ...   \n",
       "435                False              False           False  ...   \n",
       "102                False              False           False  ...   \n",
       "\n",
       "     Rua_Vila Madalena  Rua_Vila Mariana  Rua_Vila Morumbi  \\\n",
       "478              False             False             False   \n",
       "346              False             False             False   \n",
       "462              False             False             False   \n",
       "689              False             False             False   \n",
       "302              False             False             False   \n",
       "..                 ...               ...               ...   \n",
       "71               False             False             False   \n",
       "106              False             False             False   \n",
       "270              False             False             False   \n",
       "435              False             False             False   \n",
       "102              False             False             False   \n",
       "\n",
       "     Rua_Vila Nova Caledônia  Rua_Vila Nova Conceição  Rua_Vila Olímpia  \\\n",
       "478                    False                    False             False   \n",
       "346                    False                    False             False   \n",
       "462                    False                    False             False   \n",
       "689                    False                    False             False   \n",
       "302                    False                    False             False   \n",
       "..                       ...                      ...               ...   \n",
       "71                     False                    False             False   \n",
       "106                    False                    False             False   \n",
       "270                    False                    False             False   \n",
       "435                    False                    False             False   \n",
       "102                    False                    False             False   \n",
       "\n",
       "     Rua_Vila Progredior  Rua_Vila Sônia  Rua_Vila Tramontano  Rua_Água Branca  \n",
       "478                False           False                False            False  \n",
       "346                False           False                False            False  \n",
       "462                False           False                False            False  \n",
       "689                False           False                False            False  \n",
       "302                False           False                False            False  \n",
       "..                   ...             ...                  ...              ...  \n",
       "71                 False           False                False            False  \n",
       "106                False           False                False            False  \n",
       "270                False           False                False            False  \n",
       "435                False           False                False            False  \n",
       "102                False           False                False            False  \n",
       "\n",
       "[667 rows x 448 columns]"
      ]
     },
     "execution_count": 139,
     "metadata": {},
     "output_type": "execute_result"
    }
   ],
   "source": [
    "X_train_aluguel"
   ]
  },
  {
   "cell_type": "code",
   "execution_count": 140,
   "id": "59a46965",
   "metadata": {
    "ExecuteTime": {
     "end_time": "2024-03-21T15:01:06.609715Z",
     "start_time": "2024-03-21T15:01:06.562220Z"
    }
   },
   "outputs": [
    {
     "data": {
      "text/html": [
       "<div>\n",
       "<style scoped>\n",
       "    .dataframe tbody tr th:only-of-type {\n",
       "        vertical-align: middle;\n",
       "    }\n",
       "\n",
       "    .dataframe tbody tr th {\n",
       "        vertical-align: top;\n",
       "    }\n",
       "\n",
       "    .dataframe thead th {\n",
       "        text-align: right;\n",
       "    }\n",
       "</style>\n",
       "<table border=\"1\" class=\"dataframe\">\n",
       "  <thead>\n",
       "    <tr style=\"text-align: right;\">\n",
       "      <th></th>\n",
       "      <th>Área</th>\n",
       "      <th>Quartos</th>\n",
       "      <th>Banheiros</th>\n",
       "      <th>Vagas</th>\n",
       "      <th>Bairro_Alto da Lapa</th>\n",
       "      <th>Bairro_Alto de Pinheiros</th>\n",
       "      <th>Bairro_Barro Branco (Zona Norte)</th>\n",
       "      <th>Bairro_Bela Aliança</th>\n",
       "      <th>Bairro_Belenzinho</th>\n",
       "      <th>Bairro_Boaçava</th>\n",
       "      <th>...</th>\n",
       "      <th>Rua_Vila Madalena</th>\n",
       "      <th>Rua_Vila Mariana</th>\n",
       "      <th>Rua_Vila Morumbi</th>\n",
       "      <th>Rua_Vila Nova Caledônia</th>\n",
       "      <th>Rua_Vila Nova Conceição</th>\n",
       "      <th>Rua_Vila Olímpia</th>\n",
       "      <th>Rua_Vila Progredior</th>\n",
       "      <th>Rua_Vila Sônia</th>\n",
       "      <th>Rua_Vila Tramontano</th>\n",
       "      <th>Rua_Água Branca</th>\n",
       "    </tr>\n",
       "  </thead>\n",
       "  <tbody>\n",
       "    <tr>\n",
       "      <th>610</th>\n",
       "      <td>520.0</td>\n",
       "      <td>4</td>\n",
       "      <td>6</td>\n",
       "      <td>4</td>\n",
       "      <td>False</td>\n",
       "      <td>False</td>\n",
       "      <td>False</td>\n",
       "      <td>False</td>\n",
       "      <td>False</td>\n",
       "      <td>False</td>\n",
       "      <td>...</td>\n",
       "      <td>False</td>\n",
       "      <td>False</td>\n",
       "      <td>False</td>\n",
       "      <td>False</td>\n",
       "      <td>False</td>\n",
       "      <td>False</td>\n",
       "      <td>False</td>\n",
       "      <td>False</td>\n",
       "      <td>False</td>\n",
       "      <td>False</td>\n",
       "    </tr>\n",
       "    <tr>\n",
       "      <th>821</th>\n",
       "      <td>800.0</td>\n",
       "      <td>4</td>\n",
       "      <td>7</td>\n",
       "      <td>4</td>\n",
       "      <td>False</td>\n",
       "      <td>False</td>\n",
       "      <td>False</td>\n",
       "      <td>False</td>\n",
       "      <td>False</td>\n",
       "      <td>False</td>\n",
       "      <td>...</td>\n",
       "      <td>False</td>\n",
       "      <td>False</td>\n",
       "      <td>False</td>\n",
       "      <td>False</td>\n",
       "      <td>False</td>\n",
       "      <td>False</td>\n",
       "      <td>False</td>\n",
       "      <td>False</td>\n",
       "      <td>False</td>\n",
       "      <td>False</td>\n",
       "    </tr>\n",
       "    <tr>\n",
       "      <th>290</th>\n",
       "      <td>480.0</td>\n",
       "      <td>5</td>\n",
       "      <td>7</td>\n",
       "      <td>4</td>\n",
       "      <td>False</td>\n",
       "      <td>False</td>\n",
       "      <td>False</td>\n",
       "      <td>False</td>\n",
       "      <td>False</td>\n",
       "      <td>False</td>\n",
       "      <td>...</td>\n",
       "      <td>False</td>\n",
       "      <td>False</td>\n",
       "      <td>False</td>\n",
       "      <td>False</td>\n",
       "      <td>False</td>\n",
       "      <td>False</td>\n",
       "      <td>False</td>\n",
       "      <td>False</td>\n",
       "      <td>False</td>\n",
       "      <td>False</td>\n",
       "    </tr>\n",
       "    <tr>\n",
       "      <th>799</th>\n",
       "      <td>464.0</td>\n",
       "      <td>3</td>\n",
       "      <td>4</td>\n",
       "      <td>3</td>\n",
       "      <td>False</td>\n",
       "      <td>False</td>\n",
       "      <td>False</td>\n",
       "      <td>False</td>\n",
       "      <td>False</td>\n",
       "      <td>False</td>\n",
       "      <td>...</td>\n",
       "      <td>False</td>\n",
       "      <td>False</td>\n",
       "      <td>False</td>\n",
       "      <td>False</td>\n",
       "      <td>False</td>\n",
       "      <td>False</td>\n",
       "      <td>False</td>\n",
       "      <td>False</td>\n",
       "      <td>False</td>\n",
       "      <td>False</td>\n",
       "    </tr>\n",
       "    <tr>\n",
       "      <th>168</th>\n",
       "      <td>693.0</td>\n",
       "      <td>4</td>\n",
       "      <td>6</td>\n",
       "      <td>6</td>\n",
       "      <td>False</td>\n",
       "      <td>True</td>\n",
       "      <td>False</td>\n",
       "      <td>False</td>\n",
       "      <td>False</td>\n",
       "      <td>False</td>\n",
       "      <td>...</td>\n",
       "      <td>False</td>\n",
       "      <td>False</td>\n",
       "      <td>False</td>\n",
       "      <td>False</td>\n",
       "      <td>False</td>\n",
       "      <td>False</td>\n",
       "      <td>False</td>\n",
       "      <td>False</td>\n",
       "      <td>False</td>\n",
       "      <td>False</td>\n",
       "    </tr>\n",
       "    <tr>\n",
       "      <th>...</th>\n",
       "      <td>...</td>\n",
       "      <td>...</td>\n",
       "      <td>...</td>\n",
       "      <td>...</td>\n",
       "      <td>...</td>\n",
       "      <td>...</td>\n",
       "      <td>...</td>\n",
       "      <td>...</td>\n",
       "      <td>...</td>\n",
       "      <td>...</td>\n",
       "      <td>...</td>\n",
       "      <td>...</td>\n",
       "      <td>...</td>\n",
       "      <td>...</td>\n",
       "      <td>...</td>\n",
       "      <td>...</td>\n",
       "      <td>...</td>\n",
       "      <td>...</td>\n",
       "      <td>...</td>\n",
       "      <td>...</td>\n",
       "      <td>...</td>\n",
       "    </tr>\n",
       "    <tr>\n",
       "      <th>192</th>\n",
       "      <td>480.0</td>\n",
       "      <td>4</td>\n",
       "      <td>4</td>\n",
       "      <td>4</td>\n",
       "      <td>False</td>\n",
       "      <td>False</td>\n",
       "      <td>False</td>\n",
       "      <td>False</td>\n",
       "      <td>False</td>\n",
       "      <td>False</td>\n",
       "      <td>...</td>\n",
       "      <td>False</td>\n",
       "      <td>False</td>\n",
       "      <td>False</td>\n",
       "      <td>False</td>\n",
       "      <td>False</td>\n",
       "      <td>False</td>\n",
       "      <td>False</td>\n",
       "      <td>False</td>\n",
       "      <td>True</td>\n",
       "      <td>False</td>\n",
       "    </tr>\n",
       "    <tr>\n",
       "      <th>652</th>\n",
       "      <td>216.0</td>\n",
       "      <td>3</td>\n",
       "      <td>3</td>\n",
       "      <td>2</td>\n",
       "      <td>False</td>\n",
       "      <td>False</td>\n",
       "      <td>False</td>\n",
       "      <td>False</td>\n",
       "      <td>False</td>\n",
       "      <td>False</td>\n",
       "      <td>...</td>\n",
       "      <td>False</td>\n",
       "      <td>False</td>\n",
       "      <td>False</td>\n",
       "      <td>False</td>\n",
       "      <td>False</td>\n",
       "      <td>False</td>\n",
       "      <td>False</td>\n",
       "      <td>False</td>\n",
       "      <td>False</td>\n",
       "      <td>False</td>\n",
       "    </tr>\n",
       "    <tr>\n",
       "      <th>456</th>\n",
       "      <td>347.0</td>\n",
       "      <td>3</td>\n",
       "      <td>5</td>\n",
       "      <td>5</td>\n",
       "      <td>False</td>\n",
       "      <td>False</td>\n",
       "      <td>False</td>\n",
       "      <td>False</td>\n",
       "      <td>False</td>\n",
       "      <td>False</td>\n",
       "      <td>...</td>\n",
       "      <td>False</td>\n",
       "      <td>False</td>\n",
       "      <td>False</td>\n",
       "      <td>False</td>\n",
       "      <td>False</td>\n",
       "      <td>False</td>\n",
       "      <td>False</td>\n",
       "      <td>False</td>\n",
       "      <td>False</td>\n",
       "      <td>False</td>\n",
       "    </tr>\n",
       "    <tr>\n",
       "      <th>776</th>\n",
       "      <td>400.0</td>\n",
       "      <td>4</td>\n",
       "      <td>4</td>\n",
       "      <td>6</td>\n",
       "      <td>False</td>\n",
       "      <td>False</td>\n",
       "      <td>False</td>\n",
       "      <td>False</td>\n",
       "      <td>False</td>\n",
       "      <td>False</td>\n",
       "      <td>...</td>\n",
       "      <td>False</td>\n",
       "      <td>False</td>\n",
       "      <td>False</td>\n",
       "      <td>False</td>\n",
       "      <td>False</td>\n",
       "      <td>False</td>\n",
       "      <td>False</td>\n",
       "      <td>False</td>\n",
       "      <td>False</td>\n",
       "      <td>False</td>\n",
       "    </tr>\n",
       "    <tr>\n",
       "      <th>532</th>\n",
       "      <td>530.0</td>\n",
       "      <td>5</td>\n",
       "      <td>6</td>\n",
       "      <td>5</td>\n",
       "      <td>False</td>\n",
       "      <td>False</td>\n",
       "      <td>False</td>\n",
       "      <td>False</td>\n",
       "      <td>False</td>\n",
       "      <td>False</td>\n",
       "      <td>...</td>\n",
       "      <td>False</td>\n",
       "      <td>False</td>\n",
       "      <td>False</td>\n",
       "      <td>False</td>\n",
       "      <td>False</td>\n",
       "      <td>False</td>\n",
       "      <td>False</td>\n",
       "      <td>False</td>\n",
       "      <td>False</td>\n",
       "      <td>False</td>\n",
       "    </tr>\n",
       "  </tbody>\n",
       "</table>\n",
       "<p>167 rows × 448 columns</p>\n",
       "</div>"
      ],
      "text/plain": [
       "      Área  Quartos  Banheiros  Vagas  Bairro_Alto da Lapa  \\\n",
       "610  520.0        4          6      4                False   \n",
       "821  800.0        4          7      4                False   \n",
       "290  480.0        5          7      4                False   \n",
       "799  464.0        3          4      3                False   \n",
       "168  693.0        4          6      6                False   \n",
       "..     ...      ...        ...    ...                  ...   \n",
       "192  480.0        4          4      4                False   \n",
       "652  216.0        3          3      2                False   \n",
       "456  347.0        3          5      5                False   \n",
       "776  400.0        4          4      6                False   \n",
       "532  530.0        5          6      5                False   \n",
       "\n",
       "     Bairro_Alto de Pinheiros  Bairro_Barro Branco (Zona Norte)  \\\n",
       "610                     False                             False   \n",
       "821                     False                             False   \n",
       "290                     False                             False   \n",
       "799                     False                             False   \n",
       "168                      True                             False   \n",
       "..                        ...                               ...   \n",
       "192                     False                             False   \n",
       "652                     False                             False   \n",
       "456                     False                             False   \n",
       "776                     False                             False   \n",
       "532                     False                             False   \n",
       "\n",
       "     Bairro_Bela Aliança  Bairro_Belenzinho  Bairro_Boaçava  ...  \\\n",
       "610                False              False           False  ...   \n",
       "821                False              False           False  ...   \n",
       "290                False              False           False  ...   \n",
       "799                False              False           False  ...   \n",
       "168                False              False           False  ...   \n",
       "..                   ...                ...             ...  ...   \n",
       "192                False              False           False  ...   \n",
       "652                False              False           False  ...   \n",
       "456                False              False           False  ...   \n",
       "776                False              False           False  ...   \n",
       "532                False              False           False  ...   \n",
       "\n",
       "     Rua_Vila Madalena  Rua_Vila Mariana  Rua_Vila Morumbi  \\\n",
       "610              False             False             False   \n",
       "821              False             False             False   \n",
       "290              False             False             False   \n",
       "799              False             False             False   \n",
       "168              False             False             False   \n",
       "..                 ...               ...               ...   \n",
       "192              False             False             False   \n",
       "652              False             False             False   \n",
       "456              False             False             False   \n",
       "776              False             False             False   \n",
       "532              False             False             False   \n",
       "\n",
       "     Rua_Vila Nova Caledônia  Rua_Vila Nova Conceição  Rua_Vila Olímpia  \\\n",
       "610                    False                    False             False   \n",
       "821                    False                    False             False   \n",
       "290                    False                    False             False   \n",
       "799                    False                    False             False   \n",
       "168                    False                    False             False   \n",
       "..                       ...                      ...               ...   \n",
       "192                    False                    False             False   \n",
       "652                    False                    False             False   \n",
       "456                    False                    False             False   \n",
       "776                    False                    False             False   \n",
       "532                    False                    False             False   \n",
       "\n",
       "     Rua_Vila Progredior  Rua_Vila Sônia  Rua_Vila Tramontano  Rua_Água Branca  \n",
       "610                False           False                False            False  \n",
       "821                False           False                False            False  \n",
       "290                False           False                False            False  \n",
       "799                False           False                False            False  \n",
       "168                False           False                False            False  \n",
       "..                   ...             ...                  ...              ...  \n",
       "192                False           False                 True            False  \n",
       "652                False           False                False            False  \n",
       "456                False           False                False            False  \n",
       "776                False           False                False            False  \n",
       "532                False           False                False            False  \n",
       "\n",
       "[167 rows x 448 columns]"
      ]
     },
     "execution_count": 140,
     "metadata": {},
     "output_type": "execute_result"
    }
   ],
   "source": [
    "X_test_aluguel"
   ]
  },
  {
   "cell_type": "code",
   "execution_count": 141,
   "id": "9349c53a",
   "metadata": {
    "ExecuteTime": {
     "end_time": "2024-03-21T15:01:06.623989Z",
     "start_time": "2024-03-21T15:01:06.614342Z"
    }
   },
   "outputs": [
    {
     "data": {
      "text/plain": [
       "478    30000.0\n",
       "346    45000.0\n",
       "462    25000.0\n",
       "689    22000.0\n",
       "302    22000.0\n",
       "        ...   \n",
       "71      2100.0\n",
       "106    11000.0\n",
       "270    26750.0\n",
       "435    25000.0\n",
       "102    25000.0\n",
       "Name: Preço, Length: 667, dtype: float64"
      ]
     },
     "execution_count": 141,
     "metadata": {},
     "output_type": "execute_result"
    }
   ],
   "source": [
    "y_train_aluguel"
   ]
  },
  {
   "cell_type": "code",
   "execution_count": 142,
   "id": "3ea60904",
   "metadata": {
    "ExecuteTime": {
     "end_time": "2024-03-21T15:01:06.638227Z",
     "start_time": "2024-03-21T15:01:06.628001Z"
    },
    "scrolled": true
   },
   "outputs": [
    {
     "data": {
      "text/plain": [
       "610    45000.0\n",
       "821    15000.0\n",
       "290    45000.0\n",
       "799     8000.0\n",
       "168    45000.0\n",
       "        ...   \n",
       "192    25000.0\n",
       "652    13000.0\n",
       "456    20000.0\n",
       "776     5000.0\n",
       "532    22000.0\n",
       "Name: Preço, Length: 167, dtype: float64"
      ]
     },
     "execution_count": 142,
     "metadata": {},
     "output_type": "execute_result"
    }
   ],
   "source": [
    "y_test_aluguel"
   ]
  },
  {
   "cell_type": "markdown",
   "id": "c386ceec",
   "metadata": {},
   "source": [
    "# 6 Seleção do Modelo e métricas de avaliação"
   ]
  },
  {
   "cell_type": "markdown",
   "id": "4ccfeac0",
   "metadata": {},
   "source": [
    "## 6.1 Importando as bibliotecas para os modelos selecionados"
   ]
  },
  {
   "cell_type": "markdown",
   "id": "5e9166cf",
   "metadata": {},
   "source": [
    "### Biblioteca dos Modelos"
   ]
  },
  {
   "cell_type": "code",
   "execution_count": 143,
   "id": "79fbb546",
   "metadata": {
    "ExecuteTime": {
     "end_time": "2024-03-21T15:01:17.738100Z",
     "start_time": "2024-03-21T15:01:06.638610Z"
    }
   },
   "outputs": [],
   "source": [
    "from sklearn.linear_model import LinearRegression\n",
    "from sklearn.ensemble import RandomForestRegressor\n",
    "from sklearn.ensemble import GradientBoostingRegressor\n",
    "from sklearn.linear_model import RANSACRegressor\n",
    "\n",
    "from sklearn.model_selection import GridSearchCV"
   ]
  },
  {
   "cell_type": "markdown",
   "id": "788aac5b",
   "metadata": {},
   "source": [
    "### Bibliotecas das Métricas de avaliação"
   ]
  },
  {
   "cell_type": "code",
   "execution_count": 144,
   "id": "49f01a92",
   "metadata": {
    "ExecuteTime": {
     "end_time": "2024-03-21T15:01:17.747417Z",
     "start_time": "2024-03-21T15:01:17.738100Z"
    }
   },
   "outputs": [],
   "source": [
    "from sklearn.metrics import mean_squared_error, r2_score"
   ]
  },
  {
   "cell_type": "markdown",
   "id": "d91fb83a",
   "metadata": {},
   "source": [
    "# 7 Treinamento, Predição e Métricas dos Modelos"
   ]
  },
  {
   "cell_type": "markdown",
   "id": "2d69c211",
   "metadata": {},
   "source": [
    "## 7.1 Compra"
   ]
  },
  {
   "cell_type": "markdown",
   "id": "e6af4faa",
   "metadata": {},
   "source": [
    "### 7.1.1 Regressão Linear"
   ]
  },
  {
   "cell_type": "markdown",
   "id": "d2200190",
   "metadata": {},
   "source": [
    "#### 7.1.1.1 Treinamento"
   ]
  },
  {
   "cell_type": "code",
   "execution_count": 145,
   "id": "d5cfa0ce",
   "metadata": {
    "ExecuteTime": {
     "end_time": "2024-03-21T15:02:18.448287Z",
     "start_time": "2024-03-21T15:02:18.441169Z"
    }
   },
   "outputs": [],
   "source": [
    "# Instanciando o modelo \n",
    "lr_compra = LinearRegression()"
   ]
  },
  {
   "cell_type": "code",
   "execution_count": 146,
   "id": "8f29ada4",
   "metadata": {
    "ExecuteTime": {
     "end_time": "2024-03-21T15:02:35.802569Z",
     "start_time": "2024-03-21T15:02:21.014597Z"
    }
   },
   "outputs": [
    {
     "data": {
      "text/html": [
       "<style>#sk-container-id-1 {color: black;}#sk-container-id-1 pre{padding: 0;}#sk-container-id-1 div.sk-toggleable {background-color: white;}#sk-container-id-1 label.sk-toggleable__label {cursor: pointer;display: block;width: 100%;margin-bottom: 0;padding: 0.3em;box-sizing: border-box;text-align: center;}#sk-container-id-1 label.sk-toggleable__label-arrow:before {content: \"▸\";float: left;margin-right: 0.25em;color: #696969;}#sk-container-id-1 label.sk-toggleable__label-arrow:hover:before {color: black;}#sk-container-id-1 div.sk-estimator:hover label.sk-toggleable__label-arrow:before {color: black;}#sk-container-id-1 div.sk-toggleable__content {max-height: 0;max-width: 0;overflow: hidden;text-align: left;background-color: #f0f8ff;}#sk-container-id-1 div.sk-toggleable__content pre {margin: 0.2em;color: black;border-radius: 0.25em;background-color: #f0f8ff;}#sk-container-id-1 input.sk-toggleable__control:checked~div.sk-toggleable__content {max-height: 200px;max-width: 100%;overflow: auto;}#sk-container-id-1 input.sk-toggleable__control:checked~label.sk-toggleable__label-arrow:before {content: \"▾\";}#sk-container-id-1 div.sk-estimator input.sk-toggleable__control:checked~label.sk-toggleable__label {background-color: #d4ebff;}#sk-container-id-1 div.sk-label input.sk-toggleable__control:checked~label.sk-toggleable__label {background-color: #d4ebff;}#sk-container-id-1 input.sk-hidden--visually {border: 0;clip: rect(1px 1px 1px 1px);clip: rect(1px, 1px, 1px, 1px);height: 1px;margin: -1px;overflow: hidden;padding: 0;position: absolute;width: 1px;}#sk-container-id-1 div.sk-estimator {font-family: monospace;background-color: #f0f8ff;border: 1px dotted black;border-radius: 0.25em;box-sizing: border-box;margin-bottom: 0.5em;}#sk-container-id-1 div.sk-estimator:hover {background-color: #d4ebff;}#sk-container-id-1 div.sk-parallel-item::after {content: \"\";width: 100%;border-bottom: 1px solid gray;flex-grow: 1;}#sk-container-id-1 div.sk-label:hover label.sk-toggleable__label {background-color: #d4ebff;}#sk-container-id-1 div.sk-serial::before {content: \"\";position: absolute;border-left: 1px solid gray;box-sizing: border-box;top: 0;bottom: 0;left: 50%;z-index: 0;}#sk-container-id-1 div.sk-serial {display: flex;flex-direction: column;align-items: center;background-color: white;padding-right: 0.2em;padding-left: 0.2em;position: relative;}#sk-container-id-1 div.sk-item {position: relative;z-index: 1;}#sk-container-id-1 div.sk-parallel {display: flex;align-items: stretch;justify-content: center;background-color: white;position: relative;}#sk-container-id-1 div.sk-item::before, #sk-container-id-1 div.sk-parallel-item::before {content: \"\";position: absolute;border-left: 1px solid gray;box-sizing: border-box;top: 0;bottom: 0;left: 50%;z-index: -1;}#sk-container-id-1 div.sk-parallel-item {display: flex;flex-direction: column;z-index: 1;position: relative;background-color: white;}#sk-container-id-1 div.sk-parallel-item:first-child::after {align-self: flex-end;width: 50%;}#sk-container-id-1 div.sk-parallel-item:last-child::after {align-self: flex-start;width: 50%;}#sk-container-id-1 div.sk-parallel-item:only-child::after {width: 0;}#sk-container-id-1 div.sk-dashed-wrapped {border: 1px dashed gray;margin: 0 0.4em 0.5em 0.4em;box-sizing: border-box;padding-bottom: 0.4em;background-color: white;}#sk-container-id-1 div.sk-label label {font-family: monospace;font-weight: bold;display: inline-block;line-height: 1.2em;}#sk-container-id-1 div.sk-label-container {text-align: center;}#sk-container-id-1 div.sk-container {/* jupyter's `normalize.less` sets `[hidden] { display: none; }` but bootstrap.min.css set `[hidden] { display: none !important; }` so we also need the `!important` here to be able to override the default hidden behavior on the sphinx rendered scikit-learn.org. See: https://github.com/scikit-learn/scikit-learn/issues/21755 */display: inline-block !important;position: relative;}#sk-container-id-1 div.sk-text-repr-fallback {display: none;}</style><div id=\"sk-container-id-1\" class=\"sk-top-container\"><div class=\"sk-text-repr-fallback\"><pre>LinearRegression()</pre><b>In a Jupyter environment, please rerun this cell to show the HTML representation or trust the notebook. <br />On GitHub, the HTML representation is unable to render, please try loading this page with nbviewer.org.</b></div><div class=\"sk-container\" hidden><div class=\"sk-item\"><div class=\"sk-estimator sk-toggleable\"><input class=\"sk-toggleable__control sk-hidden--visually\" id=\"sk-estimator-id-1\" type=\"checkbox\" checked><label for=\"sk-estimator-id-1\" class=\"sk-toggleable__label sk-toggleable__label-arrow\">LinearRegression</label><div class=\"sk-toggleable__content\"><pre>LinearRegression()</pre></div></div></div></div></div>"
      ],
      "text/plain": [
       "LinearRegression()"
      ]
     },
     "execution_count": 146,
     "metadata": {},
     "output_type": "execute_result"
    }
   ],
   "source": [
    "# Treinando o modelo com os dados de treinamento\n",
    "lr_compra.fit(X_train, y_train)"
   ]
  },
  {
   "cell_type": "markdown",
   "id": "38eb32dd",
   "metadata": {},
   "source": [
    "#### 7.1.1.2 Previsão"
   ]
  },
  {
   "cell_type": "code",
   "execution_count": 147,
   "id": "0449c94d",
   "metadata": {
    "ExecuteTime": {
     "end_time": "2024-03-21T15:02:48.219564Z",
     "start_time": "2024-03-21T15:02:47.954852Z"
    }
   },
   "outputs": [],
   "source": [
    "pred_lr_compra = lr_compra.predict(X_test)"
   ]
  },
  {
   "cell_type": "markdown",
   "id": "b70eaf5a",
   "metadata": {},
   "source": [
    "#### 7.1.1.3 Métricas"
   ]
  },
  {
   "cell_type": "markdown",
   "id": "e269b678",
   "metadata": {
    "ExecuteTime": {
     "end_time": "2024-03-20T15:35:03.600338Z",
     "start_time": "2024-03-20T15:35:03.595321Z"
    }
   },
   "source": [
    "##### Score"
   ]
  },
  {
   "cell_type": "code",
   "execution_count": 148,
   "id": "17e554b9",
   "metadata": {
    "ExecuteTime": {
     "end_time": "2024-03-21T15:02:51.663412Z",
     "start_time": "2024-03-21T15:02:51.467648Z"
    }
   },
   "outputs": [
    {
     "data": {
      "text/plain": [
       "0.8657618177552067"
      ]
     },
     "execution_count": 148,
     "metadata": {},
     "output_type": "execute_result"
    }
   ],
   "source": [
    "score_train_compra = lr_compra.score(X_train, y_train)\n",
    "score_train_compra"
   ]
  },
  {
   "cell_type": "code",
   "execution_count": 149,
   "id": "375b37ee",
   "metadata": {
    "ExecuteTime": {
     "end_time": "2024-03-21T15:02:52.566978Z",
     "start_time": "2024-03-21T15:02:52.505155Z"
    }
   },
   "outputs": [
    {
     "data": {
      "text/plain": [
       "-2.9257925893078874e+17"
      ]
     },
     "execution_count": 149,
     "metadata": {},
     "output_type": "execute_result"
    }
   ],
   "source": [
    "score_test_compra = lr_compra.score(X_test, y_test)\n",
    "score_test_compra"
   ]
  },
  {
   "cell_type": "markdown",
   "id": "582ddc18",
   "metadata": {},
   "source": [
    "##### MSE"
   ]
  },
  {
   "cell_type": "code",
   "execution_count": 150,
   "id": "ff02ac4b",
   "metadata": {
    "ExecuteTime": {
     "end_time": "2024-03-21T15:02:54.679898Z",
     "start_time": "2024-03-21T15:02:54.669177Z"
    }
   },
   "outputs": [
    {
     "data": {
      "text/plain": [
       "6.397410658337192e+29"
      ]
     },
     "execution_count": 150,
     "metadata": {},
     "output_type": "execute_result"
    }
   ],
   "source": [
    "mse_lr_compra = mean_squared_error(y_test, pred_lr_compra)\n",
    "mse_lr_compra"
   ]
  },
  {
   "cell_type": "markdown",
   "id": "9a4f6849",
   "metadata": {},
   "source": [
    "##### R2"
   ]
  },
  {
   "cell_type": "code",
   "execution_count": 151,
   "id": "1c8f89d5",
   "metadata": {
    "ExecuteTime": {
     "end_time": "2024-03-21T15:02:56.960003Z",
     "start_time": "2024-03-21T15:02:56.947794Z"
    }
   },
   "outputs": [
    {
     "data": {
      "text/plain": [
       "-2.9257925893078874e+17"
      ]
     },
     "execution_count": 151,
     "metadata": {},
     "output_type": "execute_result"
    }
   ],
   "source": [
    "r2_score_lr_compra = r2_score(y_test, pred_lr_compra)\n",
    "r2_score_lr_compra"
   ]
  },
  {
   "cell_type": "markdown",
   "id": "92cc1962",
   "metadata": {},
   "source": [
    "### 7.1.2 Florestas aleatórias"
   ]
  },
  {
   "cell_type": "markdown",
   "id": "98df7512",
   "metadata": {
    "ExecuteTime": {
     "end_time": "2024-03-20T15:38:23.139442Z",
     "start_time": "2024-03-20T15:38:23.133831Z"
    }
   },
   "source": [
    "#### 7.1.2.1 Treinamento"
   ]
  },
  {
   "cell_type": "code",
   "execution_count": 152,
   "id": "89f05984",
   "metadata": {
    "ExecuteTime": {
     "end_time": "2024-03-21T15:03:01.261498Z",
     "start_time": "2024-03-21T15:03:01.255848Z"
    }
   },
   "outputs": [],
   "source": [
    "# Instanciando o modelo \n",
    "rfr_compra = RandomForestRegressor()"
   ]
  },
  {
   "cell_type": "code",
   "execution_count": 153,
   "id": "f666ddf1",
   "metadata": {
    "ExecuteTime": {
     "end_time": "2024-03-21T15:04:15.034159Z",
     "start_time": "2024-03-21T15:03:02.272887Z"
    }
   },
   "outputs": [
    {
     "data": {
      "text/html": [
       "<style>#sk-container-id-2 {color: black;}#sk-container-id-2 pre{padding: 0;}#sk-container-id-2 div.sk-toggleable {background-color: white;}#sk-container-id-2 label.sk-toggleable__label {cursor: pointer;display: block;width: 100%;margin-bottom: 0;padding: 0.3em;box-sizing: border-box;text-align: center;}#sk-container-id-2 label.sk-toggleable__label-arrow:before {content: \"▸\";float: left;margin-right: 0.25em;color: #696969;}#sk-container-id-2 label.sk-toggleable__label-arrow:hover:before {color: black;}#sk-container-id-2 div.sk-estimator:hover label.sk-toggleable__label-arrow:before {color: black;}#sk-container-id-2 div.sk-toggleable__content {max-height: 0;max-width: 0;overflow: hidden;text-align: left;background-color: #f0f8ff;}#sk-container-id-2 div.sk-toggleable__content pre {margin: 0.2em;color: black;border-radius: 0.25em;background-color: #f0f8ff;}#sk-container-id-2 input.sk-toggleable__control:checked~div.sk-toggleable__content {max-height: 200px;max-width: 100%;overflow: auto;}#sk-container-id-2 input.sk-toggleable__control:checked~label.sk-toggleable__label-arrow:before {content: \"▾\";}#sk-container-id-2 div.sk-estimator input.sk-toggleable__control:checked~label.sk-toggleable__label {background-color: #d4ebff;}#sk-container-id-2 div.sk-label input.sk-toggleable__control:checked~label.sk-toggleable__label {background-color: #d4ebff;}#sk-container-id-2 input.sk-hidden--visually {border: 0;clip: rect(1px 1px 1px 1px);clip: rect(1px, 1px, 1px, 1px);height: 1px;margin: -1px;overflow: hidden;padding: 0;position: absolute;width: 1px;}#sk-container-id-2 div.sk-estimator {font-family: monospace;background-color: #f0f8ff;border: 1px dotted black;border-radius: 0.25em;box-sizing: border-box;margin-bottom: 0.5em;}#sk-container-id-2 div.sk-estimator:hover {background-color: #d4ebff;}#sk-container-id-2 div.sk-parallel-item::after {content: \"\";width: 100%;border-bottom: 1px solid gray;flex-grow: 1;}#sk-container-id-2 div.sk-label:hover label.sk-toggleable__label {background-color: #d4ebff;}#sk-container-id-2 div.sk-serial::before {content: \"\";position: absolute;border-left: 1px solid gray;box-sizing: border-box;top: 0;bottom: 0;left: 50%;z-index: 0;}#sk-container-id-2 div.sk-serial {display: flex;flex-direction: column;align-items: center;background-color: white;padding-right: 0.2em;padding-left: 0.2em;position: relative;}#sk-container-id-2 div.sk-item {position: relative;z-index: 1;}#sk-container-id-2 div.sk-parallel {display: flex;align-items: stretch;justify-content: center;background-color: white;position: relative;}#sk-container-id-2 div.sk-item::before, #sk-container-id-2 div.sk-parallel-item::before {content: \"\";position: absolute;border-left: 1px solid gray;box-sizing: border-box;top: 0;bottom: 0;left: 50%;z-index: -1;}#sk-container-id-2 div.sk-parallel-item {display: flex;flex-direction: column;z-index: 1;position: relative;background-color: white;}#sk-container-id-2 div.sk-parallel-item:first-child::after {align-self: flex-end;width: 50%;}#sk-container-id-2 div.sk-parallel-item:last-child::after {align-self: flex-start;width: 50%;}#sk-container-id-2 div.sk-parallel-item:only-child::after {width: 0;}#sk-container-id-2 div.sk-dashed-wrapped {border: 1px dashed gray;margin: 0 0.4em 0.5em 0.4em;box-sizing: border-box;padding-bottom: 0.4em;background-color: white;}#sk-container-id-2 div.sk-label label {font-family: monospace;font-weight: bold;display: inline-block;line-height: 1.2em;}#sk-container-id-2 div.sk-label-container {text-align: center;}#sk-container-id-2 div.sk-container {/* jupyter's `normalize.less` sets `[hidden] { display: none; }` but bootstrap.min.css set `[hidden] { display: none !important; }` so we also need the `!important` here to be able to override the default hidden behavior on the sphinx rendered scikit-learn.org. See: https://github.com/scikit-learn/scikit-learn/issues/21755 */display: inline-block !important;position: relative;}#sk-container-id-2 div.sk-text-repr-fallback {display: none;}</style><div id=\"sk-container-id-2\" class=\"sk-top-container\"><div class=\"sk-text-repr-fallback\"><pre>RandomForestRegressor()</pre><b>In a Jupyter environment, please rerun this cell to show the HTML representation or trust the notebook. <br />On GitHub, the HTML representation is unable to render, please try loading this page with nbviewer.org.</b></div><div class=\"sk-container\" hidden><div class=\"sk-item\"><div class=\"sk-estimator sk-toggleable\"><input class=\"sk-toggleable__control sk-hidden--visually\" id=\"sk-estimator-id-2\" type=\"checkbox\" checked><label for=\"sk-estimator-id-2\" class=\"sk-toggleable__label sk-toggleable__label-arrow\">RandomForestRegressor</label><div class=\"sk-toggleable__content\"><pre>RandomForestRegressor()</pre></div></div></div></div></div>"
      ],
      "text/plain": [
       "RandomForestRegressor()"
      ]
     },
     "execution_count": 153,
     "metadata": {},
     "output_type": "execute_result"
    }
   ],
   "source": [
    "# Treinando o modelo com os dados de treinamento\n",
    "rfr_compra.fit(X_train, y_train)"
   ]
  },
  {
   "cell_type": "markdown",
   "id": "0aa042c9",
   "metadata": {},
   "source": [
    "#### 7.1.2.2 Previsão"
   ]
  },
  {
   "cell_type": "code",
   "execution_count": 154,
   "id": "ec1338b5",
   "metadata": {
    "ExecuteTime": {
     "end_time": "2024-03-21T15:04:19.131498Z",
     "start_time": "2024-03-21T15:04:18.869826Z"
    }
   },
   "outputs": [],
   "source": [
    "pred_rfr_compra = rfr_compra.predict(X_test)"
   ]
  },
  {
   "cell_type": "markdown",
   "id": "8a5ad69b",
   "metadata": {},
   "source": [
    "#### 7.1.2.3 Métricas"
   ]
  },
  {
   "cell_type": "markdown",
   "id": "80a66408",
   "metadata": {},
   "source": [
    "##### MSE"
   ]
  },
  {
   "cell_type": "code",
   "execution_count": 155,
   "id": "73abfafb",
   "metadata": {
    "ExecuteTime": {
     "end_time": "2024-03-21T15:04:22.641059Z",
     "start_time": "2024-03-21T15:04:22.629270Z"
    }
   },
   "outputs": [
    {
     "data": {
      "text/plain": [
       "431456684638.0131"
      ]
     },
     "execution_count": 155,
     "metadata": {},
     "output_type": "execute_result"
    }
   ],
   "source": [
    "mse_rfr_compra = mean_squared_error(y_test, pred_rfr_compra)\n",
    "mse_rfr_compra"
   ]
  },
  {
   "cell_type": "markdown",
   "id": "c6722beb",
   "metadata": {},
   "source": [
    "##### R2"
   ]
  },
  {
   "cell_type": "code",
   "execution_count": 156,
   "id": "53b8e614",
   "metadata": {
    "ExecuteTime": {
     "end_time": "2024-03-21T15:04:25.351106Z",
     "start_time": "2024-03-21T15:04:25.340057Z"
    }
   },
   "outputs": [
    {
     "data": {
      "text/plain": [
       "0.8026775459730517"
      ]
     },
     "execution_count": 156,
     "metadata": {},
     "output_type": "execute_result"
    }
   ],
   "source": [
    "r2_score_rfr_compra = r2_score(y_test, pred_rfr_compra)\n",
    "r2_score_rfr_compra"
   ]
  },
  {
   "cell_type": "markdown",
   "id": "78760962",
   "metadata": {},
   "source": [
    "### 7.1.3 Gradient Boosting Regressor"
   ]
  },
  {
   "cell_type": "markdown",
   "id": "bb4fbe4d",
   "metadata": {
    "ExecuteTime": {
     "end_time": "2024-03-20T15:38:23.139442Z",
     "start_time": "2024-03-20T15:38:23.133831Z"
    }
   },
   "source": [
    "#### 7.1.3.1 Treinamento"
   ]
  },
  {
   "cell_type": "code",
   "execution_count": 157,
   "id": "897500b2",
   "metadata": {
    "ExecuteTime": {
     "end_time": "2024-03-21T15:04:28.978294Z",
     "start_time": "2024-03-21T15:04:28.973007Z"
    }
   },
   "outputs": [],
   "source": [
    "# Instanciando o modelo \n",
    "gbr_compra = GradientBoostingRegressor(n_estimators=100, learning_rate=0.1, random_state=42)"
   ]
  },
  {
   "cell_type": "code",
   "execution_count": 158,
   "id": "3a4c464d",
   "metadata": {
    "ExecuteTime": {
     "end_time": "2024-03-21T15:04:51.113749Z",
     "start_time": "2024-03-21T15:04:30.017436Z"
    }
   },
   "outputs": [
    {
     "data": {
      "text/html": [
       "<style>#sk-container-id-3 {color: black;}#sk-container-id-3 pre{padding: 0;}#sk-container-id-3 div.sk-toggleable {background-color: white;}#sk-container-id-3 label.sk-toggleable__label {cursor: pointer;display: block;width: 100%;margin-bottom: 0;padding: 0.3em;box-sizing: border-box;text-align: center;}#sk-container-id-3 label.sk-toggleable__label-arrow:before {content: \"▸\";float: left;margin-right: 0.25em;color: #696969;}#sk-container-id-3 label.sk-toggleable__label-arrow:hover:before {color: black;}#sk-container-id-3 div.sk-estimator:hover label.sk-toggleable__label-arrow:before {color: black;}#sk-container-id-3 div.sk-toggleable__content {max-height: 0;max-width: 0;overflow: hidden;text-align: left;background-color: #f0f8ff;}#sk-container-id-3 div.sk-toggleable__content pre {margin: 0.2em;color: black;border-radius: 0.25em;background-color: #f0f8ff;}#sk-container-id-3 input.sk-toggleable__control:checked~div.sk-toggleable__content {max-height: 200px;max-width: 100%;overflow: auto;}#sk-container-id-3 input.sk-toggleable__control:checked~label.sk-toggleable__label-arrow:before {content: \"▾\";}#sk-container-id-3 div.sk-estimator input.sk-toggleable__control:checked~label.sk-toggleable__label {background-color: #d4ebff;}#sk-container-id-3 div.sk-label input.sk-toggleable__control:checked~label.sk-toggleable__label {background-color: #d4ebff;}#sk-container-id-3 input.sk-hidden--visually {border: 0;clip: rect(1px 1px 1px 1px);clip: rect(1px, 1px, 1px, 1px);height: 1px;margin: -1px;overflow: hidden;padding: 0;position: absolute;width: 1px;}#sk-container-id-3 div.sk-estimator {font-family: monospace;background-color: #f0f8ff;border: 1px dotted black;border-radius: 0.25em;box-sizing: border-box;margin-bottom: 0.5em;}#sk-container-id-3 div.sk-estimator:hover {background-color: #d4ebff;}#sk-container-id-3 div.sk-parallel-item::after {content: \"\";width: 100%;border-bottom: 1px solid gray;flex-grow: 1;}#sk-container-id-3 div.sk-label:hover label.sk-toggleable__label {background-color: #d4ebff;}#sk-container-id-3 div.sk-serial::before {content: \"\";position: absolute;border-left: 1px solid gray;box-sizing: border-box;top: 0;bottom: 0;left: 50%;z-index: 0;}#sk-container-id-3 div.sk-serial {display: flex;flex-direction: column;align-items: center;background-color: white;padding-right: 0.2em;padding-left: 0.2em;position: relative;}#sk-container-id-3 div.sk-item {position: relative;z-index: 1;}#sk-container-id-3 div.sk-parallel {display: flex;align-items: stretch;justify-content: center;background-color: white;position: relative;}#sk-container-id-3 div.sk-item::before, #sk-container-id-3 div.sk-parallel-item::before {content: \"\";position: absolute;border-left: 1px solid gray;box-sizing: border-box;top: 0;bottom: 0;left: 50%;z-index: -1;}#sk-container-id-3 div.sk-parallel-item {display: flex;flex-direction: column;z-index: 1;position: relative;background-color: white;}#sk-container-id-3 div.sk-parallel-item:first-child::after {align-self: flex-end;width: 50%;}#sk-container-id-3 div.sk-parallel-item:last-child::after {align-self: flex-start;width: 50%;}#sk-container-id-3 div.sk-parallel-item:only-child::after {width: 0;}#sk-container-id-3 div.sk-dashed-wrapped {border: 1px dashed gray;margin: 0 0.4em 0.5em 0.4em;box-sizing: border-box;padding-bottom: 0.4em;background-color: white;}#sk-container-id-3 div.sk-label label {font-family: monospace;font-weight: bold;display: inline-block;line-height: 1.2em;}#sk-container-id-3 div.sk-label-container {text-align: center;}#sk-container-id-3 div.sk-container {/* jupyter's `normalize.less` sets `[hidden] { display: none; }` but bootstrap.min.css set `[hidden] { display: none !important; }` so we also need the `!important` here to be able to override the default hidden behavior on the sphinx rendered scikit-learn.org. See: https://github.com/scikit-learn/scikit-learn/issues/21755 */display: inline-block !important;position: relative;}#sk-container-id-3 div.sk-text-repr-fallback {display: none;}</style><div id=\"sk-container-id-3\" class=\"sk-top-container\"><div class=\"sk-text-repr-fallback\"><pre>GradientBoostingRegressor(random_state=42)</pre><b>In a Jupyter environment, please rerun this cell to show the HTML representation or trust the notebook. <br />On GitHub, the HTML representation is unable to render, please try loading this page with nbviewer.org.</b></div><div class=\"sk-container\" hidden><div class=\"sk-item\"><div class=\"sk-estimator sk-toggleable\"><input class=\"sk-toggleable__control sk-hidden--visually\" id=\"sk-estimator-id-3\" type=\"checkbox\" checked><label for=\"sk-estimator-id-3\" class=\"sk-toggleable__label sk-toggleable__label-arrow\">GradientBoostingRegressor</label><div class=\"sk-toggleable__content\"><pre>GradientBoostingRegressor(random_state=42)</pre></div></div></div></div></div>"
      ],
      "text/plain": [
       "GradientBoostingRegressor(random_state=42)"
      ]
     },
     "execution_count": 158,
     "metadata": {},
     "output_type": "execute_result"
    }
   ],
   "source": [
    "# Treinando o modelo com os dados de treinamento\n",
    "gbr_compra.fit(X_train, y_train)"
   ]
  },
  {
   "cell_type": "markdown",
   "id": "d53543b8",
   "metadata": {},
   "source": [
    "#### 7.1.3.2 Previsão"
   ]
  },
  {
   "cell_type": "code",
   "execution_count": 159,
   "id": "940d496a",
   "metadata": {
    "ExecuteTime": {
     "end_time": "2024-03-21T15:05:02.461176Z",
     "start_time": "2024-03-21T15:05:02.358429Z"
    }
   },
   "outputs": [],
   "source": [
    "pred_gbr_compra = gbr_compra.predict(X_test)"
   ]
  },
  {
   "cell_type": "markdown",
   "id": "1c5676b3",
   "metadata": {},
   "source": [
    "#### 7.1.3.3 Métricas"
   ]
  },
  {
   "cell_type": "markdown",
   "id": "557aa45c",
   "metadata": {},
   "source": [
    "##### MSE"
   ]
  },
  {
   "cell_type": "code",
   "execution_count": 160,
   "id": "25d9d4d8",
   "metadata": {
    "ExecuteTime": {
     "end_time": "2024-03-21T15:05:05.426892Z",
     "start_time": "2024-03-21T15:05:05.416525Z"
    }
   },
   "outputs": [
    {
     "data": {
      "text/plain": [
       "645017785356.4032"
      ]
     },
     "execution_count": 160,
     "metadata": {},
     "output_type": "execute_result"
    }
   ],
   "source": [
    "mse_gbr_compra = mean_squared_error(y_test, pred_gbr_compra)\n",
    "mse_gbr_compra"
   ]
  },
  {
   "cell_type": "markdown",
   "id": "7b2cecf8",
   "metadata": {},
   "source": [
    "##### R2"
   ]
  },
  {
   "cell_type": "code",
   "execution_count": 161,
   "id": "0d63bf30",
   "metadata": {
    "ExecuteTime": {
     "end_time": "2024-03-21T15:05:07.407956Z",
     "start_time": "2024-03-21T15:05:07.398246Z"
    }
   },
   "outputs": [
    {
     "data": {
      "text/plain": [
       "0.7050074855038201"
      ]
     },
     "execution_count": 161,
     "metadata": {},
     "output_type": "execute_result"
    }
   ],
   "source": [
    "r2_score_gbr_compra = r2_score(y_test, pred_gbr_compra)\n",
    "r2_score_gbr_compra"
   ]
  },
  {
   "cell_type": "markdown",
   "id": "a8642282",
   "metadata": {},
   "source": [
    "### 7.1.4 Robusto"
   ]
  },
  {
   "cell_type": "markdown",
   "id": "588099d2",
   "metadata": {
    "ExecuteTime": {
     "end_time": "2024-03-20T15:38:23.139442Z",
     "start_time": "2024-03-20T15:38:23.133831Z"
    }
   },
   "source": [
    "#### 7.1.4.1 Treinamento"
   ]
  },
  {
   "cell_type": "code",
   "execution_count": 162,
   "id": "850eaea2",
   "metadata": {
    "ExecuteTime": {
     "end_time": "2024-03-21T15:05:10.816463Z",
     "start_time": "2024-03-21T15:05:10.811762Z"
    }
   },
   "outputs": [],
   "source": [
    "# Instanciando o modelo \n",
    "ransac_compra = RANSACRegressor()"
   ]
  },
  {
   "cell_type": "code",
   "execution_count": 163,
   "id": "a555bb5d",
   "metadata": {
    "ExecuteTime": {
     "end_time": "2024-03-21T15:22:06.918442Z",
     "start_time": "2024-03-21T15:05:12.044760Z"
    }
   },
   "outputs": [
    {
     "data": {
      "text/html": [
       "<style>#sk-container-id-4 {color: black;}#sk-container-id-4 pre{padding: 0;}#sk-container-id-4 div.sk-toggleable {background-color: white;}#sk-container-id-4 label.sk-toggleable__label {cursor: pointer;display: block;width: 100%;margin-bottom: 0;padding: 0.3em;box-sizing: border-box;text-align: center;}#sk-container-id-4 label.sk-toggleable__label-arrow:before {content: \"▸\";float: left;margin-right: 0.25em;color: #696969;}#sk-container-id-4 label.sk-toggleable__label-arrow:hover:before {color: black;}#sk-container-id-4 div.sk-estimator:hover label.sk-toggleable__label-arrow:before {color: black;}#sk-container-id-4 div.sk-toggleable__content {max-height: 0;max-width: 0;overflow: hidden;text-align: left;background-color: #f0f8ff;}#sk-container-id-4 div.sk-toggleable__content pre {margin: 0.2em;color: black;border-radius: 0.25em;background-color: #f0f8ff;}#sk-container-id-4 input.sk-toggleable__control:checked~div.sk-toggleable__content {max-height: 200px;max-width: 100%;overflow: auto;}#sk-container-id-4 input.sk-toggleable__control:checked~label.sk-toggleable__label-arrow:before {content: \"▾\";}#sk-container-id-4 div.sk-estimator input.sk-toggleable__control:checked~label.sk-toggleable__label {background-color: #d4ebff;}#sk-container-id-4 div.sk-label input.sk-toggleable__control:checked~label.sk-toggleable__label {background-color: #d4ebff;}#sk-container-id-4 input.sk-hidden--visually {border: 0;clip: rect(1px 1px 1px 1px);clip: rect(1px, 1px, 1px, 1px);height: 1px;margin: -1px;overflow: hidden;padding: 0;position: absolute;width: 1px;}#sk-container-id-4 div.sk-estimator {font-family: monospace;background-color: #f0f8ff;border: 1px dotted black;border-radius: 0.25em;box-sizing: border-box;margin-bottom: 0.5em;}#sk-container-id-4 div.sk-estimator:hover {background-color: #d4ebff;}#sk-container-id-4 div.sk-parallel-item::after {content: \"\";width: 100%;border-bottom: 1px solid gray;flex-grow: 1;}#sk-container-id-4 div.sk-label:hover label.sk-toggleable__label {background-color: #d4ebff;}#sk-container-id-4 div.sk-serial::before {content: \"\";position: absolute;border-left: 1px solid gray;box-sizing: border-box;top: 0;bottom: 0;left: 50%;z-index: 0;}#sk-container-id-4 div.sk-serial {display: flex;flex-direction: column;align-items: center;background-color: white;padding-right: 0.2em;padding-left: 0.2em;position: relative;}#sk-container-id-4 div.sk-item {position: relative;z-index: 1;}#sk-container-id-4 div.sk-parallel {display: flex;align-items: stretch;justify-content: center;background-color: white;position: relative;}#sk-container-id-4 div.sk-item::before, #sk-container-id-4 div.sk-parallel-item::before {content: \"\";position: absolute;border-left: 1px solid gray;box-sizing: border-box;top: 0;bottom: 0;left: 50%;z-index: -1;}#sk-container-id-4 div.sk-parallel-item {display: flex;flex-direction: column;z-index: 1;position: relative;background-color: white;}#sk-container-id-4 div.sk-parallel-item:first-child::after {align-self: flex-end;width: 50%;}#sk-container-id-4 div.sk-parallel-item:last-child::after {align-self: flex-start;width: 50%;}#sk-container-id-4 div.sk-parallel-item:only-child::after {width: 0;}#sk-container-id-4 div.sk-dashed-wrapped {border: 1px dashed gray;margin: 0 0.4em 0.5em 0.4em;box-sizing: border-box;padding-bottom: 0.4em;background-color: white;}#sk-container-id-4 div.sk-label label {font-family: monospace;font-weight: bold;display: inline-block;line-height: 1.2em;}#sk-container-id-4 div.sk-label-container {text-align: center;}#sk-container-id-4 div.sk-container {/* jupyter's `normalize.less` sets `[hidden] { display: none; }` but bootstrap.min.css set `[hidden] { display: none !important; }` so we also need the `!important` here to be able to override the default hidden behavior on the sphinx rendered scikit-learn.org. See: https://github.com/scikit-learn/scikit-learn/issues/21755 */display: inline-block !important;position: relative;}#sk-container-id-4 div.sk-text-repr-fallback {display: none;}</style><div id=\"sk-container-id-4\" class=\"sk-top-container\"><div class=\"sk-text-repr-fallback\"><pre>RANSACRegressor()</pre><b>In a Jupyter environment, please rerun this cell to show the HTML representation or trust the notebook. <br />On GitHub, the HTML representation is unable to render, please try loading this page with nbviewer.org.</b></div><div class=\"sk-container\" hidden><div class=\"sk-item\"><div class=\"sk-estimator sk-toggleable\"><input class=\"sk-toggleable__control sk-hidden--visually\" id=\"sk-estimator-id-4\" type=\"checkbox\" checked><label for=\"sk-estimator-id-4\" class=\"sk-toggleable__label sk-toggleable__label-arrow\">RANSACRegressor</label><div class=\"sk-toggleable__content\"><pre>RANSACRegressor()</pre></div></div></div></div></div>"
      ],
      "text/plain": [
       "RANSACRegressor()"
      ]
     },
     "execution_count": 163,
     "metadata": {},
     "output_type": "execute_result"
    }
   ],
   "source": [
    "# Treinando o modelo com os dados de treinamento\n",
    "ransac_compra.fit(X_train, y_train)"
   ]
  },
  {
   "cell_type": "markdown",
   "id": "88cf881b",
   "metadata": {},
   "source": [
    "#### 7.1.4.2 Previsão"
   ]
  },
  {
   "cell_type": "code",
   "execution_count": 164,
   "id": "c217ed9b",
   "metadata": {
    "ExecuteTime": {
     "end_time": "2024-03-21T15:22:20.891374Z",
     "start_time": "2024-03-21T15:22:20.836731Z"
    }
   },
   "outputs": [],
   "source": [
    "pred_ransac_compra = ransac_compra.predict(X_test)"
   ]
  },
  {
   "cell_type": "code",
   "execution_count": 165,
   "id": "0ec0393a",
   "metadata": {
    "ExecuteTime": {
     "end_time": "2024-03-21T15:22:22.091571Z",
     "start_time": "2024-03-21T15:22:22.078117Z"
    }
   },
   "outputs": [
    {
     "data": {
      "text/plain": [
       "array([3072977.84196629, 5943018.34118881,  260000.00000023, ...,\n",
       "       1494485.41088207, 3012401.60686893, 1356299.15022192])"
      ]
     },
     "execution_count": 165,
     "metadata": {},
     "output_type": "execute_result"
    }
   ],
   "source": [
    "pred_ransac_compra"
   ]
  },
  {
   "cell_type": "markdown",
   "id": "f551d92a",
   "metadata": {},
   "source": [
    "#### 7.1.4.3 Métricas"
   ]
  },
  {
   "cell_type": "markdown",
   "id": "465c9e21",
   "metadata": {},
   "source": [
    "##### MSE"
   ]
  },
  {
   "cell_type": "code",
   "execution_count": 166,
   "id": "f6e48cd1",
   "metadata": {
    "ExecuteTime": {
     "end_time": "2024-03-21T15:22:27.797229Z",
     "start_time": "2024-03-21T15:22:27.785928Z"
    }
   },
   "outputs": [
    {
     "data": {
      "text/plain": [
       "601907916124.9445"
      ]
     },
     "execution_count": 166,
     "metadata": {},
     "output_type": "execute_result"
    }
   ],
   "source": [
    "mse_ransac_compra = mean_squared_error(y_test, pred_ransac_compra)\n",
    "mse_ransac_compra"
   ]
  },
  {
   "cell_type": "markdown",
   "id": "e8bb0bc4",
   "metadata": {},
   "source": [
    "##### R2"
   ]
  },
  {
   "cell_type": "code",
   "execution_count": 167,
   "id": "9bc33c3b",
   "metadata": {
    "ExecuteTime": {
     "end_time": "2024-03-21T15:22:30.385719Z",
     "start_time": "2024-03-21T15:22:30.371783Z"
    }
   },
   "outputs": [
    {
     "data": {
      "text/plain": [
       "0.7247233584811252"
      ]
     },
     "execution_count": 167,
     "metadata": {},
     "output_type": "execute_result"
    }
   ],
   "source": [
    "r2_score_ransac_compra = r2_score(y_test, pred_ransac_compra)\n",
    "r2_score_ransac_compra"
   ]
  },
  {
   "cell_type": "markdown",
   "id": "38023ea8",
   "metadata": {},
   "source": [
    "## 7.2 Aluguel"
   ]
  },
  {
   "cell_type": "markdown",
   "id": "5e7a32dc",
   "metadata": {},
   "source": [
    "### 7.2.1 Regressão Linear"
   ]
  },
  {
   "cell_type": "markdown",
   "id": "73dd31e1",
   "metadata": {},
   "source": [
    "#### 7.2.1.1 Treinamento"
   ]
  },
  {
   "cell_type": "code",
   "execution_count": 168,
   "id": "b23f1018",
   "metadata": {
    "ExecuteTime": {
     "end_time": "2024-03-21T15:22:34.542934Z",
     "start_time": "2024-03-21T15:22:34.535970Z"
    }
   },
   "outputs": [],
   "source": [
    "# Instanciando o modelo\n",
    "lr_aluguel = LinearRegression()"
   ]
  },
  {
   "cell_type": "code",
   "execution_count": 169,
   "id": "31d804e7",
   "metadata": {
    "ExecuteTime": {
     "end_time": "2024-03-21T15:22:36.436053Z",
     "start_time": "2024-03-21T15:22:36.329568Z"
    }
   },
   "outputs": [
    {
     "data": {
      "text/html": [
       "<style>#sk-container-id-5 {color: black;}#sk-container-id-5 pre{padding: 0;}#sk-container-id-5 div.sk-toggleable {background-color: white;}#sk-container-id-5 label.sk-toggleable__label {cursor: pointer;display: block;width: 100%;margin-bottom: 0;padding: 0.3em;box-sizing: border-box;text-align: center;}#sk-container-id-5 label.sk-toggleable__label-arrow:before {content: \"▸\";float: left;margin-right: 0.25em;color: #696969;}#sk-container-id-5 label.sk-toggleable__label-arrow:hover:before {color: black;}#sk-container-id-5 div.sk-estimator:hover label.sk-toggleable__label-arrow:before {color: black;}#sk-container-id-5 div.sk-toggleable__content {max-height: 0;max-width: 0;overflow: hidden;text-align: left;background-color: #f0f8ff;}#sk-container-id-5 div.sk-toggleable__content pre {margin: 0.2em;color: black;border-radius: 0.25em;background-color: #f0f8ff;}#sk-container-id-5 input.sk-toggleable__control:checked~div.sk-toggleable__content {max-height: 200px;max-width: 100%;overflow: auto;}#sk-container-id-5 input.sk-toggleable__control:checked~label.sk-toggleable__label-arrow:before {content: \"▾\";}#sk-container-id-5 div.sk-estimator input.sk-toggleable__control:checked~label.sk-toggleable__label {background-color: #d4ebff;}#sk-container-id-5 div.sk-label input.sk-toggleable__control:checked~label.sk-toggleable__label {background-color: #d4ebff;}#sk-container-id-5 input.sk-hidden--visually {border: 0;clip: rect(1px 1px 1px 1px);clip: rect(1px, 1px, 1px, 1px);height: 1px;margin: -1px;overflow: hidden;padding: 0;position: absolute;width: 1px;}#sk-container-id-5 div.sk-estimator {font-family: monospace;background-color: #f0f8ff;border: 1px dotted black;border-radius: 0.25em;box-sizing: border-box;margin-bottom: 0.5em;}#sk-container-id-5 div.sk-estimator:hover {background-color: #d4ebff;}#sk-container-id-5 div.sk-parallel-item::after {content: \"\";width: 100%;border-bottom: 1px solid gray;flex-grow: 1;}#sk-container-id-5 div.sk-label:hover label.sk-toggleable__label {background-color: #d4ebff;}#sk-container-id-5 div.sk-serial::before {content: \"\";position: absolute;border-left: 1px solid gray;box-sizing: border-box;top: 0;bottom: 0;left: 50%;z-index: 0;}#sk-container-id-5 div.sk-serial {display: flex;flex-direction: column;align-items: center;background-color: white;padding-right: 0.2em;padding-left: 0.2em;position: relative;}#sk-container-id-5 div.sk-item {position: relative;z-index: 1;}#sk-container-id-5 div.sk-parallel {display: flex;align-items: stretch;justify-content: center;background-color: white;position: relative;}#sk-container-id-5 div.sk-item::before, #sk-container-id-5 div.sk-parallel-item::before {content: \"\";position: absolute;border-left: 1px solid gray;box-sizing: border-box;top: 0;bottom: 0;left: 50%;z-index: -1;}#sk-container-id-5 div.sk-parallel-item {display: flex;flex-direction: column;z-index: 1;position: relative;background-color: white;}#sk-container-id-5 div.sk-parallel-item:first-child::after {align-self: flex-end;width: 50%;}#sk-container-id-5 div.sk-parallel-item:last-child::after {align-self: flex-start;width: 50%;}#sk-container-id-5 div.sk-parallel-item:only-child::after {width: 0;}#sk-container-id-5 div.sk-dashed-wrapped {border: 1px dashed gray;margin: 0 0.4em 0.5em 0.4em;box-sizing: border-box;padding-bottom: 0.4em;background-color: white;}#sk-container-id-5 div.sk-label label {font-family: monospace;font-weight: bold;display: inline-block;line-height: 1.2em;}#sk-container-id-5 div.sk-label-container {text-align: center;}#sk-container-id-5 div.sk-container {/* jupyter's `normalize.less` sets `[hidden] { display: none; }` but bootstrap.min.css set `[hidden] { display: none !important; }` so we also need the `!important` here to be able to override the default hidden behavior on the sphinx rendered scikit-learn.org. See: https://github.com/scikit-learn/scikit-learn/issues/21755 */display: inline-block !important;position: relative;}#sk-container-id-5 div.sk-text-repr-fallback {display: none;}</style><div id=\"sk-container-id-5\" class=\"sk-top-container\"><div class=\"sk-text-repr-fallback\"><pre>LinearRegression()</pre><b>In a Jupyter environment, please rerun this cell to show the HTML representation or trust the notebook. <br />On GitHub, the HTML representation is unable to render, please try loading this page with nbviewer.org.</b></div><div class=\"sk-container\" hidden><div class=\"sk-item\"><div class=\"sk-estimator sk-toggleable\"><input class=\"sk-toggleable__control sk-hidden--visually\" id=\"sk-estimator-id-5\" type=\"checkbox\" checked><label for=\"sk-estimator-id-5\" class=\"sk-toggleable__label sk-toggleable__label-arrow\">LinearRegression</label><div class=\"sk-toggleable__content\"><pre>LinearRegression()</pre></div></div></div></div></div>"
      ],
      "text/plain": [
       "LinearRegression()"
      ]
     },
     "execution_count": 169,
     "metadata": {},
     "output_type": "execute_result"
    }
   ],
   "source": [
    "# Treinando o modelo com os dados de treinamento\n",
    "lr_aluguel.fit(X_train_aluguel, y_train_aluguel)"
   ]
  },
  {
   "cell_type": "markdown",
   "id": "1b029ee6",
   "metadata": {},
   "source": [
    "#### 7.2.1.2 Previsão"
   ]
  },
  {
   "cell_type": "code",
   "execution_count": 170,
   "id": "2f54ebeb",
   "metadata": {
    "ExecuteTime": {
     "end_time": "2024-03-21T15:22:38.726623Z",
     "start_time": "2024-03-21T15:22:38.669952Z"
    }
   },
   "outputs": [],
   "source": [
    "pred_lr_aluguel = lr_aluguel.predict(X_test_aluguel)"
   ]
  },
  {
   "cell_type": "markdown",
   "id": "db0699b4",
   "metadata": {},
   "source": [
    "#### 7.2.1.3 Métricas"
   ]
  },
  {
   "cell_type": "markdown",
   "id": "2e104bb3",
   "metadata": {
    "ExecuteTime": {
     "end_time": "2024-03-20T15:35:03.600338Z",
     "start_time": "2024-03-20T15:35:03.595321Z"
    }
   },
   "source": [
    "##### Score"
   ]
  },
  {
   "cell_type": "code",
   "execution_count": 171,
   "id": "2b8b9b5f",
   "metadata": {
    "ExecuteTime": {
     "end_time": "2024-03-21T15:22:43.556016Z",
     "start_time": "2024-03-21T15:22:43.536464Z"
    }
   },
   "outputs": [
    {
     "data": {
      "text/plain": [
       "0.7633057846035156"
      ]
     },
     "execution_count": 171,
     "metadata": {},
     "output_type": "execute_result"
    }
   ],
   "source": [
    "score_train_aluguel = lr_aluguel.score(X_train_aluguel, y_train_aluguel)\n",
    "score_train_aluguel"
   ]
  },
  {
   "cell_type": "code",
   "execution_count": 172,
   "id": "ab44ed67",
   "metadata": {
    "ExecuteTime": {
     "end_time": "2024-03-21T15:22:44.639694Z",
     "start_time": "2024-03-21T15:22:44.621525Z"
    }
   },
   "outputs": [
    {
     "data": {
      "text/plain": [
       "-5.1673014481357914e+17"
      ]
     },
     "execution_count": 172,
     "metadata": {},
     "output_type": "execute_result"
    }
   ],
   "source": [
    "score_test_aluguel = lr_aluguel.score(X_test_aluguel, y_test_aluguel)\n",
    "score_test_aluguel"
   ]
  },
  {
   "cell_type": "markdown",
   "id": "8e27588b",
   "metadata": {},
   "source": [
    "##### MSE"
   ]
  },
  {
   "cell_type": "code",
   "execution_count": 173,
   "id": "30406fce",
   "metadata": {
    "ExecuteTime": {
     "end_time": "2024-03-21T15:22:46.861805Z",
     "start_time": "2024-03-21T15:22:46.851456Z"
    }
   },
   "outputs": [
    {
     "data": {
      "text/plain": [
       "7.063051152066903e+25"
      ]
     },
     "execution_count": 173,
     "metadata": {},
     "output_type": "execute_result"
    }
   ],
   "source": [
    "mse_lr_aluguel = mean_squared_error(y_test_aluguel, pred_lr_aluguel)\n",
    "mse_lr_aluguel"
   ]
  },
  {
   "cell_type": "markdown",
   "id": "2e32edbb",
   "metadata": {},
   "source": [
    "##### R2"
   ]
  },
  {
   "cell_type": "code",
   "execution_count": 174,
   "id": "7bc162bd",
   "metadata": {
    "ExecuteTime": {
     "end_time": "2024-03-21T15:22:48.658623Z",
     "start_time": "2024-03-21T15:22:48.646907Z"
    }
   },
   "outputs": [
    {
     "data": {
      "text/plain": [
       "-5.1673014481357914e+17"
      ]
     },
     "execution_count": 174,
     "metadata": {},
     "output_type": "execute_result"
    }
   ],
   "source": [
    "r2_score_lr_aluguel = r2_score(y_test_aluguel, pred_lr_aluguel)\n",
    "r2_score_lr_aluguel"
   ]
  },
  {
   "cell_type": "markdown",
   "id": "a232286e",
   "metadata": {},
   "source": [
    "### 7.2.2 Florestas aleatórias"
   ]
  },
  {
   "cell_type": "markdown",
   "id": "b67fd74b",
   "metadata": {
    "ExecuteTime": {
     "end_time": "2024-03-20T15:38:23.139442Z",
     "start_time": "2024-03-20T15:38:23.133831Z"
    }
   },
   "source": [
    "#### 7.2.2.1 Treinamento"
   ]
  },
  {
   "cell_type": "code",
   "execution_count": 175,
   "id": "80da6e43",
   "metadata": {
    "ExecuteTime": {
     "end_time": "2024-03-21T15:22:55.867795Z",
     "start_time": "2024-03-21T15:22:55.861474Z"
    },
    "scrolled": true
   },
   "outputs": [],
   "source": [
    "# Instanciando o modelo\n",
    "rfr_aluguel = RandomForestRegressor()"
   ]
  },
  {
   "cell_type": "code",
   "execution_count": 176,
   "id": "c6d81a11",
   "metadata": {
    "ExecuteTime": {
     "end_time": "2024-03-21T15:22:59.043919Z",
     "start_time": "2024-03-21T15:22:56.727306Z"
    }
   },
   "outputs": [
    {
     "data": {
      "text/html": [
       "<style>#sk-container-id-6 {color: black;}#sk-container-id-6 pre{padding: 0;}#sk-container-id-6 div.sk-toggleable {background-color: white;}#sk-container-id-6 label.sk-toggleable__label {cursor: pointer;display: block;width: 100%;margin-bottom: 0;padding: 0.3em;box-sizing: border-box;text-align: center;}#sk-container-id-6 label.sk-toggleable__label-arrow:before {content: \"▸\";float: left;margin-right: 0.25em;color: #696969;}#sk-container-id-6 label.sk-toggleable__label-arrow:hover:before {color: black;}#sk-container-id-6 div.sk-estimator:hover label.sk-toggleable__label-arrow:before {color: black;}#sk-container-id-6 div.sk-toggleable__content {max-height: 0;max-width: 0;overflow: hidden;text-align: left;background-color: #f0f8ff;}#sk-container-id-6 div.sk-toggleable__content pre {margin: 0.2em;color: black;border-radius: 0.25em;background-color: #f0f8ff;}#sk-container-id-6 input.sk-toggleable__control:checked~div.sk-toggleable__content {max-height: 200px;max-width: 100%;overflow: auto;}#sk-container-id-6 input.sk-toggleable__control:checked~label.sk-toggleable__label-arrow:before {content: \"▾\";}#sk-container-id-6 div.sk-estimator input.sk-toggleable__control:checked~label.sk-toggleable__label {background-color: #d4ebff;}#sk-container-id-6 div.sk-label input.sk-toggleable__control:checked~label.sk-toggleable__label {background-color: #d4ebff;}#sk-container-id-6 input.sk-hidden--visually {border: 0;clip: rect(1px 1px 1px 1px);clip: rect(1px, 1px, 1px, 1px);height: 1px;margin: -1px;overflow: hidden;padding: 0;position: absolute;width: 1px;}#sk-container-id-6 div.sk-estimator {font-family: monospace;background-color: #f0f8ff;border: 1px dotted black;border-radius: 0.25em;box-sizing: border-box;margin-bottom: 0.5em;}#sk-container-id-6 div.sk-estimator:hover {background-color: #d4ebff;}#sk-container-id-6 div.sk-parallel-item::after {content: \"\";width: 100%;border-bottom: 1px solid gray;flex-grow: 1;}#sk-container-id-6 div.sk-label:hover label.sk-toggleable__label {background-color: #d4ebff;}#sk-container-id-6 div.sk-serial::before {content: \"\";position: absolute;border-left: 1px solid gray;box-sizing: border-box;top: 0;bottom: 0;left: 50%;z-index: 0;}#sk-container-id-6 div.sk-serial {display: flex;flex-direction: column;align-items: center;background-color: white;padding-right: 0.2em;padding-left: 0.2em;position: relative;}#sk-container-id-6 div.sk-item {position: relative;z-index: 1;}#sk-container-id-6 div.sk-parallel {display: flex;align-items: stretch;justify-content: center;background-color: white;position: relative;}#sk-container-id-6 div.sk-item::before, #sk-container-id-6 div.sk-parallel-item::before {content: \"\";position: absolute;border-left: 1px solid gray;box-sizing: border-box;top: 0;bottom: 0;left: 50%;z-index: -1;}#sk-container-id-6 div.sk-parallel-item {display: flex;flex-direction: column;z-index: 1;position: relative;background-color: white;}#sk-container-id-6 div.sk-parallel-item:first-child::after {align-self: flex-end;width: 50%;}#sk-container-id-6 div.sk-parallel-item:last-child::after {align-self: flex-start;width: 50%;}#sk-container-id-6 div.sk-parallel-item:only-child::after {width: 0;}#sk-container-id-6 div.sk-dashed-wrapped {border: 1px dashed gray;margin: 0 0.4em 0.5em 0.4em;box-sizing: border-box;padding-bottom: 0.4em;background-color: white;}#sk-container-id-6 div.sk-label label {font-family: monospace;font-weight: bold;display: inline-block;line-height: 1.2em;}#sk-container-id-6 div.sk-label-container {text-align: center;}#sk-container-id-6 div.sk-container {/* jupyter's `normalize.less` sets `[hidden] { display: none; }` but bootstrap.min.css set `[hidden] { display: none !important; }` so we also need the `!important` here to be able to override the default hidden behavior on the sphinx rendered scikit-learn.org. See: https://github.com/scikit-learn/scikit-learn/issues/21755 */display: inline-block !important;position: relative;}#sk-container-id-6 div.sk-text-repr-fallback {display: none;}</style><div id=\"sk-container-id-6\" class=\"sk-top-container\"><div class=\"sk-text-repr-fallback\"><pre>RandomForestRegressor()</pre><b>In a Jupyter environment, please rerun this cell to show the HTML representation or trust the notebook. <br />On GitHub, the HTML representation is unable to render, please try loading this page with nbviewer.org.</b></div><div class=\"sk-container\" hidden><div class=\"sk-item\"><div class=\"sk-estimator sk-toggleable\"><input class=\"sk-toggleable__control sk-hidden--visually\" id=\"sk-estimator-id-6\" type=\"checkbox\" checked><label for=\"sk-estimator-id-6\" class=\"sk-toggleable__label sk-toggleable__label-arrow\">RandomForestRegressor</label><div class=\"sk-toggleable__content\"><pre>RandomForestRegressor()</pre></div></div></div></div></div>"
      ],
      "text/plain": [
       "RandomForestRegressor()"
      ]
     },
     "execution_count": 176,
     "metadata": {},
     "output_type": "execute_result"
    }
   ],
   "source": [
    "# Treinando o modelo com os dados de treinamento\n",
    "rfr_aluguel.fit(X_train_aluguel, y_train_aluguel)"
   ]
  },
  {
   "cell_type": "markdown",
   "id": "73d9b729",
   "metadata": {},
   "source": [
    "#### 7.2.2.2 Previsão"
   ]
  },
  {
   "cell_type": "code",
   "execution_count": 177,
   "id": "58cc9785",
   "metadata": {
    "ExecuteTime": {
     "end_time": "2024-03-21T15:23:01.626200Z",
     "start_time": "2024-03-21T15:23:01.587193Z"
    }
   },
   "outputs": [],
   "source": [
    "pred_rfr_aluguel = rfr_aluguel.predict(X_test_aluguel)"
   ]
  },
  {
   "cell_type": "markdown",
   "id": "9c13e3df",
   "metadata": {},
   "source": [
    "#### 7.2.2.3 Métricas"
   ]
  },
  {
   "cell_type": "markdown",
   "id": "805d5926",
   "metadata": {},
   "source": [
    "##### MSE"
   ]
  },
  {
   "cell_type": "code",
   "execution_count": 178,
   "id": "4e0d38cf",
   "metadata": {
    "ExecuteTime": {
     "end_time": "2024-03-21T15:23:04.378429Z",
     "start_time": "2024-03-21T15:23:04.368465Z"
    }
   },
   "outputs": [
    {
     "data": {
      "text/plain": [
       "45530799.2009046"
      ]
     },
     "execution_count": 178,
     "metadata": {},
     "output_type": "execute_result"
    }
   ],
   "source": [
    "mse_rfr_aluguel = mean_squared_error(y_test_aluguel, pred_rfr_aluguel)\n",
    "mse_rfr_aluguel"
   ]
  },
  {
   "cell_type": "markdown",
   "id": "a221d4dd",
   "metadata": {},
   "source": [
    "##### R2"
   ]
  },
  {
   "cell_type": "code",
   "execution_count": 179,
   "id": "3d3646ee",
   "metadata": {
    "ExecuteTime": {
     "end_time": "2024-03-21T15:23:06.614526Z",
     "start_time": "2024-03-21T15:23:06.602616Z"
    }
   },
   "outputs": [
    {
     "data": {
      "text/plain": [
       "0.6668983990342964"
      ]
     },
     "execution_count": 179,
     "metadata": {},
     "output_type": "execute_result"
    }
   ],
   "source": [
    "r2_score_rfr_aluguel = r2_score(y_test_aluguel, pred_rfr_aluguel)\n",
    "r2_score_rfr_aluguel"
   ]
  },
  {
   "cell_type": "markdown",
   "id": "3e3b6dce",
   "metadata": {},
   "source": [
    "### 7.2.3 Gradient Boosting Regressor"
   ]
  },
  {
   "cell_type": "markdown",
   "id": "955904fd",
   "metadata": {
    "ExecuteTime": {
     "end_time": "2024-03-20T15:38:23.139442Z",
     "start_time": "2024-03-20T15:38:23.133831Z"
    }
   },
   "source": [
    "#### 7.2.3.1 Treinamento"
   ]
  },
  {
   "cell_type": "code",
   "execution_count": 180,
   "id": "1c68cf8f",
   "metadata": {
    "ExecuteTime": {
     "end_time": "2024-03-21T15:23:09.168403Z",
     "start_time": "2024-03-21T15:23:09.162586Z"
    }
   },
   "outputs": [],
   "source": [
    "# Instanciando o modelo\n",
    "gbr_aluguel = GradientBoostingRegressor(n_estimators=100, learning_rate=0.1, random_state=42)"
   ]
  },
  {
   "cell_type": "code",
   "execution_count": 181,
   "id": "513e89ee",
   "metadata": {
    "ExecuteTime": {
     "end_time": "2024-03-21T15:23:10.963755Z",
     "start_time": "2024-03-21T15:23:10.181254Z"
    }
   },
   "outputs": [
    {
     "data": {
      "text/html": [
       "<style>#sk-container-id-7 {color: black;}#sk-container-id-7 pre{padding: 0;}#sk-container-id-7 div.sk-toggleable {background-color: white;}#sk-container-id-7 label.sk-toggleable__label {cursor: pointer;display: block;width: 100%;margin-bottom: 0;padding: 0.3em;box-sizing: border-box;text-align: center;}#sk-container-id-7 label.sk-toggleable__label-arrow:before {content: \"▸\";float: left;margin-right: 0.25em;color: #696969;}#sk-container-id-7 label.sk-toggleable__label-arrow:hover:before {color: black;}#sk-container-id-7 div.sk-estimator:hover label.sk-toggleable__label-arrow:before {color: black;}#sk-container-id-7 div.sk-toggleable__content {max-height: 0;max-width: 0;overflow: hidden;text-align: left;background-color: #f0f8ff;}#sk-container-id-7 div.sk-toggleable__content pre {margin: 0.2em;color: black;border-radius: 0.25em;background-color: #f0f8ff;}#sk-container-id-7 input.sk-toggleable__control:checked~div.sk-toggleable__content {max-height: 200px;max-width: 100%;overflow: auto;}#sk-container-id-7 input.sk-toggleable__control:checked~label.sk-toggleable__label-arrow:before {content: \"▾\";}#sk-container-id-7 div.sk-estimator input.sk-toggleable__control:checked~label.sk-toggleable__label {background-color: #d4ebff;}#sk-container-id-7 div.sk-label input.sk-toggleable__control:checked~label.sk-toggleable__label {background-color: #d4ebff;}#sk-container-id-7 input.sk-hidden--visually {border: 0;clip: rect(1px 1px 1px 1px);clip: rect(1px, 1px, 1px, 1px);height: 1px;margin: -1px;overflow: hidden;padding: 0;position: absolute;width: 1px;}#sk-container-id-7 div.sk-estimator {font-family: monospace;background-color: #f0f8ff;border: 1px dotted black;border-radius: 0.25em;box-sizing: border-box;margin-bottom: 0.5em;}#sk-container-id-7 div.sk-estimator:hover {background-color: #d4ebff;}#sk-container-id-7 div.sk-parallel-item::after {content: \"\";width: 100%;border-bottom: 1px solid gray;flex-grow: 1;}#sk-container-id-7 div.sk-label:hover label.sk-toggleable__label {background-color: #d4ebff;}#sk-container-id-7 div.sk-serial::before {content: \"\";position: absolute;border-left: 1px solid gray;box-sizing: border-box;top: 0;bottom: 0;left: 50%;z-index: 0;}#sk-container-id-7 div.sk-serial {display: flex;flex-direction: column;align-items: center;background-color: white;padding-right: 0.2em;padding-left: 0.2em;position: relative;}#sk-container-id-7 div.sk-item {position: relative;z-index: 1;}#sk-container-id-7 div.sk-parallel {display: flex;align-items: stretch;justify-content: center;background-color: white;position: relative;}#sk-container-id-7 div.sk-item::before, #sk-container-id-7 div.sk-parallel-item::before {content: \"\";position: absolute;border-left: 1px solid gray;box-sizing: border-box;top: 0;bottom: 0;left: 50%;z-index: -1;}#sk-container-id-7 div.sk-parallel-item {display: flex;flex-direction: column;z-index: 1;position: relative;background-color: white;}#sk-container-id-7 div.sk-parallel-item:first-child::after {align-self: flex-end;width: 50%;}#sk-container-id-7 div.sk-parallel-item:last-child::after {align-self: flex-start;width: 50%;}#sk-container-id-7 div.sk-parallel-item:only-child::after {width: 0;}#sk-container-id-7 div.sk-dashed-wrapped {border: 1px dashed gray;margin: 0 0.4em 0.5em 0.4em;box-sizing: border-box;padding-bottom: 0.4em;background-color: white;}#sk-container-id-7 div.sk-label label {font-family: monospace;font-weight: bold;display: inline-block;line-height: 1.2em;}#sk-container-id-7 div.sk-label-container {text-align: center;}#sk-container-id-7 div.sk-container {/* jupyter's `normalize.less` sets `[hidden] { display: none; }` but bootstrap.min.css set `[hidden] { display: none !important; }` so we also need the `!important` here to be able to override the default hidden behavior on the sphinx rendered scikit-learn.org. See: https://github.com/scikit-learn/scikit-learn/issues/21755 */display: inline-block !important;position: relative;}#sk-container-id-7 div.sk-text-repr-fallback {display: none;}</style><div id=\"sk-container-id-7\" class=\"sk-top-container\"><div class=\"sk-text-repr-fallback\"><pre>GradientBoostingRegressor(random_state=42)</pre><b>In a Jupyter environment, please rerun this cell to show the HTML representation or trust the notebook. <br />On GitHub, the HTML representation is unable to render, please try loading this page with nbviewer.org.</b></div><div class=\"sk-container\" hidden><div class=\"sk-item\"><div class=\"sk-estimator sk-toggleable\"><input class=\"sk-toggleable__control sk-hidden--visually\" id=\"sk-estimator-id-7\" type=\"checkbox\" checked><label for=\"sk-estimator-id-7\" class=\"sk-toggleable__label sk-toggleable__label-arrow\">GradientBoostingRegressor</label><div class=\"sk-toggleable__content\"><pre>GradientBoostingRegressor(random_state=42)</pre></div></div></div></div></div>"
      ],
      "text/plain": [
       "GradientBoostingRegressor(random_state=42)"
      ]
     },
     "execution_count": 181,
     "metadata": {},
     "output_type": "execute_result"
    }
   ],
   "source": [
    "# Treinando o modelo com os dados de treinamento\n",
    "gbr_aluguel.fit(X_train_aluguel, y_train_aluguel)"
   ]
  },
  {
   "cell_type": "markdown",
   "id": "2cb5e01c",
   "metadata": {},
   "source": [
    "#### 7.2.3.2 Previsão"
   ]
  },
  {
   "cell_type": "code",
   "execution_count": 182,
   "id": "71909376",
   "metadata": {
    "ExecuteTime": {
     "end_time": "2024-03-21T15:23:28.291160Z",
     "start_time": "2024-03-21T15:23:28.278439Z"
    }
   },
   "outputs": [],
   "source": [
    "pred_gbr_aluguel = gbr_aluguel.predict(X_test_aluguel)"
   ]
  },
  {
   "cell_type": "markdown",
   "id": "628ad796",
   "metadata": {},
   "source": [
    "#### 7.2.3.3 Métricas"
   ]
  },
  {
   "cell_type": "markdown",
   "id": "4e73296d",
   "metadata": {},
   "source": [
    "##### MSE"
   ]
  },
  {
   "cell_type": "code",
   "execution_count": 183,
   "id": "dacd6605",
   "metadata": {
    "ExecuteTime": {
     "end_time": "2024-03-21T15:23:31.735158Z",
     "start_time": "2024-03-21T15:23:31.724926Z"
    }
   },
   "outputs": [
    {
     "data": {
      "text/plain": [
       "55343436.49990292"
      ]
     },
     "execution_count": 183,
     "metadata": {},
     "output_type": "execute_result"
    }
   ],
   "source": [
    "mse_gbr_aluguel = mean_squared_error(y_test_aluguel, pred_gbr_aluguel)\n",
    "mse_gbr_aluguel"
   ]
  },
  {
   "cell_type": "markdown",
   "id": "281d13fb",
   "metadata": {},
   "source": [
    "##### R2"
   ]
  },
  {
   "cell_type": "code",
   "execution_count": 184,
   "id": "4c572b48",
   "metadata": {
    "ExecuteTime": {
     "end_time": "2024-03-21T15:23:33.937032Z",
     "start_time": "2024-03-21T15:23:33.923941Z"
    }
   },
   "outputs": [
    {
     "data": {
      "text/plain": [
       "0.5951095165336971"
      ]
     },
     "execution_count": 184,
     "metadata": {},
     "output_type": "execute_result"
    }
   ],
   "source": [
    "r2_score_gbr_aluguel = r2_score(y_test_aluguel, pred_gbr_aluguel)\n",
    "r2_score_gbr_aluguel"
   ]
  },
  {
   "cell_type": "markdown",
   "id": "3f3266a2",
   "metadata": {},
   "source": [
    "### 7.2.4 Robusto"
   ]
  },
  {
   "cell_type": "markdown",
   "id": "2c23e712",
   "metadata": {
    "ExecuteTime": {
     "end_time": "2024-03-20T15:38:23.139442Z",
     "start_time": "2024-03-20T15:38:23.133831Z"
    }
   },
   "source": [
    "#### 7.2.4.1 Treinamento"
   ]
  },
  {
   "cell_type": "code",
   "execution_count": 185,
   "id": "ef88bc08",
   "metadata": {
    "ExecuteTime": {
     "end_time": "2024-03-21T15:23:36.874337Z",
     "start_time": "2024-03-21T15:23:36.869243Z"
    }
   },
   "outputs": [],
   "source": [
    "# Instanciando o modelo\n",
    "ransac_aluguel = RANSACRegressor()"
   ]
  },
  {
   "cell_type": "code",
   "execution_count": 186,
   "id": "1afd7de2",
   "metadata": {
    "ExecuteTime": {
     "end_time": "2024-03-21T15:23:42.961064Z",
     "start_time": "2024-03-21T15:23:39.902153Z"
    }
   },
   "outputs": [
    {
     "data": {
      "text/html": [
       "<style>#sk-container-id-8 {color: black;}#sk-container-id-8 pre{padding: 0;}#sk-container-id-8 div.sk-toggleable {background-color: white;}#sk-container-id-8 label.sk-toggleable__label {cursor: pointer;display: block;width: 100%;margin-bottom: 0;padding: 0.3em;box-sizing: border-box;text-align: center;}#sk-container-id-8 label.sk-toggleable__label-arrow:before {content: \"▸\";float: left;margin-right: 0.25em;color: #696969;}#sk-container-id-8 label.sk-toggleable__label-arrow:hover:before {color: black;}#sk-container-id-8 div.sk-estimator:hover label.sk-toggleable__label-arrow:before {color: black;}#sk-container-id-8 div.sk-toggleable__content {max-height: 0;max-width: 0;overflow: hidden;text-align: left;background-color: #f0f8ff;}#sk-container-id-8 div.sk-toggleable__content pre {margin: 0.2em;color: black;border-radius: 0.25em;background-color: #f0f8ff;}#sk-container-id-8 input.sk-toggleable__control:checked~div.sk-toggleable__content {max-height: 200px;max-width: 100%;overflow: auto;}#sk-container-id-8 input.sk-toggleable__control:checked~label.sk-toggleable__label-arrow:before {content: \"▾\";}#sk-container-id-8 div.sk-estimator input.sk-toggleable__control:checked~label.sk-toggleable__label {background-color: #d4ebff;}#sk-container-id-8 div.sk-label input.sk-toggleable__control:checked~label.sk-toggleable__label {background-color: #d4ebff;}#sk-container-id-8 input.sk-hidden--visually {border: 0;clip: rect(1px 1px 1px 1px);clip: rect(1px, 1px, 1px, 1px);height: 1px;margin: -1px;overflow: hidden;padding: 0;position: absolute;width: 1px;}#sk-container-id-8 div.sk-estimator {font-family: monospace;background-color: #f0f8ff;border: 1px dotted black;border-radius: 0.25em;box-sizing: border-box;margin-bottom: 0.5em;}#sk-container-id-8 div.sk-estimator:hover {background-color: #d4ebff;}#sk-container-id-8 div.sk-parallel-item::after {content: \"\";width: 100%;border-bottom: 1px solid gray;flex-grow: 1;}#sk-container-id-8 div.sk-label:hover label.sk-toggleable__label {background-color: #d4ebff;}#sk-container-id-8 div.sk-serial::before {content: \"\";position: absolute;border-left: 1px solid gray;box-sizing: border-box;top: 0;bottom: 0;left: 50%;z-index: 0;}#sk-container-id-8 div.sk-serial {display: flex;flex-direction: column;align-items: center;background-color: white;padding-right: 0.2em;padding-left: 0.2em;position: relative;}#sk-container-id-8 div.sk-item {position: relative;z-index: 1;}#sk-container-id-8 div.sk-parallel {display: flex;align-items: stretch;justify-content: center;background-color: white;position: relative;}#sk-container-id-8 div.sk-item::before, #sk-container-id-8 div.sk-parallel-item::before {content: \"\";position: absolute;border-left: 1px solid gray;box-sizing: border-box;top: 0;bottom: 0;left: 50%;z-index: -1;}#sk-container-id-8 div.sk-parallel-item {display: flex;flex-direction: column;z-index: 1;position: relative;background-color: white;}#sk-container-id-8 div.sk-parallel-item:first-child::after {align-self: flex-end;width: 50%;}#sk-container-id-8 div.sk-parallel-item:last-child::after {align-self: flex-start;width: 50%;}#sk-container-id-8 div.sk-parallel-item:only-child::after {width: 0;}#sk-container-id-8 div.sk-dashed-wrapped {border: 1px dashed gray;margin: 0 0.4em 0.5em 0.4em;box-sizing: border-box;padding-bottom: 0.4em;background-color: white;}#sk-container-id-8 div.sk-label label {font-family: monospace;font-weight: bold;display: inline-block;line-height: 1.2em;}#sk-container-id-8 div.sk-label-container {text-align: center;}#sk-container-id-8 div.sk-container {/* jupyter's `normalize.less` sets `[hidden] { display: none; }` but bootstrap.min.css set `[hidden] { display: none !important; }` so we also need the `!important` here to be able to override the default hidden behavior on the sphinx rendered scikit-learn.org. See: https://github.com/scikit-learn/scikit-learn/issues/21755 */display: inline-block !important;position: relative;}#sk-container-id-8 div.sk-text-repr-fallback {display: none;}</style><div id=\"sk-container-id-8\" class=\"sk-top-container\"><div class=\"sk-text-repr-fallback\"><pre>RANSACRegressor()</pre><b>In a Jupyter environment, please rerun this cell to show the HTML representation or trust the notebook. <br />On GitHub, the HTML representation is unable to render, please try loading this page with nbviewer.org.</b></div><div class=\"sk-container\" hidden><div class=\"sk-item\"><div class=\"sk-estimator sk-toggleable\"><input class=\"sk-toggleable__control sk-hidden--visually\" id=\"sk-estimator-id-8\" type=\"checkbox\" checked><label for=\"sk-estimator-id-8\" class=\"sk-toggleable__label sk-toggleable__label-arrow\">RANSACRegressor</label><div class=\"sk-toggleable__content\"><pre>RANSACRegressor()</pre></div></div></div></div></div>"
      ],
      "text/plain": [
       "RANSACRegressor()"
      ]
     },
     "execution_count": 186,
     "metadata": {},
     "output_type": "execute_result"
    }
   ],
   "source": [
    "# Treinando o modelo com os dados de treinamento\n",
    "ransac_aluguel.fit(X_train_aluguel, y_train_aluguel)"
   ]
  },
  {
   "cell_type": "markdown",
   "id": "9d44263c",
   "metadata": {},
   "source": [
    "#### 7.2.4.2 Previsão"
   ]
  },
  {
   "cell_type": "code",
   "execution_count": 187,
   "id": "c62a8a21",
   "metadata": {
    "ExecuteTime": {
     "end_time": "2024-03-21T15:23:46.855043Z",
     "start_time": "2024-03-21T15:23:46.841395Z"
    }
   },
   "outputs": [],
   "source": [
    "pred_ransac_aluguel = ransac_aluguel.predict(X_test_aluguel)"
   ]
  },
  {
   "cell_type": "markdown",
   "id": "9fe64933",
   "metadata": {},
   "source": [
    "#### 7.2.4.3 Métricas"
   ]
  },
  {
   "cell_type": "markdown",
   "id": "ff05666b",
   "metadata": {},
   "source": [
    "##### MSE"
   ]
  },
  {
   "cell_type": "code",
   "execution_count": 188,
   "id": "4c368a79",
   "metadata": {
    "ExecuteTime": {
     "end_time": "2024-03-21T15:23:51.230891Z",
     "start_time": "2024-03-21T15:23:51.221298Z"
    }
   },
   "outputs": [
    {
     "data": {
      "text/plain": [
       "1.4520650814752973e+24"
      ]
     },
     "execution_count": 188,
     "metadata": {},
     "output_type": "execute_result"
    }
   ],
   "source": [
    "mse_ransac_aluguel = mean_squared_error(y_test_aluguel, pred_ransac_aluguel)\n",
    "mse_ransac_aluguel"
   ]
  },
  {
   "cell_type": "markdown",
   "id": "f2da7178",
   "metadata": {},
   "source": [
    "##### R2"
   ]
  },
  {
   "cell_type": "code",
   "execution_count": 189,
   "id": "f9d59817",
   "metadata": {
    "ExecuteTime": {
     "end_time": "2024-03-21T15:23:52.864130Z",
     "start_time": "2024-03-21T15:23:52.854569Z"
    }
   },
   "outputs": [
    {
     "data": {
      "text/plain": [
       "-1.0623253090980368e+16"
      ]
     },
     "execution_count": 189,
     "metadata": {},
     "output_type": "execute_result"
    }
   ],
   "source": [
    "r2_score_ransac_aluguel = r2_score(y_test_aluguel, pred_ransac_aluguel)\n",
    "r2_score_ransac_aluguel"
   ]
  },
  {
   "cell_type": "markdown",
   "id": "eb8709d3",
   "metadata": {},
   "source": [
    "# 8 Avaliação dos modelos"
   ]
  },
  {
   "cell_type": "markdown",
   "id": "78f4b81b",
   "metadata": {},
   "source": [
    "## 8.1 Compra"
   ]
  },
  {
   "cell_type": "code",
   "execution_count": 190,
   "id": "46f98df6",
   "metadata": {
    "ExecuteTime": {
     "end_time": "2024-03-21T15:43:56.279337Z",
     "start_time": "2024-03-21T15:43:53.877367Z"
    },
    "scrolled": true
   },
   "outputs": [],
   "source": [
    "# Criando um dicionário com os resultados\n",
    "resultados = {\n",
    "    \"Modelo\": [\"Linear Regression\", \"Random Forest Regressor\", \"Gradient Boosting Regressor\", \"RANSAC Regressor\"],\n",
    "    \"MSE\": [mse_lr_compra, mse_rfr_compra, mse_gbr_compra, mse_ransac_compra],\n",
    "    \"R²\": [r2_score_lr_compra, r2_score_rfr_compra, r2_score_gbr_compra, r2_score_ransac_compra]\n",
    "}\n",
    "\n",
    "# Criando o DataFrame\n",
    "df_resultados = pd.DataFrame(resultados)"
   ]
  },
  {
   "cell_type": "code",
   "execution_count": 191,
   "id": "410db399",
   "metadata": {
    "ExecuteTime": {
     "end_time": "2024-03-21T15:43:59.796001Z",
     "start_time": "2024-03-21T15:43:58.337879Z"
    }
   },
   "outputs": [
    {
     "data": {
      "text/html": [
       "<div>\n",
       "<style scoped>\n",
       "    .dataframe tbody tr th:only-of-type {\n",
       "        vertical-align: middle;\n",
       "    }\n",
       "\n",
       "    .dataframe tbody tr th {\n",
       "        vertical-align: top;\n",
       "    }\n",
       "\n",
       "    .dataframe thead th {\n",
       "        text-align: right;\n",
       "    }\n",
       "</style>\n",
       "<table border=\"1\" class=\"dataframe\">\n",
       "  <thead>\n",
       "    <tr style=\"text-align: right;\">\n",
       "      <th></th>\n",
       "      <th>Modelo</th>\n",
       "      <th>MSE</th>\n",
       "      <th>R²</th>\n",
       "    </tr>\n",
       "  </thead>\n",
       "  <tbody>\n",
       "    <tr>\n",
       "      <th>0</th>\n",
       "      <td>Linear Regression</td>\n",
       "      <td>6.397411e+29</td>\n",
       "      <td>-2.925793e+17</td>\n",
       "    </tr>\n",
       "    <tr>\n",
       "      <th>1</th>\n",
       "      <td>Random Forest Regressor</td>\n",
       "      <td>4.314567e+11</td>\n",
       "      <td>8.026775e-01</td>\n",
       "    </tr>\n",
       "    <tr>\n",
       "      <th>2</th>\n",
       "      <td>Gradient Boosting Regressor</td>\n",
       "      <td>6.450178e+11</td>\n",
       "      <td>7.050075e-01</td>\n",
       "    </tr>\n",
       "    <tr>\n",
       "      <th>3</th>\n",
       "      <td>RANSAC Regressor</td>\n",
       "      <td>6.019079e+11</td>\n",
       "      <td>7.247234e-01</td>\n",
       "    </tr>\n",
       "  </tbody>\n",
       "</table>\n",
       "</div>"
      ],
      "text/plain": [
       "                        Modelo           MSE            R²\n",
       "0            Linear Regression  6.397411e+29 -2.925793e+17\n",
       "1      Random Forest Regressor  4.314567e+11  8.026775e-01\n",
       "2  Gradient Boosting Regressor  6.450178e+11  7.050075e-01\n",
       "3             RANSAC Regressor  6.019079e+11  7.247234e-01"
      ]
     },
     "execution_count": 191,
     "metadata": {},
     "output_type": "execute_result"
    }
   ],
   "source": [
    "df_resultados"
   ]
  },
  {
   "cell_type": "code",
   "execution_count": 192,
   "id": "dbb39f67",
   "metadata": {
    "ExecuteTime": {
     "end_time": "2024-03-21T15:44:01.881964Z",
     "start_time": "2024-03-21T15:44:01.539340Z"
    }
   },
   "outputs": [],
   "source": [
    "# Identificando o melhor modelo com base no menor MSE e maior R²\n",
    "melhor_modelo_mse = df_resultados.loc[df_resultados['MSE'].idxmin()]\n",
    "melhor_modelo_r2 = df_resultados.loc[df_resultados['R²'].idxmax()]"
   ]
  },
  {
   "cell_type": "code",
   "execution_count": 193,
   "id": "5338231d",
   "metadata": {
    "ExecuteTime": {
     "end_time": "2024-03-21T15:44:03.922328Z",
     "start_time": "2024-03-21T15:44:03.443343Z"
    }
   },
   "outputs": [
    {
     "name": "stdout",
     "output_type": "stream",
     "text": [
      "Resultados dos modelos:\n",
      "                        Modelo           MSE            R²\n",
      "0            Linear Regression  6.397411e+29 -2.925793e+17\n",
      "1      Random Forest Regressor  4.314567e+11  8.026775e-01\n",
      "2  Gradient Boosting Regressor  6.450178e+11  7.050075e-01\n",
      "3             RANSAC Regressor  6.019079e+11  7.247234e-01\n",
      "\n",
      "\n",
      "Melhor modelo com base no MSE:\n",
      "Modelo    Random Forest Regressor\n",
      "MSE           431456684638.013123\n",
      "R²                       0.802678\n",
      "Name: 1, dtype: object\n",
      "\n",
      "\n",
      "Melhor modelo com base no R²:\n",
      "Modelo    Random Forest Regressor\n",
      "MSE           431456684638.013123\n",
      "R²                       0.802678\n",
      "Name: 1, dtype: object\n"
     ]
    }
   ],
   "source": [
    "# Comparando os modelos\n",
    "print(\"Resultados dos modelos:\")\n",
    "print(df_resultados)\n",
    "print(\"\\n\")\n",
    "\n",
    "# Identificando o melhor modelo com base no menor MSE\n",
    "print(\"Melhor modelo com base no MSE:\")\n",
    "print(melhor_modelo_mse)\n",
    "print(\"\\n\")\n",
    "\n",
    "# Identificando o melhor modelo com base no maior R²\n",
    "print(\"Melhor modelo com base no R²:\")\n",
    "print(melhor_modelo_r2)"
   ]
  },
  {
   "cell_type": "markdown",
   "id": "a708c58c",
   "metadata": {},
   "source": [
    "## 8.2 Aluguel"
   ]
  },
  {
   "cell_type": "code",
   "execution_count": 194,
   "id": "e066ead9",
   "metadata": {
    "ExecuteTime": {
     "end_time": "2024-03-21T15:44:11.045751Z",
     "start_time": "2024-03-21T15:44:10.819790Z"
    }
   },
   "outputs": [],
   "source": [
    "# Criando um dicionário com os resultados\n",
    "resultados_aluguel = {\n",
    "    \"Modelo\": [\"Linear Regression\", \"Random Forest Regressor\", \"Gradient Boosting Regressor\", \"RANSAC Regressor\"],\n",
    "    \"MSE\": [mse_lr_aluguel, mse_rfr_aluguel, mse_gbr_aluguel, mse_ransac_aluguel],\n",
    "    \"R²\": [r2_score_lr_aluguel, r2_score_rfr_aluguel, r2_score_gbr_aluguel, r2_score_ransac_aluguel]\n",
    "}\n",
    "\n",
    "# Criando o DataFrame\n",
    "df_resultados_aluguel = pd.DataFrame(resultados_aluguel)"
   ]
  },
  {
   "cell_type": "code",
   "execution_count": 195,
   "id": "9ee89478",
   "metadata": {
    "ExecuteTime": {
     "end_time": "2024-03-21T15:44:12.240265Z",
     "start_time": "2024-03-21T15:44:12.219570Z"
    }
   },
   "outputs": [
    {
     "data": {
      "text/html": [
       "<div>\n",
       "<style scoped>\n",
       "    .dataframe tbody tr th:only-of-type {\n",
       "        vertical-align: middle;\n",
       "    }\n",
       "\n",
       "    .dataframe tbody tr th {\n",
       "        vertical-align: top;\n",
       "    }\n",
       "\n",
       "    .dataframe thead th {\n",
       "        text-align: right;\n",
       "    }\n",
       "</style>\n",
       "<table border=\"1\" class=\"dataframe\">\n",
       "  <thead>\n",
       "    <tr style=\"text-align: right;\">\n",
       "      <th></th>\n",
       "      <th>Modelo</th>\n",
       "      <th>MSE</th>\n",
       "      <th>R²</th>\n",
       "    </tr>\n",
       "  </thead>\n",
       "  <tbody>\n",
       "    <tr>\n",
       "      <th>0</th>\n",
       "      <td>Linear Regression</td>\n",
       "      <td>7.063051e+25</td>\n",
       "      <td>-5.167301e+17</td>\n",
       "    </tr>\n",
       "    <tr>\n",
       "      <th>1</th>\n",
       "      <td>Random Forest Regressor</td>\n",
       "      <td>4.553080e+07</td>\n",
       "      <td>6.668984e-01</td>\n",
       "    </tr>\n",
       "    <tr>\n",
       "      <th>2</th>\n",
       "      <td>Gradient Boosting Regressor</td>\n",
       "      <td>5.534344e+07</td>\n",
       "      <td>5.951095e-01</td>\n",
       "    </tr>\n",
       "    <tr>\n",
       "      <th>3</th>\n",
       "      <td>RANSAC Regressor</td>\n",
       "      <td>1.452065e+24</td>\n",
       "      <td>-1.062325e+16</td>\n",
       "    </tr>\n",
       "  </tbody>\n",
       "</table>\n",
       "</div>"
      ],
      "text/plain": [
       "                        Modelo           MSE            R²\n",
       "0            Linear Regression  7.063051e+25 -5.167301e+17\n",
       "1      Random Forest Regressor  4.553080e+07  6.668984e-01\n",
       "2  Gradient Boosting Regressor  5.534344e+07  5.951095e-01\n",
       "3             RANSAC Regressor  1.452065e+24 -1.062325e+16"
      ]
     },
     "execution_count": 195,
     "metadata": {},
     "output_type": "execute_result"
    }
   ],
   "source": [
    "df_resultados_aluguel"
   ]
  },
  {
   "cell_type": "code",
   "execution_count": 196,
   "id": "d6c4a461",
   "metadata": {
    "ExecuteTime": {
     "end_time": "2024-03-21T15:44:14.072685Z",
     "start_time": "2024-03-21T15:44:14.020515Z"
    }
   },
   "outputs": [],
   "source": [
    "# Identificando o melhor modelo com base no menor MSE e maior R²\n",
    "melhor_mse_aluguel = df_resultados_aluguel.loc[df_resultados_aluguel['MSE'].idxmin()]\n",
    "melhor_r2_aluguel = df_resultados_aluguel.loc[df_resultados_aluguel['R²'].idxmax()]"
   ]
  },
  {
   "cell_type": "code",
   "execution_count": 197,
   "id": "22f655be",
   "metadata": {
    "ExecuteTime": {
     "end_time": "2024-03-21T15:44:15.849687Z",
     "start_time": "2024-03-21T15:44:15.767429Z"
    },
    "scrolled": false
   },
   "outputs": [
    {
     "name": "stdout",
     "output_type": "stream",
     "text": [
      "Resultados dos modelos:\n",
      "                        Modelo           MSE            R²\n",
      "0            Linear Regression  6.397411e+29 -2.925793e+17\n",
      "1      Random Forest Regressor  4.314567e+11  8.026775e-01\n",
      "2  Gradient Boosting Regressor  6.450178e+11  7.050075e-01\n",
      "3             RANSAC Regressor  6.019079e+11  7.247234e-01\n",
      "\n",
      "\n",
      "Melhor modelo com base no MSE:\n",
      "Modelo    Random Forest Regressor\n",
      "MSE               45530799.200905\n",
      "R²                       0.666898\n",
      "Name: 1, dtype: object\n",
      "\n",
      "\n",
      "Melhor modelo com base no R²:\n",
      "Modelo    Random Forest Regressor\n",
      "MSE               45530799.200905\n",
      "R²                       0.666898\n",
      "Name: 1, dtype: object\n"
     ]
    }
   ],
   "source": [
    "# Comparando os modelos\n",
    "print(\"Resultados dos modelos:\")\n",
    "print(df_resultados)\n",
    "print(\"\\n\")\n",
    "\n",
    "# Identificando o melhor modelo com base no menor MSE\n",
    "print(\"Melhor modelo com base no MSE:\")\n",
    "print(melhor_mse_aluguel)\n",
    "print(\"\\n\")\n",
    "\n",
    "# Identificando o melhor modelo com base no maior R²\n",
    "print(\"Melhor modelo com base no R²:\")\n",
    "print(melhor_r2_aluguel)"
   ]
  },
  {
   "cell_type": "markdown",
   "id": "a74a14b3",
   "metadata": {
    "heading_collapsed": true
   },
   "source": [
    "# 9 Ajuste de Hiperparâmetros"
   ]
  },
  {
   "cell_type": "code",
   "execution_count": 236,
   "id": "25e8374f",
   "metadata": {
    "ExecuteTime": {
     "end_time": "2024-03-20T19:22:21.848410Z",
     "start_time": "2024-03-20T19:22:21.533637Z"
    },
    "hidden": true
   },
   "outputs": [],
   "source": [
    "from sklearn.model_selection import GridSearchCV"
   ]
  },
  {
   "cell_type": "markdown",
   "id": "aa001027",
   "metadata": {
    "hidden": true
   },
   "source": [
    "## 9.2 Compra"
   ]
  },
  {
   "cell_type": "code",
   "execution_count": 237,
   "id": "ed785815",
   "metadata": {
    "ExecuteTime": {
     "end_time": "2024-03-20T19:23:30.630762Z",
     "start_time": "2024-03-20T19:23:29.977113Z"
    },
    "hidden": true
   },
   "outputs": [],
   "source": [
    "# Definir os modelos\n",
    "models = {\n",
    "    'Linear Regression': LinearRegression(),\n",
    "    'Random Forest Regressor': RandomForestRegressor(),\n",
    "    'Gradient Boosting Regressor': GradientBoostingRegressor(),\n",
    "    'RANSAC Regressor': RANSACRegressor()\n",
    "}\n",
    "\n",
    "# Definir os hiperparâmetros a serem ajustados para cada modelo\n",
    "params = {\n",
    "    'Linear Regression': {},\n",
    "    'Random Forest Regressor': {'n_estimators': [10, 50, 100], 'max_depth': [None, 5, 10]},\n",
    "    'Gradient Boosting Regressor': {'n_estimators': [50, 100, 200], 'learning_rate': [0.01, 0.1, 0.5]},\n",
    "    'RANSAC Regressor': {'min_samples': [0.1, 0.5, 1.0]}\n",
    "}"
   ]
  },
  {
   "cell_type": "code",
   "execution_count": 238,
   "id": "92dfade8",
   "metadata": {
    "ExecuteTime": {
     "end_time": "2024-03-20T20:50:06.826982Z",
     "start_time": "2024-03-20T19:23:42.975149Z"
    },
    "hidden": true
   },
   "outputs": [],
   "source": [
    "# Ajustar os hiperparâmetros usando GridSearchCV\n",
    "results = {}\n",
    "for name, model in models.items():\n",
    "    grid_search = GridSearchCV(model, params[name], cv=5, scoring='neg_mean_squared_error')\n",
    "    grid_search.fit(X_train, y_train)\n",
    "    best_model = grid_search.best_estimator_\n",
    "    \n",
    "    # Fazer previsões com o melhor modelo\n",
    "    y_pred = best_model.predict(X_test)\n",
    "    \n",
    "    # Calcular métricas de avaliação\n",
    "    mse = mean_squared_error(y_test, y_pred)\n",
    "    r2 = r2_score(y_test, y_pred)\n",
    "    \n",
    "    results[name] = {'Best Model': best_model, 'MSE': mse, 'R²': r2}"
   ]
  },
  {
   "cell_type": "code",
   "execution_count": 242,
   "id": "d297af84",
   "metadata": {
    "ExecuteTime": {
     "end_time": "2024-03-21T01:54:03.775762Z",
     "start_time": "2024-03-21T01:54:03.111834Z"
    },
    "hidden": true
   },
   "outputs": [
    {
     "data": {
      "text/html": [
       "<div>\n",
       "<style scoped>\n",
       "    .dataframe tbody tr th:only-of-type {\n",
       "        vertical-align: middle;\n",
       "    }\n",
       "\n",
       "    .dataframe tbody tr th {\n",
       "        vertical-align: top;\n",
       "    }\n",
       "\n",
       "    .dataframe thead th {\n",
       "        text-align: right;\n",
       "    }\n",
       "</style>\n",
       "<table border=\"1\" class=\"dataframe\">\n",
       "  <thead>\n",
       "    <tr style=\"text-align: right;\">\n",
       "      <th></th>\n",
       "      <th>Best Model</th>\n",
       "      <th>MSE</th>\n",
       "      <th>R²</th>\n",
       "    </tr>\n",
       "  </thead>\n",
       "  <tbody>\n",
       "    <tr>\n",
       "      <th>Linear Regression</th>\n",
       "      <td>LinearRegression()</td>\n",
       "      <td>45250864546933518639166390272.0</td>\n",
       "      <td>-18886694264905976.0</td>\n",
       "    </tr>\n",
       "    <tr>\n",
       "      <th>Random Forest Regressor</th>\n",
       "      <td>(DecisionTreeRegressor(max_features=1.0, rando...</td>\n",
       "      <td>506400204125.393066</td>\n",
       "      <td>0.78864</td>\n",
       "    </tr>\n",
       "    <tr>\n",
       "      <th>Gradient Boosting Regressor</th>\n",
       "      <td>([DecisionTreeRegressor(criterion='friedman_ms...</td>\n",
       "      <td>595575930641.208374</td>\n",
       "      <td>0.75142</td>\n",
       "    </tr>\n",
       "    <tr>\n",
       "      <th>RANSAC Regressor</th>\n",
       "      <td>RANSACRegressor(min_samples=0.5)</td>\n",
       "      <td>32847207108646217488059596800.0</td>\n",
       "      <td>-13709686308282652.0</td>\n",
       "    </tr>\n",
       "  </tbody>\n",
       "</table>\n",
       "</div>"
      ],
      "text/plain": [
       "                                                                    Best Model  \\\n",
       "Linear Regression                                           LinearRegression()   \n",
       "Random Forest Regressor      (DecisionTreeRegressor(max_features=1.0, rando...   \n",
       "Gradient Boosting Regressor  ([DecisionTreeRegressor(criterion='friedman_ms...   \n",
       "RANSAC Regressor                              RANSACRegressor(min_samples=0.5)   \n",
       "\n",
       "                                                         MSE  \\\n",
       "Linear Regression            45250864546933518639166390272.0   \n",
       "Random Forest Regressor                  506400204125.393066   \n",
       "Gradient Boosting Regressor              595575930641.208374   \n",
       "RANSAC Regressor             32847207108646217488059596800.0   \n",
       "\n",
       "                                              R²  \n",
       "Linear Regression           -18886694264905976.0  \n",
       "Random Forest Regressor                  0.78864  \n",
       "Gradient Boosting Regressor              0.75142  \n",
       "RANSAC Regressor            -13709686308282652.0  "
      ]
     },
     "execution_count": 242,
     "metadata": {},
     "output_type": "execute_result"
    }
   ],
   "source": [
    "# Criar DataFrame com os resultados\n",
    "df_results = pd.DataFrame(results).T\n",
    "df_results"
   ]
  },
  {
   "cell_type": "markdown",
   "id": "bb02d2f5",
   "metadata": {
    "hidden": true
   },
   "source": [
    "##### Encontrando os melhores hiperparâmetros"
   ]
  },
  {
   "cell_type": "code",
   "execution_count": 28,
   "id": "7dac85b8",
   "metadata": {
    "ExecuteTime": {
     "end_time": "2024-03-13T14:10:29.501528Z",
     "start_time": "2024-03-13T14:10:25.227967Z"
    },
    "hidden": true
   },
   "outputs": [],
   "source": [
    "from sklearn.ensemble import RandomForestRegressor, RandomForestClassifier\n",
    "from sklearn.model_selection import GridSearchCV"
   ]
  },
  {
   "cell_type": "code",
   "execution_count": 100,
   "id": "254c9bf8",
   "metadata": {
    "ExecuteTime": {
     "end_time": "2024-03-13T15:29:23.559828Z",
     "start_time": "2024-03-13T15:29:23.553829Z"
    },
    "hidden": true
   },
   "outputs": [],
   "source": [
    "# Definir os hiperparâmetros que deseja ajustar\n",
    "param_grid = {\n",
    "    'n_estimators': [50, 100, 150],  # Número de árvores na floresta\n",
    "    'max_depth': [None, 10, 20],      # Profundidade máxima das árvores\n",
    "    'min_samples_split': [2, 5, 10]   # Número mínimo de amostras necessárias para dividir um nó\n",
    "}"
   ]
  },
  {
   "cell_type": "code",
   "execution_count": 101,
   "id": "57245177",
   "metadata": {
    "ExecuteTime": {
     "end_time": "2024-03-13T15:29:25.067662Z",
     "start_time": "2024-03-13T15:29:25.062897Z"
    },
    "hidden": true
   },
   "outputs": [],
   "source": [
    "rfr_a = RandomForestRegressor()"
   ]
  },
  {
   "cell_type": "code",
   "execution_count": 102,
   "id": "4e0a9dc1",
   "metadata": {
    "ExecuteTime": {
     "end_time": "2024-03-13T15:29:26.956384Z",
     "start_time": "2024-03-13T15:29:26.948928Z"
    },
    "hidden": true
   },
   "outputs": [],
   "source": [
    "grid_search_a = GridSearchCV(estimator=rfr_a, param_grid=param_grid, cv=5, scoring='neg_mean_squared_error', verbose=1)"
   ]
  },
  {
   "cell_type": "code",
   "execution_count": 103,
   "id": "57de9536",
   "metadata": {
    "ExecuteTime": {
     "end_time": "2024-03-13T15:31:15.416030Z",
     "start_time": "2024-03-13T15:29:30.507850Z"
    },
    "hidden": true
   },
   "outputs": [
    {
     "name": "stdout",
     "output_type": "stream",
     "text": [
      "Fitting 5 folds for each of 27 candidates, totalling 135 fits\n"
     ]
    },
    {
     "data": {
      "text/html": [
       "<style>#sk-container-id-4 {color: black;}#sk-container-id-4 pre{padding: 0;}#sk-container-id-4 div.sk-toggleable {background-color: white;}#sk-container-id-4 label.sk-toggleable__label {cursor: pointer;display: block;width: 100%;margin-bottom: 0;padding: 0.3em;box-sizing: border-box;text-align: center;}#sk-container-id-4 label.sk-toggleable__label-arrow:before {content: \"▸\";float: left;margin-right: 0.25em;color: #696969;}#sk-container-id-4 label.sk-toggleable__label-arrow:hover:before {color: black;}#sk-container-id-4 div.sk-estimator:hover label.sk-toggleable__label-arrow:before {color: black;}#sk-container-id-4 div.sk-toggleable__content {max-height: 0;max-width: 0;overflow: hidden;text-align: left;background-color: #f0f8ff;}#sk-container-id-4 div.sk-toggleable__content pre {margin: 0.2em;color: black;border-radius: 0.25em;background-color: #f0f8ff;}#sk-container-id-4 input.sk-toggleable__control:checked~div.sk-toggleable__content {max-height: 200px;max-width: 100%;overflow: auto;}#sk-container-id-4 input.sk-toggleable__control:checked~label.sk-toggleable__label-arrow:before {content: \"▾\";}#sk-container-id-4 div.sk-estimator input.sk-toggleable__control:checked~label.sk-toggleable__label {background-color: #d4ebff;}#sk-container-id-4 div.sk-label input.sk-toggleable__control:checked~label.sk-toggleable__label {background-color: #d4ebff;}#sk-container-id-4 input.sk-hidden--visually {border: 0;clip: rect(1px 1px 1px 1px);clip: rect(1px, 1px, 1px, 1px);height: 1px;margin: -1px;overflow: hidden;padding: 0;position: absolute;width: 1px;}#sk-container-id-4 div.sk-estimator {font-family: monospace;background-color: #f0f8ff;border: 1px dotted black;border-radius: 0.25em;box-sizing: border-box;margin-bottom: 0.5em;}#sk-container-id-4 div.sk-estimator:hover {background-color: #d4ebff;}#sk-container-id-4 div.sk-parallel-item::after {content: \"\";width: 100%;border-bottom: 1px solid gray;flex-grow: 1;}#sk-container-id-4 div.sk-label:hover label.sk-toggleable__label {background-color: #d4ebff;}#sk-container-id-4 div.sk-serial::before {content: \"\";position: absolute;border-left: 1px solid gray;box-sizing: border-box;top: 0;bottom: 0;left: 50%;z-index: 0;}#sk-container-id-4 div.sk-serial {display: flex;flex-direction: column;align-items: center;background-color: white;padding-right: 0.2em;padding-left: 0.2em;position: relative;}#sk-container-id-4 div.sk-item {position: relative;z-index: 1;}#sk-container-id-4 div.sk-parallel {display: flex;align-items: stretch;justify-content: center;background-color: white;position: relative;}#sk-container-id-4 div.sk-item::before, #sk-container-id-4 div.sk-parallel-item::before {content: \"\";position: absolute;border-left: 1px solid gray;box-sizing: border-box;top: 0;bottom: 0;left: 50%;z-index: -1;}#sk-container-id-4 div.sk-parallel-item {display: flex;flex-direction: column;z-index: 1;position: relative;background-color: white;}#sk-container-id-4 div.sk-parallel-item:first-child::after {align-self: flex-end;width: 50%;}#sk-container-id-4 div.sk-parallel-item:last-child::after {align-self: flex-start;width: 50%;}#sk-container-id-4 div.sk-parallel-item:only-child::after {width: 0;}#sk-container-id-4 div.sk-dashed-wrapped {border: 1px dashed gray;margin: 0 0.4em 0.5em 0.4em;box-sizing: border-box;padding-bottom: 0.4em;background-color: white;}#sk-container-id-4 div.sk-label label {font-family: monospace;font-weight: bold;display: inline-block;line-height: 1.2em;}#sk-container-id-4 div.sk-label-container {text-align: center;}#sk-container-id-4 div.sk-container {/* jupyter's `normalize.less` sets `[hidden] { display: none; }` but bootstrap.min.css set `[hidden] { display: none !important; }` so we also need the `!important` here to be able to override the default hidden behavior on the sphinx rendered scikit-learn.org. See: https://github.com/scikit-learn/scikit-learn/issues/21755 */display: inline-block !important;position: relative;}#sk-container-id-4 div.sk-text-repr-fallback {display: none;}</style><div id=\"sk-container-id-4\" class=\"sk-top-container\"><div class=\"sk-text-repr-fallback\"><pre>GridSearchCV(cv=5, estimator=RandomForestRegressor(),\n",
       "             param_grid={&#x27;max_depth&#x27;: [None, 10, 20],\n",
       "                         &#x27;min_samples_split&#x27;: [2, 5, 10],\n",
       "                         &#x27;n_estimators&#x27;: [50, 100, 150]},\n",
       "             scoring=&#x27;neg_mean_squared_error&#x27;, verbose=1)</pre><b>In a Jupyter environment, please rerun this cell to show the HTML representation or trust the notebook. <br />On GitHub, the HTML representation is unable to render, please try loading this page with nbviewer.org.</b></div><div class=\"sk-container\" hidden><div class=\"sk-item sk-dashed-wrapped\"><div class=\"sk-label-container\"><div class=\"sk-label sk-toggleable\"><input class=\"sk-toggleable__control sk-hidden--visually\" id=\"sk-estimator-id-6\" type=\"checkbox\" ><label for=\"sk-estimator-id-6\" class=\"sk-toggleable__label sk-toggleable__label-arrow\">GridSearchCV</label><div class=\"sk-toggleable__content\"><pre>GridSearchCV(cv=5, estimator=RandomForestRegressor(),\n",
       "             param_grid={&#x27;max_depth&#x27;: [None, 10, 20],\n",
       "                         &#x27;min_samples_split&#x27;: [2, 5, 10],\n",
       "                         &#x27;n_estimators&#x27;: [50, 100, 150]},\n",
       "             scoring=&#x27;neg_mean_squared_error&#x27;, verbose=1)</pre></div></div></div><div class=\"sk-parallel\"><div class=\"sk-parallel-item\"><div class=\"sk-item\"><div class=\"sk-label-container\"><div class=\"sk-label sk-toggleable\"><input class=\"sk-toggleable__control sk-hidden--visually\" id=\"sk-estimator-id-7\" type=\"checkbox\" ><label for=\"sk-estimator-id-7\" class=\"sk-toggleable__label sk-toggleable__label-arrow\">estimator: RandomForestRegressor</label><div class=\"sk-toggleable__content\"><pre>RandomForestRegressor()</pre></div></div></div><div class=\"sk-serial\"><div class=\"sk-item\"><div class=\"sk-estimator sk-toggleable\"><input class=\"sk-toggleable__control sk-hidden--visually\" id=\"sk-estimator-id-8\" type=\"checkbox\" ><label for=\"sk-estimator-id-8\" class=\"sk-toggleable__label sk-toggleable__label-arrow\">RandomForestRegressor</label><div class=\"sk-toggleable__content\"><pre>RandomForestRegressor()</pre></div></div></div></div></div></div></div></div></div></div>"
      ],
      "text/plain": [
       "GridSearchCV(cv=5, estimator=RandomForestRegressor(),\n",
       "             param_grid={'max_depth': [None, 10, 20],\n",
       "                         'min_samples_split': [2, 5, 10],\n",
       "                         'n_estimators': [50, 100, 150]},\n",
       "             scoring='neg_mean_squared_error', verbose=1)"
      ]
     },
     "execution_count": 103,
     "metadata": {},
     "output_type": "execute_result"
    }
   ],
   "source": [
    "grid_search_a.fit(X_train_a, y_train_a)"
   ]
  },
  {
   "cell_type": "code",
   "execution_count": 104,
   "id": "e860a8fc",
   "metadata": {
    "ExecuteTime": {
     "end_time": "2024-03-13T15:31:34.084473Z",
     "start_time": "2024-03-13T15:31:34.075762Z"
    },
    "hidden": true
   },
   "outputs": [
    {
     "data": {
      "text/plain": [
       "{'max_depth': None, 'min_samples_split': 2, 'n_estimators': 50}"
      ]
     },
     "execution_count": 104,
     "metadata": {},
     "output_type": "execute_result"
    }
   ],
   "source": [
    "# Melhores hiperparâmetros encontrados\n",
    "best_params_a = grid_search_a.best_params_\n",
    "best_params_a"
   ]
  },
  {
   "cell_type": "code",
   "execution_count": 105,
   "id": "9b8e1faa",
   "metadata": {
    "ExecuteTime": {
     "end_time": "2024-03-13T15:31:37.790964Z",
     "start_time": "2024-03-13T15:31:37.783042Z"
    },
    "hidden": true
   },
   "outputs": [
    {
     "name": "stdout",
     "output_type": "stream",
     "text": [
      "Melhor score negativo do MSE: -0.3411397030044284\n"
     ]
    }
   ],
   "source": [
    "# Melhor score negativo do erro quadrático médio\n",
    "best_score_a = grid_search_a.best_score_\n",
    "print(\"Melhor score negativo do MSE:\", best_score_a)"
   ]
  }
 ],
 "metadata": {
  "kernelspec": {
   "display_name": "Python 3 (ipykernel)",
   "language": "python",
   "name": "python3"
  },
  "language_info": {
   "codemirror_mode": {
    "name": "ipython",
    "version": 3
   },
   "file_extension": ".py",
   "mimetype": "text/x-python",
   "name": "python",
   "nbconvert_exporter": "python",
   "pygments_lexer": "ipython3",
   "version": "3.11.5"
  },
  "varInspector": {
   "cols": {
    "lenName": 16,
    "lenType": 16,
    "lenVar": 40
   },
   "kernels_config": {
    "python": {
     "delete_cmd_postfix": "",
     "delete_cmd_prefix": "del ",
     "library": "var_list.py",
     "varRefreshCmd": "print(var_dic_list())"
    },
    "r": {
     "delete_cmd_postfix": ") ",
     "delete_cmd_prefix": "rm(",
     "library": "var_list.r",
     "varRefreshCmd": "cat(var_dic_list()) "
    }
   },
   "types_to_exclude": [
    "module",
    "function",
    "builtin_function_or_method",
    "instance",
    "_Feature"
   ],
   "window_display": false
  }
 },
 "nbformat": 4,
 "nbformat_minor": 5
}
